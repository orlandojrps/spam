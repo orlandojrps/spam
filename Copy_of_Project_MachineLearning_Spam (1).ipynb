{
  "nbformat": 4,
  "nbformat_minor": 0,
  "metadata": {
    "colab": {
      "provenance": []
    },
    "kernelspec": {
      "name": "python3",
      "display_name": "Python 3"
    },
    "language_info": {
      "name": "python"
    },
    "widgets": {
      "application/vnd.jupyter.widget-state+json": {
        "bcde197440284b7c9a60d89d8303af04": {
          "model_module": "@jupyter-widgets/controls",
          "model_name": "HBoxModel",
          "model_module_version": "1.5.0",
          "state": {
            "_dom_classes": [],
            "_model_module": "@jupyter-widgets/controls",
            "_model_module_version": "1.5.0",
            "_model_name": "HBoxModel",
            "_view_count": null,
            "_view_module": "@jupyter-widgets/controls",
            "_view_module_version": "1.5.0",
            "_view_name": "HBoxView",
            "box_style": "",
            "children": [
              "IPY_MODEL_fc96c67a9e0848dc838176b6fe05cb42",
              "IPY_MODEL_07780dfae16345b5b08bd38b6ca26485",
              "IPY_MODEL_3238a6786be443b1a3a809abda8a6959"
            ],
            "layout": "IPY_MODEL_64c9908f76da40bbb44300a749e09dfa"
          }
        },
        "fc96c67a9e0848dc838176b6fe05cb42": {
          "model_module": "@jupyter-widgets/controls",
          "model_name": "HTMLModel",
          "model_module_version": "1.5.0",
          "state": {
            "_dom_classes": [],
            "_model_module": "@jupyter-widgets/controls",
            "_model_module_version": "1.5.0",
            "_model_name": "HTMLModel",
            "_view_count": null,
            "_view_module": "@jupyter-widgets/controls",
            "_view_module_version": "1.5.0",
            "_view_name": "HTMLView",
            "description": "",
            "description_tooltip": null,
            "layout": "IPY_MODEL_7fa348aaf74d40de8c6f24f1aeb0e46a",
            "placeholder": "​",
            "style": "IPY_MODEL_f501e3616be1435487ab86ed114a652e",
            "value": ""
          }
        },
        "07780dfae16345b5b08bd38b6ca26485": {
          "model_module": "@jupyter-widgets/controls",
          "model_name": "FloatProgressModel",
          "model_module_version": "1.5.0",
          "state": {
            "_dom_classes": [],
            "_model_module": "@jupyter-widgets/controls",
            "_model_module_version": "1.5.0",
            "_model_name": "FloatProgressModel",
            "_view_count": null,
            "_view_module": "@jupyter-widgets/controls",
            "_view_module_version": "1.5.0",
            "_view_name": "ProgressView",
            "bar_style": "success",
            "description": "",
            "description_tooltip": null,
            "layout": "IPY_MODEL_1f83ff86adf243d1989f5b149216ad2b",
            "max": 1,
            "min": 0,
            "orientation": "horizontal",
            "style": "IPY_MODEL_856f3093527143078a1e0710cd036a7a",
            "value": 1
          }
        },
        "3238a6786be443b1a3a809abda8a6959": {
          "model_module": "@jupyter-widgets/controls",
          "model_name": "HTMLModel",
          "model_module_version": "1.5.0",
          "state": {
            "_dom_classes": [],
            "_model_module": "@jupyter-widgets/controls",
            "_model_module_version": "1.5.0",
            "_model_name": "HTMLModel",
            "_view_count": null,
            "_view_module": "@jupyter-widgets/controls",
            "_view_module_version": "1.5.0",
            "_view_name": "HTMLView",
            "description": "",
            "description_tooltip": null,
            "layout": "IPY_MODEL_fdaef4fbcebe47d99f321e73d294e837",
            "placeholder": "​",
            "style": "IPY_MODEL_eb5b8b26c5944c7e896c2e4c0c8f0e75",
            "value": " 5172/? [04:02&lt;00:00, 23.42it/s]"
          }
        },
        "64c9908f76da40bbb44300a749e09dfa": {
          "model_module": "@jupyter-widgets/base",
          "model_name": "LayoutModel",
          "model_module_version": "1.2.0",
          "state": {
            "_model_module": "@jupyter-widgets/base",
            "_model_module_version": "1.2.0",
            "_model_name": "LayoutModel",
            "_view_count": null,
            "_view_module": "@jupyter-widgets/base",
            "_view_module_version": "1.2.0",
            "_view_name": "LayoutView",
            "align_content": null,
            "align_items": null,
            "align_self": null,
            "border": null,
            "bottom": null,
            "display": null,
            "flex": null,
            "flex_flow": null,
            "grid_area": null,
            "grid_auto_columns": null,
            "grid_auto_flow": null,
            "grid_auto_rows": null,
            "grid_column": null,
            "grid_gap": null,
            "grid_row": null,
            "grid_template_areas": null,
            "grid_template_columns": null,
            "grid_template_rows": null,
            "height": null,
            "justify_content": null,
            "justify_items": null,
            "left": null,
            "margin": null,
            "max_height": null,
            "max_width": null,
            "min_height": null,
            "min_width": null,
            "object_fit": null,
            "object_position": null,
            "order": null,
            "overflow": null,
            "overflow_x": null,
            "overflow_y": null,
            "padding": null,
            "right": null,
            "top": null,
            "visibility": null,
            "width": null
          }
        },
        "7fa348aaf74d40de8c6f24f1aeb0e46a": {
          "model_module": "@jupyter-widgets/base",
          "model_name": "LayoutModel",
          "model_module_version": "1.2.0",
          "state": {
            "_model_module": "@jupyter-widgets/base",
            "_model_module_version": "1.2.0",
            "_model_name": "LayoutModel",
            "_view_count": null,
            "_view_module": "@jupyter-widgets/base",
            "_view_module_version": "1.2.0",
            "_view_name": "LayoutView",
            "align_content": null,
            "align_items": null,
            "align_self": null,
            "border": null,
            "bottom": null,
            "display": null,
            "flex": null,
            "flex_flow": null,
            "grid_area": null,
            "grid_auto_columns": null,
            "grid_auto_flow": null,
            "grid_auto_rows": null,
            "grid_column": null,
            "grid_gap": null,
            "grid_row": null,
            "grid_template_areas": null,
            "grid_template_columns": null,
            "grid_template_rows": null,
            "height": null,
            "justify_content": null,
            "justify_items": null,
            "left": null,
            "margin": null,
            "max_height": null,
            "max_width": null,
            "min_height": null,
            "min_width": null,
            "object_fit": null,
            "object_position": null,
            "order": null,
            "overflow": null,
            "overflow_x": null,
            "overflow_y": null,
            "padding": null,
            "right": null,
            "top": null,
            "visibility": null,
            "width": null
          }
        },
        "f501e3616be1435487ab86ed114a652e": {
          "model_module": "@jupyter-widgets/controls",
          "model_name": "DescriptionStyleModel",
          "model_module_version": "1.5.0",
          "state": {
            "_model_module": "@jupyter-widgets/controls",
            "_model_module_version": "1.5.0",
            "_model_name": "DescriptionStyleModel",
            "_view_count": null,
            "_view_module": "@jupyter-widgets/base",
            "_view_module_version": "1.2.0",
            "_view_name": "StyleView",
            "description_width": ""
          }
        },
        "1f83ff86adf243d1989f5b149216ad2b": {
          "model_module": "@jupyter-widgets/base",
          "model_name": "LayoutModel",
          "model_module_version": "1.2.0",
          "state": {
            "_model_module": "@jupyter-widgets/base",
            "_model_module_version": "1.2.0",
            "_model_name": "LayoutModel",
            "_view_count": null,
            "_view_module": "@jupyter-widgets/base",
            "_view_module_version": "1.2.0",
            "_view_name": "LayoutView",
            "align_content": null,
            "align_items": null,
            "align_self": null,
            "border": null,
            "bottom": null,
            "display": null,
            "flex": null,
            "flex_flow": null,
            "grid_area": null,
            "grid_auto_columns": null,
            "grid_auto_flow": null,
            "grid_auto_rows": null,
            "grid_column": null,
            "grid_gap": null,
            "grid_row": null,
            "grid_template_areas": null,
            "grid_template_columns": null,
            "grid_template_rows": null,
            "height": null,
            "justify_content": null,
            "justify_items": null,
            "left": null,
            "margin": null,
            "max_height": null,
            "max_width": null,
            "min_height": null,
            "min_width": null,
            "object_fit": null,
            "object_position": null,
            "order": null,
            "overflow": null,
            "overflow_x": null,
            "overflow_y": null,
            "padding": null,
            "right": null,
            "top": null,
            "visibility": null,
            "width": "20px"
          }
        },
        "856f3093527143078a1e0710cd036a7a": {
          "model_module": "@jupyter-widgets/controls",
          "model_name": "ProgressStyleModel",
          "model_module_version": "1.5.0",
          "state": {
            "_model_module": "@jupyter-widgets/controls",
            "_model_module_version": "1.5.0",
            "_model_name": "ProgressStyleModel",
            "_view_count": null,
            "_view_module": "@jupyter-widgets/base",
            "_view_module_version": "1.2.0",
            "_view_name": "StyleView",
            "bar_color": null,
            "description_width": ""
          }
        },
        "fdaef4fbcebe47d99f321e73d294e837": {
          "model_module": "@jupyter-widgets/base",
          "model_name": "LayoutModel",
          "model_module_version": "1.2.0",
          "state": {
            "_model_module": "@jupyter-widgets/base",
            "_model_module_version": "1.2.0",
            "_model_name": "LayoutModel",
            "_view_count": null,
            "_view_module": "@jupyter-widgets/base",
            "_view_module_version": "1.2.0",
            "_view_name": "LayoutView",
            "align_content": null,
            "align_items": null,
            "align_self": null,
            "border": null,
            "bottom": null,
            "display": null,
            "flex": null,
            "flex_flow": null,
            "grid_area": null,
            "grid_auto_columns": null,
            "grid_auto_flow": null,
            "grid_auto_rows": null,
            "grid_column": null,
            "grid_gap": null,
            "grid_row": null,
            "grid_template_areas": null,
            "grid_template_columns": null,
            "grid_template_rows": null,
            "height": null,
            "justify_content": null,
            "justify_items": null,
            "left": null,
            "margin": null,
            "max_height": null,
            "max_width": null,
            "min_height": null,
            "min_width": null,
            "object_fit": null,
            "object_position": null,
            "order": null,
            "overflow": null,
            "overflow_x": null,
            "overflow_y": null,
            "padding": null,
            "right": null,
            "top": null,
            "visibility": null,
            "width": null
          }
        },
        "eb5b8b26c5944c7e896c2e4c0c8f0e75": {
          "model_module": "@jupyter-widgets/controls",
          "model_name": "DescriptionStyleModel",
          "model_module_version": "1.5.0",
          "state": {
            "_model_module": "@jupyter-widgets/controls",
            "_model_module_version": "1.5.0",
            "_model_name": "DescriptionStyleModel",
            "_view_count": null,
            "_view_module": "@jupyter-widgets/base",
            "_view_module_version": "1.2.0",
            "_view_name": "StyleView",
            "description_width": ""
          }
        },
        "8bc4c5e71be340449db7d7b3f1323e2d": {
          "model_module": "@jupyter-widgets/controls",
          "model_name": "HBoxModel",
          "model_module_version": "1.5.0",
          "state": {
            "_dom_classes": [],
            "_model_module": "@jupyter-widgets/controls",
            "_model_module_version": "1.5.0",
            "_model_name": "HBoxModel",
            "_view_count": null,
            "_view_module": "@jupyter-widgets/controls",
            "_view_module_version": "1.5.0",
            "_view_name": "HBoxView",
            "box_style": "",
            "children": [
              "IPY_MODEL_0cdab3ab1f634e038e61ea2110b6af82",
              "IPY_MODEL_7b46ad4bd9364de2b3e1f8487eb8dd23",
              "IPY_MODEL_b42744027c484ef2a317a411e9c64f01"
            ],
            "layout": "IPY_MODEL_9d5cbe0116e241fb9d4a4c9afd99d450"
          }
        },
        "0cdab3ab1f634e038e61ea2110b6af82": {
          "model_module": "@jupyter-widgets/controls",
          "model_name": "HTMLModel",
          "model_module_version": "1.5.0",
          "state": {
            "_dom_classes": [],
            "_model_module": "@jupyter-widgets/controls",
            "_model_module_version": "1.5.0",
            "_model_name": "HTMLModel",
            "_view_count": null,
            "_view_module": "@jupyter-widgets/controls",
            "_view_module_version": "1.5.0",
            "_view_name": "HTMLView",
            "description": "",
            "description_tooltip": null,
            "layout": "IPY_MODEL_f48161cd12c04634a71723dc4fc06cf0",
            "placeholder": "​",
            "style": "IPY_MODEL_90e9f963ef2d4a3b91a41f0ce054ce2b",
            "value": "100%"
          }
        },
        "7b46ad4bd9364de2b3e1f8487eb8dd23": {
          "model_module": "@jupyter-widgets/controls",
          "model_name": "FloatProgressModel",
          "model_module_version": "1.5.0",
          "state": {
            "_dom_classes": [],
            "_model_module": "@jupyter-widgets/controls",
            "_model_module_version": "1.5.0",
            "_model_name": "FloatProgressModel",
            "_view_count": null,
            "_view_module": "@jupyter-widgets/controls",
            "_view_module_version": "1.5.0",
            "_view_name": "ProgressView",
            "bar_style": "success",
            "description": "",
            "description_tooltip": null,
            "layout": "IPY_MODEL_21ee7920f00d4f4b81650b1fec0e3477",
            "max": 5172,
            "min": 0,
            "orientation": "horizontal",
            "style": "IPY_MODEL_93c4a7a01200431bbfb8c739da73be0e",
            "value": 5172
          }
        },
        "b42744027c484ef2a317a411e9c64f01": {
          "model_module": "@jupyter-widgets/controls",
          "model_name": "HTMLModel",
          "model_module_version": "1.5.0",
          "state": {
            "_dom_classes": [],
            "_model_module": "@jupyter-widgets/controls",
            "_model_module_version": "1.5.0",
            "_model_name": "HTMLModel",
            "_view_count": null,
            "_view_module": "@jupyter-widgets/controls",
            "_view_module_version": "1.5.0",
            "_view_name": "HTMLView",
            "description": "",
            "description_tooltip": null,
            "layout": "IPY_MODEL_865d665f8835439293b075c4db71ce46",
            "placeholder": "​",
            "style": "IPY_MODEL_bd606364e52842839b6985fc84b7ea73",
            "value": " 5172/5172 [00:00&lt;00:00, 224829.93it/s]"
          }
        },
        "9d5cbe0116e241fb9d4a4c9afd99d450": {
          "model_module": "@jupyter-widgets/base",
          "model_name": "LayoutModel",
          "model_module_version": "1.2.0",
          "state": {
            "_model_module": "@jupyter-widgets/base",
            "_model_module_version": "1.2.0",
            "_model_name": "LayoutModel",
            "_view_count": null,
            "_view_module": "@jupyter-widgets/base",
            "_view_module_version": "1.2.0",
            "_view_name": "LayoutView",
            "align_content": null,
            "align_items": null,
            "align_self": null,
            "border": null,
            "bottom": null,
            "display": null,
            "flex": null,
            "flex_flow": null,
            "grid_area": null,
            "grid_auto_columns": null,
            "grid_auto_flow": null,
            "grid_auto_rows": null,
            "grid_column": null,
            "grid_gap": null,
            "grid_row": null,
            "grid_template_areas": null,
            "grid_template_columns": null,
            "grid_template_rows": null,
            "height": null,
            "justify_content": null,
            "justify_items": null,
            "left": null,
            "margin": null,
            "max_height": null,
            "max_width": null,
            "min_height": null,
            "min_width": null,
            "object_fit": null,
            "object_position": null,
            "order": null,
            "overflow": null,
            "overflow_x": null,
            "overflow_y": null,
            "padding": null,
            "right": null,
            "top": null,
            "visibility": null,
            "width": null
          }
        },
        "f48161cd12c04634a71723dc4fc06cf0": {
          "model_module": "@jupyter-widgets/base",
          "model_name": "LayoutModel",
          "model_module_version": "1.2.0",
          "state": {
            "_model_module": "@jupyter-widgets/base",
            "_model_module_version": "1.2.0",
            "_model_name": "LayoutModel",
            "_view_count": null,
            "_view_module": "@jupyter-widgets/base",
            "_view_module_version": "1.2.0",
            "_view_name": "LayoutView",
            "align_content": null,
            "align_items": null,
            "align_self": null,
            "border": null,
            "bottom": null,
            "display": null,
            "flex": null,
            "flex_flow": null,
            "grid_area": null,
            "grid_auto_columns": null,
            "grid_auto_flow": null,
            "grid_auto_rows": null,
            "grid_column": null,
            "grid_gap": null,
            "grid_row": null,
            "grid_template_areas": null,
            "grid_template_columns": null,
            "grid_template_rows": null,
            "height": null,
            "justify_content": null,
            "justify_items": null,
            "left": null,
            "margin": null,
            "max_height": null,
            "max_width": null,
            "min_height": null,
            "min_width": null,
            "object_fit": null,
            "object_position": null,
            "order": null,
            "overflow": null,
            "overflow_x": null,
            "overflow_y": null,
            "padding": null,
            "right": null,
            "top": null,
            "visibility": null,
            "width": null
          }
        },
        "90e9f963ef2d4a3b91a41f0ce054ce2b": {
          "model_module": "@jupyter-widgets/controls",
          "model_name": "DescriptionStyleModel",
          "model_module_version": "1.5.0",
          "state": {
            "_model_module": "@jupyter-widgets/controls",
            "_model_module_version": "1.5.0",
            "_model_name": "DescriptionStyleModel",
            "_view_count": null,
            "_view_module": "@jupyter-widgets/base",
            "_view_module_version": "1.2.0",
            "_view_name": "StyleView",
            "description_width": ""
          }
        },
        "21ee7920f00d4f4b81650b1fec0e3477": {
          "model_module": "@jupyter-widgets/base",
          "model_name": "LayoutModel",
          "model_module_version": "1.2.0",
          "state": {
            "_model_module": "@jupyter-widgets/base",
            "_model_module_version": "1.2.0",
            "_model_name": "LayoutModel",
            "_view_count": null,
            "_view_module": "@jupyter-widgets/base",
            "_view_module_version": "1.2.0",
            "_view_name": "LayoutView",
            "align_content": null,
            "align_items": null,
            "align_self": null,
            "border": null,
            "bottom": null,
            "display": null,
            "flex": null,
            "flex_flow": null,
            "grid_area": null,
            "grid_auto_columns": null,
            "grid_auto_flow": null,
            "grid_auto_rows": null,
            "grid_column": null,
            "grid_gap": null,
            "grid_row": null,
            "grid_template_areas": null,
            "grid_template_columns": null,
            "grid_template_rows": null,
            "height": null,
            "justify_content": null,
            "justify_items": null,
            "left": null,
            "margin": null,
            "max_height": null,
            "max_width": null,
            "min_height": null,
            "min_width": null,
            "object_fit": null,
            "object_position": null,
            "order": null,
            "overflow": null,
            "overflow_x": null,
            "overflow_y": null,
            "padding": null,
            "right": null,
            "top": null,
            "visibility": null,
            "width": null
          }
        },
        "93c4a7a01200431bbfb8c739da73be0e": {
          "model_module": "@jupyter-widgets/controls",
          "model_name": "ProgressStyleModel",
          "model_module_version": "1.5.0",
          "state": {
            "_model_module": "@jupyter-widgets/controls",
            "_model_module_version": "1.5.0",
            "_model_name": "ProgressStyleModel",
            "_view_count": null,
            "_view_module": "@jupyter-widgets/base",
            "_view_module_version": "1.2.0",
            "_view_name": "StyleView",
            "bar_color": null,
            "description_width": ""
          }
        },
        "865d665f8835439293b075c4db71ce46": {
          "model_module": "@jupyter-widgets/base",
          "model_name": "LayoutModel",
          "model_module_version": "1.2.0",
          "state": {
            "_model_module": "@jupyter-widgets/base",
            "_model_module_version": "1.2.0",
            "_model_name": "LayoutModel",
            "_view_count": null,
            "_view_module": "@jupyter-widgets/base",
            "_view_module_version": "1.2.0",
            "_view_name": "LayoutView",
            "align_content": null,
            "align_items": null,
            "align_self": null,
            "border": null,
            "bottom": null,
            "display": null,
            "flex": null,
            "flex_flow": null,
            "grid_area": null,
            "grid_auto_columns": null,
            "grid_auto_flow": null,
            "grid_auto_rows": null,
            "grid_column": null,
            "grid_gap": null,
            "grid_row": null,
            "grid_template_areas": null,
            "grid_template_columns": null,
            "grid_template_rows": null,
            "height": null,
            "justify_content": null,
            "justify_items": null,
            "left": null,
            "margin": null,
            "max_height": null,
            "max_width": null,
            "min_height": null,
            "min_width": null,
            "object_fit": null,
            "object_position": null,
            "order": null,
            "overflow": null,
            "overflow_x": null,
            "overflow_y": null,
            "padding": null,
            "right": null,
            "top": null,
            "visibility": null,
            "width": null
          }
        },
        "bd606364e52842839b6985fc84b7ea73": {
          "model_module": "@jupyter-widgets/controls",
          "model_name": "DescriptionStyleModel",
          "model_module_version": "1.5.0",
          "state": {
            "_model_module": "@jupyter-widgets/controls",
            "_model_module_version": "1.5.0",
            "_model_name": "DescriptionStyleModel",
            "_view_count": null,
            "_view_module": "@jupyter-widgets/base",
            "_view_module_version": "1.2.0",
            "_view_name": "StyleView",
            "description_width": ""
          }
        }
      }
    }
  },
  "cells": [
    {
      "cell_type": "markdown",
      "source": [
        "<img src=\"https://upload.wikimedia.org/wikipedia/en/5/5e/Munster_Technological_University_Logo%2C_2021.jpg\">\n",
        "\n",
        "#Applied Machine Learning (Dr. Haithem Afli) – Project 1 Assignment - Spam Classifier\n",
        "##Orlando Jr R00224938\n"
      ],
      "metadata": {
        "id": "MHJMmeXrawSs"
      }
    },
    {
      "cell_type": "markdown",
      "source": [
        "<img src=\"https://raw.githubusercontent.com/orlandojrps/spam/main/spam.jpg\"/>"
      ],
      "metadata": {
        "id": "MD3gpO9bmf3k"
      }
    },
    {
      "cell_type": "markdown",
      "source": [
        "## Introduction\n",
        "###This project will explore the Enron email dataset, a public dataset that classified all messages as \"SPAM\" and \"NON-SPAM\", here called \"HAM\". The aim is also split the dataset in Train and Test, display some information in the EDA and finally create a supervised classification pipeline.\n",
        "###This notebook will be commented in form to explain the most important steps and intentionally works like a report.\n",
        "\n",
        "###The files and codes are stored in the following address: https://github.com/orlandojrps/spam"
      ],
      "metadata": {
        "id": "f8KFoR6Vm0ce"
      }
    },
    {
      "cell_type": "markdown",
      "source": [
        "#Importing Libraries and Packages\n",
        "<img src =\"https://raw.githubusercontent.com/orlandojrps/spam/main/lib.png\">"
      ],
      "metadata": {
        "id": "l2vANKciqjhu"
      }
    },
    {
      "cell_type": "code",
      "source": [
        "import zipfile\n",
        "import urllib.request\n",
        "import os\n",
        "import pandas as pd\n",
        "import seaborn as sns\n",
        "import matplotlib.pyplot as plt\n",
        "import numpy as np\n",
        "from sklearn.preprocessing import MinMaxScaler\n",
        "from sklearn.linear_model import LogisticRegression\n",
        "from sklearn.metrics import classification_report\n",
        "from sklearn.ensemble import RandomForestClassifier\n",
        "from sklearn.model_selection import train_test_split\n",
        "from sklearn.feature_extraction.text import TfidfVectorizer\n",
        "from sklearn.preprocessing import LabelEncoder\n",
        "import sklearn.naive_bayes \n",
        "import nltk\n",
        "nltk.download('punkt')\n",
        "nltk.download('stopwords')\n",
        "from nltk.tokenize import word_tokenize\n",
        "from nltk.corpus import stopwords\n",
        "import seaborn as sns\n",
        "from sklearn.tree import DecisionTreeClassifier\n",
        "from sklearn.neighbors import KNeighborsClassifier\n",
        "from sklearn.metrics import *\n",
        "import spacy \n",
        "from tqdm.notebook import tqdm as PROG_BAR \n",
        "from sklearn.feature_extraction.text import CountVectorizer"
      ],
      "metadata": {
        "id": "Vz0n6OmqsGMq",
        "colab": {
          "base_uri": "https://localhost:8080/"
        },
        "outputId": "3cf44b98-f47d-4d2b-e93f-c4b141c30136"
      },
      "execution_count": null,
      "outputs": [
        {
          "output_type": "stream",
          "name": "stderr",
          "text": [
            "[nltk_data] Downloading package punkt to /root/nltk_data...\n",
            "[nltk_data]   Unzipping tokenizers/punkt.zip.\n",
            "[nltk_data] Downloading package stopwords to /root/nltk_data...\n",
            "[nltk_data]   Unzipping corpora/stopwords.zip.\n",
            "/usr/local/lib/python3.9/dist-packages/torch/cuda/__init__.py:497: UserWarning: Can't initialize NVML\n",
            "  warnings.warn(\"Can't initialize NVML\")\n"
          ]
        }
      ]
    },
    {
      "cell_type": "code",
      "source": [
        "!python -m spacy download en_core_web_lg"
      ],
      "metadata": {
        "id": "nkdoTqg7cbKq"
      },
      "execution_count": null,
      "outputs": []
    },
    {
      "cell_type": "markdown",
      "source": [
        "#Preprocessing"
      ],
      "metadata": {
        "id": "LMJQ3Q9Xte8a"
      }
    },
    {
      "cell_type": "markdown",
      "source": [
        "<img src =\"https://raw.githubusercontent.com/orlandojrps/spam/main/load.png\"/>"
      ],
      "metadata": {
        "id": "VRFcRq9Xp34z"
      }
    },
    {
      "cell_type": "markdown",
      "source": [
        "##Extract, Load, Transform\n",
        "####The emails are stored in a zip file, separeted into 2 folders. To make acessible to further studies the dataset was uploaded to a Github folder. The emails will be loaded from the zip to a Dataframe."
      ],
      "metadata": {
        "id": "ETA0_S7utwod"
      }
    },
    {
      "cell_type": "code",
      "source": [
        "file = \"https://github.com/orlandojrps/spam/blob/8ab6bd3c9f131cc57a6664a5e16879b779dc157d/enron1.zip?raw=true\"\n",
        "name, headers = urllib.request.urlretrieve(file, 'enron1.zip')\n",
        "\n",
        "with zipfile.ZipFile(name, 'r') as zip_ref:\n",
        "  zip_ref.extractall('')\n",
        "\n",
        "emails = []\n",
        "for folder in ['ham', 'spam']:\n",
        "    path = 'enron1/{}'.format(folder)\n",
        "    for file in os.listdir(path):\n",
        "        with open('{}/{}'.format(path, file), 'r', encoding='ISO-8859-1') as f:\n",
        "            content = f.read()\n",
        "        emails.append({'message': content, 'classification': folder})\n",
        "\n",
        "df = pd.DataFrame(emails)\n"
      ],
      "metadata": {
        "id": "tdVCRX3cmn5Q"
      },
      "execution_count": null,
      "outputs": []
    },
    {
      "cell_type": "markdown",
      "source": [
        "###Inspecting content of the Dataset:"
      ],
      "metadata": {
        "id": "Yevsrn1Cp9VT"
      }
    },
    {
      "cell_type": "code",
      "source": [
        "df"
      ],
      "metadata": {
        "colab": {
          "base_uri": "https://localhost:8080/",
          "height": 424
        },
        "id": "_AvP3tDJwsgc",
        "outputId": "f06064be-ceef-44a4-e499-6fcc0e9be217"
      },
      "execution_count": null,
      "outputs": [
        {
          "output_type": "execute_result",
          "data": {
            "text/plain": [
              "                                                message classification\n",
              "0     Subject: 3 rd party expense contracts\\nmick\\n3...            ham\n",
              "1     Subject: 2 / 5 / 01 gas flow day\\nwe agree wit...            ham\n",
              "2     Subject: re : atmic hurta # 1 - new production...            ham\n",
              "3     Subject: re : nom / actual volume for april 16...            ham\n",
              "4     Subject: hpl / enron nom . for 11 / 01 / 00\\n(...            ham\n",
              "...                                                 ...            ...\n",
              "5167  Subject: coming over tomorrow ?\\nsome suspect ...           spam\n",
              "5168  Subject: new product ! cialis soft tabs .\\nhi ...           spam\n",
              "5169  Subject: confirm your online banking account\\n...           spam\n",
              "5170  Subject: shopping for [ mortgages ] made easy\\...           spam\n",
              "5171  Subject: re :\\nscript language = javascript ty...           spam\n",
              "\n",
              "[5172 rows x 2 columns]"
            ],
            "text/html": [
              "\n",
              "  <div id=\"df-92e4a741-a9fe-4e02-b59b-f116235df336\">\n",
              "    <div class=\"colab-df-container\">\n",
              "      <div>\n",
              "<style scoped>\n",
              "    .dataframe tbody tr th:only-of-type {\n",
              "        vertical-align: middle;\n",
              "    }\n",
              "\n",
              "    .dataframe tbody tr th {\n",
              "        vertical-align: top;\n",
              "    }\n",
              "\n",
              "    .dataframe thead th {\n",
              "        text-align: right;\n",
              "    }\n",
              "</style>\n",
              "<table border=\"1\" class=\"dataframe\">\n",
              "  <thead>\n",
              "    <tr style=\"text-align: right;\">\n",
              "      <th></th>\n",
              "      <th>message</th>\n",
              "      <th>classification</th>\n",
              "    </tr>\n",
              "  </thead>\n",
              "  <tbody>\n",
              "    <tr>\n",
              "      <th>0</th>\n",
              "      <td>Subject: 3 rd party expense contracts\\nmick\\n3...</td>\n",
              "      <td>ham</td>\n",
              "    </tr>\n",
              "    <tr>\n",
              "      <th>1</th>\n",
              "      <td>Subject: 2 / 5 / 01 gas flow day\\nwe agree wit...</td>\n",
              "      <td>ham</td>\n",
              "    </tr>\n",
              "    <tr>\n",
              "      <th>2</th>\n",
              "      <td>Subject: re : atmic hurta # 1 - new production...</td>\n",
              "      <td>ham</td>\n",
              "    </tr>\n",
              "    <tr>\n",
              "      <th>3</th>\n",
              "      <td>Subject: re : nom / actual volume for april 16...</td>\n",
              "      <td>ham</td>\n",
              "    </tr>\n",
              "    <tr>\n",
              "      <th>4</th>\n",
              "      <td>Subject: hpl / enron nom . for 11 / 01 / 00\\n(...</td>\n",
              "      <td>ham</td>\n",
              "    </tr>\n",
              "    <tr>\n",
              "      <th>...</th>\n",
              "      <td>...</td>\n",
              "      <td>...</td>\n",
              "    </tr>\n",
              "    <tr>\n",
              "      <th>5167</th>\n",
              "      <td>Subject: coming over tomorrow ?\\nsome suspect ...</td>\n",
              "      <td>spam</td>\n",
              "    </tr>\n",
              "    <tr>\n",
              "      <th>5168</th>\n",
              "      <td>Subject: new product ! cialis soft tabs .\\nhi ...</td>\n",
              "      <td>spam</td>\n",
              "    </tr>\n",
              "    <tr>\n",
              "      <th>5169</th>\n",
              "      <td>Subject: confirm your online banking account\\n...</td>\n",
              "      <td>spam</td>\n",
              "    </tr>\n",
              "    <tr>\n",
              "      <th>5170</th>\n",
              "      <td>Subject: shopping for [ mortgages ] made easy\\...</td>\n",
              "      <td>spam</td>\n",
              "    </tr>\n",
              "    <tr>\n",
              "      <th>5171</th>\n",
              "      <td>Subject: re :\\nscript language = javascript ty...</td>\n",
              "      <td>spam</td>\n",
              "    </tr>\n",
              "  </tbody>\n",
              "</table>\n",
              "<p>5172 rows × 2 columns</p>\n",
              "</div>\n",
              "      <button class=\"colab-df-convert\" onclick=\"convertToInteractive('df-92e4a741-a9fe-4e02-b59b-f116235df336')\"\n",
              "              title=\"Convert this dataframe to an interactive table.\"\n",
              "              style=\"display:none;\">\n",
              "        \n",
              "  <svg xmlns=\"http://www.w3.org/2000/svg\" height=\"24px\"viewBox=\"0 0 24 24\"\n",
              "       width=\"24px\">\n",
              "    <path d=\"M0 0h24v24H0V0z\" fill=\"none\"/>\n",
              "    <path d=\"M18.56 5.44l.94 2.06.94-2.06 2.06-.94-2.06-.94-.94-2.06-.94 2.06-2.06.94zm-11 1L8.5 8.5l.94-2.06 2.06-.94-2.06-.94L8.5 2.5l-.94 2.06-2.06.94zm10 10l.94 2.06.94-2.06 2.06-.94-2.06-.94-.94-2.06-.94 2.06-2.06.94z\"/><path d=\"M17.41 7.96l-1.37-1.37c-.4-.4-.92-.59-1.43-.59-.52 0-1.04.2-1.43.59L10.3 9.45l-7.72 7.72c-.78.78-.78 2.05 0 2.83L4 21.41c.39.39.9.59 1.41.59.51 0 1.02-.2 1.41-.59l7.78-7.78 2.81-2.81c.8-.78.8-2.07 0-2.86zM5.41 20L4 18.59l7.72-7.72 1.47 1.35L5.41 20z\"/>\n",
              "  </svg>\n",
              "      </button>\n",
              "      \n",
              "  <style>\n",
              "    .colab-df-container {\n",
              "      display:flex;\n",
              "      flex-wrap:wrap;\n",
              "      gap: 12px;\n",
              "    }\n",
              "\n",
              "    .colab-df-convert {\n",
              "      background-color: #E8F0FE;\n",
              "      border: none;\n",
              "      border-radius: 50%;\n",
              "      cursor: pointer;\n",
              "      display: none;\n",
              "      fill: #1967D2;\n",
              "      height: 32px;\n",
              "      padding: 0 0 0 0;\n",
              "      width: 32px;\n",
              "    }\n",
              "\n",
              "    .colab-df-convert:hover {\n",
              "      background-color: #E2EBFA;\n",
              "      box-shadow: 0px 1px 2px rgba(60, 64, 67, 0.3), 0px 1px 3px 1px rgba(60, 64, 67, 0.15);\n",
              "      fill: #174EA6;\n",
              "    }\n",
              "\n",
              "    [theme=dark] .colab-df-convert {\n",
              "      background-color: #3B4455;\n",
              "      fill: #D2E3FC;\n",
              "    }\n",
              "\n",
              "    [theme=dark] .colab-df-convert:hover {\n",
              "      background-color: #434B5C;\n",
              "      box-shadow: 0px 1px 3px 1px rgba(0, 0, 0, 0.15);\n",
              "      filter: drop-shadow(0px 1px 2px rgba(0, 0, 0, 0.3));\n",
              "      fill: #FFFFFF;\n",
              "    }\n",
              "  </style>\n",
              "\n",
              "      <script>\n",
              "        const buttonEl =\n",
              "          document.querySelector('#df-92e4a741-a9fe-4e02-b59b-f116235df336 button.colab-df-convert');\n",
              "        buttonEl.style.display =\n",
              "          google.colab.kernel.accessAllowed ? 'block' : 'none';\n",
              "\n",
              "        async function convertToInteractive(key) {\n",
              "          const element = document.querySelector('#df-92e4a741-a9fe-4e02-b59b-f116235df336');\n",
              "          const dataTable =\n",
              "            await google.colab.kernel.invokeFunction('convertToInteractive',\n",
              "                                                     [key], {});\n",
              "          if (!dataTable) return;\n",
              "\n",
              "          const docLinkHtml = 'Like what you see? Visit the ' +\n",
              "            '<a target=\"_blank\" href=https://colab.research.google.com/notebooks/data_table.ipynb>data table notebook</a>'\n",
              "            + ' to learn more about interactive tables.';\n",
              "          element.innerHTML = '';\n",
              "          dataTable['output_type'] = 'display_data';\n",
              "          await google.colab.output.renderOutput(dataTable, element);\n",
              "          const docLink = document.createElement('div');\n",
              "          docLink.innerHTML = docLinkHtml;\n",
              "          element.appendChild(docLink);\n",
              "        }\n",
              "      </script>\n",
              "    </div>\n",
              "  </div>\n",
              "  "
            ]
          },
          "metadata": {},
          "execution_count": 6
        }
      ]
    },
    {
      "cell_type": "code",
      "source": [
        "df.shape"
      ],
      "metadata": {
        "colab": {
          "base_uri": "https://localhost:8080/"
        },
        "id": "ZMowgGocxFQO",
        "outputId": "abbbde00-ba0c-42f4-cbc0-6e338d6a9a08"
      },
      "execution_count": null,
      "outputs": [
        {
          "output_type": "execute_result",
          "data": {
            "text/plain": [
              "(5172, 2)"
            ]
          },
          "metadata": {},
          "execution_count": 7
        }
      ]
    },
    {
      "cell_type": "markdown",
      "source": [
        "####Extraction and Loading well succeeded! Our dataset has 2 Columns (Message and Classification) with a total of 5172 observations (rows) "
      ],
      "metadata": {
        "id": "MiiJBifAmnmF"
      }
    },
    {
      "cell_type": "markdown",
      "source": [
        "<img src=\"https://raw.githubusercontent.com/orlandojrps/spam/main/cleaning.jpg\">"
      ],
      "metadata": {
        "id": "DhvPPTIazRYD"
      }
    },
    {
      "cell_type": "markdown",
      "source": [
        "###Let's checking for missing values, repeaded observations and remove from ourdataset if present"
      ],
      "metadata": {
        "id": "tE0gqUzgzZEO"
      }
    },
    {
      "cell_type": "code",
      "source": [
        "df.isnull().sum()"
      ],
      "metadata": {
        "colab": {
          "base_uri": "https://localhost:8080/"
        },
        "id": "qfrxwjR-mZJN",
        "outputId": "684e458f-51dd-44b1-855e-050a3b779e43"
      },
      "execution_count": null,
      "outputs": [
        {
          "output_type": "execute_result",
          "data": {
            "text/plain": [
              "message           0\n",
              "classification    0\n",
              "dtype: int64"
            ]
          },
          "metadata": {},
          "execution_count": 9
        }
      ]
    },
    {
      "cell_type": "code",
      "source": [
        "df.isna().sum()"
      ],
      "metadata": {
        "colab": {
          "base_uri": "https://localhost:8080/"
        },
        "id": "Ztuy3RQXzzu8",
        "outputId": "4fec5db6-0f28-4df4-9d36-6ab4591b062d"
      },
      "execution_count": null,
      "outputs": [
        {
          "output_type": "execute_result",
          "data": {
            "text/plain": [
              "message           0\n",
              "classification    0\n",
              "dtype: int64"
            ]
          },
          "metadata": {},
          "execution_count": 10
        }
      ]
    },
    {
      "cell_type": "code",
      "execution_count": null,
      "metadata": {
        "colab": {
          "base_uri": "https://localhost:8080/"
        },
        "id": "2vCguq_AZTyI",
        "outputId": "22fd85bd-a756-480a-f0f6-89847b84b2dd"
      },
      "outputs": [
        {
          "output_type": "execute_result",
          "data": {
            "text/plain": [
              "178"
            ]
          },
          "metadata": {},
          "execution_count": 11
        }
      ],
      "source": [
        "df.duplicated().sum()"
      ]
    },
    {
      "cell_type": "markdown",
      "source": [
        "####No missing values but 178 occurrences of repeated observations. Let's explore a little more and check those messages, next step is drop the repetitions:"
      ],
      "metadata": {
        "id": "pNz4-OCyz8MB"
      }
    },
    {
      "cell_type": "code",
      "source": [
        "df[df. duplicated()]"
      ],
      "metadata": {
        "colab": {
          "base_uri": "https://localhost:8080/",
          "height": 424
        },
        "id": "oejx435Qxxxk",
        "outputId": "1b434a9e-c836-41b5-f44e-d4291f36b639"
      },
      "execution_count": null,
      "outputs": [
        {
          "output_type": "execute_result",
          "data": {
            "text/plain": [
              "                                                message classification\n",
              "375   Subject: cleburne\\ncleburne should be it ' s o...            ham\n",
              "425   Subject: calpine daily gas nomination\\n>\\nrick...            ham\n",
              "497   Subject: cornhusker for sept\\ni was informed b...            ham\n",
              "522   Subject: estimated actuals for april 5 , 2001\\...            ham\n",
              "648   Subject: calpine daily gas nomination\\n>\\nrick...            ham\n",
              "...                                                 ...            ...\n",
              "4966  Subject: cheap soft cialis tabs\\nthese pills a...           spam\n",
              "5050  Subject: \\ntor 0 nto\\nrx\\ntop\\n10 medications ...           spam\n",
              "5069                                        Subject: \\n           spam\n",
              "5086  Subject: new product ! cialis soft tabs .\\nhi ...           spam\n",
              "5101  Subject: i like his cock being huge !\\nkatya g...           spam\n",
              "\n",
              "[178 rows x 2 columns]"
            ],
            "text/html": [
              "\n",
              "  <div id=\"df-dd965840-edc9-4599-ba2e-85b49f39410f\">\n",
              "    <div class=\"colab-df-container\">\n",
              "      <div>\n",
              "<style scoped>\n",
              "    .dataframe tbody tr th:only-of-type {\n",
              "        vertical-align: middle;\n",
              "    }\n",
              "\n",
              "    .dataframe tbody tr th {\n",
              "        vertical-align: top;\n",
              "    }\n",
              "\n",
              "    .dataframe thead th {\n",
              "        text-align: right;\n",
              "    }\n",
              "</style>\n",
              "<table border=\"1\" class=\"dataframe\">\n",
              "  <thead>\n",
              "    <tr style=\"text-align: right;\">\n",
              "      <th></th>\n",
              "      <th>message</th>\n",
              "      <th>classification</th>\n",
              "    </tr>\n",
              "  </thead>\n",
              "  <tbody>\n",
              "    <tr>\n",
              "      <th>375</th>\n",
              "      <td>Subject: cleburne\\ncleburne should be it ' s o...</td>\n",
              "      <td>ham</td>\n",
              "    </tr>\n",
              "    <tr>\n",
              "      <th>425</th>\n",
              "      <td>Subject: calpine daily gas nomination\\n&gt;\\nrick...</td>\n",
              "      <td>ham</td>\n",
              "    </tr>\n",
              "    <tr>\n",
              "      <th>497</th>\n",
              "      <td>Subject: cornhusker for sept\\ni was informed b...</td>\n",
              "      <td>ham</td>\n",
              "    </tr>\n",
              "    <tr>\n",
              "      <th>522</th>\n",
              "      <td>Subject: estimated actuals for april 5 , 2001\\...</td>\n",
              "      <td>ham</td>\n",
              "    </tr>\n",
              "    <tr>\n",
              "      <th>648</th>\n",
              "      <td>Subject: calpine daily gas nomination\\n&gt;\\nrick...</td>\n",
              "      <td>ham</td>\n",
              "    </tr>\n",
              "    <tr>\n",
              "      <th>...</th>\n",
              "      <td>...</td>\n",
              "      <td>...</td>\n",
              "    </tr>\n",
              "    <tr>\n",
              "      <th>4966</th>\n",
              "      <td>Subject: cheap soft cialis tabs\\nthese pills a...</td>\n",
              "      <td>spam</td>\n",
              "    </tr>\n",
              "    <tr>\n",
              "      <th>5050</th>\n",
              "      <td>Subject: \\ntor 0 nto\\nrx\\ntop\\n10 medications ...</td>\n",
              "      <td>spam</td>\n",
              "    </tr>\n",
              "    <tr>\n",
              "      <th>5069</th>\n",
              "      <td>Subject: \\n</td>\n",
              "      <td>spam</td>\n",
              "    </tr>\n",
              "    <tr>\n",
              "      <th>5086</th>\n",
              "      <td>Subject: new product ! cialis soft tabs .\\nhi ...</td>\n",
              "      <td>spam</td>\n",
              "    </tr>\n",
              "    <tr>\n",
              "      <th>5101</th>\n",
              "      <td>Subject: i like his cock being huge !\\nkatya g...</td>\n",
              "      <td>spam</td>\n",
              "    </tr>\n",
              "  </tbody>\n",
              "</table>\n",
              "<p>178 rows × 2 columns</p>\n",
              "</div>\n",
              "      <button class=\"colab-df-convert\" onclick=\"convertToInteractive('df-dd965840-edc9-4599-ba2e-85b49f39410f')\"\n",
              "              title=\"Convert this dataframe to an interactive table.\"\n",
              "              style=\"display:none;\">\n",
              "        \n",
              "  <svg xmlns=\"http://www.w3.org/2000/svg\" height=\"24px\"viewBox=\"0 0 24 24\"\n",
              "       width=\"24px\">\n",
              "    <path d=\"M0 0h24v24H0V0z\" fill=\"none\"/>\n",
              "    <path d=\"M18.56 5.44l.94 2.06.94-2.06 2.06-.94-2.06-.94-.94-2.06-.94 2.06-2.06.94zm-11 1L8.5 8.5l.94-2.06 2.06-.94-2.06-.94L8.5 2.5l-.94 2.06-2.06.94zm10 10l.94 2.06.94-2.06 2.06-.94-2.06-.94-.94-2.06-.94 2.06-2.06.94z\"/><path d=\"M17.41 7.96l-1.37-1.37c-.4-.4-.92-.59-1.43-.59-.52 0-1.04.2-1.43.59L10.3 9.45l-7.72 7.72c-.78.78-.78 2.05 0 2.83L4 21.41c.39.39.9.59 1.41.59.51 0 1.02-.2 1.41-.59l7.78-7.78 2.81-2.81c.8-.78.8-2.07 0-2.86zM5.41 20L4 18.59l7.72-7.72 1.47 1.35L5.41 20z\"/>\n",
              "  </svg>\n",
              "      </button>\n",
              "      \n",
              "  <style>\n",
              "    .colab-df-container {\n",
              "      display:flex;\n",
              "      flex-wrap:wrap;\n",
              "      gap: 12px;\n",
              "    }\n",
              "\n",
              "    .colab-df-convert {\n",
              "      background-color: #E8F0FE;\n",
              "      border: none;\n",
              "      border-radius: 50%;\n",
              "      cursor: pointer;\n",
              "      display: none;\n",
              "      fill: #1967D2;\n",
              "      height: 32px;\n",
              "      padding: 0 0 0 0;\n",
              "      width: 32px;\n",
              "    }\n",
              "\n",
              "    .colab-df-convert:hover {\n",
              "      background-color: #E2EBFA;\n",
              "      box-shadow: 0px 1px 2px rgba(60, 64, 67, 0.3), 0px 1px 3px 1px rgba(60, 64, 67, 0.15);\n",
              "      fill: #174EA6;\n",
              "    }\n",
              "\n",
              "    [theme=dark] .colab-df-convert {\n",
              "      background-color: #3B4455;\n",
              "      fill: #D2E3FC;\n",
              "    }\n",
              "\n",
              "    [theme=dark] .colab-df-convert:hover {\n",
              "      background-color: #434B5C;\n",
              "      box-shadow: 0px 1px 3px 1px rgba(0, 0, 0, 0.15);\n",
              "      filter: drop-shadow(0px 1px 2px rgba(0, 0, 0, 0.3));\n",
              "      fill: #FFFFFF;\n",
              "    }\n",
              "  </style>\n",
              "\n",
              "      <script>\n",
              "        const buttonEl =\n",
              "          document.querySelector('#df-dd965840-edc9-4599-ba2e-85b49f39410f button.colab-df-convert');\n",
              "        buttonEl.style.display =\n",
              "          google.colab.kernel.accessAllowed ? 'block' : 'none';\n",
              "\n",
              "        async function convertToInteractive(key) {\n",
              "          const element = document.querySelector('#df-dd965840-edc9-4599-ba2e-85b49f39410f');\n",
              "          const dataTable =\n",
              "            await google.colab.kernel.invokeFunction('convertToInteractive',\n",
              "                                                     [key], {});\n",
              "          if (!dataTable) return;\n",
              "\n",
              "          const docLinkHtml = 'Like what you see? Visit the ' +\n",
              "            '<a target=\"_blank\" href=https://colab.research.google.com/notebooks/data_table.ipynb>data table notebook</a>'\n",
              "            + ' to learn more about interactive tables.';\n",
              "          element.innerHTML = '';\n",
              "          dataTable['output_type'] = 'display_data';\n",
              "          await google.colab.output.renderOutput(dataTable, element);\n",
              "          const docLink = document.createElement('div');\n",
              "          docLink.innerHTML = docLinkHtml;\n",
              "          element.appendChild(docLink);\n",
              "        }\n",
              "      </script>\n",
              "    </div>\n",
              "  </div>\n",
              "  "
            ]
          },
          "metadata": {},
          "execution_count": 12
        }
      ]
    },
    {
      "cell_type": "code",
      "source": [
        "df.drop_duplicates()"
      ],
      "metadata": {
        "colab": {
          "base_uri": "https://localhost:8080/",
          "height": 424
        },
        "id": "FueuynS20nhH",
        "outputId": "5d0b5046-e227-4905-9e97-3997dba9c6c5"
      },
      "execution_count": null,
      "outputs": [
        {
          "output_type": "execute_result",
          "data": {
            "text/plain": [
              "                                                message classification\n",
              "0     Subject: 3 rd party expense contracts\\nmick\\n3...            ham\n",
              "1     Subject: 2 / 5 / 01 gas flow day\\nwe agree wit...            ham\n",
              "2     Subject: re : atmic hurta # 1 - new production...            ham\n",
              "3     Subject: re : nom / actual volume for april 16...            ham\n",
              "4     Subject: hpl / enron nom . for 11 / 01 / 00\\n(...            ham\n",
              "...                                                 ...            ...\n",
              "5167  Subject: coming over tomorrow ?\\nsome suspect ...           spam\n",
              "5168  Subject: new product ! cialis soft tabs .\\nhi ...           spam\n",
              "5169  Subject: confirm your online banking account\\n...           spam\n",
              "5170  Subject: shopping for [ mortgages ] made easy\\...           spam\n",
              "5171  Subject: re :\\nscript language = javascript ty...           spam\n",
              "\n",
              "[4994 rows x 2 columns]"
            ],
            "text/html": [
              "\n",
              "  <div id=\"df-1e2c553a-b2b9-4b4d-ba3e-85ebdb89d4e2\">\n",
              "    <div class=\"colab-df-container\">\n",
              "      <div>\n",
              "<style scoped>\n",
              "    .dataframe tbody tr th:only-of-type {\n",
              "        vertical-align: middle;\n",
              "    }\n",
              "\n",
              "    .dataframe tbody tr th {\n",
              "        vertical-align: top;\n",
              "    }\n",
              "\n",
              "    .dataframe thead th {\n",
              "        text-align: right;\n",
              "    }\n",
              "</style>\n",
              "<table border=\"1\" class=\"dataframe\">\n",
              "  <thead>\n",
              "    <tr style=\"text-align: right;\">\n",
              "      <th></th>\n",
              "      <th>message</th>\n",
              "      <th>classification</th>\n",
              "    </tr>\n",
              "  </thead>\n",
              "  <tbody>\n",
              "    <tr>\n",
              "      <th>0</th>\n",
              "      <td>Subject: 3 rd party expense contracts\\nmick\\n3...</td>\n",
              "      <td>ham</td>\n",
              "    </tr>\n",
              "    <tr>\n",
              "      <th>1</th>\n",
              "      <td>Subject: 2 / 5 / 01 gas flow day\\nwe agree wit...</td>\n",
              "      <td>ham</td>\n",
              "    </tr>\n",
              "    <tr>\n",
              "      <th>2</th>\n",
              "      <td>Subject: re : atmic hurta # 1 - new production...</td>\n",
              "      <td>ham</td>\n",
              "    </tr>\n",
              "    <tr>\n",
              "      <th>3</th>\n",
              "      <td>Subject: re : nom / actual volume for april 16...</td>\n",
              "      <td>ham</td>\n",
              "    </tr>\n",
              "    <tr>\n",
              "      <th>4</th>\n",
              "      <td>Subject: hpl / enron nom . for 11 / 01 / 00\\n(...</td>\n",
              "      <td>ham</td>\n",
              "    </tr>\n",
              "    <tr>\n",
              "      <th>...</th>\n",
              "      <td>...</td>\n",
              "      <td>...</td>\n",
              "    </tr>\n",
              "    <tr>\n",
              "      <th>5167</th>\n",
              "      <td>Subject: coming over tomorrow ?\\nsome suspect ...</td>\n",
              "      <td>spam</td>\n",
              "    </tr>\n",
              "    <tr>\n",
              "      <th>5168</th>\n",
              "      <td>Subject: new product ! cialis soft tabs .\\nhi ...</td>\n",
              "      <td>spam</td>\n",
              "    </tr>\n",
              "    <tr>\n",
              "      <th>5169</th>\n",
              "      <td>Subject: confirm your online banking account\\n...</td>\n",
              "      <td>spam</td>\n",
              "    </tr>\n",
              "    <tr>\n",
              "      <th>5170</th>\n",
              "      <td>Subject: shopping for [ mortgages ] made easy\\...</td>\n",
              "      <td>spam</td>\n",
              "    </tr>\n",
              "    <tr>\n",
              "      <th>5171</th>\n",
              "      <td>Subject: re :\\nscript language = javascript ty...</td>\n",
              "      <td>spam</td>\n",
              "    </tr>\n",
              "  </tbody>\n",
              "</table>\n",
              "<p>4994 rows × 2 columns</p>\n",
              "</div>\n",
              "      <button class=\"colab-df-convert\" onclick=\"convertToInteractive('df-1e2c553a-b2b9-4b4d-ba3e-85ebdb89d4e2')\"\n",
              "              title=\"Convert this dataframe to an interactive table.\"\n",
              "              style=\"display:none;\">\n",
              "        \n",
              "  <svg xmlns=\"http://www.w3.org/2000/svg\" height=\"24px\"viewBox=\"0 0 24 24\"\n",
              "       width=\"24px\">\n",
              "    <path d=\"M0 0h24v24H0V0z\" fill=\"none\"/>\n",
              "    <path d=\"M18.56 5.44l.94 2.06.94-2.06 2.06-.94-2.06-.94-.94-2.06-.94 2.06-2.06.94zm-11 1L8.5 8.5l.94-2.06 2.06-.94-2.06-.94L8.5 2.5l-.94 2.06-2.06.94zm10 10l.94 2.06.94-2.06 2.06-.94-2.06-.94-.94-2.06-.94 2.06-2.06.94z\"/><path d=\"M17.41 7.96l-1.37-1.37c-.4-.4-.92-.59-1.43-.59-.52 0-1.04.2-1.43.59L10.3 9.45l-7.72 7.72c-.78.78-.78 2.05 0 2.83L4 21.41c.39.39.9.59 1.41.59.51 0 1.02-.2 1.41-.59l7.78-7.78 2.81-2.81c.8-.78.8-2.07 0-2.86zM5.41 20L4 18.59l7.72-7.72 1.47 1.35L5.41 20z\"/>\n",
              "  </svg>\n",
              "      </button>\n",
              "      \n",
              "  <style>\n",
              "    .colab-df-container {\n",
              "      display:flex;\n",
              "      flex-wrap:wrap;\n",
              "      gap: 12px;\n",
              "    }\n",
              "\n",
              "    .colab-df-convert {\n",
              "      background-color: #E8F0FE;\n",
              "      border: none;\n",
              "      border-radius: 50%;\n",
              "      cursor: pointer;\n",
              "      display: none;\n",
              "      fill: #1967D2;\n",
              "      height: 32px;\n",
              "      padding: 0 0 0 0;\n",
              "      width: 32px;\n",
              "    }\n",
              "\n",
              "    .colab-df-convert:hover {\n",
              "      background-color: #E2EBFA;\n",
              "      box-shadow: 0px 1px 2px rgba(60, 64, 67, 0.3), 0px 1px 3px 1px rgba(60, 64, 67, 0.15);\n",
              "      fill: #174EA6;\n",
              "    }\n",
              "\n",
              "    [theme=dark] .colab-df-convert {\n",
              "      background-color: #3B4455;\n",
              "      fill: #D2E3FC;\n",
              "    }\n",
              "\n",
              "    [theme=dark] .colab-df-convert:hover {\n",
              "      background-color: #434B5C;\n",
              "      box-shadow: 0px 1px 3px 1px rgba(0, 0, 0, 0.15);\n",
              "      filter: drop-shadow(0px 1px 2px rgba(0, 0, 0, 0.3));\n",
              "      fill: #FFFFFF;\n",
              "    }\n",
              "  </style>\n",
              "\n",
              "      <script>\n",
              "        const buttonEl =\n",
              "          document.querySelector('#df-1e2c553a-b2b9-4b4d-ba3e-85ebdb89d4e2 button.colab-df-convert');\n",
              "        buttonEl.style.display =\n",
              "          google.colab.kernel.accessAllowed ? 'block' : 'none';\n",
              "\n",
              "        async function convertToInteractive(key) {\n",
              "          const element = document.querySelector('#df-1e2c553a-b2b9-4b4d-ba3e-85ebdb89d4e2');\n",
              "          const dataTable =\n",
              "            await google.colab.kernel.invokeFunction('convertToInteractive',\n",
              "                                                     [key], {});\n",
              "          if (!dataTable) return;\n",
              "\n",
              "          const docLinkHtml = 'Like what you see? Visit the ' +\n",
              "            '<a target=\"_blank\" href=https://colab.research.google.com/notebooks/data_table.ipynb>data table notebook</a>'\n",
              "            + ' to learn more about interactive tables.';\n",
              "          element.innerHTML = '';\n",
              "          dataTable['output_type'] = 'display_data';\n",
              "          await google.colab.output.renderOutput(dataTable, element);\n",
              "          const docLink = document.createElement('div');\n",
              "          docLink.innerHTML = docLinkHtml;\n",
              "          element.appendChild(docLink);\n",
              "        }\n",
              "      </script>\n",
              "    </div>\n",
              "  </div>\n",
              "  "
            ]
          },
          "metadata": {},
          "execution_count": 13
        }
      ]
    },
    {
      "cell_type": "markdown",
      "source": [
        "####Now the clean Dataset has the format of 4994 row with 2 columns."
      ],
      "metadata": {
        "id": "1gHuK88h0-Eo"
      }
    },
    {
      "cell_type": "markdown",
      "source": [
        "<img src=\"https://raw.githubusercontent.com/orlandojrps/spam/main/train_test.jpg\">"
      ],
      "metadata": {
        "id": "lnpqdHlU3Avf"
      }
    },
    {
      "cell_type": "markdown",
      "source": [
        "#Train and Test Split\n",
        "The dataset will be divided into Train with 70% and test with 30% of the observations. To this task it ill be used the method \"train_test_split\" from Sklearn. To avoid Bias in the sampling process it will be used a parameter called \"stratify\" to keep the proportion of classes in the train part similar to the original dataset."
      ],
      "metadata": {
        "id": "sfa4iVGH3O0I"
      }
    },
    {
      "cell_type": "markdown",
      "source": [
        "###First it's important to check the proportion of classes (Spam - Ham) in the original dataset, to compare later with the dataset divided to make sure that the proportion was mantained."
      ],
      "metadata": {
        "id": "G_xKSQsy8Bja"
      }
    },
    {
      "cell_type": "code",
      "source": [
        "print(\"Original dataset statistics:\")\n",
        "print(f\"Total emails: {len(df)}\")\n",
        "print(f\"Spam emails: {len(df[df['classification'] == 'spam'])}\")\n",
        "print(f\"Non-spam emails: {len(df[df['classification'] == 'ham'])}\")\n",
        "print(f\"Spam ratio: {len(df[df['classification'] == 'spam'])/len(df)}\")"
      ],
      "metadata": {
        "colab": {
          "base_uri": "https://localhost:8080/"
        },
        "id": "07tuzkJR_rV2",
        "outputId": "45045f65-690f-4363-f6e8-e4e8311ee095"
      },
      "execution_count": null,
      "outputs": [
        {
          "output_type": "stream",
          "name": "stdout",
          "text": [
            "Original dataset statistics:\n",
            "Total emails: 5172\n",
            "Spam emails: 1500\n",
            "Non-spam emails: 3672\n",
            "Spam ratio: 0.2900232018561485\n"
          ]
        }
      ]
    },
    {
      "cell_type": "code",
      "source": [
        "class_prop = df['classification'].value_counts(normalize=True)\n",
        "ax=sns.barplot(x=class_prop.index, y=class_prop.values, palette=['blue', 'red'])\n",
        "for i, v in enumerate(class_prop.values):\n",
        "    ax.text(i, v + 0.01, str(round(v, 2)), ha='center', fontweight='bold')\n",
        "plt.title('Class Proportions in the Original Dataset');\n"
      ],
      "metadata": {
        "colab": {
          "base_uri": "https://localhost:8080/",
          "height": 281
        },
        "id": "8olKYCDH08X1",
        "outputId": "5e6a20e5-3af0-4abb-aead-dc07ef67aace"
      },
      "execution_count": null,
      "outputs": [
        {
          "output_type": "display_data",
          "data": {
            "text/plain": [
              "<Figure size 432x288 with 1 Axes>"
            ],
            "image/png": "[encoded data removed]"
          },
          "metadata": {
            "needs_background": "light"
          }
        }
      ]
    },
    {
      "cell_type": "markdown",
      "source": [
        "###Spliting Dataset:"
      ],
      "metadata": {
        "id": "t3u_k-Tn8qyI"
      }
    },
    {
      "cell_type": "code",
      "source": [
        "# define a feature do modelo\n",
        "X = df.message.values.reshape(-1, 1)\n",
        "# define a target do modelo\n",
        "y = df.classification.values.reshape(-1, 1)\n",
        "X_train, X_test, y_train, y_test = train_test_split(X, y, test_size=0.3,stratify=df[\"classification\"], random_state=4938)\n",
        "\n",
        "\n",
        "#train, test = train_test_split(df, test_size=0.3, stratify=df[\"classification\"], random_state=4938)"
      ],
      "metadata": {
        "id": "G6UmZgxC8ueq"
      },
      "execution_count": null,
      "outputs": []
    },
    {
      "cell_type": "markdown",
      "source": [
        "####Verifying the results:"
      ],
      "metadata": {
        "id": "YFPaqiH_GOsd"
      }
    },
    {
      "cell_type": "code",
      "source": [
        "y_train"
      ],
      "metadata": {
        "colab": {
          "base_uri": "https://localhost:8080/"
        },
        "id": "a_e8RmXpYmrN",
        "outputId": "48a38683-673e-44bd-d8ea-1f2fae29d69d"
      },
      "execution_count": null,
      "outputs": [
        {
          "output_type": "execute_result",
          "data": {
            "text/plain": [
              "array([['ham'],\n",
              "       ['ham'],\n",
              "       ['ham'],\n",
              "       ...,\n",
              "       ['ham'],\n",
              "       ['ham'],\n",
              "       ['spam']], dtype=object)"
            ]
          },
          "metadata": {},
          "execution_count": 98
        }
      ]
    },
    {
      "cell_type": "code",
      "source": [
        "train_spam = y_train[y_train== \"spam\"]\n",
        "train_non_spam = y_train[y_train== \"ham\"]\n",
        "test_spam = y_test[y_test == \"spam\"]\n",
        "test_non_spam = y_test[y_test == \"ham\"]\n",
        "\n",
        "print(\"Training set statistics:\")\n",
        "print(f\"Total emails: {len(y_train)}\")\n",
        "print(f\"Spam emails: {len(train_spam)}\")\n",
        "print(f\"Non-spam emails: {len(train_non_spam)}\")\n",
        "print(f\"Spam ratio in Train: {len(train_spam)/len(y_train)}\")\n",
        "\n",
        "print(\"\\nTest set statistics:\")\n",
        "print(f\"Total emails: {len(y_test)}\")\n",
        "print(f\"Spam emails: {len(test_spam)}\")\n",
        "print(f\"Non-spam emails: {len(test_non_spam)}\")\n",
        "print(f\"Spam ratio in Test: {len(test_spam)/len(y_test)}\")\n"
      ],
      "metadata": {
        "colab": {
          "base_uri": "https://localhost:8080/"
        },
        "id": "oBYPxSTd8-9f",
        "outputId": "3974369b-a522-4835-f7f1-6e5d8f2b7d5e"
      },
      "execution_count": null,
      "outputs": [
        {
          "output_type": "stream",
          "name": "stdout",
          "text": [
            "Training set statistics:\n",
            "Total emails: 3620\n",
            "Spam emails: 1050\n",
            "Non-spam emails: 2570\n",
            "Spam ratio in Train: 0.2900552486187845\n",
            "\n",
            "Test set statistics:\n",
            "Total emails: 1552\n",
            "Spam emails: 450\n",
            "Non-spam emails: 1102\n",
            "Spam ratio in Test: 0.28994845360824745\n"
          ]
        }
      ]
    },
    {
      "cell_type": "code",
      "source": [
        "y_train"
      ],
      "metadata": {
        "colab": {
          "base_uri": "https://localhost:8080/"
        },
        "id": "EkydZ9AEaTJ1",
        "outputId": "a8099bba-1a50-43c5-97c3-0e016064660f"
      },
      "execution_count": null,
      "outputs": [
        {
          "output_type": "execute_result",
          "data": {
            "text/plain": [
              "array([['ham'],\n",
              "       ['ham'],\n",
              "       ['ham'],\n",
              "       ...,\n",
              "       ['ham'],\n",
              "       ['ham'],\n",
              "       ['spam']], dtype=object)"
            ]
          },
          "metadata": {},
          "execution_count": 107
        }
      ]
    },
    {
      "cell_type": "code",
      "source": [
        "y_train_flat=y_train.reshape(-1)\n",
        "y_train_series = pd.Series(y_train_flat)\n",
        "\n",
        "class_prop = y_train_series.value_counts(normalize=True)\n",
        "ax=sns.barplot(x=class_prop.index, y=class_prop.values, palette=['blue', 'red'])\n",
        "for i, v in enumerate(class_prop.values):\n",
        "    ax.text(i, v + 0.01, str(round(v, 2)), ha='center', fontweight='bold')\n",
        "plt.title('Class Proportions in the Train Dataset');\n"
      ],
      "metadata": {
        "colab": {
          "base_uri": "https://localhost:8080/",
          "height": 281
        },
        "id": "R9_cwAeo_xvN",
        "outputId": "c38f88ed-c0fb-4a89-9f25-132c3d1f4d0e"
      },
      "execution_count": null,
      "outputs": [
        {
          "output_type": "display_data",
          "data": {
            "text/plain": [
              "<Figure size 432x288 with 1 Axes>"
            ],
            "image/png": "[encoded data removed]"
          },
          "metadata": {
            "needs_background": "light"
          }
        }
      ]
    },
    {
      "cell_type": "code",
      "source": [
        "y_test_flat=y_test.reshape(-1)\n",
        "y_test_series = pd.Series(y_test_flat)\n",
        "\n",
        "\n",
        "class_prop = y_test_series.value_counts(normalize=True)\n",
        "ax=sns.barplot(x=class_prop.index, y=class_prop.values, palette=['blue', 'red'])\n",
        "for i, v in enumerate(class_prop.values):\n",
        "    ax.text(i, v + 0.01, str(round(v, 2)), ha='center', fontweight='bold')\n",
        "plt.title('Class Proportions in the Test Dataset');\n"
      ],
      "metadata": {
        "colab": {
          "base_uri": "https://localhost:8080/",
          "height": 281
        },
        "id": "zBvHrjeY__BK",
        "outputId": "3ee92a68-b3b2-46a9-a80d-18ef9835e07d"
      },
      "execution_count": null,
      "outputs": [
        {
          "output_type": "display_data",
          "data": {
            "text/plain": [
              "<Figure size 432x288 with 1 Axes>"
            ],
            "image/png": "[encoded data removed]"
          },
          "metadata": {
            "needs_background": "light"
          }
        }
      ]
    },
    {
      "cell_type": "markdown",
      "source": [
        "###As we can confirm no Bias was introduced in the Split process, the proportion from the original dataset was mantained."
      ],
      "metadata": {
        "id": "9JedYgxnCnfA"
      }
    },
    {
      "cell_type": "markdown",
      "source": [
        "#Feature Extraction."
      ],
      "metadata": {
        "id": "5l0AXY9qKGqP"
      }
    },
    {
      "cell_type": "markdown",
      "source": [
        "<img src=\"https://raw.githubusercontent.com/orlandojrps/spam/main/nlp.jpg\">"
      ],
      "metadata": {
        "id": "sLZC87RdWJiw"
      }
    },
    {
      "cell_type": "markdown",
      "source": [
        "####The approach chosed is TfidfVectorizer. In this bag-of-words representation each document is represented as a vector of term frequencies (TF) weighted by their inverse document frequency (IDF). Lower weights are given to common words, rare receive higher weights."
      ],
      "metadata": {
        "id": "lSwNhsv8Wevi"
      }
    },
    {
      "cell_type": "code",
      "source": [],
      "metadata": {
        "id": "jsFT6pvqpZON"
      },
      "execution_count": null,
      "outputs": []
    },
    {
      "cell_type": "code",
      "source": [
        "#Back to dataframe format\n",
        "X_train= pd.DataFrame(X_train,columns=['message'])\n",
        "X_test= pd.DataFrame(X_test,columns=['message'])"
      ],
      "metadata": {
        "id": "iG1cG_bxcv6u"
      },
      "execution_count": null,
      "outputs": []
    },
    {
      "cell_type": "code",
      "source": [
        "text = X_train.message\n",
        "\n",
        "# Cria o vetorizador TF-IDF\n",
        "vectorizer = TfidfVectorizer()\n",
        "\n",
        "# Ajusta o vetorizador ao conjunto de dados\n",
        "vectorizer.fit(text)\n",
        "\n",
        "# Codifica todos os documentos em uma matriz TF-IDF\n",
        "X_train_tfidf = vectorizer.transform(text)\n",
        "\n",
        "# Converte a matriz esparsa em uma matriz densa\n",
        "X_train_dense = X_train_tfidf.toarray()"
      ],
      "metadata": {
        "id": "dOaBFBAspadR"
      },
      "execution_count": null,
      "outputs": []
    },
    {
      "cell_type": "markdown",
      "source": [
        "<img src=\"https://raw.githubusercontent.com/orlandojrps/spam/main/eda.jpg\">"
      ],
      "metadata": {
        "id": "ilxlYiRppdBi"
      }
    },
    {
      "cell_type": "markdown",
      "source": [
        "###In the EDA stage we will check the most repeated words in both groups and also the distribution using Boxsplots"
      ],
      "metadata": {
        "id": "oGz5blXYrtDw"
      }
    },
    {
      "cell_type": "code",
      "source": [
        "stop_words = set(stopwords.words('english'))\n",
        "\n",
        "# Separate the train data into spam and non-spam categories\n",
        "spam = X_train[y_train == 'spam']\n",
        "non_spam=X_train[y_train == 'ham']\n",
        "# Tokenize and normalize the text data\n",
        "spam_words = []\n",
        "for message in spam['message']:\n",
        "    words = word_tokenize(message.lower())\n",
        "    spam_words += [word for word in words if word.isalpha() and word not in stop_words]\n",
        "\n",
        "non_spam_words = []\n",
        "for message in non_spam['message']:\n",
        "    words = word_tokenize(message.lower())\n",
        "    non_spam_words += [word for word in words if word.isalpha() and word not in stop_words]\n",
        "\n",
        "# Count the frequency of each token in each category\n",
        "spam_word_freq = nltk.FreqDist(spam_words)\n",
        "non_spam_word_freq = nltk.FreqDist(non_spam_words)\n",
        "\n",
        "# Create a dictionary that maps each token to its frequency\n",
        "spam_top_words = dict(spam_word_freq.most_common(20))\n",
        "non_spam_top_words = dict(non_spam_word_freq.most_common(20))\n",
        "\n",
        "# Sort the dictionary in descending order of the frequency\n",
        "spam_top_words = {k: v for k, v in sorted(spam_top_words.items(), key=lambda item: item[1], reverse=True)}\n",
        "non_spam_top_words = {k: v for k, v in sorted(non_spam_top_words.items(), key=lambda item: item[1], reverse=True)}\n",
        "\n",
        "# Create a bar plot to show the relative frequencies\n",
        "import matplotlib.pyplot as plt\n",
        "plt.figure(figsize=(15,8))\n",
        "plt.bar(range(len(spam_top_words)), list(spam_top_words.values()), align='center', color='red')\n",
        "plt.xticks(range(len(spam_top_words)), list(spam_top_words.keys()))\n",
        "plt.title('Top-20 most frequent words in spam emails')\n",
        "plt.show()\n",
        "plt.figure(figsize=(15,8))\n",
        "plt.bar(range(len(non_spam_top_words)), list(non_spam_top_words.values()), align='center', color='blue')\n",
        "plt.xticks(range(len(non_spam_top_words)), list(non_spam_top_words.keys()))\n",
        "plt.title('Top-20 most frequent words in non-spam emails')\n",
        "plt.show()"
      ],
      "metadata": {
        "colab": {
          "base_uri": "https://localhost:8080/",
          "height": 981
        },
        "id": "topTVk8NgOZ2",
        "outputId": "c3f7d85f-e867-4e32-bbca-7cc5a2ba20d1"
      },
      "execution_count": null,
      "outputs": [
        {
          "output_type": "display_data",
          "data": {
            "text/plain": [
              "<Figure size 1080x576 with 1 Axes>"
            ],
            "image/png": "[encoded data removed]"
          },
          "metadata": {
            "needs_background": "light"
          }
        },
        {
          "output_type": "display_data",
          "data": {
            "text/plain": [
              "<Figure size 1080x576 with 1 Axes>"
            ],
            "image/png": "[encoded data removed]"
          },
          "metadata": {
            "needs_background": "light"
          }
        }
      ]
    },
    {
      "cell_type": "code",
      "source": [
        "spam.loc[spam_length == spam_outlier_value]"
      ],
      "metadata": {
        "colab": {
          "base_uri": "https://localhost:8080/",
          "height": 81
        },
        "id": "M3yhNt6ktaFe",
        "outputId": "0e8deba0-34cc-4719-958d-7bd1ff3febcd"
      },
      "execution_count": null,
      "outputs": [
        {
          "output_type": "execute_result",
          "data": {
            "text/plain": [
              "                                                message\n",
              "3534  Subject: we ' ve got your info by internet , h..."
            ],
            "text/html": [
              "\n",
              "  <div id=\"df-3e3f0d59-517d-4bd9-80ed-8597ab54b2cd\">\n",
              "    <div class=\"colab-df-container\">\n",
              "      <div>\n",
              "<style scoped>\n",
              "    .dataframe tbody tr th:only-of-type {\n",
              "        vertical-align: middle;\n",
              "    }\n",
              "\n",
              "    .dataframe tbody tr th {\n",
              "        vertical-align: top;\n",
              "    }\n",
              "\n",
              "    .dataframe thead th {\n",
              "        text-align: right;\n",
              "    }\n",
              "</style>\n",
              "<table border=\"1\" class=\"dataframe\">\n",
              "  <thead>\n",
              "    <tr style=\"text-align: right;\">\n",
              "      <th></th>\n",
              "      <th>message</th>\n",
              "    </tr>\n",
              "  </thead>\n",
              "  <tbody>\n",
              "    <tr>\n",
              "      <th>3534</th>\n",
              "      <td>Subject: we ' ve got your info by internet , h...</td>\n",
              "    </tr>\n",
              "  </tbody>\n",
              "</table>\n",
              "</div>\n",
              "      <button class=\"colab-df-convert\" onclick=\"convertToInteractive('df-3e3f0d59-517d-4bd9-80ed-8597ab54b2cd')\"\n",
              "              title=\"Convert this dataframe to an interactive table.\"\n",
              "              style=\"display:none;\">\n",
              "        \n",
              "  <svg xmlns=\"http://www.w3.org/2000/svg\" height=\"24px\"viewBox=\"0 0 24 24\"\n",
              "       width=\"24px\">\n",
              "    <path d=\"M0 0h24v24H0V0z\" fill=\"none\"/>\n",
              "    <path d=\"M18.56 5.44l.94 2.06.94-2.06 2.06-.94-2.06-.94-.94-2.06-.94 2.06-2.06.94zm-11 1L8.5 8.5l.94-2.06 2.06-.94-2.06-.94L8.5 2.5l-.94 2.06-2.06.94zm10 10l.94 2.06.94-2.06 2.06-.94-2.06-.94-.94-2.06-.94 2.06-2.06.94z\"/><path d=\"M17.41 7.96l-1.37-1.37c-.4-.4-.92-.59-1.43-.59-.52 0-1.04.2-1.43.59L10.3 9.45l-7.72 7.72c-.78.78-.78 2.05 0 2.83L4 21.41c.39.39.9.59 1.41.59.51 0 1.02-.2 1.41-.59l7.78-7.78 2.81-2.81c.8-.78.8-2.07 0-2.86zM5.41 20L4 18.59l7.72-7.72 1.47 1.35L5.41 20z\"/>\n",
              "  </svg>\n",
              "      </button>\n",
              "      \n",
              "  <style>\n",
              "    .colab-df-container {\n",
              "      display:flex;\n",
              "      flex-wrap:wrap;\n",
              "      gap: 12px;\n",
              "    }\n",
              "\n",
              "    .colab-df-convert {\n",
              "      background-color: #E8F0FE;\n",
              "      border: none;\n",
              "      border-radius: 50%;\n",
              "      cursor: pointer;\n",
              "      display: none;\n",
              "      fill: #1967D2;\n",
              "      height: 32px;\n",
              "      padding: 0 0 0 0;\n",
              "      width: 32px;\n",
              "    }\n",
              "\n",
              "    .colab-df-convert:hover {\n",
              "      background-color: #E2EBFA;\n",
              "      box-shadow: 0px 1px 2px rgba(60, 64, 67, 0.3), 0px 1px 3px 1px rgba(60, 64, 67, 0.15);\n",
              "      fill: #174EA6;\n",
              "    }\n",
              "\n",
              "    [theme=dark] .colab-df-convert {\n",
              "      background-color: #3B4455;\n",
              "      fill: #D2E3FC;\n",
              "    }\n",
              "\n",
              "    [theme=dark] .colab-df-convert:hover {\n",
              "      background-color: #434B5C;\n",
              "      box-shadow: 0px 1px 3px 1px rgba(0, 0, 0, 0.15);\n",
              "      filter: drop-shadow(0px 1px 2px rgba(0, 0, 0, 0.3));\n",
              "      fill: #FFFFFF;\n",
              "    }\n",
              "  </style>\n",
              "\n",
              "      <script>\n",
              "        const buttonEl =\n",
              "          document.querySelector('#df-3e3f0d59-517d-4bd9-80ed-8597ab54b2cd button.colab-df-convert');\n",
              "        buttonEl.style.display =\n",
              "          google.colab.kernel.accessAllowed ? 'block' : 'none';\n",
              "\n",
              "        async function convertToInteractive(key) {\n",
              "          const element = document.querySelector('#df-3e3f0d59-517d-4bd9-80ed-8597ab54b2cd');\n",
              "          const dataTable =\n",
              "            await google.colab.kernel.invokeFunction('convertToInteractive',\n",
              "                                                     [key], {});\n",
              "          if (!dataTable) return;\n",
              "\n",
              "          const docLinkHtml = 'Like what you see? Visit the ' +\n",
              "            '<a target=\"_blank\" href=https://colab.research.google.com/notebooks/data_table.ipynb>data table notebook</a>'\n",
              "            + ' to learn more about interactive tables.';\n",
              "          element.innerHTML = '';\n",
              "          dataTable['output_type'] = 'display_data';\n",
              "          await google.colab.output.renderOutput(dataTable, element);\n",
              "          const docLink = document.createElement('div');\n",
              "          docLink.innerHTML = docLinkHtml;\n",
              "          element.appendChild(docLink);\n",
              "        }\n",
              "      </script>\n",
              "    </div>\n",
              "  </div>\n",
              "  "
            ]
          },
          "metadata": {},
          "execution_count": 233
        }
      ]
    },
    {
      "cell_type": "code",
      "source": [
        "# Compute the length of each message\n",
        "spam_length = spam['message'].apply(len)\n",
        "non_spam_length = non_spam['message'].apply(len)\n",
        "\n",
        "# Create a boxplot to show the distribution of email lengths\n",
        "sns.boxplot(x=y_train[y_train==\"spam\"], y=spam_length, color='red', whis=10)\n",
        "plt.title('Distribution of email lengths in spam emails')\n",
        "plt.ylabel('Length')\n",
        "plt.show()\n",
        "\n",
        "sns.boxplot(x=y_train[y_train==\"ham\"], y=non_spam_length, color='blue', whis=10)\n",
        "plt.title('Distribution of email lengths in non-spam emails')\n",
        "plt.ylabel('Length')\n",
        "plt.show()"
      ],
      "metadata": {
        "colab": {
          "base_uri": "https://localhost:8080/",
          "height": 545
        },
        "id": "cuM9j3_PsU44",
        "outputId": "72d53777-8329-4346-ee60-66faa073a94a"
      },
      "execution_count": null,
      "outputs": [
        {
          "output_type": "display_data",
          "data": {
            "text/plain": [
              "<Figure size 432x288 with 1 Axes>"
            ],
            "image/png": "[encoded data removed]"
          },
          "metadata": {
            "needs_background": "light"
          }
        },
        {
          "output_type": "display_data",
          "data": {
            "text/plain": [
              "<Figure size 432x288 with 1 Axes>"
            ],
            "image/png": "[encoded data removed]"
          },
          "metadata": {
            "needs_background": "light"
          }
        }
      ]
    },
    {
      "cell_type": "code",
      "source": [
        "# Compute the length of each message\n",
        "spam_length = spam['message'].apply(len)\n",
        "non_spam_length = non_spam['message'].apply(len)\n",
        "\n",
        "# Create histograms to show the distribution of email lengths\n",
        "plt.hist(spam_length, bins=50, color='red', alpha=0.5)\n",
        "plt.hist(non_spam_length, bins=50, color='blue', alpha=0.5)\n",
        "plt.title('Distribution of email lengths')\n",
        "plt.xlabel('Length')\n",
        "plt.ylabel('Frequency')\n",
        "plt.legend(['Spam', 'Non-spam'])\n",
        "plt.show()\n"
      ],
      "metadata": {
        "colab": {
          "base_uri": "https://localhost:8080/",
          "height": 295
        },
        "id": "mL61iN6ruo_8",
        "outputId": "dffaee7f-64b8-440d-b4bb-5c5e7d0777ee"
      },
      "execution_count": null,
      "outputs": [
        {
          "output_type": "display_data",
          "data": {
            "text/plain": [
              "<Figure size 432x288 with 1 Axes>"
            ],
            "image/png": "[encoded data removed]"
          },
          "metadata": {
            "needs_background": "light"
          }
        }
      ]
    },
    {
      "cell_type": "markdown",
      "source": [
        "##On Average the emails classified as Non-spam are bigger"
      ],
      "metadata": {
        "id": "fnpkBHP78NUn"
      }
    },
    {
      "cell_type": "markdown",
      "source": [
        "###Now Let's examine inside the highest values(out-liers) for either Spam and Non-Spam:"
      ],
      "metadata": {
        "id": "aXkCUtOu7QiJ"
      }
    },
    {
      "cell_type": "code",
      "source": [
        "# Get the index of the message with the highest spam_length\n",
        "max_spam_length_index = spam_length.idxmax()\n",
        "\n",
        "# Get the value of y_train at the index with the highest spam_length\n",
        "max_spam_length_category = y_train[max_spam_length_index]\n",
        "\n",
        "# Print the content of the message with the highest spam_length\n",
        "X_train.iloc[max_spam_length_index].message"
      ],
      "metadata": {
        "colab": {
          "base_uri": "https://localhost:8080/",
          "height": 1000
        },
        "id": "BVzjjqu16G17",
        "outputId": "eb8624fa-6d50-4857-a5d3-e021c62e875b"
      },
      "execution_count": null,
      "outputs": [
        {
          "output_type": "execute_result",
          "data": {
            "text/plain": [
              "\"Subject: we ' ve got your info by internet , hope to cooperate .\\nhtml\\nhead\\ntitlechina inflatables / title\\nmeta http - equiv = content - type content = text / html ; charset = gb 2312\\n/ head\\nbody bgcolor = # e 7 f 7 ff text = # 000000 topmargin = 0\\ndiv align = center\\ncenter\\ntable border = 0 width = 422 heiht = 90 % cellspacing = 0 cellpadding = 0 height = 1 style = border - collapse : collapse bordercolor = # 111111\\ntr\\ntd width = 422 height = 10 valign = middle style = line - height : 15 pt ; font - family : knle ; font - size : 9 pt colspan = 8\\n/ td\\n/ tr\\ntr\\ntd width = 68 height = 11 valign = middle style = line - height : 15 pt ; font - family : knle ; font - size : 9 pt rowspan = 3\\np align = center\\na href = http : / / www . china - itoy . com\\nimg border = 0 src = http : / / www . china - itoy . com / email / logo . jpg width = 60 height = 60 align = left / a / td\\ntd width = 354 height = 3 valign = middle style = line - height : 15 pt ; font - family : knle ; font - size : 9 pt colspan = 7\\nspan style = gt ;\\nfont face = arial black color = # ffo 000 style = font - size : 11 ptjiale / font / spanspan style = gt ; font - size : 10 . 0 pt ; mso - ascii - font - family : quot ; times new romanquot ; font color = # 000080 style = font - size : 11 pt ! * / font / spanspan style = font - weight : 700 ; gt ; font - size : 10 . 0 pt ; mso - ascii - font - family : quot ; times new romanquot ; font face = arial color = # 000080 china / font / spanfont face = arial color = # 000080 span style = gt ; font - size : 10 . 0 pt ; mso - ascii - font - family : quot ; times new romanquot ; bnbsp ;\\nprofessionalnbsp ; manufacturernbsp ; of nbsp ; inflatable / b / span / font / td\\n/ tr\\ntr\\ntd width = 354 height = 24 valign = middle style = line - height : 15 pt ; font - family : knle ; font - size : 9 pt colspan = 7\\nfont color = # 000080 we offer high quality inflatable\\nproducts in any size or / font\\n/ td\\n/ tr\\ntr\\ntd width = 354 height = 20 valign = middle style = line - height : 15 pt ; font - family : knle ; font - size : 9 pt colspan = 7\\nfont color = # 000080 style , please browse the product sorts : / font / td\\n/ tr\\ntr\\ntd width = 68 height = 4 valign = middle style = line - height : 15 pt ; font - family : knle ; font - size : 9 pt\\n/ td\\ntd width = 43 height = 4 valign = middle style = line - height : 15 pt ; font - family : knle ; font - size : 9 pt\\n/ td\\ntd width = 1 height = 4 valign = top style = line - height : 15 pt ; font - family : knle ; font - size : 9 pt\\n/ td\\ntd width = 96 height = 4 style = line - height : 15 pt ; font - family : knle ; font - size : 9 pt\\n/ td\\ntd width = 13 height = 4 style = line - height : 15 pt ; font - family : knle ; font - size : 9 pt\\n/ td\\ntd width = 98 height = 4 valign = middle style = line - height : 15 pt ; font - family : knle ; font - size : 9 pt\\n/ td\\ntd width = 6 height = 4 valign = top style = line - height : 15 pt ; font - family : knle ; font - size : 9 pt\\n/ td\\ntd width = 100 height = 4 style = line - height : 15 pt ; font - family : knle ; font - size : 9 pt\\n/ td\\n/ tr\\ntr\\ntd height = 9 colspan = 8 style = line - height : 15 pt ; font - family : knle ; font - size : 9 pt valign = middle\\np align = center\\n/ td\\n/ tr\\ntr\\ntd height = 85 valign = top style = line - height : 15 pt ; font - family : knle ; font - size : 9 pt colspan = 2\\na style = text - decoration : none ; color : # 0080 co ; text - transform : none href = http : / / www . china - itoy . com / en / products / bouncerl . htm\\nimg border = 0 src = http : / / www . china - itoy . com / email / el . gif width = 100 height = 100 / a\\n/ td\\ntd width = 54 height = 85 valign = middle style = line - height : 15 pt ; font - family : knle ; font - size : 9 pt\\n/ td\\ntd width = 55 height = 85 style = line - height : 15 pt ; font - family : knle ; font - size : 9 pt valign = middle\\np align = center\\na href = http : / / www . china - itoy . com / en / products / bouncerl . htm\\nimg border = 0 src = http : / / www . china - itoy . com / email / e 2 . gif width = 100 height = 100 / a ! ! / p\\n/ td\\ntd width = 55 height = 85 style = line - height : 15 pt ; font - family : knle ; font - size : 9 pt valign = middle\\n/ td\\ntd width = 55 height = 85 valign = middle style = line - height : 15 pt ; font - family : knle ; font - size : 9 pt\\np align = left\\na href = http : / / www . china - itoy . com / en / products / castlel . htm\\nimg border = 0 src = http : / / www . china - itoy . com / email / e 3 . gif width = 100 height = 100 / a\\n/ p\\n/ td\\ntd width = 55 height = 85 valign = middle style = line - height : 15 pt ; font - family : knle ; font - size : 9 pt\\n/ td\\ntd width = 100 height = 85 style = line - height : 15 pt ; font - family : knle ; font - size : 9 pt valign = middle\\np align = center\\na href = http : / / www . china - itoy . com / en / products / slidesl . htm\\nimg border = 0 src = http : / / www . china - itoy . com / email / e 4 . gif width = 100 height = 100 / a ! ! / td\\n/ tr\\ntr\\ntd height = 4 colspan = 8 style = line - height : 15 pt ; font - family : knle ; font - size : 9 pt\\n/ td\\n/ tr\\ntr\\ntd height = 105 valign = middle style = line - height : 15 pt ; font - family : knle ; font - size : 9 pt colspan = 2\\na href = http : / / www . china - itoy . com / en / products / funcityl . htm\\nimg border = 0 src = http : / / www . china - itoy . com / email / e 5 . gif width = 100 height = 100 / a\\n/ td\\ntd width = 54 height = 105 valign = middle style = line - height : 15 pt ; font - family : knle ; font - size : 9 pt\\n/ td\\ntd width = 55 height = 105 style = line - height : 15 pt ; font - family : knle ; font - size : 9 pt valign = middle\\np align = center\\na href = http : / / www . china - itoy . com / en / products / obstaclesl . htm\\nimg border = 0 src = http : / / www . china - itoy . com / email / e 6 . gif width = 100 height = 100 / a ! ! / p\\n/ td\\ntd width = 55 height = 105 style = line - height : 15 pt ; font - family : knle ; font - size : 9 pt valign = middle\\n/ td\\ntd width = 55 height = 105 valign = middle style = line - height : 15 pt ; font - family : knle ; font - size : 9 pt\\np align = left\\na href = http : / / www . china - itoy . com / en / products / sportsl . htm\\nimg border = 0 src = http : / / www . china - itoy . com / email / e 7 . gif width = 100 height = 100 / a\\n/ p\\n/ td\\ntd width = 55 height = 105 valign = middle style = line - height : 15 pt ; font - family : knle ; font - size : 9 pt\\n/ td\\ntd width = 100 height = 105 style = line - height : 15 pt ; font - family : knle ; font - size : 9 pt valign = middle\\np align = center\\na href = http : / / www . china - itoy . com / en / products / tunnelsl . htm\\nimg border = 0 src = http : / / www . china - itoy . com / email / e 8 . gif width = 100 height = 100 / a ! ! / td\\n/ tr\\ntr\\ntd height = 3 colspan = 8 style = line - height : 15 pt ; font - family : knle ; font - size : 9 pt\\n/ td\\n/ tr\\ntr\\ntd height = 1 colspan = 8 style = line - height : 15 pt ; font - family : knle ; font - size : 9 pt valign = middle\\np align = center\\n/ td\\n/ tr\\ntr\\ntd height = 107 style = line - height : 15 pt ; font - family : knle ; font - size : 9 pt colspan = 2 valign = middle\\na href = http : / / www . ad - inflatables . com / products / tentsl . htm\\nimg border = 0 src = http : / / www . china - itoy . com / email / e 9 . gif width = 100 height = 100 / a\\n/ td\\ntd width = 54 height = 107 style = line - height : 15 pt ; font - family : knle ; font - size : 9 pt valign = middle\\n/ td\\ntd width = 55 height = 107 style = line - height : 15 pt ; font - family : knle ; font - size : 9 pt valign = middle\\np align = center\\na href = http : / / www . ad - inflatables . com / products / archesl . htm\\nimg border = 0 src = http : / / www . china - itoy . com / email / el 0 . gif width = 100 height = 100 / a\\n/ td\\ntd width = 55 height = 107 style = line - height : 15 pt ; font - family : knle ; font - size : 9 pt valign = middle\\n/ td\\ntd width = 55 height = 107 style = line - height : 15 pt ; font - family : knle ; font - size : 9 pt valign = middle\\na href = http : / / www . ad - inflatables . com / products / cartoonsl . htm\\nimg border = 0 src = http : / / www . china - itoy . com / email / el 1 . gif width = 100 height = 100 / a\\n/ td\\ntd width = 55 height = 107 style = line - height : 15 pt ; font - family : knle ; font - size : 9 pt valign = middle\\n/ td\\ntd width = 100 height = 107 style = line - height : 15 pt ; font - family : knle ; font - size : 9 pt valign = middle\\np align = center\\na href = http : / / www . ad - inflatables . com / products / movecartoonl . htm\\nimg border = 0 src = http : / / www . china - itoy . com / email / el 2 . gif width = 100 height = 100 / a\\n/ td\\n/ tr\\ntr\\ntd height = 2 colspan = 8 style = line - height : 15 pt ; font - family : knle ; font - size : 9 pt\\np align = center\\n/ td\\n/ tr\\ntr\\ntd height = 107 style = line - height : 15 pt ; font - family : knle ; font - size : 9 pt colspan = 2 valign = middle\\na href = http : / / www . ad - inflatables . com / products / productshapel . htm\\nimg border = 0 src = http : / / www . china - itoy . com / email / el 3 . gif width = 100 height = 100 / a\\n/ td\\ntd width = 54 height = 107 style = line - height : 15 pt ; font - family : knle ; font - size : 9 pt valign = middle\\n/ td\\ntd width = 55 height = 107 style = line - height : 15 pt ; font - family : knle ; font - size : 9 pt valign = middle\\np align = center\\na href = http : / / www . china - itoy . com / en / products / christmasl . htm\\nimg border = 0 src = http : / / www . china - itoy . com / email / el 4 . gif width = 100 height = 100 / a\\n/ td\\ntd width = 55 height = 107 style = line - height : 15 pt ; font - family : knle ; font - size : 9 pt valign = middle\\n/ td\\ntd height = 107 colspan = 2 style = line - height : 15 pt ; font - family : knle ; font - size : 9 pt valign = middle\\na href = http : / / www . ad - inflatables . com / products / airdancerl . htm\\nimg border = 0 src = http : / / www . china - itoy . com / email / el 5 . gif width = 100 height = 100 / a\\n/ td\\ntd width = 100 height = 107 style = line - height : 15 pt ; font - family : knle ; font - size : 9 pt valign = middle\\np align = center\\na href = http : / / www . ad - inflatables . com / products / balloonsl . htm\\nimg border = 0 src = http : / / www . china - itoy . com / email / el 7 . gif width = 100 height = 100 / a\\n/ td\\n/ tr\\ntr\\ntd width = 111 height = 1 style = line - height : 15 pt ; font - family : knle ; font - size : 9 pt colspan = 2\\n/ td\\ntd width = 1 height = 1 style = line - height : 15 pt ; font - family : knle ; font - size : 9 pt\\n/ td\\ntd width = 98 height = 1 style = line - height : 15 pt ; font - family : knle ; font - size : 9 pt\\n/ td\\ntd width = 13 height = 1 style = line - height : 15 pt ; font - family : knle ; font - size : 9 pt\\n/ td\\ntd width = 207 height = 1 colspan = 3 style = line - height : 15 pt ; font - family : knle ; font - size : 9 pt\\n/ td\\n/ tr\\ntr\\ntd width = 422 height = 1 valign = top style = line - height : 15 pt ; font - family : knle ; font - size : 9 pt colspan = 8\\nspan style = font - size : 10 pt\\nhr color = # 3 b 81 d 4 size = 1 / td\\n/ tr\\ntr\\ntd height = 16 valign = top style = line - height : 15 pt ; font - family : knle ; font - size : 9 pt colspan = 2 align = center\\nb\\nfont face = arial color = # 000080 style = font - size : 11 ptdownload # : / font / b / td\\ntd width = 54 height = 16 valign = top style = line - height : 15 pt ; font - family : knle ; font - size : 9 pt\\n/ td\\ntd height = 16 style = line - height : 15 pt ; font - family : knle ; font - size : 9 pt colspan = 5\\nfont style = font - size : 11 pt face = arial\\na href = http : / / www . china - itoy . com / agent % 20 agreement . doc\\nagent agreement / anbsp ; nbsp ; nbsp ; nbsp ; nbsp ; a href = http : / / www . china - itoy . com / orderform . docorder form / anbsp ; nbsp ; nbsp ; nbsp ; nbsp ; nbsp ; a href = http : / / www . china - itoy . com / catalog . zipcatalogue / a / font / td\\n/ tr\\ntr\\ntd height = 13 valign = top style = line - height : 15 pt ; font - family : knle ; font - size : 9 pt colspan = 2 align = center\\nb\\nfont face = arial color = # 000080 style = font - size : 11 ptmore\\ninfo # : / font / b / td\\ntd width = 54 height = 13 valign = top style = line - height : 15 pt ; font - family : knle ; font - size : 9 pt\\n/ td\\ntd height = 13 style = line - height : 15 pt ; font - family : knle ; font - size : 9 pt colspan = 5\\nfont color = # 000080 face = arial style = font - size : 11 pt\\na href = http : / / www . china - itoy . comwww . china - itoy . com / a / fontspan class = textredfont color = # 000080 face = arial style = font - size : 11 pt\\nnbsp ; nbsp ; nbsp ; nbsp ; a href = http : / / www . china - itoy . com / en / aboutus . htmabout\\nus / anbsp ; nbsp ; nbsp ; nbsp ; nbsp ;\\na href = http : / / www . china - itoy . com / aboutus . htmvpnd / a / font / td\\n/ tr\\ntr\\ntd height = 12 valign = top style = line - height : 15 pt ; font - family : knle ; font - size : 9 pt colspan = 2 align = center\\nb\\nfont face = arial color = # 000080 style = font - size : 11 ptcontact\\nus # : / font / b / td\\ntd width = 54 height = 12 valign = top style = line - height : 15 pt ; font - family : knle ; font - size : 9 pt\\n/ td\\ntd height = 12 style = line - height : 15 pt ; font - family : knle ; font - size : 9 pt colspan = 5\\np align = leftspan class = textred\\nfont face = arial style = font - size : 10 pttel : 00 86 20 88238860 nbsp ; nbsp ; nbsp ; fax : 00 86 20 84044259 / font / td\\n/ tr\\ntr\\ntd height = 8 valign = top style = line - height : 15 pt ; font - family : knle ; font - size : 9 pt colspan = 2 align = center\\nb\\nfont face = arial color = # 000080 style = font - size : 11 pte - mail # : / font / b / td\\ntd width = 54 height = 8 valign = top style = line - height : 15 pt ; font - family : knle ; font - size : 9 pt\\n/ td\\ntd height = 8 style = line - height : 15 pt ; font - family : knle ; font - size : 9 pt colspan = 5\\np align = leftspan class = textred\\nfont face = arial style = font - size : 11 pt\\na href = mailto : export @ china - itoy . comexport @ china - itoy . com / anbsp ; nbsp ; nbsp ; nbsp ; nbsp ; nbsp ; nbsp ; nbsp ;\\na href = http : / / www . china - itoy . com / en / order / index . htmfeedback / a / font / td\\n/ tr\\ntr\\ntd height = 13 valign = top style = line - height : 15 pt ; font - family : knle ; font - size : 9 pt colspan = 8\\np align = centerspan style = font - size : 7 pt\\nfont face = arialif you do not\\nneed this info , a href = mailto : sales @ china - itoy . com ? subject = i do not need this infoclick\\nhere / a / font / td\\n/ tr\\n/ table\\n/ center\\n/ div\\n/ body\\n/ html\\n\""
            ],
            "application/vnd.google.colaboratory.intrinsic+json": {
              "type": "string"
            }
          },
          "metadata": {},
          "execution_count": 247
        }
      ]
    },
    {
      "cell_type": "code",
      "source": [
        "# Get the index of the message with the highest spam_length\n",
        "max_non_spam_length_index = non_spam_length.idxmax()\n",
        "\n",
        "# Get the value of y_train at the index with the highest spam_length\n",
        "max_non_spam_length_category = y_train[max_non_spam_length_index]\n",
        "\n",
        "# Print the content of the message with the highest spam_length\n",
        "X_train.iloc[max_non_spam_length_index].message"
      ],
      "metadata": {
        "colab": {
          "base_uri": "https://localhost:8080/",
          "height": 1000
        },
        "id": "zhZpV_3X6mmK",
        "outputId": "9fa5d261-5a7f-470d-bdda-d8370f2efb5b"
      },
      "execution_count": null,
      "outputs": [
        {
          "output_type": "execute_result",
          "data": {
            "text/plain": [
              "'Subject: fw : \" red , white and blue out \"\\n- - - - - original message - - - - -\\nfrom : carter , rhonda [ mailto : rcarter @ cooperinst . org ]\\nsent : friday , september 14 , 2001 12 : 33 pm\\nto : \\' al _ abbott @ compuserve . com \\' ; \\' mabner @ sprintmail . com \\' ;\\n\\' aggiebob @ hotmail . com \\' ; \\' adamsck @ flash . net \\' ; \\' gadams @ promus . com \\' ;\\n\\' pjadell @ yahoo . com \\' ; \\' bob @ cybersitebuilders . com \\' ;\\n\\' worml 998 @ hotmail . com \\' ; \\' janie . beth @ prodigy . net \\' ; \\' gakin @ mccarthy . com \\' ;\\n\\' vja @ flash . net \\' ; \\' locke . alder @ gte . net \\' ; \\' calexaol @ 7 - 11 . com \\' ;\\n\\' erika @ publish . no . irs . gov \\' ; \\' ali @ buz . net \\' ; \\' brada @ ticnet . com \\' ;\\n\\' svallen @ aol . com \\' ; \\' jand 30 @ aol . com \\' ; \\' allan @ stratsolgroup . com \\' ;\\n\\' chuck _ anderson @ oxy . com \\' ; \\' mdqsga 96 @ aol . com \\' ;\\n\\' brian _ anhalt @ bigfoot . com \\' ; \\' aranda @ nbstx . com \\' ; \\' aggiemom @ archer . cx \\' ;\\n\\' jard @ nortelnetworks . com \\' ; \\' abarch @ airmail . net \\' ; \\' narguello @ yahoo . com \\' ;\\n\\' jarmstrong @ tqtx . com \\' ; \\' mikie @ aggie . zzn . com \\' ; \\' ag 85 @ home . com \\' ;\\n\\' kmarnold @ home . com \\' ; \\' hollya @ cyber - designs . com \\' ;\\n\\' hughashburn @ netscape . net \\' ; \\' bob @ cybersitebuilders . com \\' ;\\n\\' olinatkinson @ dellnet . com \\' ; \\' papaayres @ aol . com \\' ; \\' abackof 68 @ aol . com \\' ;\\n\\' badgett @ ti . com \\' ; \\' kbailie @ nortel . com \\' ; \\' wjbaird @ mapsco . com \\' ;\\n\\' jbaker @ ecomtrading . com \\' ; \\' tim . banigan @ nortelnetworks . com \\' ;\\n\\' atbarlow @ mail . smu . edu \\' ; \\' arnonvic @ aol . com \\' ;\\n\\' john _ laurabarr @ email . msn . com \\' ; \\' jillmbarrow @ hotmail . com \\' ;\\n\\' b - barton @ ti . com \\' ; \\' tbates @ why . net \\' ; \\' normabautista @ worldnet . att . net \\' ;\\n\\' baweja @ aol . com \\' ; \\' gbaxley @ nt . com \\' ; \\' dabayers @ juno . com \\' ;\\n\\' jbeard @ halff . com \\' ; \\' bearden . e @ grainger . com \\' ; \\' tbeaslel @ tuelectric . com \\' ;\\n\\' kayebeatty @ aol . com \\' ; \\' triciabeaudreau @ hotmail . com \\' ;\\n\\' abeckley @ executrain - dal . com \\' ; \\' scott . r . bellamy @ marshmc . com \\' ;\\n\\' chiaggie @ aol . com \\' ; \\' dbenefield @ merit . com \\' ; \\' bryan @ dalmac . com \\' ;\\n\\' bennie @ flash . net \\' ; \\' bergerd @ earthlink . net \\' ; \\' ted . e . bernard @ ac . com \\' ;\\n\\' sberry @ nortel . com \\' ; \\' jody . bingham @ ps . net \\' ; \\' bobird @ att . com \\' ;\\n\\' keithbird @ yahoo . com \\' ; \\' mbish @ nortel . com \\' ; \\' dawn . bitar @ ps . net \\' ;\\n\\' bittners @ swbell . net \\' ; \\' akbjerke @ postoffice . swbell . net \\' ;\\n\\' michael . blahitka @ intervoice - brite . com \\' ; \\' blairsl @ juno . com \\' ;\\n\\' bnlblake @ flash . net \\' ; \\' gbock 2 @ excite . com \\' ; \\' bobb 761 @ worldnet . att . net \\' ;\\n\\' jbond @ genuity . com \\' ; \\' bonsai 2 @ flash . net \\' ; \\' bonerhk @ earthlink . net \\' ;\\n\\' warrenlb @ aol . com \\' ; \\' dbb @ sa - inc . com \\' ; \\' lynnbottlinger @ hotmail . com \\' ;\\n\\' dkboughton @ home . com \\' ; \\' mbouma @ pgbpike . com \\' ; \\' bowden _ rap @ msn . com \\' ;\\n\\' jfbowen @ swbell . net \\' ; \\' cbowersl @ airmail . net \\' ; \\' scott . bowers @ eds . com \\' ;\\n\\' mbag 92 @ aol . com \\' ; \\' lorna @ . com \\' ;\\n\\' sheryl . bradley @ eds . com \\' ; \\' andybradshaw @ home . com \\' ; \\' bramlett @ home . com \\' ;\\n\\' mwbranch @ aol . com \\' ; \\' tbrandish @ bigfoot . com \\' ; \\' kbrannon @ flash . net \\' ;\\n\\' bebe - tx @ mindspring . com \\' ; \\' devere @ flash . net \\' ; \\' lgbrennan @ earthlink . net \\' ;\\n\\' nicole @ dalmac . com \\' ; \\' tmbreeze @ gte . net \\' ; \\' gwb 2 @ flash . net \\' ;\\n\\' john @ smithsummers . com \\' ; \\' bmbrinkl @ aol . com \\' ; \\' nateb 7899 @ aol . com \\' ;\\n\\' melissabrooks @ mindspring . com \\' ; \\' rhbrooks @ vartec . net \\' ;\\n\\' bbrooks @ sbair . com \\' ; \\' dbrosey @ airmail . net \\' ; \\' bbrown @ micron . com \\' ;\\n\\' klbo 2 @ cs . com \\' ; \\' erich . browne @ central . sun . com \\' ; \\' deniseb @ ticnet . com \\' ;\\n\\' jbrozovi @ usa . alcatel . com \\' ; \\' bruckm @ airmail . net \\' ;\\n\\' bbruton @ scan - direct . com \\' ; \\' david . a . bryant @ bigfoot . com \\' ;\\n\\' ccb @ nortelnetworks . com \\' ; \\' jnkbull @ netzero . com \\' ; \\' burchta 330 @ aol . com \\' ;\\n\\' drburdenjr @ aol . com \\' ; \\' jburnett @ foxsports . net \\' ; \\' haleburr @ aol . com \\' ;\\n\\' burrow @ nortel . ca \\' ; \\' rbl 419 @ aol . com \\' ; \\' mikebusch @ mail . com \\' ;\\n\\' cbyrum @ goodmanfamily . com \\' ; \\' calkfamf @ home . com \\' ;\\n\\' kcameron @ yahoo - inc . com \\' ; \\' jsmiley @ pisd . edu \\' ; \\' jajasoup @ aol . com \\' ;\\n\\' laurie . canning @ ericsson . com \\' ; \\' jjcantwell @ worldnet . att . net \\' ;\\n\\' djcarr @ texas . net \\' ; \\' richardjcarroll @ yahoo . com \\' ; \\' drviv @ yahoo . com \\' ;\\n\\' rob @ startech . org \\' ; \\' tcarson 98 @ yahoo . com \\' ; \\' brandacarter @ microlabs . com \\' ;\\n\\' lee _ carter @ seha . com \\' ; \\' dcarter 768 @ aol . com \\' ; carter , rhonda ;\\n\\' todd . carter @ fnc . fujitsu . com \\' ; \\' cwc 68 @ swbell . net \\' ; \\' jcash @ firstam . com \\' ;\\n\\' tcastellanos @ usa . net \\' ; \\' wcaudi @ concentric . net \\' ;\\n\\' cavanaug @ gustafson . com \\' ; \\' cschamberlin @ mindspring . com \\' ;\\n\\' ebeth @ airmail . net \\' ; \\' cookie _ chambers @ pagenet . com \\' ;\\n\\' jchamp 5626 @ aol . com \\' ; \\' sherriel @ flash . net \\' ; \\' smchamp @ dhc . net \\' ;\\n\\' svchandl @ garlandisd . net \\' ; \\' fectac @ aol . com \\' ; \\' chris . chastain @ ey . com \\' ;\\n\\' ccchatham @ aol . com \\' ; \\' kevin . chilcoat @ fritolay . com \\' ; \\' mattc @ dallas . net \\' ;\\n\\' jchoc @ msn . com \\' ; \\' shannon @ thechristianfamily . com \\' ;\\n\\' christian @ medicine . tamu . edu \\' ; \\' jcipolla @ hotmail . com \\' ; \\' dclark @ dhc . net \\' ;\\n\\' sclark @ dhc . net \\' ; \\' mclary @ elux . com \\' ; \\' brad @ bigl 2 sports . com \\' ;\\n\\' clemmons @ home . com \\' ; \\' beth 2047 @ aol . com \\' ; \\' acoble @ cisco . com \\' ;\\n\\' jjcoburn @ aol . com \\' ; \\' dbclaw @ hotmail . com \\' ; \\' matt _ cole @ yahoo . com \\' ;\\n\\' cac 75442 @ aol . com \\' ; \\' jcoll 75442 @ aol . com \\' ; \\' jorubycol @ aol . com \\' ;\\n\\' collins 587 @ hotmail . com \\' ; \\' condoaggie @ aol . com \\' ; \\' swcbox @ aol . com \\' ;\\n\\' crcandmac @ aol . com \\' ; \\' crcook @ gte . net \\' ; \\' martha _ cook @ publicis - usa . com \\' ;\\n\\' mustrdsd @ flash . net \\' ; \\' acooper 401 @ aol . com \\' ; \\' jcooper 95 @ yahoo . com \\' ;\\n\\' karen . m . cope @ dal . frb . org \\' ; \\' kellyandamy @ sprintmail . com \\' ;\\n\\' vc 4445 @ earthlink . com \\' ; \\' brendyc @ aol . com \\' ; \\' kdcornell @ compuserve . com \\' ;\\n\\' sc 93 @ hotmail . com \\' ; \\' bcorrell @ aol . com \\' ; \\' mcortino @ swbell . net \\' ;\\n\\' cowan 95 @ aol . com \\' ; \\' coxl 997 @ yahoo . com \\' ; \\' monarch @ usa . net \\' ;\\n\\' jason _ cox @ hotmail . com \\' ; \\' lacoyne @ flashcom . net \\' ; \\' garycl 2345 @ aol . com \\' ;\\n\\' julesag 95 @ flash . net \\' ; \\' crawfordsl @ cdm . com \\' ; \\' phantom 495 @ aol . com \\' ;\\n\\' ccriswel @ pisd . edu \\' ; \\' sec @ inetinc . com \\' ; \\' holly . a . cromack @ ac . com \\' ;\\n\\' kcudlipp @ arimail . net \\' ; \\' mrculp @ home . com \\' ; \\' cathy . cupps @ eds . com \\' ;\\n\\' curranc @ diamtech . com \\' ; \\' andyc @ gwmail . plano . gov \\' ;\\n\\' lindsay _ daigle @ yahoo . com \\' ; \\' ag 93 whoop @ hotmail . com \\' ;\\n\\' dtddtd 444 @ aol . com \\' ; \\' edaniel @ flash . net \\' ; \\' tamidarby @ home . com \\' ;\\n\\' cagladan @ usa . net \\' ; \\' smitadas @ ix . netcom . com \\' ; \\' cgwd 94 @ aol . com \\' ;\\n\\' kay . daugherty 3 @ gte . net \\' ; \\' bob _ daughrity @ cabp . com \\' ;\\n\\' aggiel 984 @ juno . com \\' ; \\' jdd . rad @ gte . net \\' ; \\' riverl @ flash . net \\' ;\\n\\' rogercdavis @ home . com \\' ; \\' stefaniedavis @ yahoo . com \\' ; \\' bamadavis @ aol . com \\' ;\\n\\' dawsonsix @ aol . com \\' ; \\' heather @ icsi . net \\' ; \\' stephanie _ s _ day @ compusa . com \\' ;\\n\\' cdelarios @ home . com \\' ; \\' cdeangulo @ msn . com \\' ; \\' ldeardurff @ mckinneyisd . net \\' ;\\n\\' mdeardurff 62 @ msn . com \\' ; \\' victor . de . hoyos @ fritolay . com \\' ;\\n\\' mrichmnd @ ix . netcom . com \\' ; \\' kelly 95 ag @ aol . com \\' ; \\' ivan 53 @ aol . com \\' ;\\n\\' bdempsey @ dnaent . com \\' ; \\' macdeth @ swbell . net \\' ; \\' allandl @ airmail . net \\' ;\\n\\' deweesw @ ttc . com \\' ; \\' tgd @ ffhm . com \\' ; \\' to _ ronda @ airmail . net \\' ;\\n\\' jmditrapani @ nextlink . com \\' ; \\' ledlugos @ aol . com \\' ; \\' dlugosch @ home . com \\' ;\\n\\' melvausa @ netscape . net \\' ; \\' aol 93775 @ dlemail . itg . ti . com \\' ;\\n\\' chas 41 @ airmail . net \\' ; \\' mdorsett @ uni - bell . org \\' ;\\n\\' m - mdouglas @ worldnet . att . net \\' ; \\' dovers @ sprintmail . com \\' ;\\n\\' lorip @ rsn . hp . com \\' ; \\' michelle . drawert @ gte . net \\' ; \\' tisdalel @ flash . net \\' ;\\n\\' sdrotma @ pisd . edu \\' ; \\' ndsouza @ unt . edu \\' ; \\' gary . dubois @ pizzahut . com \\' ;\\n\\' madudko @ aol . com \\' ; \\' fduewall @ wmcobb . com \\' ; \\' jduffy @ cisco . com \\' ;\\n\\' dduffy @ mis - world . com \\' ; \\' blakey @ flash . net \\' ; \\' greg _ dupree @ bigfoot . com \\' ;\\n\\' michael . duran @ ps . net \\' ; \\' g - durham @ ti . coin \\' ; \\' crma @ flash . net \\' ;\\n\\' travisdye @ home . com \\' ; \\' earnshaw @ flash . net \\' ; \\' mechols @ fastlane . net \\' ;\\n\\' jason . eggl @ indsys . ge . com \\' ; \\' reicher @ tell . net \\' ; \\' eiland @ ti . com \\' ;\\n\\' tome @ gwmail . plano . gov \\' ; \\' s _ elliott @ hotmail . com \\' ; \\' lellis @ ch 2 m . com \\' ;\\n\\' tedcarles @ earthlink . net \\' ; \\' stephen . elmendorf @ teradyne . com \\' ;\\n\\' bembrey @ ccgmail . com \\' ; \\' rempey @ waymark . net \\' ; \\' mengels @ airmail . net \\' ;\\n\\' mentrop @ yahoo . com \\' ; \\' jepps @ intecom . com \\' ; \\' donerb @ home . com \\' ;\\n\\' lucy _ vsi @ ix . netcom . com \\' ; \\' mike @ estesfinancial . com \\' ; \\' setch @ onebox . com \\' ;\\n\\' kathyeudy @ yahoo . com \\' ; \\' pevers @ home . com \\' ; \\' kewing @ airmail . net \\' ;\\n\\' deon . b . fair @ ac . com \\' ; \\' lisalynn 98 @ hotmail . com \\' ; \\' drjuiceplus @ home . com \\' ;\\n\\' sfaseler @ lg . com \\' ; \\' rfeldman @ ascend . com \\' ; \\' j . felkner @ worldnet . att . net \\' ;\\n\\' jferguso @ mony . com \\' ; \\' roger . ferguson @ fluor . com \\' ; \\' jtferrarol @ home . com \\' ;\\n\\' tfiedler @ flash . net \\' ; \\' ififfick @ hharchitects . com \\' ;\\n\\' davidfinley 82 @ yahoo . com \\' ; \\' duke . fisher @ wcom . com \\' ;\\n\\' j _ fishero @ yahoo . com \\' ; \\' dfitzgerald @ mesquiteisd . org \\' ; \\' lpfitz @ wt . net \\' ;\\n\\' 102372 . 2423 @ compuserve . com \\' ; \\' fleck @ concentric . net \\' ;\\n\\' jannet @ dallas . net \\' ; \\' fleitman @ msn . com \\' ; \\' samf @ dallas . net \\' ;\\n\\' rjflorio @ worldnet . att . net \\' ; \\' gulfview @ gateway . net \\' ;\\n\\' d - forbes @ rtis . ray . com \\' ; \\' bgfort @ earthlink . net \\' ; \\' clfoster @ airmail . net \\' ;\\n\\' r . foster @ prelude . com \\' ; \\' gfoyt @ hdrinc . com \\' ; \\' sfrancis @ everdream . com \\' ;\\n\\' halgodal @ flash . net \\' ; \\' hedgehogracing @ msn . com \\' ;\\n\\' steve . french @ aggies . org \\' ; \\' jfreytag @ airmail . net \\' ; \\' blakef @ msn . com \\' ;\\n\\' michael . froman @ octel . com \\' ; \\' afruhling @ metasolv . com \\' ;\\n\\' fuentes @ noval . net \\' ; \\' hiroko @ rsn . hp . com \\' ; \\' fulkfamily @ home . com \\' ;\\n\\' ron . fuqua @ usa . alcatel . com \\' ; \\' debra . galarde @ eds . com \\' ;\\n\\' txhoss @ ix . netcom . com \\' ; \\' jared . galloway @ fnc . fujitsu . com \\' ;\\n\\' aubree . garrett @ fnc . fujitsu . com \\' ; \\' toniandmikeg @ home . com \\' ;\\n\\' cwgary @ ont . com \\' ; \\' 2 ags @ flash . net \\' ; \\' sgaster @ kpmg . com \\' ;\\n\\' zgoner @ airmail . net \\' ; \\' dgedeon @ vectrix . com \\' ;\\n\\' tara . gedeon @ brannforbes . com \\' ; \\' jcjones @ rsn . hp . com \\' ;\\n\\' tageo @ mindspring . com \\' ; \\' tgeorge @ flash . net \\' ; \\' teresagill @ email . com \\' ;\\n\\' rglover @ halff . com \\' ; \\' dfglynnl @ msn . com \\' ; \\' mgolaboff @ eqrworld . com \\' ;\\n\\' judie _ good @ yahoo . com \\' ; \\' gorski @ aggies . com \\' ; \\' algough @ yahoo . com \\' ;\\n\\' neilgould @ usa . net \\' ; \\' sallsgraham @ hotmail . com \\' ; \\' pgranier @ portal . com \\' ;\\n\\' begrant @ flash . net \\' ; \\' rgrantham @ worldnet . att . net \\' ; \\' tgravett @ wans . net \\' ;\\n\\' chris _ greer @ hp . com \\' ; \\' hgreer @ alldata . net \\' ; \\' chrisg @ micrografx . com \\' ;\\n\\' donindfw @ ix . netcom . com \\' ; \\' dan @ productcentre . com \\' ;\\n\\' jgroce @ lasercomm - inc . com \\' ; \\' juggernaut @ connect . net \\' ;\\n\\' katie _ gruebel @ hotmail . com \\' ; \\' amynurse @ hotmail . com \\' ; \\' bag 2 @ airmail . net \\' ;\\n\\' kenneth _ guest @ hp . com \\' ; \\' jgump @ mail . arco . com \\' ; \\' wylie . gunter @ eds . com \\' ;\\n\\' tim . gutschlag @ fnc . fujitsu . com \\' ; \\' guzmans @ home . com \\' ;\\n\\' cherihaby @ home . com \\' ; \\' julie _ halloran @ yahoo . com \\' ;\\n\\' chaltom @ conedrive . textron . com \\' ; \\' hamelb 21 @ ont . com \\' ;\\n\\' talana 99 @ hotmail . com \\' ; \\' greg . hanks @ hanksbrokerage . com \\' ;\\n\\' rharbin @ aris . com \\' ; \\' carrie . l . hardy @ fritolay . com \\' ;\\n\\' scott _ harkins @ msn . com \\' ; \\' jharper @ flash . net \\' ;\\n\\' jharrington @ sagetelecom . net \\' ; \\' roynteri @ mail . com \\' ;\\n\\' steveharrod @ msn . com \\' ; \\' hartfield @ ti . com \\' ;\\n\\' terry . k . hartzog @ us . arthurandersen . com \\' ; \\' kharvey @ pcrrent . com \\' ;\\n\\' marji . j . harvey @ mail . sprint . com \\' ; \\' b - haskettl @ ti . com \\' ;\\n\\' kelly _ hayes @ harwoodmarketing . com \\' ; \\' mhaye @ amkor . com \\' ;\\n\\' alanh @ alliancearch . com \\' ; \\' mheath @ nextlink . com \\' ; \\' mheffner @ home . com \\' ;\\n\\' jets @ ti . com \\' ; \\' glenn @ hc - cpa . com \\' ; \\' toddmel @ texoma . net \\' ;\\n\\' kimberly . henderson @ ey . com \\' ; \\' dah 85 @ mindspring . com \\' ;\\n\\' shenley @ flash . net \\' ; \\' rahennessy @ earthlink . com \\' ; \\' jherblin @ onramp . net \\' ;\\n\\' carynlynn @ msn . com \\' ; \\' nascar @ mikeh . net \\' ; \\' travis @ herringangus . com \\' ;\\n\\' anandted @ msn . com \\' ; \\' dherron @ pisd . edu \\' ; \\' mitchherzog @ yahoo . com \\' ;\\n\\' sc _ hester @ hotmail . com \\' ; \\' jheye @ psp . com \\' ; \\' mhickox @ fiskrob . com \\' ;\\n\\' lori @ efficient . com \\' ; \\' phinojos @ micro . honeywell . com \\' ;\\n\\' d . hirt @ dialogic . com \\' ; \\' danetami @ airmail . net \\' ; \\' randyhobert @ msn . com \\' ;\\n\\' blakekimhodge @ yahoo . com \\' ; \\' will @ . com \\' ;\\n\\' choldrid @ airmail . net \\' ; \\' jnh @ ti . com \\' ; \\' tholman @ gte . net \\' ;\\n\\' sholmeso 0 @ msn . com \\' ; \\' jholstea @ jpi . com \\' ; \\' sholton @ ticnet . com \\' ;\\n\\' holyoak @ flash . net \\' ; \\' phorton @ usa . alcatel . com \\' ; \\' scott @ horton . net \\' ;\\n\\' thowes @ mail . arco . com \\' ; \\' chad @ tice . com \\' ; \\' hugghins @ gte . net \\' ;\\n\\' jhummel @ memc . com \\' ; \\' markhunt @ bigfoot . com \\' ; \\' thehurd @ hex . net \\' ;\\n\\' b - hutcheson @ ti . com \\' ; \\' j . r . iacoponelli @ mciworld . com \\' ;\\n\\' billirish @ hotmail . com \\' ; \\' czjkjj @ msn . com \\' ;\\n\\' pat . jackson @ fnc . fujitsu . com \\' ; \\' sjackson @ opsos . net \\' ; \\' ararat @ flash . net \\' ;\\n\\' stevejames @ home . com \\' ; \\' chellejanow @ hotmail . com \\' ;\\n\\' asmith _ scuba @ yahoo . com \\' ; \\' bjehu @ yahoo . com \\' ;\\n\\' ashlea _ jenkins @ hotmail . com \\' ; \\' cjenson @ flash . net \\' ; \\' mljideas @ home . com \\' ;\\n\\' slj @ waymark . net \\' ; \\' rjolly _ 1 @ yahoo . com \\' ; \\' bsjones 50 @ hotmail . com \\' ;\\n\\' craig - charlottejones @ worldnet . att . net \\' ; \\' danny @ lanyx . com \\' ;\\n\\' mattjones @ ccgmail . com \\' ; \\' wjones @ clearsail . net \\' ;\\n\\' sjordan 3 @ compuserve . com \\' ; \\' ryanjust @ hotmail . com \\' ;\\n\\' chip @ cscfinancial . com \\' ; \\' lkcbsl @ home . com \\' ; \\' makall 5 @ flash . net \\' ;\\n\\' twk @ msg . ti . com \\' ; \\' mkaplan @ augustmail . com \\' ; \\' ckarlik @ swbell . net \\' ;\\n\\' shafia 30 @ hotmail . com \\' ; \\' mlkawas @ hotmail . com \\' ; \\' chipk @ nortel . com \\' ;\\n\\' markkelley _ wurzburg @ yahoo . com \\' ; \\' mkelly 2575 @ juno . com \\' ;\\n\\' danken 8765 @ home . com \\' ; \\' wolfcamp @ hotmail . com \\' ; \\' mjkereluk @ msn . com \\' ;\\n\\' ckerley @ apclink . com \\' ; \\' lkerr @ evl . net \\' ; \\' r . kessel @ ssss . com \\' ;\\n\\' dkessler @ waymark . net \\' ; \\' mkessner @ hotmail . com \\' ; \\' troykey @ peoplepc . com \\' ;\\n\\' akilpatrick @ kurion . com \\' ; \\' kings 2 @ flash . net \\' ; \\' kingsr @ home . com \\' ;\\n\\' jkingston @ ti . com \\' ; \\' skirchner @ worldnet . att . net \\' ;\\n\\' chuck @ digitalpilot . com \\' ; \\' michael . kleppe @ ericsson . com \\' ;\\n\\' jklouda @ flash . net \\' ; \\' dennis _ kniery @ hp . com \\' ; \\' sschulz @ mail . smu . edu \\' ;\\n\\' lakohler @ raytheon . com \\' ; \\' james . kornegay @ eds . com \\' ; \\' knrkrause @ aol . com \\' ;\\n\\' kckuddes @ altavista . com \\' ; \\' sakula @ flash . net \\' ; \\' skutchin @ leaelliott . com \\' ;\\n\\' bladdusaw @ ti . com \\' ; \\' 103745 . 342 @ compuserve . com \\' ; \\' mellake @ yahoo . com \\' ;\\n\\' paul . lake @ ps . net \\' ; \\' slakie @ texas . net \\' ; \\' jplane @ gte . net \\' ;\\n\\' mlangloys @ aol . com \\' ; \\' rlanicek @ home . com \\' ;\\n\\' barrett . lankford @ painewebber . com \\' ; \\' mlara @ pisd . edu \\' ; \\' gsl @ msn . com \\' ;\\n\\' mikepl @ bnr . ca \\' ; \\' klavergne @ earthling . net \\' ;\\n\\' winner @ sportsstandings . com \\' ; \\' mlecrone @ aol . com \\' ; \\' banglee @ ti . com \\' ;\\n\\' coyote 97 @ swbell . net \\' ; \\' robertlee @ poboxes . com \\' ;\\n\\' j . lemmons @ worldnet . att . net \\' ; \\' lesliel @ airmail . net \\' ; \\' lerich @ flash . net \\' ;\\n\\' rlessmann @ home . com \\' ; \\' elethe @ gte . net \\' ; \\' mikelew @ nortelnetworks . com \\' ;\\n\\' lewisr 691 @ home . com \\' ; \\' laliefer @ aol . com \\' ; \\' hkl 5320 @ dcccd . edu \\' ;\\n\\' gmlz @ msg . ti . com \\' ; \\' blightsey @ systemdesk . com \\' ;\\n\\' 74464 . 2612 @ compuserve . com \\' ; \\' jlind 2402 @ aol . com \\' ;\\n\\' dlindstrom @ icidallas . com \\' ; \\' glinebaugh @ prodigy . net \\' ;\\n\\' eflinhoff @ aol . com \\' ; \\' the . lisewskys @ prodigy . net \\' ;\\n\\' mlish @ kennedywilson . com \\' ; \\' heidident @ aol . com \\' ; \\' katie 96 ag @ yahoo . com \\' ;\\n\\' john _ london @ acs - inc . com \\' ; \\' ro 219 @ aol . com \\' ; \\' balott @ aol . com \\' ;\\n\\' wadel @ swbell . net \\' ; \\' tglovell @ onramp . net \\' ; \\' tlovell @ ticnet . com \\' ;\\n\\' rmlowry 4 @ yahoo . com \\' ; \\' mploya @ ti . com \\' ; \\' aggie 97 @ hotmail . com \\' ;\\n\\' jlugo @ rhaaia . com \\' ; \\' klukshin @ kpmg . com \\' ; \\' dluna @ raltron . com \\' ;\\n\\' ped @ nortel . ca \\' ; \\' clyons @ metasolv . com \\' ; \\' paulandkarin @ msn . com \\' ;\\n\\' rlyttons @ aol . com \\' ; \\' emaas 94 @ yahoo . com \\' ; \\' spam . bait @ worldnet . att . net \\' ;\\n\\' neardal @ airmail . net \\' ; \\' mmachesney @ aol . com \\' ; \\' netaces @ airmail . net \\' ;\\n\\' richard . maddox @ mci . com \\' ; \\' betty . magee @ homesbybetty . com \\' ;\\n\\' jmagrude @ jpi . com \\' ; \\' pxm @ msg . ti . com \\' ; \\' tracemajor @ hotmail . com \\' ;\\n\\' mmalakoff @ aol . com \\' ; \\' judy . j . manning @ fritolay . com \\' ;\\n\\' norris @ mantooth . com \\' ; \\' marchand _ darryl @ msn . com \\' ; \\' nrm 2000 @ hotmail . com \\' ;\\n\\' mike . marino @ usoncology . com \\' ; \\' branonmarsh @ hotmail . com \\' ;\\n\\' rmartin @ coserv . net \\' ; \\' dmason @ highpointtravel . com \\' ; \\' seanab @ gte . net \\' ;\\n\\' debm 394 @ aol . com \\' ; \\' mathews - amy @ yahoo . com \\' ; \\' ags 84 @ aol . com \\' ;\\n\\' equestlnm @ excite . com \\' ; \\' mjmattson @ home . com \\' ; \\' bmatulal @ airmail . net \\' ;\\n\\' ilvjesus @ flash . net \\' ; \\' kmay 4001 @ aol . com \\' ; \\' cmayber @ pisd . edu \\' ;\\n\\' jasonmayes @ earthlink . net \\' ; \\' jimbobq 88 @ aol . com \\' ; \\' mccaff @ anet - dfw . com \\' ;\\n\\' bmccainl 62 @ aol . com \\' ; \\' almac @ wans . net \\' ; \\' mike . mcdonald @ ey . com \\' ;\\n\\' dhm @ mcdowelllabel . com \\' ; \\' tmcevoy @ wordware . com \\' ;\\n\\' trisheeey @ hotmail . com \\' ; \\' bmcgrego @ metrogroup . com \\' ; \\' rmckee @ ti . com \\' ;\\n\\' jim _ mcmahan @ ctxmort . com \\' ; \\' bmcmillan @ motion - dynamics . com \\' ;\\n\\' pmeggs @ aol . com \\' ; \\' mendezn @ nortelnetworks . com \\' ; \\' jenabug @ flash . net \\' ;\\n\\' m _ mentzer @ hotmail . com \\' ; \\' sandymergen @ hotmail . com \\' ;\\n\\' smerrill @ flash . net \\' ; \\' tiffany _ merrill @ yahoo . com \\' ;\\n\\' jmersiovsky @ metasolv . com \\' ; \\' emetting @ hntb . com \\' ;\\n\\' sue _ middleton @ juno . com \\' ; \\' jbm 326 @ aol . com \\' ; \\' barbmiller @ qualtx . com \\' ;\\n\\' michael _ c . _ miller @ ac . com \\' ; \\' miller @ dallas . net \\' ;\\n\\' hdjemills @ earthlink . net \\' ; \\' jmills @ dallas . net \\' ;\\n\\' dminaldi @ contactdallas . com \\' ; \\' rminney @ entercon . com \\' ; \\' mlm @ ti . com \\' ;\\n\\' jenmizar @ yahoo . com \\' ; \\' moonaggie @ cs . com \\' ; \\' jason @ aggies . org \\' ;\\n\\' pipkins @ gateway . net \\' ; \\' danny . morris @ mciworld . com \\' ;\\n\\' jcipolla @ hotmail . com \\' ; \\' cmorse @ waymark . net \\' ; \\' aggietx @ swbell . net \\' ;\\n\\' m _ muecke @ hotmail . com \\' ; \\' jeff . mundt @ wcom . com \\' ; \\' amurphy 96 @ hotmail . com \\' ;\\n\\' jmurphy 4 @ hotmail . com \\' ; \\' dannym @ churchrealty . com \\' ; \\' cmyers @ mycon . com \\' ;\\n\\' greg @ lsil . com \\' ; \\' jnlzaza @ earthlink . net \\' ; \\' erinsneedham @ hotmail . com \\' ;\\n\\' tpneeley @ worldnet . att . net \\' ; \\' jnelson @ source . com \\' ;\\n\\' jnerwich @ mindspring . com \\' ; \\' goonet @ hotmail . com \\' ; \\' rpnew @ aol . com \\' ;\\n\\' jeff . newton @ fritolay . com \\' ; \\' chrisgnichols @ yahoo . com \\' ;\\n\\' r . niedenfuehr @ worldnet . att . net \\' ; \\' nielsonc @ sprynet . com \\' ;\\n\\' rniesen @ ti . com \\' ; \\' jnobll @ jcpenney . com \\' ; \\' timcathy @ flash . net \\' ;\\n\\' merkicpa @ gte . net \\' ; \\' rnorris @ joefunkconstr . com \\' ; \\' aggiel @ airmail . net \\' ;\\n\\' cnorton @ brierley . com \\' ; \\' janicen @ architeriors . com \\' ;\\n\\' nnowik @ mhagroup . com \\' ; \\' toconnor @ varo . com \\' ; \\' melody . oliver @ eds . com \\' ;\\n\\' s - oliverl @ ti . com \\' ; \\' adrienneolsen @ hotmail . com \\' ; \\' roneal @ ins - inc . com \\' ;\\n\\' tfonofrio @ aol . com \\' ; \\' b - orem @ rtis . ray . com \\' ; \\' jetpilot @ sprintmail . com \\' ;\\n\\' orr @ caprock . net \\' ; \\' kwunsch @ ci . garland . tx . us \\' ; \\' jott @ rsn . hp . com \\' ;\\n\\' tamc 66 @ aol . com \\' ; \\' atm 97 @ aol . com \\' ; \\' powen 94 @ yahoo . com \\' ;\\n\\' yohanp @ netscape . net \\' ; \\' palitza @ att . net \\' ; \\' dpalmer @ pisd . edu \\' ;\\n\\' cparker @ garlandpower - light . org \\' ; \\' wanda . parker @ wjpenterprises . com \\' ;\\n\\' tamu 97 @ airmail . net \\' ; \\' jpatoskie @ home . com \\' ;\\n\\' judy . peacock @ worldnet . att . net \\' ; \\' david . a . pearl @ travelers . com \\' ;\\n\\' katie @ lifelinehomehealth . com \\' ; \\' ppedison @ aol . com \\' ;\\n\\' lpeichel @ nortelnetworks . com \\' ; \\' mpell @ uswebcks . com \\' ; \\' dannyp 83 @ gte . net \\' ;\\n\\' david _ perry @ 3 com . com \\' ; \\' picardl 999 @ hotmail . com \\' ;\\n\\' friscoattorney @ aol . com \\' ; \\' dphillips @ pfsoutsourcing . com \\' ;\\n\\' cpierce @ lee - eng . com \\' ; \\' kurtpifer @ hotmail . com \\' ;\\n\\' stephen _ pilcher @ yahoo . com \\' ; \\' wpindar 3 @ email . msn . com \\' ;\\n\\' pingenot @ gte . net \\' ; \\' pinzon @ nortel . com \\' ; \\' mwpiper @ onramp . net \\' ;\\n\\' dpitts @ acm . org \\' ; \\' ppjp @ airmail . net \\' ; \\' mplumer @ synhrgy . com \\' ;\\n\\' randy @ pogueinc . com \\' ; \\' jerrypoin @ home . com \\' ;\\n\\' tony . pollacia @ fritolay . com \\' ; \\' tammypon @ hmhs . com \\' ;\\n\\' kent @ webdelight . net \\' ; \\' cporter @ nortelnetworks . com \\' ;\\n\\' sporter @ texas . net \\' ; \\' porterfields @ prodigy . net \\' ; \\' texas _ anm @ yahoo . com \\' ;\\n\\' poteet @ dmans . com \\' ; \\' billpowello 4 @ home . com \\' ; \\' ammy 5 @ aol . com \\' ;\\n\\' joshp @ thisco . com \\' ; \\' marykpowl @ syscodallas . com \\' ;\\n\\' prater 2 @ earthlink . net \\' ; \\' dprattl @ home . com \\' ; \\' d - presley @ tamu . edu \\' ;\\n\\' musicgrl 68 @ aol . com \\' ; \\' pauld @ homemail . com \\' ; \\' kpruitt @ gasequipment . com \\' ;\\n\\' pprzada @ aol . com \\' ; \\' beckyp @ bmisystems . com \\' ; \\' impurdy @ 5 pillars . com \\' ;\\n\\' mrpyatt @ airmail . net \\' ; \\' jlqjr @ gte . net \\' ; \\' scradford @ aol . com \\' ;\\n\\' melissa _ ragan @ richards . com \\' ; \\' eric . ragle @ cisco - eagle . com \\' ;\\n\\' maheswaran _ rajasekharan @ i 2 . com \\' ; \\' kikiaggie @ webcombo . net \\' ;\\n\\' mramsey @ unitedad . com \\' ; \\' michael . rasmussen @ ps . net \\' ; \\' j - read @ tamu . edu \\' ;\\n\\' jlreadpa @ aol . com \\' ; \\' reasor @ rsn . hp . com \\' ; \\' reck @ gateway . net \\' ;\\n\\' cindy . redman @ eds . com \\' ; \\' dreed @ is . arco . com \\' ; \\' reedl 00 @ msn . com \\' ;\\n\\' tdreed @ airmail . net \\' ; \\' solutionhr @ aol . com \\' ; \\' jreeves @ agave . com \\' ;\\n\\' cremmele @ aol . com \\' ; \\' rrestivo @ eversoft . com \\' ; \\' erice 8 @ aol . com \\' ;\\n\\' sanrice @ aol . com \\' ; \\' ct _ richard @ hotmail . com \\' ; \\' mrichard @ arcmail . com \\' ;\\n\\' krichards @ acsdallas . com \\' ; \\' paula . g . richmond @ fritolay . com \\' ;\\n\\' jrickman @ hppclaw . com \\' ; \\' tlrigby @ home . com \\' ; \\' kcriggs @ yahoo . com \\' ;\\n\\' mrightm @ mail . arco . com \\' ; \\' jriha @ businessobjects . com \\' ; \\' rrinker @ wtd . net \\' ;\\n\\' rippees @ swbell . net \\' ; \\' rippel @ utdallas . edu \\' ; \\' writchie @ ci . irving . tx . us \\' ;\\n\\' bradyroberts @ hotmail . com \\' ; \\' laserbaker @ worldnet . att . net \\' ;\\n\\' frobert @ aol . com \\' ; \\' krisaggi @ aol . com \\' ; \\' ker @ ti . com \\' ; \\' roco @ nortel . com \\' ;\\n\\' kjroeker @ airmail . net \\' ; \\' jimroseo 3 @ home . com \\' ;\\n\\' suzanne _ ross @ campbellsoup . com \\' ; \\' jim _ rountree @ logiclsales . com \\' ;\\n\\' eddie . rueffer @ mci . com \\' ; \\' srupprecht @ chubb . com \\' ; \\' jennyr @ wtd . net \\' ;\\n\\' kimed @ hotmail . com \\' ; \\' jryan @ uswebcks . com \\' ; \\' emsalazar 25 @ hotmail . com \\' ;\\n\\' k - salazarl @ ti . com \\' ; \\' jlsales @ waymark . net \\' ;\\n\\' msanchez @ mckinneytexas . org \\' ; \\' steven . sarkissian @ painwebber . com \\' ;\\n\\' danna @ nortelnetworks . com \\' ; \\' tsawyers @ aol . com \\' ; \\' scheumack @ juno . com \\' ;\\n\\' dschmidt @ camozzi - usa . com \\' ; \\' pschmidt @ connect . net \\' ; \\' tammyms @ yahoo . com \\' ;\\n\\' nathan . schockmel @ usa . alcatel . com \\' ; \\' kschoenhals @ metasolv . com \\' ;\\n\\' schuelerjs @ aol . com \\' ; \\' diana _ p _ seal @ email . mobil . com \\' ;\\n\\' pkemper @ 3 dfx . com \\' ; \\' sherri . seeger @ wylieisd . net \\' ; \\' maseeley @ avaya . com \\' ;\\n\\' tseely @ attglobal . net \\' ; \\' rshackelford @ home . com \\' ;\\n\\' shannons @ websurfer . net \\' ; \\' jtshannon @ ticnet . com \\' ;\\n\\' loren . sharkey @ brinker . com \\' ; \\' rehan @ computer . org \\' ; \\' gryffynn @ aol . com \\' ;\\n\\' xosloren @ ti . com \\' ; \\' roger . shellenberger @ exscol . exch . eds . com \\' ;\\n\\' kshelton @ amfm . com \\' ; \\' samleannshields @ aol . com \\' ; \\' sbshin @ evl . net \\' ;\\n\\' alsikes @ pbsj . com \\' ; \\' glenn _ silva @ gmaccm . com \\' ;\\n\\' frank . silva @ industrialrisk . com \\' ; \\' simmonds @ marykay . com \\' ;\\n\\' atmrick @ aol . com \\' ; \\' isivin @ aol . com \\' ; \\' rskaggs @ hksinc . com \\' ;\\n\\' bskalberg @ aol . com \\' ; \\' todd @ nkn . net \\' ; \\' dsmart @ dttus . com \\' ;\\n\\' amy . l . smith @ eds . com \\' ; \\' egsmith @ home . com \\' ;\\n\\' john _ charles _ smith @ compuserve . com \\' ; \\' john - h - smith @ raytheon . com \\' ;\\n\\' ksmith @ kma - rjfs . com \\' ; \\' shanda @ wans . net \\' ;\\n\\' michael . smith @ usa . alcatel . com \\' ; \\' rjsmith @ minutemaid . com \\' ;\\n\\' rsmith @ metasolv . com \\' ; \\' dick _ smith @ pagenet . com \\' ;\\n\\' agent _ maroon @ hotmail . com \\' ; \\' enviropure @ home . com \\' ; \\' unclewil @ home . com \\' ;\\n\\' jsmitherman @ cinemark . com \\' ; \\' jim _ snow @ millipore . com \\' ;\\n\\' gpsparks @ hotmail . com \\' ; \\' tspo 92891 @ aol . com \\' ; \\' dspencer @ dbssystems . com \\' ;\\n\\' lspielel @ txu . com \\' ; \\' txagl 987 @ aol . com \\' ; \\' g - stanford @ raytheon . com \\' ;\\n\\' petgeoguru @ hotmail . com \\' ; \\' jstara @ arcmail . com \\' ;\\n\\' kgstavin @ garlandisd . net \\' ; \\' tbstebbins @ aol . com \\' ; \\' jsteck @ ti . com \\' ;\\n\\' steffler @ mindspring . com \\' ; \\' gsteglich @ home . com \\' ; \\' shane @ computer . org \\' ;\\n\\' sastephen @ home . com \\' ; \\' dereks @ us . ibm . com \\' ; \\' tsteudtner @ aol . com \\' ;\\n\\' jill . stevens @ risd . org \\' ; \\' jnelwyn @ aol . com \\' ; \\' dons @ gwmail . plano . gov \\' ;\\n\\' mstewart 70 @ aol . com \\' ; \\' pstewart 86 @ hotmail . com \\' ;\\n\\' rastewartl 2 @ hotmail . com \\' ; \\' msticken @ airmail . net \\' ;\\n\\' cstockmoe @ yahoo . com \\' ; \\' k - stokes @ tamu . edu \\' ; \\' michael _ stone @ nt . com \\' ;\\n\\' mcstrietzel @ home . com \\' ; \\' staceys @ omassociates . com \\' ;\\n\\' sstroth @ glitsch . com \\' ; \\' h - r . strozewski @ worldnet . att . net \\' ;\\n\\' astryker @ swbell . net \\' ; \\' macecs @ hotmail . com \\' ; \\' smsturgeon @ kpmg . com \\' ;\\n\\' sullivan 22 @ home . com \\' ; \\' normas @ airmail . net \\' ; \\' wswanson @ cyberramp . net \\' ;\\n\\' rtank 20 @ aol . com \\' ; \\' matt _ tanner @ txu . com \\' ; \\' ftargac @ hotmail . com \\' ;\\n\\' taylorgr @ nortel . com \\' ; \\' taylorl @ airmail . net \\' ; \\' aggierob @ hotmail . com \\' ;\\n\\' teresa . taylor @ st . com \\' ; \\' ticaw @ hotmail . com \\' ; \\' wst @ flash . net \\' ;\\n\\' caceett @ hotmail . com \\' ; \\' punt 3442 @ aol . com \\' ; \\' chris . t @ prodigy . net \\' ;\\n\\' denise . thatcher @ eds . com \\' ; \\' mjthed @ earthlink . net \\' ;\\n\\' brandon . theis @ eds . com \\' ; \\' steve _ thelen @ cushwake . com \\' ;\\n\\' arthur . thomas @ ace - ina . com \\' ; \\' tthomas @ cooperinst . org \\' ;\\n\\' dthomps 2 @ pisd . edu \\' ; \\' nthompson @ swst . com \\' ; \\' psthompson @ mindspring . com \\' ;\\n\\' rthompso @ kofax . com \\' ; \\' tierney _ thompson @ winston - school . org \\' ;\\n\\' b - tinker @ ti . com \\' ; \\' tipp @ airmail . net \\' ; \\' atokarz @ usa . alcatel . com \\' ;\\n\\' bevtoney @ aol . com \\' ; \\' kstowery @ mindspring . com \\' ;\\n\\' patrick . traubert @ tripointglobal . com \\' ; \\' heidigigem 96 @ yahoo . com \\' ;\\n\\' tiffanytrox @ yahoo . com \\' ; \\' dddtruitt @ juno . com \\' ;\\n\\' tschetter @ worldnet . att . net \\' ; \\' 9 mtucker @ home . com \\' ;\\n\\' oxymomloree @ aol . com \\' ; \\' cturner @ entest . net \\' ; \\' aisdal @ aol . com \\' ;\\n\\' rachturney @ yahoo . com \\' ; \\' gulteig @ starrunner . net \\' ; \\' gutay @ airmail . net \\' ;\\n\\' hutay @ yahoo . com \\' ; \\' valls @ earthlink . net \\' ; \\' hvanpelt @ msn . net \\' ;\\n\\' dwv @ vanderburg . org \\' ; \\' timv @ cheerful . com \\' ; \\' r - cvaughn @ juno . com \\' ;\\n\\' annette . vela @ homecomings . com \\' ; \\' jvetkoetter @ pipeline . com \\' ;\\n\\' diane _ vetter @ hotmail . com \\' ; \\' vicem @ hdvest . com \\' ; \\' jennifer @ vilches . org \\' ;\\n\\' pvilches @ home . com \\' ; \\' spvill @ flash . net \\' ; \\' ssv @ attglobal . net \\' ;\\n\\' kristi . l . vitek @ fritolay . com \\' ; \\' voltin @ airmail . net \\' ; \\' wagso 0 @ yahoo . com \\' ;\\n\\' walessc @ nortelnetworks . com \\' ; \\' bwalker @ fmtinv . com \\' ;\\n\\' brian . walker @ exchange - point . com \\' ; \\' deanwalker @ computer . org \\' ;\\n\\' ken . walker @ mscsoftware . com \\' ; \\' shannon . wallace @ usa . net \\' ;\\n\\' b _ wallace @ prodigy . net \\' ; \\' wwallenl @ airmail . net \\' ; \\' mkwalle @ yahoo . com \\' ;\\n\\' twaller @ excite . com \\' ; \\' drwaller @ hotmail . com \\' ;\\n\\' maxwalters @ worldnet . att . net \\' ; \\' kwalzel @ cisco . com \\' ;\\n\\' julie . warden @ mhmr . state . tx . us \\' ; \\' warner @ ont . com \\' ; \\' watersco @ flash . net \\' ;\\n\\' julie . watkins @ eds . com \\' ; \\' apwo 397 @ juno . com \\' ; \\' patricia . watsono 2 @ ey . com \\' ;\\n\\' jwebb @ dalsemi . com \\' ; \\' jkwebb 41 @ gateway . net \\' ; \\' debbiew @ mciworld . com \\' ;\\n\\' robin - w @ juno . com \\' ; \\' sally _ welch @ excite . com \\' ;\\n\\' twelch @ nortelnetworks . com \\' ; \\' awaller @ csc . com \\' ;\\n\\' gregwemhoener @ home . com \\' ; \\' susanwempe @ hotmail . com \\' ; \\' jwest 78 @ aol . com \\' ;\\n\\' mike . west @ usa . alcatel . com \\' ; \\' joannwest @ earthlink . net \\' ;\\n\\' mweynand @ flash . net \\' ; \\' weynandken @ johndeere . com \\' ; \\' mweynand @ flash . net \\' ;\\n\\' mmw @ airmail . net \\' ; \\' ewheal @ jcpenney . com \\' ; \\' swhite @ tx . pathnet . net \\' ;\\n\\' txag 93 sw @ flash . net \\' ; \\' chris @ iex . com \\' ; \\' wiegard @ nortel . com \\' ;\\n\\' cindyw @ pobox . com \\' ; \\' jbouldin @ teleteam . com \\' ; \\' mike @ paragon - tx . com \\' ;\\n\\' rtwilkinsn @ aol . com \\' ; \\' jerriw @ arn . net \\' ; \\' joeaggie 93 @ msn . com \\' ;\\n\\' kristilw @ swbell . net \\' ; \\' a 50 @ flash . net \\' ; \\' rkwbdw 580 @ cs . com \\' ;\\n\\' kswccw @ swbell . net \\' ; \\' designpath @ sprynet . com \\' ; \\' drw 58 ag @ aol . com \\' ;\\n\\' wilsonaggies @ home . com \\' ; \\' normabautista @ worldnet . att . net \\' ;\\n\\' skisheri @ aol . com \\' ; \\' emajo . wilson @ gte . net \\' ; \\' jenkonquin @ aol . com \\' ;\\n\\' wvicw @ aol . com \\' ; \\' teresa . wood @ st . com \\' ; \\' lwood 963 @ flash . net \\' ;\\n\\' tcwoolley @ writeme . com \\' ; \\' sworsham @ supermovers . com \\' ;\\n\\' brad _ worth @ csicontrols . com \\' ; \\' wrightson . family @ gte . net \\' ;\\n\\' dwu @ tqtx . com \\' ; \\' dlwylie @ swbell . net \\' ; \\' christa . yakel @ sap - ag . de \\' ;\\n\\' yarbrough _ james @ hotmail . com \\' ; \\' suzan @ guyyork . com \\' ;\\n\\' karen _ znoj @ merck . com \\'\\nsubject : \" red , white and blue out \"\\nsubject : the osu game and aggie spirit\\nthis just in ags ! if you are going to the osu game on sept 22 , a red , white\\n& blue out is being planned , just like the maroon out games for the osu\\ngame .\\nags , what better statement can we aggies make , than to celebrate the love\\nand support for our country \\' s freedom , and our patriotic nature , than this\\nway :\\nimagine . . . the fightin \\' texas aggie band playing \" the star spangled banner , \"\\nplaying military drills as they walk around the stadium , and we celebrate\\nour love for our country , and our support for all the heroes , alive and\\ndeceased . color assignments are as follows :\\n3 rd deck : red\\n2 nd deck : white lst deck : blue\\npass the word on . . . . we have 1 1 / 2 weeks ! !\\nthe spirit of america , and the aggie spirit is still alive . god bless\\namerica , the free nation .\\npass it on .'"
            ],
            "application/vnd.google.colaboratory.intrinsic+json": {
              "type": "string"
            }
          },
          "metadata": {},
          "execution_count": 246
        }
      ]
    },
    {
      "cell_type": "markdown",
      "source": [
        "###Interesting to note that in the malitious message mos of the words are in the body of the email and there's plenty of links and HTML code, meanwhile in the regular message most of the words are email addresses there are in the \"TO:\" part of the message."
      ],
      "metadata": {
        "id": "zkzsERAlvjYb"
      }
    },
    {
      "cell_type": "markdown",
      "source": [
        "<img src=\"https://raw.githubusercontent.com/orlandojrps/spam/main/sup.jpg\">"
      ],
      "metadata": {
        "id": "pRWS_ZXO-mDQ"
      }
    },
    {
      "cell_type": "markdown",
      "source": [
        "##Naive Bayes </br> <img src=\"https://raw.githubusercontent.com/orlandojrps/spam/main/naive.jpg\">"
      ],
      "metadata": {
        "id": "v-7a-2hPT7mx"
      }
    },
    {
      "cell_type": "code",
      "source": [
        "# Cria o modelo de classificação Naive Bayes\n",
        "#model =sklearn.naive_bayes.GaussianNB()\n",
        "\n",
        "# Treina o modelo com os dados codificados\n",
        "#model.fit(X_train_dense, y_train)\n",
        "\n",
        "# Avalia o modelo em dados de teste\n",
        "#X_test_tfidf = vectorizer.transform(X_test.message)\n",
        "#X_test_dense = X_test_tfidf.toarray()\n",
        "#y_pred = model.predict(X_test_dense)\n",
        "#accuracy = (y_pred == y_test).mean()"
      ],
      "metadata": {
        "id": "Xva3MND8CXj6"
      },
      "execution_count": null,
      "outputs": []
    },
    {
      "cell_type": "markdown",
      "source": [
        "<img src=\"https://github.com/orlandojrps/spam/blob/main/matrix.png?raw=true\">"
      ],
      "metadata": {
        "id": "5qEcYTuqCeJb"
      }
    },
    {
      "cell_type": "code",
      "source": [
        "import sklearn\n",
        "from sklearn.feature_extraction.text import TfidfVectorizer\n",
        "from sklearn.naive_bayes import GaussianNB\n",
        "from sklearn.metrics import confusion_matrix, classification_report\n",
        "import pickle\n",
        "from sklearn.model_selection import cross_val_score\n",
        "# Encode the text features using the TF-IDF vectorizer\n",
        "vectorizer = TfidfVectorizer()\n",
        "X_train_tfidf = vectorizer.fit_transform(X_train.message)\n",
        "X_train_dense = X_train_tfidf.toarray()\n",
        "\n",
        "# Train the Naive Bayes classifier\n",
        "model = GaussianNB()\n",
        "model.fit(X_train_dense, y_train)\n",
        "\n",
        "# Evaluate the classifier on the test data\n",
        "X_test_tfidf = vectorizer.transform(X_test.message)\n",
        "X_test_dense = X_test_tfidf.toarray()\n",
        "y_pred = model.predict(X_test_dense)"
      ],
      "metadata": {
        "colab": {
          "base_uri": "https://localhost:8080/"
        },
        "id": "McO1NYqt_dDR",
        "outputId": "21ca6299-6049-4137-86a3-4e060b83f3ee"
      },
      "execution_count": null,
      "outputs": [
        {
          "output_type": "stream",
          "name": "stderr",
          "text": [
            "/usr/local/lib/python3.9/dist-packages/sklearn/utils/validation.py:1143: DataConversionWarning: A column-vector y was passed when a 1d array was expected. Please change the shape of y to (n_samples, ), for example using ravel().\n",
            "  y = column_or_1d(y, warn=True)\n"
          ]
        }
      ]
    },
    {
      "cell_type": "code",
      "source": [
        "# Print the confusion matrix and classification report\n",
        "conf_matrix = confusion_matrix(y_test, y_pred)\n",
        "class_report = classification_report(y_test, y_pred)\n",
        "print(\"Confusion Matrix:\")\n",
        "print(conf_matrix)\n",
        "print(\"\\nClassification Report:\")\n",
        "print(class_report)\n"
      ],
      "metadata": {
        "colab": {
          "base_uri": "https://localhost:8080/"
        },
        "id": "5gM9Gr4PGYX5",
        "outputId": "6ef222e6-c61c-4907-9215-0885907a32a9"
      },
      "execution_count": null,
      "outputs": [
        {
          "output_type": "stream",
          "name": "stdout",
          "text": [
            "Confusion Matrix:\n",
            "[[1077   25]\n",
            " [  35  415]]\n",
            "\n",
            "Classification Report:\n",
            "              precision    recall  f1-score   support\n",
            "\n",
            "         ham       0.97      0.98      0.97      1102\n",
            "        spam       0.94      0.92      0.93       450\n",
            "\n",
            "    accuracy                           0.96      1552\n",
            "   macro avg       0.96      0.95      0.95      1552\n",
            "weighted avg       0.96      0.96      0.96      1552\n",
            "\n"
          ]
        }
      ]
    },
    {
      "cell_type": "code",
      "source": [
        "disp = ConfusionMatrixDisplay.from_estimator(model, X_test_dense, y_test)\n",
        "plt.title(\"Confusion Matrix - Naive Bayes\")\n",
        "plt.show()"
      ],
      "metadata": {
        "colab": {
          "base_uri": "https://localhost:8080/",
          "height": 376
        },
        "id": "nG9L-iicEFXb",
        "outputId": "18f5375e-bc3f-496f-cca8-969f489eed8f"
      },
      "execution_count": null,
      "outputs": [
        {
          "output_type": "display_data",
          "data": {
            "text/plain": [
              "<Figure size 576x396 with 2 Axes>"
            ],
            "image/png": "[encoded data removed]"
          },
          "metadata": {}
        }
      ]
    },
    {
      "cell_type": "markdown",
      "source": [
        "<img src=\"https://raw.githubusercontent.com/orlandojrps/spam/main/errors.png\">"
      ],
      "metadata": {
        "id": "bYXsnnuakdCr"
      }
    },
    {
      "cell_type": "code",
      "source": [
        "# False Positives: Type 1 error\n",
        "fp = conf_matrix[0,1]\n",
        "\n",
        "# False negatives: Type 2 error\n",
        "fn = conf_matrix[1,0]\n",
        "\n",
        "print(f\"Type 1 errors: {fp}\")\n",
        "print(f\"Type 2 errors: {fn}\")"
      ],
      "metadata": {
        "colab": {
          "base_uri": "https://localhost:8080/"
        },
        "id": "ERATSH9QHRqJ",
        "outputId": "425d9cfa-c0b0-4a70-b690-128cebf3a730"
      },
      "execution_count": null,
      "outputs": [
        {
          "output_type": "stream",
          "name": "stdout",
          "text": [
            "Type 1 errors: 25\n",
            "Type 2 errors: 35\n"
          ]
        }
      ]
    },
    {
      "cell_type": "markdown",
      "source": [
        "<img src=\"https://raw.githubusercontent.com/orlandojrps/spam/main/pickle.png\">"
      ],
      "metadata": {
        "id": "XrngUr54ltPc"
      }
    },
    {
      "cell_type": "code",
      "source": [
        "# Save the model to disk using the pickle module\n",
        "filename = 'spam_classifier_model_naive.sav'\n",
        "pickle.dump(model, open(filename, 'wb'))  "
      ],
      "metadata": {
        "id": "Io6VzcGbDPwV"
      },
      "execution_count": null,
      "outputs": []
    },
    {
      "cell_type": "markdown",
      "source": [
        "###Approach using Cross Fold Validation  <br>                                    <img src=\"https://raw.githubusercontent.com/orlandojrps/spam/main/kfold2.png\">"
      ],
      "metadata": {
        "id": "AmAMnBGObsHp"
      }
    },
    {
      "cell_type": "code",
      "source": [
        "vectorizer = TfidfVectorizer()\n",
        "# Convert the DataFrame to a numpy array for cross-validation\n",
        "X = df.message.values\n",
        "y = df.classification.values\n",
        "\n",
        "# Transform the text features to a TF-IDF matrix\n",
        "X_tfidf = vectorizer.fit_transform(X)\n",
        "X_dense = X_tfidf.toarray()\n",
        "\n",
        "# Train the Naive Bayes classifier using 10-fold cross-validation\n",
        "model = GaussianNB()\n",
        "scores = cross_val_score(model, X_dense, y, cv=10)\n",
        "\n",
        "# Print the cross-validation scores\n",
        "print('Cross-validation scores:', scores)\n",
        "print('Mean cross-validation score:', scores.mean())"
      ],
      "metadata": {
        "colab": {
          "base_uri": "https://localhost:8080/"
        },
        "id": "uFMpRheJZWLn",
        "outputId": "4941cac4-c288-4811-b765-4e1292e9df2b"
      },
      "execution_count": null,
      "outputs": [
        {
          "output_type": "stream",
          "name": "stdout",
          "text": [
            "Cross-validation scores: [0.95945946 0.94015444 0.95551257 0.96324952 0.94970986 0.93810445\n",
            " 0.95357834 0.95551257 0.96131528 0.95744681]\n",
            "Mean cross-validation score: 0.9534043300000746\n"
          ]
        }
      ]
    },
    {
      "cell_type": "markdown",
      "source": [
        "##Logistic Regression <br/> <img src=\"https://raw.githubusercontent.com/orlandojrps/spam/main/lr.jpg\">"
      ],
      "metadata": {
        "id": "pK7JZGHJUAF5"
      }
    },
    {
      "cell_type": "code",
      "source": [
        "# Train the logistic regression classifier\n",
        "model_LR = LogisticRegression()\n",
        "model_LR.fit(X_train_dense, y_train)\n",
        "\n",
        "# Evaluate the classifier on the test data\n",
        "X_test_tfidf = vectorizer.transform(X_test.message)\n",
        "X_test_dense = X_test_tfidf.toarray()\n",
        "y_pred = model_LR.predict(X_test_dense)\n",
        "accuracy = (y_pred == y_test).mean()"
      ],
      "metadata": {
        "colab": {
          "base_uri": "https://localhost:8080/"
        },
        "id": "1nc9MU0xQTUA",
        "outputId": "876eeaec-c0e0-4943-a09c-87ccd7520ded"
      },
      "execution_count": null,
      "outputs": [
        {
          "output_type": "stream",
          "name": "stderr",
          "text": [
            "/usr/local/lib/python3.9/dist-packages/sklearn/utils/validation.py:1143: DataConversionWarning: A column-vector y was passed when a 1d array was expected. Please change the shape of y to (n_samples, ), for example using ravel().\n"
          ]
        }
      ]
    },
    {
      "cell_type": "code",
      "source": [
        "# Print the confusion matrix and classification report\n",
        "conf_matrix = confusion_matrix(y_test, y_pred)\n",
        "class_report = classification_report(y_test, y_pred)\n",
        "print(\"Confusion Matrix:\")\n",
        "print(conf_matrix)\n",
        "print(\"\\nClassification Report:\")\n",
        "print(class_report)\n"
      ],
      "metadata": {
        "colab": {
          "base_uri": "https://localhost:8080/"
        },
        "id": "olZnxifxSzP2",
        "outputId": "e8964028-0d62-4490-9947-4773de39bbd3"
      },
      "execution_count": null,
      "outputs": [
        {
          "output_type": "stream",
          "name": "stdout",
          "text": [
            "Confusion Matrix:\n",
            "[[1082   20]\n",
            " [  10  440]]\n",
            "\n",
            "Classification Report:\n",
            "              precision    recall  f1-score   support\n",
            "\n",
            "         ham       0.99      0.98      0.99      1102\n",
            "        spam       0.96      0.98      0.97       450\n",
            "\n",
            "    accuracy                           0.98      1552\n",
            "   macro avg       0.97      0.98      0.98      1552\n",
            "weighted avg       0.98      0.98      0.98      1552\n",
            "\n"
          ]
        }
      ]
    },
    {
      "cell_type": "code",
      "source": [
        "disp = ConfusionMatrixDisplay.from_estimator(model_LR, X_test_dense, y_test)\n",
        "plt.title(\"Confusion Matrix - Logistic Regression\")\n",
        "plt.show()\n"
      ],
      "metadata": {
        "colab": {
          "base_uri": "https://localhost:8080/",
          "height": 376
        },
        "id": "oZda4-n3UDit",
        "outputId": "c8d543fd-5b21-43d5-a20d-db6a0be4454b"
      },
      "execution_count": null,
      "outputs": [
        {
          "output_type": "display_data",
          "data": {
            "text/plain": [
              "<Figure size 576x396 with 2 Axes>"
            ],
            "image/png": "[encoded data removed]"
          },
          "metadata": {}
        }
      ]
    },
    {
      "cell_type": "markdown",
      "source": [
        "<img src=\"https://raw.githubusercontent.com/orlandojrps/spam/main/errors.png\">"
      ],
      "metadata": {
        "id": "V4tiGCn5kii0"
      }
    },
    {
      "cell_type": "code",
      "source": [
        "# False Positives: Type 1 error\n",
        "fp = conf_matrix[0,1]\n",
        "\n",
        "# False negatives: Type 2 error\n",
        "fn = conf_matrix[1,0]\n",
        "\n",
        "print(f\"Type 1 errors: {fp}\")\n",
        "print(f\"Type 2 errors: {fn}\")"
      ],
      "metadata": {
        "colab": {
          "base_uri": "https://localhost:8080/"
        },
        "id": "QEJx1i3gX2Yq",
        "outputId": "db81d936-c580-443c-ce97-76db799e0f2d"
      },
      "execution_count": null,
      "outputs": [
        {
          "output_type": "stream",
          "name": "stdout",
          "text": [
            "Type 1 errors: 20\n",
            "Type 2 errors: 10\n"
          ]
        }
      ]
    },
    {
      "cell_type": "markdown",
      "source": [
        "###Approach using Cross Fold Validation  <br>                                    <img src=\"https://raw.githubusercontent.com/orlandojrps/spam/main/kfold2.png\">"
      ],
      "metadata": {
        "id": "y1XvnOkJcOYY"
      }
    },
    {
      "cell_type": "code",
      "source": [
        "# Encode the text features using the TF-IDF vectorizer\n",
        "vectorizer = TfidfVectorizer()\n",
        "\n",
        "# Convert the DataFrame to a numpy array for cross-validation\n",
        "X = df.message.values\n",
        "y = df.classification.values\n",
        "\n",
        "# Transform the text features to a TF-IDF matrix\n",
        "X_tfidf = vectorizer.fit_transform(X)\n",
        "X_dense = X_tfidf.toarray()\n",
        "\n",
        "# Train the logistic regression classifier using 10-fold cross-validation\n",
        "model_LR = LogisticRegression()\n",
        "scores = cross_val_score(model_LR, X_dense, y, cv=10)\n",
        "\n",
        "# Print the cross-validation scores\n",
        "print('Cross-validation scores:', scores)\n",
        "print('Mean cross-validation score:', scores.mean())\n",
        "\n",
        "# Train the logistic regression classifier on the entire dataset\n",
        "model_LR.fit(X_dense, y)\n",
        "\n",
        "# Evaluate the classifier on the test data\n",
        "X_test_tfidf = vectorizer.transform(X_test.message)\n",
        "X_test_dense = X_test_tfidf.toarray()\n",
        "y_pred = model_LR.predict(X_test_dense)\n",
        "accuracy = (y_pred == y_test).mean()\n",
        "print('Test accuracy:', accuracy)"
      ],
      "metadata": {
        "colab": {
          "base_uri": "https://localhost:8080/"
        },
        "id": "QoFkcocBcQG3",
        "outputId": "5b6c2eee-b275-4df8-e20d-8bd3ef842c78"
      },
      "execution_count": null,
      "outputs": [
        {
          "output_type": "stream",
          "name": "stdout",
          "text": [
            "Cross-validation scores: [0.98455598 0.98069498 0.97485493 0.99226306 0.98065764 0.99419729\n",
            " 0.98646035 0.98259188 0.9787234  0.98259188]\n",
            "Mean cross-validation score: 0.9837591390782879\n",
            "Test accuracy: 0.5871605643532788\n"
          ]
        }
      ]
    },
    {
      "cell_type": "markdown",
      "source": [
        "##Decision Tree <br/> <img src=\"https://raw.githubusercontent.com/orlandojrps/spam/main/decision_tree.png\">"
      ],
      "metadata": {
        "id": "zNAJ79ErUUgk"
      }
    },
    {
      "cell_type": "code",
      "source": [
        "# Train the decision tree classifier\n",
        "model_DT = DecisionTreeClassifier()\n",
        "model_DT.fit(X_train_dense, y_train)\n",
        "\n",
        "# Evaluate the classifier on the test data\n",
        "X_test_tfidf = vectorizer.transform(X_test.message)\n",
        "X_test_dense = X_test_tfidf.toarray()\n",
        "y_pred = model_DT.predict(X_test_dense)"
      ],
      "metadata": {
        "id": "C0R2arVnQqJZ"
      },
      "execution_count": null,
      "outputs": []
    },
    {
      "cell_type": "code",
      "source": [
        "# Print the confusion matrix and classification report\n",
        "conf_matrix = confusion_matrix(y_test, y_pred)\n",
        "class_report = classification_report(y_test, y_pred)\n",
        "print(\"Confusion Matrix:\")\n",
        "print(conf_matrix)\n",
        "print(\"\\nClassification Report:\")\n",
        "print(class_report)"
      ],
      "metadata": {
        "colab": {
          "base_uri": "https://localhost:8080/"
        },
        "id": "kH1BrYR3Upav",
        "outputId": "81f921bb-5188-456f-8bd7-7bddba1b545a"
      },
      "execution_count": null,
      "outputs": [
        {
          "output_type": "stream",
          "name": "stdout",
          "text": [
            "Confusion Matrix:\n",
            "[[1039   63]\n",
            " [  39  411]]\n",
            "\n",
            "Classification Report:\n",
            "              precision    recall  f1-score   support\n",
            "\n",
            "         ham       0.96      0.94      0.95      1102\n",
            "        spam       0.87      0.91      0.89       450\n",
            "\n",
            "    accuracy                           0.93      1552\n",
            "   macro avg       0.92      0.93      0.92      1552\n",
            "weighted avg       0.94      0.93      0.93      1552\n",
            "\n"
          ]
        }
      ]
    },
    {
      "cell_type": "code",
      "source": [
        "disp = ConfusionMatrixDisplay.from_estimator(model_DT, X_test_dense, y_test)\n",
        "plt.title(\"Confusion Matrix - Decision Tree\")\n",
        "plt.show()"
      ],
      "metadata": {
        "colab": {
          "base_uri": "https://localhost:8080/",
          "height": 376
        },
        "id": "6JXv2Vb3UmKo",
        "outputId": "7a2e6b65-4ebf-47a8-969d-7709c57aba56"
      },
      "execution_count": null,
      "outputs": [
        {
          "output_type": "display_data",
          "data": {
            "text/plain": [
              "<Figure size 576x396 with 2 Axes>"
            ],
            "image/png": "[encoded data removed]"
          },
          "metadata": {}
        }
      ]
    },
    {
      "cell_type": "markdown",
      "source": [
        "<img src=\"https://raw.githubusercontent.com/orlandojrps/spam/main/errors.png\">"
      ],
      "metadata": {
        "id": "WaRCzUAgklc2"
      }
    },
    {
      "cell_type": "code",
      "source": [
        "# False Positives: Type 1 error\n",
        "fp = conf_matrix[0,1]\n",
        "\n",
        "# False negatives: Type 2 error\n",
        "fn = conf_matrix[1,0]\n",
        "\n",
        "print(f\"Type 1 errors: {fp}\")\n",
        "print(f\"Type 2 errors: {fn}\")"
      ],
      "metadata": {
        "colab": {
          "base_uri": "https://localhost:8080/"
        },
        "id": "Yn_-JIjxYWwb",
        "outputId": "58d2a82c-1413-46f2-e16f-026e89f98aae"
      },
      "execution_count": null,
      "outputs": [
        {
          "output_type": "stream",
          "name": "stdout",
          "text": [
            "Type 1 errors: 63\n",
            "Type 2 errors: 39\n"
          ]
        }
      ]
    },
    {
      "cell_type": "markdown",
      "source": [
        "###Approach using Cross Fold Validation  <br>                                    <img src=\"https://raw.githubusercontent.com/orlandojrps/spam/main/kfold2.png\">"
      ],
      "metadata": {
        "id": "c6c3HOX7cpvt"
      }
    },
    {
      "cell_type": "code",
      "source": [
        "# Encode the text features using the TF-IDF vectorizer\n",
        "vectorizer = TfidfVectorizer()\n",
        "\n",
        "# Convert the DataFrame to a numpy array for cross-validation\n",
        "X = df.message.values\n",
        "y = df.classification.values\n",
        "\n",
        "# Transform the text features to a TF-IDF matrix\n",
        "X_tfidf = vectorizer.fit_transform(X)\n",
        "X_dense = X_tfidf.toarray()\n",
        "\n",
        "# Train the decision tree classifier using 10-fold cross-validation\n",
        "model_DT = DecisionTreeClassifier()\n",
        "scores = cross_val_score(model_DT, X_dense, y, cv=10)\n",
        "\n",
        "# Print the cross-validation scores\n",
        "print('Cross-validation scores:', scores)\n",
        "print('Mean cross-validation score:', scores.mean())\n",
        "\n",
        "# Train the decision tree classifier on the entire dataset\n",
        "model_DT.fit(X_dense, y)\n",
        "\n",
        "# Evaluate the classifier on the test data\n",
        "X_test_tfidf = vectorizer.transform(X_test.message)\n",
        "X_test_dense = X_test_tfidf.toarray()\n",
        "y_pred = model_DT.predict(X_test_dense)\n",
        "accuracy = (y_pred == y_test).mean()\n",
        "print('Test accuracy:', accuracy)"
      ],
      "metadata": {
        "colab": {
          "base_uri": "https://localhost:8080/"
        },
        "id": "QYuUwIjgcrhX",
        "outputId": "1618d061-4440-48cd-8281-85bb4514d6d0"
      },
      "execution_count": null,
      "outputs": [
        {
          "output_type": "stream",
          "name": "stdout",
          "text": [
            "Cross-validation scores: [0.93629344 0.93822394 0.9516441  0.94390716 0.9516441  0.95357834\n",
            " 0.94003868 0.93617021 0.95938104 0.93810445]\n",
            "Mean cross-validation score: 0.9448985459623758\n",
            "Test accuracy: 0.5882433042831332\n"
          ]
        }
      ]
    },
    {
      "cell_type": "markdown",
      "source": [
        "##Random Forest <br/> <img src=\"https://raw.githubusercontent.com/orlandojrps/spam/main/rf.png\">"
      ],
      "metadata": {
        "id": "DpUVK1V_U7OH"
      }
    },
    {
      "cell_type": "code",
      "source": [
        "# Train the random forest classifier\n",
        "model_RF = RandomForestClassifier()\n",
        "model_RF.fit(X_train_dense, y_train)\n",
        "\n",
        "# Evaluate the classifier on the test data\n",
        "X_test_tfidf = vectorizer.transform(X_test.message)\n",
        "X_test_dense = X_test_tfidf.toarray()\n",
        "y_pred = model_RF.predict(X_test_dense)\n"
      ],
      "metadata": {
        "colab": {
          "base_uri": "https://localhost:8080/"
        },
        "id": "Ftub3GMPRWW2",
        "outputId": "683d113a-561f-47f2-9b74-b0121ea34f63"
      },
      "execution_count": null,
      "outputs": [
        {
          "output_type": "stream",
          "name": "stderr",
          "text": [
            "<ipython-input-402-fc6d66c76c6c>:3: DataConversionWarning: A column-vector y was passed when a 1d array was expected. Please change the shape of y to (n_samples,), for example using ravel().\n"
          ]
        }
      ]
    },
    {
      "cell_type": "code",
      "source": [
        "# Print the confusion matrix and classification report\n",
        "conf_matrix = confusion_matrix(y_test, y_pred)\n",
        "class_report = classification_report(y_test, y_pred)\n",
        "print(\"Confusion Matrix:\")\n",
        "print(conf_matrix)\n",
        "print(\"\\nClassification Report:\")\n",
        "print(class_report)"
      ],
      "metadata": {
        "colab": {
          "base_uri": "https://localhost:8080/"
        },
        "id": "CyRIESI1U-x0",
        "outputId": "be656d8e-71af-4caf-e443-fc8ccc939451"
      },
      "execution_count": null,
      "outputs": [
        {
          "output_type": "stream",
          "name": "stdout",
          "text": [
            "Confusion Matrix:\n",
            "[[1083   19]\n",
            " [  21  429]]\n",
            "\n",
            "Classification Report:\n",
            "              precision    recall  f1-score   support\n",
            "\n",
            "         ham       0.98      0.98      0.98      1102\n",
            "        spam       0.96      0.95      0.96       450\n",
            "\n",
            "    accuracy                           0.97      1552\n",
            "   macro avg       0.97      0.97      0.97      1552\n",
            "weighted avg       0.97      0.97      0.97      1552\n",
            "\n"
          ]
        }
      ]
    },
    {
      "cell_type": "code",
      "source": [
        "disp = ConfusionMatrixDisplay.from_estimator(model_RF, X_test_dense, y_test)\n",
        "plt.title(\"Confusion Matrix - Random Forest\")\n",
        "plt.show()"
      ],
      "metadata": {
        "colab": {
          "base_uri": "https://localhost:8080/",
          "height": 376
        },
        "id": "buVgK5hwVLhy",
        "outputId": "3b5e650f-2ec2-4bfd-b393-4356c7446ed3"
      },
      "execution_count": null,
      "outputs": [
        {
          "output_type": "display_data",
          "data": {
            "text/plain": [
              "<Figure size 576x396 with 2 Axes>"
            ],
            "image/png": "[encoded data removed]"
          },
          "metadata": {}
        }
      ]
    },
    {
      "cell_type": "markdown",
      "source": [
        "<img src=\"https://raw.githubusercontent.com/orlandojrps/spam/main/errors.png\">"
      ],
      "metadata": {
        "id": "tsjh0OE6kud4"
      }
    },
    {
      "cell_type": "code",
      "source": [
        "# False Positives: Type 1 error\n",
        "fp = conf_matrix[0,1]\n",
        "\n",
        "# False negatives: Type 2 error\n",
        "fn = conf_matrix[1,0]\n",
        "\n",
        "print(f\"Type 1 errors: {fp}\")\n",
        "print(f\"Type 2 errors: {fn}\")"
      ],
      "metadata": {
        "colab": {
          "base_uri": "https://localhost:8080/"
        },
        "id": "mq5ZGPgHYh-I",
        "outputId": "eece881c-24cb-4979-a254-d5bec8ff050a"
      },
      "execution_count": null,
      "outputs": [
        {
          "output_type": "stream",
          "name": "stdout",
          "text": [
            "Type 1 errors: 19\n",
            "Type 2 errors: 21\n"
          ]
        }
      ]
    },
    {
      "cell_type": "markdown",
      "source": [
        "###Approach using Cross Fold Validation  <br>                                    <img src=\"https://raw.githubusercontent.com/orlandojrps/spam/main/kfold2.png\">"
      ],
      "metadata": {
        "id": "0DY7cOUAdDq_"
      }
    },
    {
      "cell_type": "code",
      "source": [
        "# Encode the text features using the TF-IDF vectorizer\n",
        "vectorizer = TfidfVectorizer()\n",
        "\n",
        "# Convert the DataFrame to a numpy array for cross-validation\n",
        "X = df.message.values\n",
        "y = df.classification.values\n",
        "\n",
        "# Transform the text features to a TF-IDF matrix\n",
        "X_tfidf = vectorizer.fit_transform(X)\n",
        "X_dense = X_tfidf.toarray()\n",
        "\n",
        "# Train the random forest classifier using 10-fold cross-validation\n",
        "model_RF = RandomForestClassifier()\n",
        "scores = cross_val_score(model_RF, X_dense, y, cv=10)\n",
        "\n",
        "# Print the cross-validation scores\n",
        "print('Cross-validation scores:', scores)\n",
        "print('Mean cross-validation score:', scores.mean())\n",
        "\n",
        "# Train the random forest classifier on the entire dataset\n",
        "model_RF.fit(X_dense, y)\n",
        "\n",
        "# Evaluate the classifier on the test data\n",
        "X_test_tfidf = vectorizer.transform(X_test.message)\n",
        "X_test_dense = X_test_tfidf.toarray()\n",
        "y_pred = model_RF.predict(X_test_dense)\n",
        "accuracy = (y_pred == y_test).mean()\n",
        "print('Test accuracy:', accuracy)"
      ],
      "metadata": {
        "colab": {
          "base_uri": "https://localhost:8080/"
        },
        "id": "WE9nxNuudlOP",
        "outputId": "cd5712fa-3eb0-4561-895f-2ee269f19cd2"
      },
      "execution_count": null,
      "outputs": [
        {
          "output_type": "stream",
          "name": "stdout",
          "text": [
            "Cross-validation scores: [0.97297297 0.96718147 0.96711799 0.98259188 0.98452611 0.98452611\n",
            " 0.98452611 0.9729207  0.9729207  0.96711799]\n",
            "Mean cross-validation score: 0.9756402022359468\n",
            "Test accuracy: 0.5882433042831332\n"
          ]
        }
      ]
    },
    {
      "cell_type": "markdown",
      "source": [
        "##KNN <br/> <img src=\"https://raw.githubusercontent.com/orlandojrps/spam/main/KNN.jpg\">"
      ],
      "metadata": {
        "id": "wEF30xQKVUPV"
      }
    },
    {
      "cell_type": "code",
      "source": [
        "\n",
        "# Train the KNN classifier\n",
        "model_knn = KNeighborsClassifier()\n",
        "model_knn.fit(X_train_dense, y_train)\n",
        "\n",
        "# Evaluate the classifier on the test data\n",
        "X_test_tfidf = vectorizer.transform(X_test.message)\n",
        "X_test_dense = X_test_tfidf.toarray()\n",
        "y_pred = model_knn.predict(X_test_dense)"
      ],
      "metadata": {
        "colab": {
          "base_uri": "https://localhost:8080/"
        },
        "id": "XXSSOKzTRnS_",
        "outputId": "29aff4e6-9890-4380-bc33-1c224acb7004"
      },
      "execution_count": null,
      "outputs": [
        {
          "output_type": "stream",
          "name": "stderr",
          "text": [
            "/usr/local/lib/python3.9/dist-packages/sklearn/neighbors/_classification.py:215: DataConversionWarning: A column-vector y was passed when a 1d array was expected. Please change the shape of y to (n_samples,), for example using ravel().\n"
          ]
        }
      ]
    },
    {
      "cell_type": "code",
      "source": [
        "# Print the confusion matrix and classification report\n",
        "conf_matrix = confusion_matrix(y_test, y_pred)\n",
        "class_report = classification_report(y_test, y_pred)\n",
        "print(\"Confusion Matrix:\")\n",
        "print(conf_matrix)\n",
        "print(\"\\nClassification Report:\")\n",
        "print(class_report)"
      ],
      "metadata": {
        "colab": {
          "base_uri": "https://localhost:8080/"
        },
        "id": "Gg2x6GhTVj6U",
        "outputId": "155150f6-62fe-49e2-dd1a-dc6c921c9521"
      },
      "execution_count": null,
      "outputs": [
        {
          "output_type": "stream",
          "name": "stdout",
          "text": [
            "Confusion Matrix:\n",
            "[[1091   11]\n",
            " [  51  399]]\n",
            "\n",
            "Classification Report:\n",
            "              precision    recall  f1-score   support\n",
            "\n",
            "         ham       0.96      0.99      0.97      1102\n",
            "        spam       0.97      0.89      0.93       450\n",
            "\n",
            "    accuracy                           0.96      1552\n",
            "   macro avg       0.96      0.94      0.95      1552\n",
            "weighted avg       0.96      0.96      0.96      1552\n",
            "\n"
          ]
        }
      ]
    },
    {
      "cell_type": "code",
      "source": [
        "disp = ConfusionMatrixDisplay.from_estimator(model_knn, X_test_dense, y_test)\n",
        "plt.title(\"Confusion Matrix - KNN\")\n",
        "plt.show()"
      ],
      "metadata": {
        "colab": {
          "base_uri": "https://localhost:8080/",
          "height": 376
        },
        "id": "PkccwOg1VxPp",
        "outputId": "8d95ceb8-31c3-4fff-caa1-c86b249e6724"
      },
      "execution_count": null,
      "outputs": [
        {
          "output_type": "display_data",
          "data": {
            "text/plain": [
              "<Figure size 576x396 with 2 Axes>"
            ],
            "image/png": "[encoded data removed]"
          },
          "metadata": {}
        }
      ]
    },
    {
      "cell_type": "markdown",
      "source": [
        "<img src=\"https://raw.githubusercontent.com/orlandojrps/spam/main/errors.png\">"
      ],
      "metadata": {
        "id": "PJ4hpsaSkxvp"
      }
    },
    {
      "cell_type": "code",
      "source": [
        "# False Positives: Type 1 error\n",
        "fp = conf_matrix[0,1]\n",
        "\n",
        "# False negatives: Type 2 error\n",
        "fn = conf_matrix[1,0]\n",
        "\n",
        "print(f\"Type 1 errors: {fp}\")\n",
        "print(f\"Type 2 errors: {fn}\")"
      ],
      "metadata": {
        "colab": {
          "base_uri": "https://localhost:8080/"
        },
        "id": "s0H7173pYof_",
        "outputId": "6a26ee81-02d1-4fbf-ca4f-e2cc80c0ebed"
      },
      "execution_count": null,
      "outputs": [
        {
          "output_type": "stream",
          "name": "stdout",
          "text": [
            "Type 1 errors: 11\n",
            "Type 2 errors: 51\n"
          ]
        }
      ]
    },
    {
      "cell_type": "markdown",
      "source": [
        "###Approach using Cross Fold Validation  <br>                                    <img src=\"https://raw.githubusercontent.com/orlandojrps/spam/main/kfold2.png\">"
      ],
      "metadata": {
        "id": "KI1-j0JFdqz7"
      }
    },
    {
      "cell_type": "code",
      "source": [
        "# Encode the text features using the TF-IDF vectorizer\n",
        "vectorizer = TfidfVectorizer()\n",
        "\n",
        "# Convert the DataFrame to a numpy array for cross-validation\n",
        "X = df.message.values\n",
        "y = df.classification.values\n",
        "\n",
        "# Transform the text features to a TF-IDF matrix\n",
        "X_tfidf = vectorizer.fit_transform(X)\n",
        "X_dense = X_tfidf.toarray()\n",
        "\n",
        "# Train the KNN classifier using 10-fold cross-validation\n",
        "model_knn = KNeighborsClassifier()\n",
        "scores = cross_val_score(model_knn, X_dense, y, cv=10)\n",
        "\n",
        "# Print the cross-validation scores\n",
        "print('Cross-validation scores:', scores)\n",
        "print('Mean cross-validation score:', scores.mean())\n",
        "\n",
        "# Train the KNN classifier on the entire dataset\n",
        "model_knn.fit(X_dense, y)\n",
        "\n",
        "# Evaluate the classifier on the test data\n",
        "X_test_tfidf = vectorizer.transform(X_test.message)\n",
        "X_test_dense = X_test_tfidf.toarray()\n",
        "y_pred = model_knn.predict(X_test_dense)\n",
        "accuracy = (y_pred == y_test).mean()\n",
        "print('Test accuracy:', accuracy)"
      ],
      "metadata": {
        "colab": {
          "base_uri": "https://localhost:8080/"
        },
        "id": "itT30lv_eTxw",
        "outputId": "b635cffc-996c-431c-d1ff-2f16d580bbbc"
      },
      "execution_count": null,
      "outputs": [
        {
          "output_type": "stream",
          "name": "stdout",
          "text": [
            "Cross-validation scores: [0.96332046 0.96525097 0.94777563 0.96324952 0.95938104 0.94390716\n",
            " 0.95551257 0.96905222 0.96131528 0.95744681]\n",
            "Mean cross-validation score: 0.9586211660679747\n",
            "Test accuracy: 0.594469058879796\n"
          ]
        }
      ]
    },
    {
      "cell_type": "markdown",
      "source": [
        "###Models Summary"
      ],
      "metadata": {
        "id": "HgP1gAHtmuos"
      }
    },
    {
      "cell_type": "code",
      "source": [
        "print(\"Training accuracy Naive Bayes:\", model.score(X_test_dense,y_test), \"\\n\")\n",
        "print(\"Training accuracy Logistic Regression:\", model_LR.score(X_test_dense,y_test), \"\\n\")\n",
        "print(\"Training accuracy Decision Tree:\", model_DT.score(X_test_dense,y_test), \"\\n\")\n",
        "print(\"Training accuracy Random Forest:\", model_RF.score(X_test_dense,y_test), \"\\n\")\n",
        "print(\"Training accuracy KNN:\", model_knn.score(X_test_dense,y_test), \"\\n\")"
      ],
      "metadata": {
        "colab": {
          "base_uri": "https://localhost:8080/"
        },
        "id": "nGh1tWEQWBRq",
        "outputId": "838f99a2-db73-47fe-e19e-721df501bb7c"
      },
      "execution_count": null,
      "outputs": [
        {
          "output_type": "stream",
          "name": "stdout",
          "text": [
            "Training accuracy Naive Bayes: 0.961340206185567 \n",
            "\n",
            "Training accuracy Logistic Regression: 0.9806701030927835 \n",
            "\n",
            "Training accuracy Decision Tree: 0.9342783505154639 \n",
            "\n",
            "Training accuracy Random Forest: 0.9742268041237113 \n",
            "\n",
            "Training accuracy KNN: 0.9600515463917526 \n",
            "\n"
          ]
        }
      ]
    },
    {
      "cell_type": "markdown",
      "source": [
        "<img src=\"https://raw.githubusercontent.com/orlandojrps/spam/main/nlp2.png\">"
      ],
      "metadata": {
        "id": "rq3v7dj7P_Uq"
      }
    },
    {
      "cell_type": "markdown",
      "source": [
        "##Let's try a new approach, this time using Word2Vec "
      ],
      "metadata": {
        "id": "eFfktXqJP_KA"
      }
    },
    {
      "cell_type": "markdown",
      "source": [
        "####Prepare Corpus and Process Using Spacy"
      ],
      "metadata": {
        "id": "VmlR7UEycxB8"
      }
    },
    {
      "cell_type": "code",
      "source": [
        "spacy_nlp = spacy.load(\"en_core_web_lg\")"
      ],
      "metadata": {
        "id": "_Z5RL-vRcwlc"
      },
      "execution_count": null,
      "outputs": []
    },
    {
      "cell_type": "code",
      "source": [
        "documents = [((row[1]['classification']), \\\n",
        "              list(spacy_nlp(row[1]['message']).vector)) \\\n",
        "                  for row in PROG_BAR(df.iterrows())]"
      ],
      "metadata": {
        "colab": {
          "base_uri": "https://localhost:8080/",
          "height": 49,
          "referenced_widgets": [
            "bcde197440284b7c9a60d89d8303af04",
            "fc96c67a9e0848dc838176b6fe05cb42",
            "07780dfae16345b5b08bd38b6ca26485",
            "3238a6786be443b1a3a809abda8a6959",
            "64c9908f76da40bbb44300a749e09dfa",
            "7fa348aaf74d40de8c6f24f1aeb0e46a",
            "f501e3616be1435487ab86ed114a652e",
            "1f83ff86adf243d1989f5b149216ad2b",
            "856f3093527143078a1e0710cd036a7a",
            "fdaef4fbcebe47d99f321e73d294e837",
            "eb5b8b26c5944c7e896c2e4c0c8f0e75"
          ]
        },
        "id": "j0cPyXM_dqkD",
        "outputId": "bdeca3cc-2458-4ea7-f632-425539820d08"
      },
      "execution_count": null,
      "outputs": [
        {
          "output_type": "display_data",
          "data": {
            "text/plain": [
              "0it [00:00, ?it/s]"
            ],
            "application/vnd.jupyter.widget-view+json": {
              "version_major": 2,
              "version_minor": 0,
              "model_id": "bcde197440284b7c9a60d89d8303af04"
            }
          },
          "metadata": {}
        }
      ]
    },
    {
      "cell_type": "markdown",
      "source": [
        "Disassemble the documents list to make a data frame for modelling."
      ],
      "metadata": {
        "id": "YXSSphRVP_D_"
      }
    },
    {
      "cell_type": "code",
      "source": [
        "len(documents)"
      ],
      "metadata": {
        "colab": {
          "base_uri": "https://localhost:8080/"
        },
        "id": "oxXzc8Okeshq",
        "outputId": "2b8d0cc2-687c-4339-db59-a10f21f91c97"
      },
      "execution_count": null,
      "outputs": [
        {
          "output_type": "execute_result",
          "data": {
            "text/plain": [
              "5172"
            ]
          },
          "metadata": {},
          "execution_count": 35
        }
      ]
    },
    {
      "cell_type": "code",
      "source": [
        "doc_avg_feat_vec = [d[1] for d in PROG_BAR(documents)]\n",
        "\n",
        "fileids = [doc[0][0] for doc in documents]\n",
        "cats = [doc[0] for doc in documents]\n",
        "\n",
        "embedding_df = pd.DataFrame(doc_avg_feat_vec)\n",
        "embedding_df['fileids'] = fileids\n",
        "embedding_df['classif'] = cats\n",
        "embedding_df"
      ],
      "metadata": {
        "colab": {
          "base_uri": "https://localhost:8080/",
          "height": 456,
          "referenced_widgets": [
            "8bc4c5e71be340449db7d7b3f1323e2d",
            "0cdab3ab1f634e038e61ea2110b6af82",
            "7b46ad4bd9364de2b3e1f8487eb8dd23",
            "b42744027c484ef2a317a411e9c64f01",
            "9d5cbe0116e241fb9d4a4c9afd99d450",
            "f48161cd12c04634a71723dc4fc06cf0",
            "90e9f963ef2d4a3b91a41f0ce054ce2b",
            "21ee7920f00d4f4b81650b1fec0e3477",
            "93c4a7a01200431bbfb8c739da73be0e",
            "865d665f8835439293b075c4db71ce46",
            "bd606364e52842839b6985fc84b7ea73"
          ]
        },
        "id": "Sm9XYmkjevLd",
        "outputId": "33989240-51dd-4579-8110-05b2d66ec00c"
      },
      "execution_count": null,
      "outputs": [
        {
          "output_type": "display_data",
          "data": {
            "text/plain": [
              "  0%|          | 0/5172 [00:00<?, ?it/s]"
            ],
            "application/vnd.jupyter.widget-view+json": {
              "version_major": 2,
              "version_minor": 0,
              "model_id": "8bc4c5e71be340449db7d7b3f1323e2d"
            }
          },
          "metadata": {}
        },
        {
          "output_type": "execute_result",
          "data": {
            "text/plain": [
              "             0         1         2         3         4         5         6  \\\n",
              "0    -1.113892 -2.856879  0.067851  3.034670  3.519979  0.031158  0.559796   \n",
              "1    -1.997871 -0.993733  1.066550  3.557267  4.119709 -1.146070  1.528646   \n",
              "2    -0.777874 -1.836088  1.227407  0.692029  1.871854 -1.381338  1.330841   \n",
              "3    -0.378876 -2.345197  1.710684  0.263419  2.076986 -1.316213  0.626700   \n",
              "4    -1.339615 -3.523059  3.290860  0.644499  2.800753 -0.692417  1.480541   \n",
              "...        ...       ...       ...       ...       ...       ...       ...   \n",
              "5167 -1.376452  0.579227 -2.128867  0.255497  3.546762  0.266810  0.343035   \n",
              "5168 -0.757229  0.250863 -1.137060 -0.152292  1.953716 -0.433933  0.643753   \n",
              "5169  0.144048  1.678155 -3.108294 -0.244190  2.582361  0.853664 -0.206287   \n",
              "5170 -0.508700  0.153947 -0.105173  0.632688  1.859814 -0.597566  0.247870   \n",
              "5171 -1.708968 -1.411763  4.475396  0.439328  3.618666 -2.258723  1.496194   \n",
              "\n",
              "             7         8         9  ...       292       293       294  \\\n",
              "0     0.895515 -1.588522 -1.928259  ... -0.940512  0.628054 -0.687872   \n",
              "1     2.543771 -2.620118 -1.753951  ... -3.694338 -1.881931 -0.160006   \n",
              "2     1.227099 -1.303687 -1.110930  ... -0.279138 -1.234978 -0.065086   \n",
              "3     0.457884 -1.322815 -0.933804  ...  0.074630 -1.160641  0.362106   \n",
              "4     0.472253 -0.369334 -1.549670  ... -0.471850 -1.672230  0.721191   \n",
              "...        ...       ...       ...  ...       ...       ...       ...   \n",
              "5167  3.866165 -0.296229 -0.193909  ...  0.019645 -0.165400 -1.198439   \n",
              "5168  2.300299 -1.938761 -0.281423  ...  1.205716 -1.734588 -0.657278   \n",
              "5169  3.224796 -2.908455  0.826976  ...  0.618286 -0.079004 -1.117445   \n",
              "5170  1.164315 -1.645702 -1.200339  ...  0.996342 -0.859071 -0.265438   \n",
              "5171 -0.800700 -0.788668 -1.699872  ...  0.821816 -2.393135  0.785278   \n",
              "\n",
              "           295       296       297       298       299  fileids  classif  \n",
              "0     0.308398  1.504863 -1.977292  0.648575  0.137265        h      ham  \n",
              "1     1.392673 -0.654080 -0.856430 -0.126262 -2.108260        h      ham  \n",
              "2     0.704721 -0.621658 -2.003180 -1.037511 -0.592146        h      ham  \n",
              "3     0.444450  0.606455 -0.656321 -0.804740 -0.500207        h      ham  \n",
              "4     1.180729 -1.514010 -1.308038  0.401880 -1.326748        h      ham  \n",
              "...        ...       ...       ...       ...       ...      ...      ...  \n",
              "5167  1.047175  0.501223 -0.689944 -2.520779  1.200493        s     spam  \n",
              "5168  1.151494  0.246016 -1.083122 -2.163669  0.113734        s     spam  \n",
              "5169  0.071327 -0.695799 -0.706260 -3.507935  2.186368        s     spam  \n",
              "5170  0.837072  1.035834 -0.980301 -1.083439  0.455893        s     spam  \n",
              "5171  1.681470 -0.463841 -3.138019 -1.334910  0.115991        s     spam  \n",
              "\n",
              "[5172 rows x 302 columns]"
            ],
            "text/html": [
              "\n",
              "  <div id=\"df-e41dd03a-cf48-482e-a362-e33873797e5b\">\n",
              "    <div class=\"colab-df-container\">\n",
              "      <div>\n",
              "<style scoped>\n",
              "    .dataframe tbody tr th:only-of-type {\n",
              "        vertical-align: middle;\n",
              "    }\n",
              "\n",
              "    .dataframe tbody tr th {\n",
              "        vertical-align: top;\n",
              "    }\n",
              "\n",
              "    .dataframe thead th {\n",
              "        text-align: right;\n",
              "    }\n",
              "</style>\n",
              "<table border=\"1\" class=\"dataframe\">\n",
              "  <thead>\n",
              "    <tr style=\"text-align: right;\">\n",
              "      <th></th>\n",
              "      <th>0</th>\n",
              "      <th>1</th>\n",
              "      <th>2</th>\n",
              "      <th>3</th>\n",
              "      <th>4</th>\n",
              "      <th>5</th>\n",
              "      <th>6</th>\n",
              "      <th>7</th>\n",
              "      <th>8</th>\n",
              "      <th>9</th>\n",
              "      <th>...</th>\n",
              "      <th>292</th>\n",
              "      <th>293</th>\n",
              "      <th>294</th>\n",
              "      <th>295</th>\n",
              "      <th>296</th>\n",
              "      <th>297</th>\n",
              "      <th>298</th>\n",
              "      <th>299</th>\n",
              "      <th>fileids</th>\n",
              "      <th>classif</th>\n",
              "    </tr>\n",
              "  </thead>\n",
              "  <tbody>\n",
              "    <tr>\n",
              "      <th>0</th>\n",
              "      <td>-1.113892</td>\n",
              "      <td>-2.856879</td>\n",
              "      <td>0.067851</td>\n",
              "      <td>3.034670</td>\n",
              "      <td>3.519979</td>\n",
              "      <td>0.031158</td>\n",
              "      <td>0.559796</td>\n",
              "      <td>0.895515</td>\n",
              "      <td>-1.588522</td>\n",
              "      <td>-1.928259</td>\n",
              "      <td>...</td>\n",
              "      <td>-0.940512</td>\n",
              "      <td>0.628054</td>\n",
              "      <td>-0.687872</td>\n",
              "      <td>0.308398</td>\n",
              "      <td>1.504863</td>\n",
              "      <td>-1.977292</td>\n",
              "      <td>0.648575</td>\n",
              "      <td>0.137265</td>\n",
              "      <td>h</td>\n",
              "      <td>ham</td>\n",
              "    </tr>\n",
              "    <tr>\n",
              "      <th>1</th>\n",
              "      <td>-1.997871</td>\n",
              "      <td>-0.993733</td>\n",
              "      <td>1.066550</td>\n",
              "      <td>3.557267</td>\n",
              "      <td>4.119709</td>\n",
              "      <td>-1.146070</td>\n",
              "      <td>1.528646</td>\n",
              "      <td>2.543771</td>\n",
              "      <td>-2.620118</td>\n",
              "      <td>-1.753951</td>\n",
              "      <td>...</td>\n",
              "      <td>-3.694338</td>\n",
              "      <td>-1.881931</td>\n",
              "      <td>-0.160006</td>\n",
              "      <td>1.392673</td>\n",
              "      <td>-0.654080</td>\n",
              "      <td>-0.856430</td>\n",
              "      <td>-0.126262</td>\n",
              "      <td>-2.108260</td>\n",
              "      <td>h</td>\n",
              "      <td>ham</td>\n",
              "    </tr>\n",
              "    <tr>\n",
              "      <th>2</th>\n",
              "      <td>-0.777874</td>\n",
              "      <td>-1.836088</td>\n",
              "      <td>1.227407</td>\n",
              "      <td>0.692029</td>\n",
              "      <td>1.871854</td>\n",
              "      <td>-1.381338</td>\n",
              "      <td>1.330841</td>\n",
              "      <td>1.227099</td>\n",
              "      <td>-1.303687</td>\n",
              "      <td>-1.110930</td>\n",
              "      <td>...</td>\n",
              "      <td>-0.279138</td>\n",
              "      <td>-1.234978</td>\n",
              "      <td>-0.065086</td>\n",
              "      <td>0.704721</td>\n",
              "      <td>-0.621658</td>\n",
              "      <td>-2.003180</td>\n",
              "      <td>-1.037511</td>\n",
              "      <td>-0.592146</td>\n",
              "      <td>h</td>\n",
              "      <td>ham</td>\n",
              "    </tr>\n",
              "    <tr>\n",
              "      <th>3</th>\n",
              "      <td>-0.378876</td>\n",
              "      <td>-2.345197</td>\n",
              "      <td>1.710684</td>\n",
              "      <td>0.263419</td>\n",
              "      <td>2.076986</td>\n",
              "      <td>-1.316213</td>\n",
              "      <td>0.626700</td>\n",
              "      <td>0.457884</td>\n",
              "      <td>-1.322815</td>\n",
              "      <td>-0.933804</td>\n",
              "      <td>...</td>\n",
              "      <td>0.074630</td>\n",
              "      <td>-1.160641</td>\n",
              "      <td>0.362106</td>\n",
              "      <td>0.444450</td>\n",
              "      <td>0.606455</td>\n",
              "      <td>-0.656321</td>\n",
              "      <td>-0.804740</td>\n",
              "      <td>-0.500207</td>\n",
              "      <td>h</td>\n",
              "      <td>ham</td>\n",
              "    </tr>\n",
              "    <tr>\n",
              "      <th>4</th>\n",
              "      <td>-1.339615</td>\n",
              "      <td>-3.523059</td>\n",
              "      <td>3.290860</td>\n",
              "      <td>0.644499</td>\n",
              "      <td>2.800753</td>\n",
              "      <td>-0.692417</td>\n",
              "      <td>1.480541</td>\n",
              "      <td>0.472253</td>\n",
              "      <td>-0.369334</td>\n",
              "      <td>-1.549670</td>\n",
              "      <td>...</td>\n",
              "      <td>-0.471850</td>\n",
              "      <td>-1.672230</td>\n",
              "      <td>0.721191</td>\n",
              "      <td>1.180729</td>\n",
              "      <td>-1.514010</td>\n",
              "      <td>-1.308038</td>\n",
              "      <td>0.401880</td>\n",
              "      <td>-1.326748</td>\n",
              "      <td>h</td>\n",
              "      <td>ham</td>\n",
              "    </tr>\n",
              "    <tr>\n",
              "      <th>...</th>\n",
              "      <td>...</td>\n",
              "      <td>...</td>\n",
              "      <td>...</td>\n",
              "      <td>...</td>\n",
              "      <td>...</td>\n",
              "      <td>...</td>\n",
              "      <td>...</td>\n",
              "      <td>...</td>\n",
              "      <td>...</td>\n",
              "      <td>...</td>\n",
              "      <td>...</td>\n",
              "      <td>...</td>\n",
              "      <td>...</td>\n",
              "      <td>...</td>\n",
              "      <td>...</td>\n",
              "      <td>...</td>\n",
              "      <td>...</td>\n",
              "      <td>...</td>\n",
              "      <td>...</td>\n",
              "      <td>...</td>\n",
              "      <td>...</td>\n",
              "    </tr>\n",
              "    <tr>\n",
              "      <th>5167</th>\n",
              "      <td>-1.376452</td>\n",
              "      <td>0.579227</td>\n",
              "      <td>-2.128867</td>\n",
              "      <td>0.255497</td>\n",
              "      <td>3.546762</td>\n",
              "      <td>0.266810</td>\n",
              "      <td>0.343035</td>\n",
              "      <td>3.866165</td>\n",
              "      <td>-0.296229</td>\n",
              "      <td>-0.193909</td>\n",
              "      <td>...</td>\n",
              "      <td>0.019645</td>\n",
              "      <td>-0.165400</td>\n",
              "      <td>-1.198439</td>\n",
              "      <td>1.047175</td>\n",
              "      <td>0.501223</td>\n",
              "      <td>-0.689944</td>\n",
              "      <td>-2.520779</td>\n",
              "      <td>1.200493</td>\n",
              "      <td>s</td>\n",
              "      <td>spam</td>\n",
              "    </tr>\n",
              "    <tr>\n",
              "      <th>5168</th>\n",
              "      <td>-0.757229</td>\n",
              "      <td>0.250863</td>\n",
              "      <td>-1.137060</td>\n",
              "      <td>-0.152292</td>\n",
              "      <td>1.953716</td>\n",
              "      <td>-0.433933</td>\n",
              "      <td>0.643753</td>\n",
              "      <td>2.300299</td>\n",
              "      <td>-1.938761</td>\n",
              "      <td>-0.281423</td>\n",
              "      <td>...</td>\n",
              "      <td>1.205716</td>\n",
              "      <td>-1.734588</td>\n",
              "      <td>-0.657278</td>\n",
              "      <td>1.151494</td>\n",
              "      <td>0.246016</td>\n",
              "      <td>-1.083122</td>\n",
              "      <td>-2.163669</td>\n",
              "      <td>0.113734</td>\n",
              "      <td>s</td>\n",
              "      <td>spam</td>\n",
              "    </tr>\n",
              "    <tr>\n",
              "      <th>5169</th>\n",
              "      <td>0.144048</td>\n",
              "      <td>1.678155</td>\n",
              "      <td>-3.108294</td>\n",
              "      <td>-0.244190</td>\n",
              "      <td>2.582361</td>\n",
              "      <td>0.853664</td>\n",
              "      <td>-0.206287</td>\n",
              "      <td>3.224796</td>\n",
              "      <td>-2.908455</td>\n",
              "      <td>0.826976</td>\n",
              "      <td>...</td>\n",
              "      <td>0.618286</td>\n",
              "      <td>-0.079004</td>\n",
              "      <td>-1.117445</td>\n",
              "      <td>0.071327</td>\n",
              "      <td>-0.695799</td>\n",
              "      <td>-0.706260</td>\n",
              "      <td>-3.507935</td>\n",
              "      <td>2.186368</td>\n",
              "      <td>s</td>\n",
              "      <td>spam</td>\n",
              "    </tr>\n",
              "    <tr>\n",
              "      <th>5170</th>\n",
              "      <td>-0.508700</td>\n",
              "      <td>0.153947</td>\n",
              "      <td>-0.105173</td>\n",
              "      <td>0.632688</td>\n",
              "      <td>1.859814</td>\n",
              "      <td>-0.597566</td>\n",
              "      <td>0.247870</td>\n",
              "      <td>1.164315</td>\n",
              "      <td>-1.645702</td>\n",
              "      <td>-1.200339</td>\n",
              "      <td>...</td>\n",
              "      <td>0.996342</td>\n",
              "      <td>-0.859071</td>\n",
              "      <td>-0.265438</td>\n",
              "      <td>0.837072</td>\n",
              "      <td>1.035834</td>\n",
              "      <td>-0.980301</td>\n",
              "      <td>-1.083439</td>\n",
              "      <td>0.455893</td>\n",
              "      <td>s</td>\n",
              "      <td>spam</td>\n",
              "    </tr>\n",
              "    <tr>\n",
              "      <th>5171</th>\n",
              "      <td>-1.708968</td>\n",
              "      <td>-1.411763</td>\n",
              "      <td>4.475396</td>\n",
              "      <td>0.439328</td>\n",
              "      <td>3.618666</td>\n",
              "      <td>-2.258723</td>\n",
              "      <td>1.496194</td>\n",
              "      <td>-0.800700</td>\n",
              "      <td>-0.788668</td>\n",
              "      <td>-1.699872</td>\n",
              "      <td>...</td>\n",
              "      <td>0.821816</td>\n",
              "      <td>-2.393135</td>\n",
              "      <td>0.785278</td>\n",
              "      <td>1.681470</td>\n",
              "      <td>-0.463841</td>\n",
              "      <td>-3.138019</td>\n",
              "      <td>-1.334910</td>\n",
              "      <td>0.115991</td>\n",
              "      <td>s</td>\n",
              "      <td>spam</td>\n",
              "    </tr>\n",
              "  </tbody>\n",
              "</table>\n",
              "<p>5172 rows × 302 columns</p>\n",
              "</div>\n",
              "      <button class=\"colab-df-convert\" onclick=\"convertToInteractive('df-e41dd03a-cf48-482e-a362-e33873797e5b')\"\n",
              "              title=\"Convert this dataframe to an interactive table.\"\n",
              "              style=\"display:none;\">\n",
              "        \n",
              "  <svg xmlns=\"http://www.w3.org/2000/svg\" height=\"24px\"viewBox=\"0 0 24 24\"\n",
              "       width=\"24px\">\n",
              "    <path d=\"M0 0h24v24H0V0z\" fill=\"none\"/>\n",
              "    <path d=\"M18.56 5.44l.94 2.06.94-2.06 2.06-.94-2.06-.94-.94-2.06-.94 2.06-2.06.94zm-11 1L8.5 8.5l.94-2.06 2.06-.94-2.06-.94L8.5 2.5l-.94 2.06-2.06.94zm10 10l.94 2.06.94-2.06 2.06-.94-2.06-.94-.94-2.06-.94 2.06-2.06.94z\"/><path d=\"M17.41 7.96l-1.37-1.37c-.4-.4-.92-.59-1.43-.59-.52 0-1.04.2-1.43.59L10.3 9.45l-7.72 7.72c-.78.78-.78 2.05 0 2.83L4 21.41c.39.39.9.59 1.41.59.51 0 1.02-.2 1.41-.59l7.78-7.78 2.81-2.81c.8-.78.8-2.07 0-2.86zM5.41 20L4 18.59l7.72-7.72 1.47 1.35L5.41 20z\"/>\n",
              "  </svg>\n",
              "      </button>\n",
              "      \n",
              "  <style>\n",
              "    .colab-df-container {\n",
              "      display:flex;\n",
              "      flex-wrap:wrap;\n",
              "      gap: 12px;\n",
              "    }\n",
              "\n",
              "    .colab-df-convert {\n",
              "      background-color: #E8F0FE;\n",
              "      border: none;\n",
              "      border-radius: 50%;\n",
              "      cursor: pointer;\n",
              "      display: none;\n",
              "      fill: #1967D2;\n",
              "      height: 32px;\n",
              "      padding: 0 0 0 0;\n",
              "      width: 32px;\n",
              "    }\n",
              "\n",
              "    .colab-df-convert:hover {\n",
              "      background-color: #E2EBFA;\n",
              "      box-shadow: 0px 1px 2px rgba(60, 64, 67, 0.3), 0px 1px 3px 1px rgba(60, 64, 67, 0.15);\n",
              "      fill: #174EA6;\n",
              "    }\n",
              "\n",
              "    [theme=dark] .colab-df-convert {\n",
              "      background-color: #3B4455;\n",
              "      fill: #D2E3FC;\n",
              "    }\n",
              "\n",
              "    [theme=dark] .colab-df-convert:hover {\n",
              "      background-color: #434B5C;\n",
              "      box-shadow: 0px 1px 3px 1px rgba(0, 0, 0, 0.15);\n",
              "      filter: drop-shadow(0px 1px 2px rgba(0, 0, 0, 0.3));\n",
              "      fill: #FFFFFF;\n",
              "    }\n",
              "  </style>\n",
              "\n",
              "      <script>\n",
              "        const buttonEl =\n",
              "          document.querySelector('#df-e41dd03a-cf48-482e-a362-e33873797e5b button.colab-df-convert');\n",
              "        buttonEl.style.display =\n",
              "          google.colab.kernel.accessAllowed ? 'block' : 'none';\n",
              "\n",
              "        async function convertToInteractive(key) {\n",
              "          const element = document.querySelector('#df-e41dd03a-cf48-482e-a362-e33873797e5b');\n",
              "          const dataTable =\n",
              "            await google.colab.kernel.invokeFunction('convertToInteractive',\n",
              "                                                     [key], {});\n",
              "          if (!dataTable) return;\n",
              "\n",
              "          const docLinkHtml = 'Like what you see? Visit the ' +\n",
              "            '<a target=\"_blank\" href=https://colab.research.google.com/notebooks/data_table.ipynb>data table notebook</a>'\n",
              "            + ' to learn more about interactive tables.';\n",
              "          element.innerHTML = '';\n",
              "          dataTable['output_type'] = 'display_data';\n",
              "          await google.colab.output.renderOutput(dataTable, element);\n",
              "          const docLink = document.createElement('div');\n",
              "          docLink.innerHTML = docLinkHtml;\n",
              "          element.appendChild(docLink);\n",
              "        }\n",
              "      </script>\n",
              "    </div>\n",
              "  </div>\n",
              "  "
            ]
          },
          "metadata": {},
          "execution_count": 36
        }
      ]
    },
    {
      "cell_type": "markdown",
      "source": [
        "###making a copy to manipulate our dataset"
      ],
      "metadata": {
        "id": "ZEZt01Asn24F"
      }
    },
    {
      "cell_type": "code",
      "source": [
        "dataset = embedding_df.copy()"
      ],
      "metadata": {
        "id": "OaIMKDSCe1iN"
      },
      "execution_count": null,
      "outputs": []
    },
    {
      "cell_type": "markdown",
      "source": [
        "###Examine the distribution of the classification targets"
      ],
      "metadata": {
        "id": "DQUncsZTP_Aq"
      }
    },
    {
      "cell_type": "code",
      "source": [
        "dataset['classif'].value_counts()"
      ],
      "metadata": {
        "colab": {
          "base_uri": "https://localhost:8080/"
        },
        "id": "RyDwF1K_fCAV",
        "outputId": "bf4e3e30-1955-469e-baf0-038dea416b40"
      },
      "execution_count": null,
      "outputs": [
        {
          "output_type": "execute_result",
          "data": {
            "text/plain": [
              "ham     3672\n",
              "spam    1500\n",
              "Name: classif, dtype: int64"
            ]
          },
          "metadata": {},
          "execution_count": 38
        }
      ]
    },
    {
      "cell_type": "markdown",
      "source": [
        "###Extract features and target"
      ],
      "metadata": {
        "id": "qtZYOJloP-9l"
      }
    },
    {
      "cell_type": "code",
      "source": [
        "dataset"
      ],
      "metadata": {
        "id": "zOtL03sfgf3E"
      },
      "execution_count": null,
      "outputs": []
    },
    {
      "cell_type": "code",
      "source": [
        "# code here \n",
        "X= dataset[dataset.columns.difference(['fileids','classif'])]\n",
        "y= dataset['classif']"
      ],
      "metadata": {
        "id": "ksCN1mcqfULr"
      },
      "execution_count": null,
      "outputs": []
    },
    {
      "cell_type": "markdown",
      "source": [
        "###Split the data into a training set, a validation set, and a test set"
      ],
      "metadata": {
        "id": "YvYSmGPnfSwM"
      }
    },
    {
      "cell_type": "code",
      "source": [
        "X_train, X_test, y_train, y_test \\\n",
        "    = sklearn.model_selection.train_test_split(X, y, random_state=0, \\\n",
        "                                    train_size = 0.7)"
      ],
      "metadata": {
        "id": "ScU9ZzUBfdqN"
      },
      "execution_count": null,
      "outputs": []
    },
    {
      "cell_type": "code",
      "source": [
        "y_train.shape, y_test.shape"
      ],
      "metadata": {
        "colab": {
          "base_uri": "https://localhost:8080/"
        },
        "id": "rA6A3MzVff_6",
        "outputId": "94364971-5fc8-42a4-ec5f-a82f8530e828"
      },
      "execution_count": null,
      "outputs": [
        {
          "output_type": "execute_result",
          "data": {
            "text/plain": [
              "((3620,), (1552,))"
            ]
          },
          "metadata": {},
          "execution_count": 41
        }
      ]
    },
    {
      "cell_type": "code",
      "source": [
        "X_train"
      ],
      "metadata": {
        "colab": {
          "base_uri": "https://localhost:8080/",
          "height": 488
        },
        "id": "PX5h2WbOgJ2H",
        "outputId": "a2605c75-b1d9-47b9-ac95-e07ed6c24bed"
      },
      "execution_count": null,
      "outputs": [
        {
          "output_type": "execute_result",
          "data": {
            "text/plain": [
              "           0         1         2         3         4         5         6    \\\n",
              "3459 -1.437599  0.226079 -0.450912  0.404665  3.496755  0.069425  0.284366   \n",
              "1385 -1.120867  0.508721 -0.932461  0.199652  1.349656  0.061273  0.653400   \n",
              "1380 -1.579733  0.501096 -2.319731  0.137719  3.580279  0.412942  0.104895   \n",
              "4462 -0.520833 -0.711891  0.240603  1.142083  2.197955 -0.181643  1.368186   \n",
              "3840  0.198265 -1.708733 -1.760131 -0.553231  2.611292  0.277894  1.915154   \n",
              "...        ...       ...       ...       ...       ...       ...       ...   \n",
              "4931 -0.470910 -0.204197 -0.992584  0.301529  1.393505  0.179501  0.190252   \n",
              "3264 -1.213025 -0.644864 -1.058862  1.564644  3.668147 -0.218824  0.520318   \n",
              "1653 -1.097445  1.412502 -1.979286 -0.153758  1.891362  0.760083 -0.052114   \n",
              "2607 -1.831192 -1.353455 -0.005766  2.153155  2.552732 -1.142333  1.683744   \n",
              "2732 -0.601881  0.218582 -1.392648 -0.095602  2.981815  0.467028  0.698103   \n",
              "\n",
              "           7         8         9    ...       290       291       292  \\\n",
              "3459  2.048859 -1.117320 -0.980152  ...  0.231233 -0.183068  0.097590   \n",
              "1385  1.962002 -1.469238 -0.481587  ... -0.140135  0.275941 -0.194973   \n",
              "1380  3.274560 -0.690481 -1.034186  ... -0.257978 -0.573491 -0.429924   \n",
              "4462  1.568030 -2.636975 -0.585235  ... -1.638506  1.046614  0.031370   \n",
              "3840  0.200131 -0.957162 -0.450354  ... -1.222873  0.561924  2.265649   \n",
              "...        ...       ...       ...  ...       ...       ...       ...   \n",
              "4931  1.128582 -0.496211 -0.318439  ... -0.042498 -0.034045 -0.007838   \n",
              "3264  2.602430 -0.840984 -1.118595  ... -0.295590  0.139079 -0.389908   \n",
              "1653  2.501544 -1.881247 -0.004948  ...  0.073947 -0.189457 -0.213446   \n",
              "2607  2.203115 -1.750254 -1.513471  ... -1.766798  1.863239 -1.443947   \n",
              "2732  2.884152 -1.807737 -0.775339  ... -0.012073 -0.114715  0.298042   \n",
              "\n",
              "           293       294       295       296       297       298       299  \n",
              "3459 -0.656178 -0.674150  1.264731  0.428845 -0.986330 -1.746275  0.919646  \n",
              "1385 -0.964436 -0.521175  0.184465 -0.505542 -0.919019 -2.007824  0.133696  \n",
              "1380 -0.121189 -0.829141  0.837816 -0.056778 -1.387864 -2.246517  1.365276  \n",
              "4462 -1.225700 -0.341996  1.383547 -1.162384 -1.036130 -1.557042 -1.181642  \n",
              "3840 -0.340103 -0.758102  1.295112 -0.275847 -0.719250 -2.540278  0.980197  \n",
              "...        ...       ...       ...       ...       ...       ...       ...  \n",
              "4931 -0.660935 -0.229728  0.286896 -0.093739  0.140259 -0.343516 -0.207982  \n",
              "3264 -0.325878 -0.816654  0.869295  0.328183 -0.985104 -1.220317  0.241293  \n",
              "1653 -0.759362 -0.767308  0.420209 -0.182166 -0.414276 -2.441626  0.889603  \n",
              "2607 -1.060487 -0.266778  1.772809 -1.075241 -1.351612 -0.495693 -0.698108  \n",
              "2732 -0.594746 -0.807657  0.754977  0.502980 -1.026293 -2.693095  0.769758  \n",
              "\n",
              "[3620 rows x 300 columns]"
            ],
            "text/html": [
              "\n",
              "  <div id=\"df-c953ceff-4cd3-4402-9454-88aba2fc3cde\">\n",
              "    <div class=\"colab-df-container\">\n",
              "      <div>\n",
              "<style scoped>\n",
              "    .dataframe tbody tr th:only-of-type {\n",
              "        vertical-align: middle;\n",
              "    }\n",
              "\n",
              "    .dataframe tbody tr th {\n",
              "        vertical-align: top;\n",
              "    }\n",
              "\n",
              "    .dataframe thead th {\n",
              "        text-align: right;\n",
              "    }\n",
              "</style>\n",
              "<table border=\"1\" class=\"dataframe\">\n",
              "  <thead>\n",
              "    <tr style=\"text-align: right;\">\n",
              "      <th></th>\n",
              "      <th>0</th>\n",
              "      <th>1</th>\n",
              "      <th>2</th>\n",
              "      <th>3</th>\n",
              "      <th>4</th>\n",
              "      <th>5</th>\n",
              "      <th>6</th>\n",
              "      <th>7</th>\n",
              "      <th>8</th>\n",
              "      <th>9</th>\n",
              "      <th>...</th>\n",
              "      <th>290</th>\n",
              "      <th>291</th>\n",
              "      <th>292</th>\n",
              "      <th>293</th>\n",
              "      <th>294</th>\n",
              "      <th>295</th>\n",
              "      <th>296</th>\n",
              "      <th>297</th>\n",
              "      <th>298</th>\n",
              "      <th>299</th>\n",
              "    </tr>\n",
              "  </thead>\n",
              "  <tbody>\n",
              "    <tr>\n",
              "      <th>3459</th>\n",
              "      <td>-1.437599</td>\n",
              "      <td>0.226079</td>\n",
              "      <td>-0.450912</td>\n",
              "      <td>0.404665</td>\n",
              "      <td>3.496755</td>\n",
              "      <td>0.069425</td>\n",
              "      <td>0.284366</td>\n",
              "      <td>2.048859</td>\n",
              "      <td>-1.117320</td>\n",
              "      <td>-0.980152</td>\n",
              "      <td>...</td>\n",
              "      <td>0.231233</td>\n",
              "      <td>-0.183068</td>\n",
              "      <td>0.097590</td>\n",
              "      <td>-0.656178</td>\n",
              "      <td>-0.674150</td>\n",
              "      <td>1.264731</td>\n",
              "      <td>0.428845</td>\n",
              "      <td>-0.986330</td>\n",
              "      <td>-1.746275</td>\n",
              "      <td>0.919646</td>\n",
              "    </tr>\n",
              "    <tr>\n",
              "      <th>1385</th>\n",
              "      <td>-1.120867</td>\n",
              "      <td>0.508721</td>\n",
              "      <td>-0.932461</td>\n",
              "      <td>0.199652</td>\n",
              "      <td>1.349656</td>\n",
              "      <td>0.061273</td>\n",
              "      <td>0.653400</td>\n",
              "      <td>1.962002</td>\n",
              "      <td>-1.469238</td>\n",
              "      <td>-0.481587</td>\n",
              "      <td>...</td>\n",
              "      <td>-0.140135</td>\n",
              "      <td>0.275941</td>\n",
              "      <td>-0.194973</td>\n",
              "      <td>-0.964436</td>\n",
              "      <td>-0.521175</td>\n",
              "      <td>0.184465</td>\n",
              "      <td>-0.505542</td>\n",
              "      <td>-0.919019</td>\n",
              "      <td>-2.007824</td>\n",
              "      <td>0.133696</td>\n",
              "    </tr>\n",
              "    <tr>\n",
              "      <th>1380</th>\n",
              "      <td>-1.579733</td>\n",
              "      <td>0.501096</td>\n",
              "      <td>-2.319731</td>\n",
              "      <td>0.137719</td>\n",
              "      <td>3.580279</td>\n",
              "      <td>0.412942</td>\n",
              "      <td>0.104895</td>\n",
              "      <td>3.274560</td>\n",
              "      <td>-0.690481</td>\n",
              "      <td>-1.034186</td>\n",
              "      <td>...</td>\n",
              "      <td>-0.257978</td>\n",
              "      <td>-0.573491</td>\n",
              "      <td>-0.429924</td>\n",
              "      <td>-0.121189</td>\n",
              "      <td>-0.829141</td>\n",
              "      <td>0.837816</td>\n",
              "      <td>-0.056778</td>\n",
              "      <td>-1.387864</td>\n",
              "      <td>-2.246517</td>\n",
              "      <td>1.365276</td>\n",
              "    </tr>\n",
              "    <tr>\n",
              "      <th>4462</th>\n",
              "      <td>-0.520833</td>\n",
              "      <td>-0.711891</td>\n",
              "      <td>0.240603</td>\n",
              "      <td>1.142083</td>\n",
              "      <td>2.197955</td>\n",
              "      <td>-0.181643</td>\n",
              "      <td>1.368186</td>\n",
              "      <td>1.568030</td>\n",
              "      <td>-2.636975</td>\n",
              "      <td>-0.585235</td>\n",
              "      <td>...</td>\n",
              "      <td>-1.638506</td>\n",
              "      <td>1.046614</td>\n",
              "      <td>0.031370</td>\n",
              "      <td>-1.225700</td>\n",
              "      <td>-0.341996</td>\n",
              "      <td>1.383547</td>\n",
              "      <td>-1.162384</td>\n",
              "      <td>-1.036130</td>\n",
              "      <td>-1.557042</td>\n",
              "      <td>-1.181642</td>\n",
              "    </tr>\n",
              "    <tr>\n",
              "      <th>3840</th>\n",
              "      <td>0.198265</td>\n",
              "      <td>-1.708733</td>\n",
              "      <td>-1.760131</td>\n",
              "      <td>-0.553231</td>\n",
              "      <td>2.611292</td>\n",
              "      <td>0.277894</td>\n",
              "      <td>1.915154</td>\n",
              "      <td>0.200131</td>\n",
              "      <td>-0.957162</td>\n",
              "      <td>-0.450354</td>\n",
              "      <td>...</td>\n",
              "      <td>-1.222873</td>\n",
              "      <td>0.561924</td>\n",
              "      <td>2.265649</td>\n",
              "      <td>-0.340103</td>\n",
              "      <td>-0.758102</td>\n",
              "      <td>1.295112</td>\n",
              "      <td>-0.275847</td>\n",
              "      <td>-0.719250</td>\n",
              "      <td>-2.540278</td>\n",
              "      <td>0.980197</td>\n",
              "    </tr>\n",
              "    <tr>\n",
              "      <th>...</th>\n",
              "      <td>...</td>\n",
              "      <td>...</td>\n",
              "      <td>...</td>\n",
              "      <td>...</td>\n",
              "      <td>...</td>\n",
              "      <td>...</td>\n",
              "      <td>...</td>\n",
              "      <td>...</td>\n",
              "      <td>...</td>\n",
              "      <td>...</td>\n",
              "      <td>...</td>\n",
              "      <td>...</td>\n",
              "      <td>...</td>\n",
              "      <td>...</td>\n",
              "      <td>...</td>\n",
              "      <td>...</td>\n",
              "      <td>...</td>\n",
              "      <td>...</td>\n",
              "      <td>...</td>\n",
              "      <td>...</td>\n",
              "      <td>...</td>\n",
              "    </tr>\n",
              "    <tr>\n",
              "      <th>4931</th>\n",
              "      <td>-0.470910</td>\n",
              "      <td>-0.204197</td>\n",
              "      <td>-0.992584</td>\n",
              "      <td>0.301529</td>\n",
              "      <td>1.393505</td>\n",
              "      <td>0.179501</td>\n",
              "      <td>0.190252</td>\n",
              "      <td>1.128582</td>\n",
              "      <td>-0.496211</td>\n",
              "      <td>-0.318439</td>\n",
              "      <td>...</td>\n",
              "      <td>-0.042498</td>\n",
              "      <td>-0.034045</td>\n",
              "      <td>-0.007838</td>\n",
              "      <td>-0.660935</td>\n",
              "      <td>-0.229728</td>\n",
              "      <td>0.286896</td>\n",
              "      <td>-0.093739</td>\n",
              "      <td>0.140259</td>\n",
              "      <td>-0.343516</td>\n",
              "      <td>-0.207982</td>\n",
              "    </tr>\n",
              "    <tr>\n",
              "      <th>3264</th>\n",
              "      <td>-1.213025</td>\n",
              "      <td>-0.644864</td>\n",
              "      <td>-1.058862</td>\n",
              "      <td>1.564644</td>\n",
              "      <td>3.668147</td>\n",
              "      <td>-0.218824</td>\n",
              "      <td>0.520318</td>\n",
              "      <td>2.602430</td>\n",
              "      <td>-0.840984</td>\n",
              "      <td>-1.118595</td>\n",
              "      <td>...</td>\n",
              "      <td>-0.295590</td>\n",
              "      <td>0.139079</td>\n",
              "      <td>-0.389908</td>\n",
              "      <td>-0.325878</td>\n",
              "      <td>-0.816654</td>\n",
              "      <td>0.869295</td>\n",
              "      <td>0.328183</td>\n",
              "      <td>-0.985104</td>\n",
              "      <td>-1.220317</td>\n",
              "      <td>0.241293</td>\n",
              "    </tr>\n",
              "    <tr>\n",
              "      <th>1653</th>\n",
              "      <td>-1.097445</td>\n",
              "      <td>1.412502</td>\n",
              "      <td>-1.979286</td>\n",
              "      <td>-0.153758</td>\n",
              "      <td>1.891362</td>\n",
              "      <td>0.760083</td>\n",
              "      <td>-0.052114</td>\n",
              "      <td>2.501544</td>\n",
              "      <td>-1.881247</td>\n",
              "      <td>-0.004948</td>\n",
              "      <td>...</td>\n",
              "      <td>0.073947</td>\n",
              "      <td>-0.189457</td>\n",
              "      <td>-0.213446</td>\n",
              "      <td>-0.759362</td>\n",
              "      <td>-0.767308</td>\n",
              "      <td>0.420209</td>\n",
              "      <td>-0.182166</td>\n",
              "      <td>-0.414276</td>\n",
              "      <td>-2.441626</td>\n",
              "      <td>0.889603</td>\n",
              "    </tr>\n",
              "    <tr>\n",
              "      <th>2607</th>\n",
              "      <td>-1.831192</td>\n",
              "      <td>-1.353455</td>\n",
              "      <td>-0.005766</td>\n",
              "      <td>2.153155</td>\n",
              "      <td>2.552732</td>\n",
              "      <td>-1.142333</td>\n",
              "      <td>1.683744</td>\n",
              "      <td>2.203115</td>\n",
              "      <td>-1.750254</td>\n",
              "      <td>-1.513471</td>\n",
              "      <td>...</td>\n",
              "      <td>-1.766798</td>\n",
              "      <td>1.863239</td>\n",
              "      <td>-1.443947</td>\n",
              "      <td>-1.060487</td>\n",
              "      <td>-0.266778</td>\n",
              "      <td>1.772809</td>\n",
              "      <td>-1.075241</td>\n",
              "      <td>-1.351612</td>\n",
              "      <td>-0.495693</td>\n",
              "      <td>-0.698108</td>\n",
              "    </tr>\n",
              "    <tr>\n",
              "      <th>2732</th>\n",
              "      <td>-0.601881</td>\n",
              "      <td>0.218582</td>\n",
              "      <td>-1.392648</td>\n",
              "      <td>-0.095602</td>\n",
              "      <td>2.981815</td>\n",
              "      <td>0.467028</td>\n",
              "      <td>0.698103</td>\n",
              "      <td>2.884152</td>\n",
              "      <td>-1.807737</td>\n",
              "      <td>-0.775339</td>\n",
              "      <td>...</td>\n",
              "      <td>-0.012073</td>\n",
              "      <td>-0.114715</td>\n",
              "      <td>0.298042</td>\n",
              "      <td>-0.594746</td>\n",
              "      <td>-0.807657</td>\n",
              "      <td>0.754977</td>\n",
              "      <td>0.502980</td>\n",
              "      <td>-1.026293</td>\n",
              "      <td>-2.693095</td>\n",
              "      <td>0.769758</td>\n",
              "    </tr>\n",
              "  </tbody>\n",
              "</table>\n",
              "<p>3620 rows × 300 columns</p>\n",
              "</div>\n",
              "      <button class=\"colab-df-convert\" onclick=\"convertToInteractive('df-c953ceff-4cd3-4402-9454-88aba2fc3cde')\"\n",
              "              title=\"Convert this dataframe to an interactive table.\"\n",
              "              style=\"display:none;\">\n",
              "        \n",
              "  <svg xmlns=\"http://www.w3.org/2000/svg\" height=\"24px\"viewBox=\"0 0 24 24\"\n",
              "       width=\"24px\">\n",
              "    <path d=\"M0 0h24v24H0V0z\" fill=\"none\"/>\n",
              "    <path d=\"M18.56 5.44l.94 2.06.94-2.06 2.06-.94-2.06-.94-.94-2.06-.94 2.06-2.06.94zm-11 1L8.5 8.5l.94-2.06 2.06-.94-2.06-.94L8.5 2.5l-.94 2.06-2.06.94zm10 10l.94 2.06.94-2.06 2.06-.94-2.06-.94-.94-2.06-.94 2.06-2.06.94z\"/><path d=\"M17.41 7.96l-1.37-1.37c-.4-.4-.92-.59-1.43-.59-.52 0-1.04.2-1.43.59L10.3 9.45l-7.72 7.72c-.78.78-.78 2.05 0 2.83L4 21.41c.39.39.9.59 1.41.59.51 0 1.02-.2 1.41-.59l7.78-7.78 2.81-2.81c.8-.78.8-2.07 0-2.86zM5.41 20L4 18.59l7.72-7.72 1.47 1.35L5.41 20z\"/>\n",
              "  </svg>\n",
              "      </button>\n",
              "      \n",
              "  <style>\n",
              "    .colab-df-container {\n",
              "      display:flex;\n",
              "      flex-wrap:wrap;\n",
              "      gap: 12px;\n",
              "    }\n",
              "\n",
              "    .colab-df-convert {\n",
              "      background-color: #E8F0FE;\n",
              "      border: none;\n",
              "      border-radius: 50%;\n",
              "      cursor: pointer;\n",
              "      display: none;\n",
              "      fill: #1967D2;\n",
              "      height: 32px;\n",
              "      padding: 0 0 0 0;\n",
              "      width: 32px;\n",
              "    }\n",
              "\n",
              "    .colab-df-convert:hover {\n",
              "      background-color: #E2EBFA;\n",
              "      box-shadow: 0px 1px 2px rgba(60, 64, 67, 0.3), 0px 1px 3px 1px rgba(60, 64, 67, 0.15);\n",
              "      fill: #174EA6;\n",
              "    }\n",
              "\n",
              "    [theme=dark] .colab-df-convert {\n",
              "      background-color: #3B4455;\n",
              "      fill: #D2E3FC;\n",
              "    }\n",
              "\n",
              "    [theme=dark] .colab-df-convert:hover {\n",
              "      background-color: #434B5C;\n",
              "      box-shadow: 0px 1px 3px 1px rgba(0, 0, 0, 0.15);\n",
              "      filter: drop-shadow(0px 1px 2px rgba(0, 0, 0, 0.3));\n",
              "      fill: #FFFFFF;\n",
              "    }\n",
              "  </style>\n",
              "\n",
              "      <script>\n",
              "        const buttonEl =\n",
              "          document.querySelector('#df-c953ceff-4cd3-4402-9454-88aba2fc3cde button.colab-df-convert');\n",
              "        buttonEl.style.display =\n",
              "          google.colab.kernel.accessAllowed ? 'block' : 'none';\n",
              "\n",
              "        async function convertToInteractive(key) {\n",
              "          const element = document.querySelector('#df-c953ceff-4cd3-4402-9454-88aba2fc3cde');\n",
              "          const dataTable =\n",
              "            await google.colab.kernel.invokeFunction('convertToInteractive',\n",
              "                                                     [key], {});\n",
              "          if (!dataTable) return;\n",
              "\n",
              "          const docLinkHtml = 'Like what you see? Visit the ' +\n",
              "            '<a target=\"_blank\" href=https://colab.research.google.com/notebooks/data_table.ipynb>data table notebook</a>'\n",
              "            + ' to learn more about interactive tables.';\n",
              "          element.innerHTML = '';\n",
              "          dataTable['output_type'] = 'display_data';\n",
              "          await google.colab.output.renderOutput(dataTable, element);\n",
              "          const docLink = document.createElement('div');\n",
              "          docLink.innerHTML = docLinkHtml;\n",
              "          element.appendChild(docLink);\n",
              "        }\n",
              "      </script>\n",
              "    </div>\n",
              "  </div>\n",
              "  "
            ]
          },
          "metadata": {},
          "execution_count": 464
        }
      ]
    },
    {
      "cell_type": "code",
      "source": [
        "y_train"
      ],
      "metadata": {
        "id": "j088PRanpoSb",
        "outputId": "62069041-7c98-4a6f-f728-69e092887a7b",
        "colab": {
          "base_uri": "https://localhost:8080/"
        }
      },
      "execution_count": null,
      "outputs": [
        {
          "output_type": "execute_result",
          "data": {
            "text/plain": [
              "3459     ham\n",
              "1385     ham\n",
              "1380     ham\n",
              "4462    spam\n",
              "3840    spam\n",
              "        ... \n",
              "4931    spam\n",
              "3264     ham\n",
              "1653     ham\n",
              "2607     ham\n",
              "2732     ham\n",
              "Name: classif, Length: 3620, dtype: object"
            ]
          },
          "metadata": {},
          "execution_count": 42
        }
      ]
    },
    {
      "cell_type": "markdown",
      "source": [
        "###A Simple Model"
      ],
      "metadata": {
        "id": "dfKwoX2wkze3"
      }
    },
    {
      "cell_type": "code",
      "source": [
        "model_NB_V2 = KNeighborsClassifier()"
      ],
      "metadata": {
        "id": "zZb6ZvSskyh8"
      },
      "execution_count": null,
      "outputs": []
    },
    {
      "cell_type": "code",
      "source": [
        "model_NB_V2.fit(X_train, y_train)"
      ],
      "metadata": {
        "id": "0Orj8vFblCuv",
        "outputId": "2e9a5818-65d2-4243-9b19-85f32ca277bc",
        "colab": {
          "base_uri": "https://localhost:8080/",
          "height": 75
        }
      },
      "execution_count": null,
      "outputs": [
        {
          "output_type": "execute_result",
          "data": {
            "text/plain": [
              "KNeighborsClassifier()"
            ],
            "text/html": [
              "<style>#sk-container-id-1 {color: black;background-color: white;}#sk-container-id-1 pre{padding: 0;}#sk-container-id-1 div.sk-toggleable {background-color: white;}#sk-container-id-1 label.sk-toggleable__label {cursor: pointer;display: block;width: 100%;margin-bottom: 0;padding: 0.3em;box-sizing: border-box;text-align: center;}#sk-container-id-1 label.sk-toggleable__label-arrow:before {content: \"▸\";float: left;margin-right: 0.25em;color: #696969;}#sk-container-id-1 label.sk-toggleable__label-arrow:hover:before {color: black;}#sk-container-id-1 div.sk-estimator:hover label.sk-toggleable__label-arrow:before {color: black;}#sk-container-id-1 div.sk-toggleable__content {max-height: 0;max-width: 0;overflow: hidden;text-align: left;background-color: #f0f8ff;}#sk-container-id-1 div.sk-toggleable__content pre {margin: 0.2em;color: black;border-radius: 0.25em;background-color: #f0f8ff;}#sk-container-id-1 input.sk-toggleable__control:checked~div.sk-toggleable__content {max-height: 200px;max-width: 100%;overflow: auto;}#sk-container-id-1 input.sk-toggleable__control:checked~label.sk-toggleable__label-arrow:before {content: \"▾\";}#sk-container-id-1 div.sk-estimator input.sk-toggleable__control:checked~label.sk-toggleable__label {background-color: #d4ebff;}#sk-container-id-1 div.sk-label input.sk-toggleable__control:checked~label.sk-toggleable__label {background-color: #d4ebff;}#sk-container-id-1 input.sk-hidden--visually {border: 0;clip: rect(1px 1px 1px 1px);clip: rect(1px, 1px, 1px, 1px);height: 1px;margin: -1px;overflow: hidden;padding: 0;position: absolute;width: 1px;}#sk-container-id-1 div.sk-estimator {font-family: monospace;background-color: #f0f8ff;border: 1px dotted black;border-radius: 0.25em;box-sizing: border-box;margin-bottom: 0.5em;}#sk-container-id-1 div.sk-estimator:hover {background-color: #d4ebff;}#sk-container-id-1 div.sk-parallel-item::after {content: \"\";width: 100%;border-bottom: 1px solid gray;flex-grow: 1;}#sk-container-id-1 div.sk-label:hover label.sk-toggleable__label {background-color: #d4ebff;}#sk-container-id-1 div.sk-serial::before {content: \"\";position: absolute;border-left: 1px solid gray;box-sizing: border-box;top: 0;bottom: 0;left: 50%;z-index: 0;}#sk-container-id-1 div.sk-serial {display: flex;flex-direction: column;align-items: center;background-color: white;padding-right: 0.2em;padding-left: 0.2em;position: relative;}#sk-container-id-1 div.sk-item {position: relative;z-index: 1;}#sk-container-id-1 div.sk-parallel {display: flex;align-items: stretch;justify-content: center;background-color: white;position: relative;}#sk-container-id-1 div.sk-item::before, #sk-container-id-1 div.sk-parallel-item::before {content: \"\";position: absolute;border-left: 1px solid gray;box-sizing: border-box;top: 0;bottom: 0;left: 50%;z-index: -1;}#sk-container-id-1 div.sk-parallel-item {display: flex;flex-direction: column;z-index: 1;position: relative;background-color: white;}#sk-container-id-1 div.sk-parallel-item:first-child::after {align-self: flex-end;width: 50%;}#sk-container-id-1 div.sk-parallel-item:last-child::after {align-self: flex-start;width: 50%;}#sk-container-id-1 div.sk-parallel-item:only-child::after {width: 0;}#sk-container-id-1 div.sk-dashed-wrapped {border: 1px dashed gray;margin: 0 0.4em 0.5em 0.4em;box-sizing: border-box;padding-bottom: 0.4em;background-color: white;}#sk-container-id-1 div.sk-label label {font-family: monospace;font-weight: bold;display: inline-block;line-height: 1.2em;}#sk-container-id-1 div.sk-label-container {text-align: center;}#sk-container-id-1 div.sk-container {/* jupyter's `normalize.less` sets `[hidden] { display: none; }` but bootstrap.min.css set `[hidden] { display: none !important; }` so we also need the `!important` here to be able to override the default hidden behavior on the sphinx rendered scikit-learn.org. See: https://github.com/scikit-learn/scikit-learn/issues/21755 */display: inline-block !important;position: relative;}#sk-container-id-1 div.sk-text-repr-fallback {display: none;}</style><div id=\"sk-container-id-1\" class=\"sk-top-container\"><div class=\"sk-text-repr-fallback\"><pre>KNeighborsClassifier()</pre><b>In a Jupyter environment, please rerun this cell to show the HTML representation or trust the notebook. <br />On GitHub, the HTML representation is unable to render, please try loading this page with nbviewer.org.</b></div><div class=\"sk-container\" hidden><div class=\"sk-item\"><div class=\"sk-estimator sk-toggleable\"><input class=\"sk-toggleable__control sk-hidden--visually\" id=\"sk-estimator-id-1\" type=\"checkbox\" checked><label for=\"sk-estimator-id-1\" class=\"sk-toggleable__label sk-toggleable__label-arrow\">KNeighborsClassifier</label><div class=\"sk-toggleable__content\"><pre>KNeighborsClassifier()</pre></div></div></div></div></div>"
            ]
          },
          "metadata": {},
          "execution_count": 44
        }
      ]
    },
    {
      "cell_type": "markdown",
      "source": [
        "###Evaluating Model Performance"
      ],
      "metadata": {
        "id": "fwknizLzkx7u"
      }
    },
    {
      "cell_type": "markdown",
      "source": [
        "####Assess the performance of the model on the validation dataset"
      ],
      "metadata": {
        "id": "pxSHH2oUkx4Z"
      }
    },
    {
      "cell_type": "code",
      "source": [
        "# Make a set of predictions for the validation data\n",
        "y_pred = model_NB_V2.predict(X_test)\n",
        "\n",
        "# Print performance details\n",
        "accuracy = sklearn.metrics.accuracy_score(y_test, y_pred) # , normalize=True, sample_weight=None\n",
        "print(\"Accuracy: \" +  str(accuracy))\n",
        "print(sklearn.metrics.classification_report(y_test, y_pred))\n",
        "\n",
        "# Print nicer confusion matrix\n",
        "print(\"Confusion Matrix\")\n",
        "pd.crosstab(y_test, y_pred, rownames=['True'], colnames=['Predicted'], margins=True)"
      ],
      "metadata": {
        "id": "3I4jF_bwlQTo",
        "outputId": "651dcd08-376b-4ffd-82a0-81a504342981",
        "colab": {
          "base_uri": "https://localhost:8080/",
          "height": 366
        }
      },
      "execution_count": null,
      "outputs": [
        {
          "output_type": "stream",
          "name": "stdout",
          "text": [
            "Accuracy: 0.9007731958762887\n",
            "              precision    recall  f1-score   support\n",
            "\n",
            "         ham       0.92      0.93      0.93      1075\n",
            "        spam       0.85      0.83      0.84       477\n",
            "\n",
            "    accuracy                           0.90      1552\n",
            "   macro avg       0.89      0.88      0.88      1552\n",
            "weighted avg       0.90      0.90      0.90      1552\n",
            "\n",
            "Confusion Matrix\n"
          ]
        },
        {
          "output_type": "execute_result",
          "data": {
            "text/plain": [
              "Predicted   ham  spam   All\n",
              "True                       \n",
              "ham        1004    71  1075\n",
              "spam         83   394   477\n",
              "All        1087   465  1552"
            ],
            "text/html": [
              "\n",
              "  <div id=\"df-2beac8f8-c29c-4dc6-905d-fa7ce4903dce\">\n",
              "    <div class=\"colab-df-container\">\n",
              "      <div>\n",
              "<style scoped>\n",
              "    .dataframe tbody tr th:only-of-type {\n",
              "        vertical-align: middle;\n",
              "    }\n",
              "\n",
              "    .dataframe tbody tr th {\n",
              "        vertical-align: top;\n",
              "    }\n",
              "\n",
              "    .dataframe thead th {\n",
              "        text-align: right;\n",
              "    }\n",
              "</style>\n",
              "<table border=\"1\" class=\"dataframe\">\n",
              "  <thead>\n",
              "    <tr style=\"text-align: right;\">\n",
              "      <th>Predicted</th>\n",
              "      <th>ham</th>\n",
              "      <th>spam</th>\n",
              "      <th>All</th>\n",
              "    </tr>\n",
              "    <tr>\n",
              "      <th>True</th>\n",
              "      <th></th>\n",
              "      <th></th>\n",
              "      <th></th>\n",
              "    </tr>\n",
              "  </thead>\n",
              "  <tbody>\n",
              "    <tr>\n",
              "      <th>ham</th>\n",
              "      <td>1004</td>\n",
              "      <td>71</td>\n",
              "      <td>1075</td>\n",
              "    </tr>\n",
              "    <tr>\n",
              "      <th>spam</th>\n",
              "      <td>83</td>\n",
              "      <td>394</td>\n",
              "      <td>477</td>\n",
              "    </tr>\n",
              "    <tr>\n",
              "      <th>All</th>\n",
              "      <td>1087</td>\n",
              "      <td>465</td>\n",
              "      <td>1552</td>\n",
              "    </tr>\n",
              "  </tbody>\n",
              "</table>\n",
              "</div>\n",
              "      <button class=\"colab-df-convert\" onclick=\"convertToInteractive('df-2beac8f8-c29c-4dc6-905d-fa7ce4903dce')\"\n",
              "              title=\"Convert this dataframe to an interactive table.\"\n",
              "              style=\"display:none;\">\n",
              "        \n",
              "  <svg xmlns=\"http://www.w3.org/2000/svg\" height=\"24px\"viewBox=\"0 0 24 24\"\n",
              "       width=\"24px\">\n",
              "    <path d=\"M0 0h24v24H0V0z\" fill=\"none\"/>\n",
              "    <path d=\"M18.56 5.44l.94 2.06.94-2.06 2.06-.94-2.06-.94-.94-2.06-.94 2.06-2.06.94zm-11 1L8.5 8.5l.94-2.06 2.06-.94-2.06-.94L8.5 2.5l-.94 2.06-2.06.94zm10 10l.94 2.06.94-2.06 2.06-.94-2.06-.94-.94-2.06-.94 2.06-2.06.94z\"/><path d=\"M17.41 7.96l-1.37-1.37c-.4-.4-.92-.59-1.43-.59-.52 0-1.04.2-1.43.59L10.3 9.45l-7.72 7.72c-.78.78-.78 2.05 0 2.83L4 21.41c.39.39.9.59 1.41.59.51 0 1.02-.2 1.41-.59l7.78-7.78 2.81-2.81c.8-.78.8-2.07 0-2.86zM5.41 20L4 18.59l7.72-7.72 1.47 1.35L5.41 20z\"/>\n",
              "  </svg>\n",
              "      </button>\n",
              "      \n",
              "  <style>\n",
              "    .colab-df-container {\n",
              "      display:flex;\n",
              "      flex-wrap:wrap;\n",
              "      gap: 12px;\n",
              "    }\n",
              "\n",
              "    .colab-df-convert {\n",
              "      background-color: #E8F0FE;\n",
              "      border: none;\n",
              "      border-radius: 50%;\n",
              "      cursor: pointer;\n",
              "      display: none;\n",
              "      fill: #1967D2;\n",
              "      height: 32px;\n",
              "      padding: 0 0 0 0;\n",
              "      width: 32px;\n",
              "    }\n",
              "\n",
              "    .colab-df-convert:hover {\n",
              "      background-color: #E2EBFA;\n",
              "      box-shadow: 0px 1px 2px rgba(60, 64, 67, 0.3), 0px 1px 3px 1px rgba(60, 64, 67, 0.15);\n",
              "      fill: #174EA6;\n",
              "    }\n",
              "\n",
              "    [theme=dark] .colab-df-convert {\n",
              "      background-color: #3B4455;\n",
              "      fill: #D2E3FC;\n",
              "    }\n",
              "\n",
              "    [theme=dark] .colab-df-convert:hover {\n",
              "      background-color: #434B5C;\n",
              "      box-shadow: 0px 1px 3px 1px rgba(0, 0, 0, 0.15);\n",
              "      filter: drop-shadow(0px 1px 2px rgba(0, 0, 0, 0.3));\n",
              "      fill: #FFFFFF;\n",
              "    }\n",
              "  </style>\n",
              "\n",
              "      <script>\n",
              "        const buttonEl =\n",
              "          document.querySelector('#df-2beac8f8-c29c-4dc6-905d-fa7ce4903dce button.colab-df-convert');\n",
              "        buttonEl.style.display =\n",
              "          google.colab.kernel.accessAllowed ? 'block' : 'none';\n",
              "\n",
              "        async function convertToInteractive(key) {\n",
              "          const element = document.querySelector('#df-2beac8f8-c29c-4dc6-905d-fa7ce4903dce');\n",
              "          const dataTable =\n",
              "            await google.colab.kernel.invokeFunction('convertToInteractive',\n",
              "                                                     [key], {});\n",
              "          if (!dataTable) return;\n",
              "\n",
              "          const docLinkHtml = 'Like what you see? Visit the ' +\n",
              "            '<a target=\"_blank\" href=https://colab.research.google.com/notebooks/data_table.ipynb>data table notebook</a>'\n",
              "            + ' to learn more about interactive tables.';\n",
              "          element.innerHTML = '';\n",
              "          dataTable['output_type'] = 'display_data';\n",
              "          await google.colab.output.renderOutput(dataTable, element);\n",
              "          const docLink = document.createElement('div');\n",
              "          docLink.innerHTML = docLinkHtml;\n",
              "          element.appendChild(docLink);\n",
              "        }\n",
              "      </script>\n",
              "    </div>\n",
              "  </div>\n",
              "  "
            ]
          },
          "metadata": {},
          "execution_count": 46
        }
      ]
    },
    {
      "cell_type": "markdown",
      "source": [
        "###Assess the performance of the model on the test dataset"
      ],
      "metadata": {
        "id": "CZGwTvgTkx1p"
      }
    },
    {
      "cell_type": "code",
      "source": [
        "# Make a set of predictions for the validation data\n",
        "y_pred = model_NB_V2.predict(X_test)\n",
        "\n",
        "# Print performance details\n",
        "accuracy = sklearn.metrics.accuracy_score(y_test, y_pred) # , normalize=True, sample_weight=None\n",
        "print(\"Accuracy: \" +  str(accuracy))\n",
        "print(sklearn.metrics.classification_report(y_test, y_pred))\n",
        "\n",
        "# Print nicer confusion matrix\n",
        "print(\"Confusion Matrix\")\n",
        "pd.crosstab(y_test, y_pred, rownames=['True'], colnames=['Predicted'], margins=True)"
      ],
      "metadata": {
        "id": "ZdXTkEl4lbFq",
        "outputId": "443455ac-940c-40da-920d-47165ce0b18f",
        "colab": {
          "base_uri": "https://localhost:8080/",
          "height": 366
        }
      },
      "execution_count": null,
      "outputs": [
        {
          "output_type": "stream",
          "name": "stdout",
          "text": [
            "Accuracy: 0.9007731958762887\n",
            "              precision    recall  f1-score   support\n",
            "\n",
            "         ham       0.92      0.93      0.93      1075\n",
            "        spam       0.85      0.83      0.84       477\n",
            "\n",
            "    accuracy                           0.90      1552\n",
            "   macro avg       0.89      0.88      0.88      1552\n",
            "weighted avg       0.90      0.90      0.90      1552\n",
            "\n",
            "Confusion Matrix\n"
          ]
        },
        {
          "output_type": "execute_result",
          "data": {
            "text/plain": [
              "Predicted   ham  spam   All\n",
              "True                       \n",
              "ham        1004    71  1075\n",
              "spam         83   394   477\n",
              "All        1087   465  1552"
            ],
            "text/html": [
              "\n",
              "  <div id=\"df-c967f71e-c925-4b2f-938e-4748c942727e\">\n",
              "    <div class=\"colab-df-container\">\n",
              "      <div>\n",
              "<style scoped>\n",
              "    .dataframe tbody tr th:only-of-type {\n",
              "        vertical-align: middle;\n",
              "    }\n",
              "\n",
              "    .dataframe tbody tr th {\n",
              "        vertical-align: top;\n",
              "    }\n",
              "\n",
              "    .dataframe thead th {\n",
              "        text-align: right;\n",
              "    }\n",
              "</style>\n",
              "<table border=\"1\" class=\"dataframe\">\n",
              "  <thead>\n",
              "    <tr style=\"text-align: right;\">\n",
              "      <th>Predicted</th>\n",
              "      <th>ham</th>\n",
              "      <th>spam</th>\n",
              "      <th>All</th>\n",
              "    </tr>\n",
              "    <tr>\n",
              "      <th>True</th>\n",
              "      <th></th>\n",
              "      <th></th>\n",
              "      <th></th>\n",
              "    </tr>\n",
              "  </thead>\n",
              "  <tbody>\n",
              "    <tr>\n",
              "      <th>ham</th>\n",
              "      <td>1004</td>\n",
              "      <td>71</td>\n",
              "      <td>1075</td>\n",
              "    </tr>\n",
              "    <tr>\n",
              "      <th>spam</th>\n",
              "      <td>83</td>\n",
              "      <td>394</td>\n",
              "      <td>477</td>\n",
              "    </tr>\n",
              "    <tr>\n",
              "      <th>All</th>\n",
              "      <td>1087</td>\n",
              "      <td>465</td>\n",
              "      <td>1552</td>\n",
              "    </tr>\n",
              "  </tbody>\n",
              "</table>\n",
              "</div>\n",
              "      <button class=\"colab-df-convert\" onclick=\"convertToInteractive('df-c967f71e-c925-4b2f-938e-4748c942727e')\"\n",
              "              title=\"Convert this dataframe to an interactive table.\"\n",
              "              style=\"display:none;\">\n",
              "        \n",
              "  <svg xmlns=\"http://www.w3.org/2000/svg\" height=\"24px\"viewBox=\"0 0 24 24\"\n",
              "       width=\"24px\">\n",
              "    <path d=\"M0 0h24v24H0V0z\" fill=\"none\"/>\n",
              "    <path d=\"M18.56 5.44l.94 2.06.94-2.06 2.06-.94-2.06-.94-.94-2.06-.94 2.06-2.06.94zm-11 1L8.5 8.5l.94-2.06 2.06-.94-2.06-.94L8.5 2.5l-.94 2.06-2.06.94zm10 10l.94 2.06.94-2.06 2.06-.94-2.06-.94-.94-2.06-.94 2.06-2.06.94z\"/><path d=\"M17.41 7.96l-1.37-1.37c-.4-.4-.92-.59-1.43-.59-.52 0-1.04.2-1.43.59L10.3 9.45l-7.72 7.72c-.78.78-.78 2.05 0 2.83L4 21.41c.39.39.9.59 1.41.59.51 0 1.02-.2 1.41-.59l7.78-7.78 2.81-2.81c.8-.78.8-2.07 0-2.86zM5.41 20L4 18.59l7.72-7.72 1.47 1.35L5.41 20z\"/>\n",
              "  </svg>\n",
              "      </button>\n",
              "      \n",
              "  <style>\n",
              "    .colab-df-container {\n",
              "      display:flex;\n",
              "      flex-wrap:wrap;\n",
              "      gap: 12px;\n",
              "    }\n",
              "\n",
              "    .colab-df-convert {\n",
              "      background-color: #E8F0FE;\n",
              "      border: none;\n",
              "      border-radius: 50%;\n",
              "      cursor: pointer;\n",
              "      display: none;\n",
              "      fill: #1967D2;\n",
              "      height: 32px;\n",
              "      padding: 0 0 0 0;\n",
              "      width: 32px;\n",
              "    }\n",
              "\n",
              "    .colab-df-convert:hover {\n",
              "      background-color: #E2EBFA;\n",
              "      box-shadow: 0px 1px 2px rgba(60, 64, 67, 0.3), 0px 1px 3px 1px rgba(60, 64, 67, 0.15);\n",
              "      fill: #174EA6;\n",
              "    }\n",
              "\n",
              "    [theme=dark] .colab-df-convert {\n",
              "      background-color: #3B4455;\n",
              "      fill: #D2E3FC;\n",
              "    }\n",
              "\n",
              "    [theme=dark] .colab-df-convert:hover {\n",
              "      background-color: #434B5C;\n",
              "      box-shadow: 0px 1px 3px 1px rgba(0, 0, 0, 0.15);\n",
              "      filter: drop-shadow(0px 1px 2px rgba(0, 0, 0, 0.3));\n",
              "      fill: #FFFFFF;\n",
              "    }\n",
              "  </style>\n",
              "\n",
              "      <script>\n",
              "        const buttonEl =\n",
              "          document.querySelector('#df-c967f71e-c925-4b2f-938e-4748c942727e button.colab-df-convert');\n",
              "        buttonEl.style.display =\n",
              "          google.colab.kernel.accessAllowed ? 'block' : 'none';\n",
              "\n",
              "        async function convertToInteractive(key) {\n",
              "          const element = document.querySelector('#df-c967f71e-c925-4b2f-938e-4748c942727e');\n",
              "          const dataTable =\n",
              "            await google.colab.kernel.invokeFunction('convertToInteractive',\n",
              "                                                     [key], {});\n",
              "          if (!dataTable) return;\n",
              "\n",
              "          const docLinkHtml = 'Like what you see? Visit the ' +\n",
              "            '<a target=\"_blank\" href=https://colab.research.google.com/notebooks/data_table.ipynb>data table notebook</a>'\n",
              "            + ' to learn more about interactive tables.';\n",
              "          element.innerHTML = '';\n",
              "          dataTable['output_type'] = 'display_data';\n",
              "          await google.colab.output.renderOutput(dataTable, element);\n",
              "          const docLink = document.createElement('div');\n",
              "          docLink.innerHTML = docLinkHtml;\n",
              "          element.appendChild(docLink);\n",
              "        }\n",
              "      </script>\n",
              "    </div>\n",
              "  </div>\n",
              "  "
            ]
          },
          "metadata": {},
          "execution_count": 48
        }
      ]
    },
    {
      "cell_type": "code",
      "source": [
        "print(\"Training accuracy Naive Bayes V2:\", model_NB_V2.score(X_test,y_test), \"\\n\")"
      ],
      "metadata": {
        "id": "BseIleTiltGy",
        "outputId": "266de833-0857-4019-fed3-5f6e5c00415a",
        "colab": {
          "base_uri": "https://localhost:8080/"
        }
      },
      "execution_count": null,
      "outputs": [
        {
          "output_type": "stream",
          "name": "stdout",
          "text": [
            "Training accuracy Naive Bayes V2: 0.9007731958762887 \n",
            "\n"
          ]
        }
      ]
    },
    {
      "cell_type": "code",
      "source": [
        "# create the transform\n",
        "vectorizer = TfidfVectorizer()\n",
        "# list of text documents\n",
        "text2 = y_train\n",
        "# tokenize and build vocab\n",
        "vectorizer.fit(text2)\n",
        "# summarize\n",
        "print(vectorizer.vocabulary_)\n",
        "print(vectorizer.idf_)\n",
        "# encode document\n",
        "vector_y_train = vectorizer.transform(text2)\n",
        "# summarize encoded vector\n",
        "print(vector_y_train.shape)\n",
        "print(vector_y_train.toarray())"
      ],
      "metadata": {
        "id": "GsOi6EptsQkq",
        "outputId": "1b957b92-742c-4e89-ef2d-e75e31a60403",
        "colab": {
          "base_uri": "https://localhost:8080/"
        }
      },
      "execution_count": null,
      "outputs": [
        {
          "output_type": "stream",
          "name": "stdout",
          "text": [
            "{'ham': 0, 'spam': 1}\n",
            "[1.33200831 2.2630337 ]\n",
            "(3620, 2)\n",
            "[[1. 0.]\n",
            " [1. 0.]\n",
            " [1. 0.]\n",
            " ...\n",
            " [1. 0.]\n",
            " [1. 0.]\n",
            " [1. 0.]]\n"
          ]
        }
      ]
    },
    {
      "cell_type": "code",
      "source": [
        "from xgboost import XGBClassifier\n",
        "from sklearn.model_selection import cross_val_score\n",
        "cross_val_score(XGBClassifier(), X_train, vector_y_train.toarray())"
      ],
      "metadata": {
        "id": "jZ3qiVMKt0lY",
        "outputId": "cb0a6013-645f-43bf-84b3-e84ef9bb97a6",
        "colab": {
          "base_uri": "https://localhost:8080/"
        }
      },
      "execution_count": null,
      "outputs": [
        {
          "output_type": "execute_result",
          "data": {
            "text/plain": [
              "array([0.94751381, 0.94889503, 0.94751381, 0.95441989, 0.93508287])"
            ]
          },
          "metadata": {},
          "execution_count": 54
        }
      ]
    },
    {
      "cell_type": "code",
      "source": [
        "# Split the data into training and test sets\n",
        "X_train, X_test, y_train, y_test = train_test_split(embedding_df.iloc[:, :-2], embedding_df['classif'], test_size=0.3, random_state=3948)\n",
        "\n"
      ],
      "metadata": {
        "id": "jppuO4qEvRka"
      },
      "execution_count": null,
      "outputs": []
    },
    {
      "cell_type": "code",
      "source": [
        "# Train a logistic regression model\n",
        "lr = LogisticRegression()\n",
        "lr.fit(X_train, y_train)\n"
      ],
      "metadata": {
        "id": "MdtmgdFRvfWe",
        "outputId": "8ba1521a-039c-4755-9345-47021f47682f",
        "colab": {
          "base_uri": "https://localhost:8080/",
          "height": 214
        }
      },
      "execution_count": null,
      "outputs": [
        {
          "output_type": "stream",
          "name": "stderr",
          "text": [
            "/usr/local/lib/python3.9/dist-packages/sklearn/linear_model/_logistic.py:458: ConvergenceWarning: lbfgs failed to converge (status=1):\n",
            "STOP: TOTAL NO. of ITERATIONS REACHED LIMIT.\n",
            "\n",
            "Increase the number of iterations (max_iter) or scale the data as shown in:\n",
            "    https://scikit-learn.org/stable/modules/preprocessing.html\n",
            "Please also refer to the documentation for alternative solver options:\n",
            "    https://scikit-learn.org/stable/modules/linear_model.html#logistic-regression\n",
            "  n_iter_i = _check_optimize_result(\n"
          ]
        },
        {
          "output_type": "execute_result",
          "data": {
            "text/plain": [
              "LogisticRegression()"
            ],
            "text/html": [
              "<style>#sk-container-id-4 {color: black;background-color: white;}#sk-container-id-4 pre{padding: 0;}#sk-container-id-4 div.sk-toggleable {background-color: white;}#sk-container-id-4 label.sk-toggleable__label {cursor: pointer;display: block;width: 100%;margin-bottom: 0;padding: 0.3em;box-sizing: border-box;text-align: center;}#sk-container-id-4 label.sk-toggleable__label-arrow:before {content: \"▸\";float: left;margin-right: 0.25em;color: #696969;}#sk-container-id-4 label.sk-toggleable__label-arrow:hover:before {color: black;}#sk-container-id-4 div.sk-estimator:hover label.sk-toggleable__label-arrow:before {color: black;}#sk-container-id-4 div.sk-toggleable__content {max-height: 0;max-width: 0;overflow: hidden;text-align: left;background-color: #f0f8ff;}#sk-container-id-4 div.sk-toggleable__content pre {margin: 0.2em;color: black;border-radius: 0.25em;background-color: #f0f8ff;}#sk-container-id-4 input.sk-toggleable__control:checked~div.sk-toggleable__content {max-height: 200px;max-width: 100%;overflow: auto;}#sk-container-id-4 input.sk-toggleable__control:checked~label.sk-toggleable__label-arrow:before {content: \"▾\";}#sk-container-id-4 div.sk-estimator input.sk-toggleable__control:checked~label.sk-toggleable__label {background-color: #d4ebff;}#sk-container-id-4 div.sk-label input.sk-toggleable__control:checked~label.sk-toggleable__label {background-color: #d4ebff;}#sk-container-id-4 input.sk-hidden--visually {border: 0;clip: rect(1px 1px 1px 1px);clip: rect(1px, 1px, 1px, 1px);height: 1px;margin: -1px;overflow: hidden;padding: 0;position: absolute;width: 1px;}#sk-container-id-4 div.sk-estimator {font-family: monospace;background-color: #f0f8ff;border: 1px dotted black;border-radius: 0.25em;box-sizing: border-box;margin-bottom: 0.5em;}#sk-container-id-4 div.sk-estimator:hover {background-color: #d4ebff;}#sk-container-id-4 div.sk-parallel-item::after {content: \"\";width: 100%;border-bottom: 1px solid gray;flex-grow: 1;}#sk-container-id-4 div.sk-label:hover label.sk-toggleable__label {background-color: #d4ebff;}#sk-container-id-4 div.sk-serial::before {content: \"\";position: absolute;border-left: 1px solid gray;box-sizing: border-box;top: 0;bottom: 0;left: 50%;z-index: 0;}#sk-container-id-4 div.sk-serial {display: flex;flex-direction: column;align-items: center;background-color: white;padding-right: 0.2em;padding-left: 0.2em;position: relative;}#sk-container-id-4 div.sk-item {position: relative;z-index: 1;}#sk-container-id-4 div.sk-parallel {display: flex;align-items: stretch;justify-content: center;background-color: white;position: relative;}#sk-container-id-4 div.sk-item::before, #sk-container-id-4 div.sk-parallel-item::before {content: \"\";position: absolute;border-left: 1px solid gray;box-sizing: border-box;top: 0;bottom: 0;left: 50%;z-index: -1;}#sk-container-id-4 div.sk-parallel-item {display: flex;flex-direction: column;z-index: 1;position: relative;background-color: white;}#sk-container-id-4 div.sk-parallel-item:first-child::after {align-self: flex-end;width: 50%;}#sk-container-id-4 div.sk-parallel-item:last-child::after {align-self: flex-start;width: 50%;}#sk-container-id-4 div.sk-parallel-item:only-child::after {width: 0;}#sk-container-id-4 div.sk-dashed-wrapped {border: 1px dashed gray;margin: 0 0.4em 0.5em 0.4em;box-sizing: border-box;padding-bottom: 0.4em;background-color: white;}#sk-container-id-4 div.sk-label label {font-family: monospace;font-weight: bold;display: inline-block;line-height: 1.2em;}#sk-container-id-4 div.sk-label-container {text-align: center;}#sk-container-id-4 div.sk-container {/* jupyter's `normalize.less` sets `[hidden] { display: none; }` but bootstrap.min.css set `[hidden] { display: none !important; }` so we also need the `!important` here to be able to override the default hidden behavior on the sphinx rendered scikit-learn.org. See: https://github.com/scikit-learn/scikit-learn/issues/21755 */display: inline-block !important;position: relative;}#sk-container-id-4 div.sk-text-repr-fallback {display: none;}</style><div id=\"sk-container-id-4\" class=\"sk-top-container\"><div class=\"sk-text-repr-fallback\"><pre>LogisticRegression()</pre><b>In a Jupyter environment, please rerun this cell to show the HTML representation or trust the notebook. <br />On GitHub, the HTML representation is unable to render, please try loading this page with nbviewer.org.</b></div><div class=\"sk-container\" hidden><div class=\"sk-item\"><div class=\"sk-estimator sk-toggleable\"><input class=\"sk-toggleable__control sk-hidden--visually\" id=\"sk-estimator-id-4\" type=\"checkbox\" checked><label for=\"sk-estimator-id-4\" class=\"sk-toggleable__label sk-toggleable__label-arrow\">LogisticRegression</label><div class=\"sk-toggleable__content\"><pre>LogisticRegression()</pre></div></div></div></div></div>"
            ]
          },
          "metadata": {},
          "execution_count": 69
        }
      ]
    },
    {
      "cell_type": "code",
      "source": [
        "\n",
        "# Evaluate the trained model on the test set\n",
        "y_pred = lr.predict(X_test)\n",
        "accuracy = accuracy_score(y_test, y_pred)\n",
        "print('Accuracy:', accuracy)"
      ],
      "metadata": {
        "id": "-oVxWzp8vhvN",
        "outputId": "dc7f067b-ff5d-45c7-97e1-0d5a743657b2",
        "colab": {
          "base_uri": "https://localhost:8080/"
        }
      },
      "execution_count": null,
      "outputs": [
        {
          "output_type": "stream",
          "name": "stdout",
          "text": [
            "Accuracy: 0.9626288659793815\n"
          ]
        }
      ]
    },
    {
      "cell_type": "code",
      "source": [
        "vector_y_train.shape"
      ],
      "metadata": {
        "id": "t7aenXLsyYH2",
        "outputId": "3309b873-021c-4ce3-bcd1-81e994913a59",
        "colab": {
          "base_uri": "https://localhost:8080/"
        }
      },
      "execution_count": null,
      "outputs": [
        {
          "output_type": "execute_result",
          "data": {
            "text/plain": [
              "(3620, 2)"
            ]
          },
          "metadata": {},
          "execution_count": 71
        }
      ]
    },
    {
      "cell_type": "code",
      "source": [
        "vectorizer"
      ],
      "metadata": {
        "id": "Dl5bxb_VzAs3",
        "outputId": "30923b25-1136-42e5-b3ba-366df07dd777",
        "colab": {
          "base_uri": "https://localhost:8080/",
          "height": 75
        }
      },
      "execution_count": null,
      "outputs": [
        {
          "output_type": "execute_result",
          "data": {
            "text/plain": [
              "TfidfVectorizer()"
            ],
            "text/html": [
              "<style>#sk-container-id-3 {color: black;background-color: white;}#sk-container-id-3 pre{padding: 0;}#sk-container-id-3 div.sk-toggleable {background-color: white;}#sk-container-id-3 label.sk-toggleable__label {cursor: pointer;display: block;width: 100%;margin-bottom: 0;padding: 0.3em;box-sizing: border-box;text-align: center;}#sk-container-id-3 label.sk-toggleable__label-arrow:before {content: \"▸\";float: left;margin-right: 0.25em;color: #696969;}#sk-container-id-3 label.sk-toggleable__label-arrow:hover:before {color: black;}#sk-container-id-3 div.sk-estimator:hover label.sk-toggleable__label-arrow:before {color: black;}#sk-container-id-3 div.sk-toggleable__content {max-height: 0;max-width: 0;overflow: hidden;text-align: left;background-color: #f0f8ff;}#sk-container-id-3 div.sk-toggleable__content pre {margin: 0.2em;color: black;border-radius: 0.25em;background-color: #f0f8ff;}#sk-container-id-3 input.sk-toggleable__control:checked~div.sk-toggleable__content {max-height: 200px;max-width: 100%;overflow: auto;}#sk-container-id-3 input.sk-toggleable__control:checked~label.sk-toggleable__label-arrow:before {content: \"▾\";}#sk-container-id-3 div.sk-estimator input.sk-toggleable__control:checked~label.sk-toggleable__label {background-color: #d4ebff;}#sk-container-id-3 div.sk-label input.sk-toggleable__control:checked~label.sk-toggleable__label {background-color: #d4ebff;}#sk-container-id-3 input.sk-hidden--visually {border: 0;clip: rect(1px 1px 1px 1px);clip: rect(1px, 1px, 1px, 1px);height: 1px;margin: -1px;overflow: hidden;padding: 0;position: absolute;width: 1px;}#sk-container-id-3 div.sk-estimator {font-family: monospace;background-color: #f0f8ff;border: 1px dotted black;border-radius: 0.25em;box-sizing: border-box;margin-bottom: 0.5em;}#sk-container-id-3 div.sk-estimator:hover {background-color: #d4ebff;}#sk-container-id-3 div.sk-parallel-item::after {content: \"\";width: 100%;border-bottom: 1px solid gray;flex-grow: 1;}#sk-container-id-3 div.sk-label:hover label.sk-toggleable__label {background-color: #d4ebff;}#sk-container-id-3 div.sk-serial::before {content: \"\";position: absolute;border-left: 1px solid gray;box-sizing: border-box;top: 0;bottom: 0;left: 50%;z-index: 0;}#sk-container-id-3 div.sk-serial {display: flex;flex-direction: column;align-items: center;background-color: white;padding-right: 0.2em;padding-left: 0.2em;position: relative;}#sk-container-id-3 div.sk-item {position: relative;z-index: 1;}#sk-container-id-3 div.sk-parallel {display: flex;align-items: stretch;justify-content: center;background-color: white;position: relative;}#sk-container-id-3 div.sk-item::before, #sk-container-id-3 div.sk-parallel-item::before {content: \"\";position: absolute;border-left: 1px solid gray;box-sizing: border-box;top: 0;bottom: 0;left: 50%;z-index: -1;}#sk-container-id-3 div.sk-parallel-item {display: flex;flex-direction: column;z-index: 1;position: relative;background-color: white;}#sk-container-id-3 div.sk-parallel-item:first-child::after {align-self: flex-end;width: 50%;}#sk-container-id-3 div.sk-parallel-item:last-child::after {align-self: flex-start;width: 50%;}#sk-container-id-3 div.sk-parallel-item:only-child::after {width: 0;}#sk-container-id-3 div.sk-dashed-wrapped {border: 1px dashed gray;margin: 0 0.4em 0.5em 0.4em;box-sizing: border-box;padding-bottom: 0.4em;background-color: white;}#sk-container-id-3 div.sk-label label {font-family: monospace;font-weight: bold;display: inline-block;line-height: 1.2em;}#sk-container-id-3 div.sk-label-container {text-align: center;}#sk-container-id-3 div.sk-container {/* jupyter's `normalize.less` sets `[hidden] { display: none; }` but bootstrap.min.css set `[hidden] { display: none !important; }` so we also need the `!important` here to be able to override the default hidden behavior on the sphinx rendered scikit-learn.org. See: https://github.com/scikit-learn/scikit-learn/issues/21755 */display: inline-block !important;position: relative;}#sk-container-id-3 div.sk-text-repr-fallback {display: none;}</style><div id=\"sk-container-id-3\" class=\"sk-top-container\"><div class=\"sk-text-repr-fallback\"><pre>TfidfVectorizer()</pre><b>In a Jupyter environment, please rerun this cell to show the HTML representation or trust the notebook. <br />On GitHub, the HTML representation is unable to render, please try loading this page with nbviewer.org.</b></div><div class=\"sk-container\" hidden><div class=\"sk-item\"><div class=\"sk-estimator sk-toggleable\"><input class=\"sk-toggleable__control sk-hidden--visually\" id=\"sk-estimator-id-3\" type=\"checkbox\" checked><label for=\"sk-estimator-id-3\" class=\"sk-toggleable__label sk-toggleable__label-arrow\">TfidfVectorizer</label><div class=\"sk-toggleable__content\"><pre>TfidfVectorizer()</pre></div></div></div></div></div>"
            ]
          },
          "metadata": {},
          "execution_count": 65
        }
      ]
    },
    {
      "cell_type": "code",
      "source": [
        "y_tes=y_train.replace({\"ham\": 0, \"spam\": 1}, inplace=True)"
      ],
      "metadata": {
        "id": "5krc09d-z6uQ"
      },
      "execution_count": null,
      "outputs": []
    },
    {
      "cell_type": "code",
      "source": [
        "from sklearn.metrics import roc_auc_score\n",
        "\n",
        "# Predict the probabilities of the test set instances belonging to each class\n",
        "y_proba = lr.predict_proba(X_test)\n",
        "\n",
        "# Calculate the ROC AUC score\n",
        "roc_auc = roc_auc_score(y_test, y_proba[:, 1])\n",
        "print('ROC AUC:', roc_auc)"
      ],
      "metadata": {
        "id": "eo5VZbu11iLa",
        "outputId": "e67dff28-3bff-451a-8e99-26804d3c9f94",
        "colab": {
          "base_uri": "https://localhost:8080/"
        }
      },
      "execution_count": null,
      "outputs": [
        {
          "output_type": "stream",
          "name": "stdout",
          "text": [
            "ROC AUC: 0.9918502267076202\n"
          ]
        }
      ]
    },
    {
      "cell_type": "code",
      "source": [
        "labels = ['Logistic Regression', 'Decision Tree', 'Random Forest', 'KNN', 'XGBoost']\n",
        "y_probas = []\n",
        "\n",
        "for model in models:\n",
        "    y_probas.append(model.predict_proba(X_test_dense)[:, 1])"
      ],
      "metadata": {
        "colab": {
          "base_uri": "https://localhost:8080/"
        },
        "id": "dNqXqhM9sAVn",
        "outputId": "35d4c9af-98ea-4694-ceee-51adb79a3ff8"
      },
      "execution_count": 207,
      "outputs": [
        {
          "output_type": "stream",
          "name": "stdout",
          "text": [
            "ok\n"
          ]
        }
      ]
    },
    {
      "cell_type": "code",
      "source": [
        "y_test2=y_test.replace({\"ham\": 0, \"spam\": 1})"
      ],
      "metadata": {
        "id": "VPF8rKB2zIn7"
      },
      "execution_count": 177,
      "outputs": []
    },
    {
      "cell_type": "code",
      "source": [
        "lr.predict_proba(X)"
      ],
      "metadata": {
        "colab": {
          "base_uri": "https://localhost:8080/"
        },
        "id": "-4N7ZAjBx2Fb",
        "outputId": "f5a33315-94db-4556-b14e-b11d55f768b9"
      },
      "execution_count": null,
      "outputs": [
        {
          "output_type": "execute_result",
          "data": {
            "text/plain": [
              "array([[8.76437403e-01, 1.23562597e-01],\n",
              "       [9.99996307e-01, 3.69297813e-06],\n",
              "       [9.97692458e-01, 2.30754159e-03],\n",
              "       ...,\n",
              "       [2.32161207e-03, 9.97678388e-01],\n",
              "       [1.46411404e-03, 9.98535886e-01],\n",
              "       [9.71480158e-01, 2.85198421e-02]])"
            ]
          },
          "metadata": {},
          "execution_count": 153
        }
      ]
    },
    {
      "cell_type": "code",
      "source": [
        "# Convert string labels to binary labels\n",
        "le = LabelEncoder()\n",
        "y_test_bin = le.fit_transform(y_test)\n",
        "\n",
        "# Predict the probabilities of the test set instances belonging to each class\n",
        "lr_proba = lr.predict_proba(X_test)[:, 1]\n",
        "nb_proba = model_NB_V2.predict_proba(X_test)[:, 1]\n",
        "dt_proba = model_DT.predict_proba(X_test_dense)[:, 1]\n",
        "rf_proba = model_RF.predict_proba(X_test_dense)[:, 1]\n",
        "knn_proba = model_knn.predict_proba(X_test_dense)[:, 1]\n",
        "\n",
        "# Calculate the false positive rate and true positive rate for various thresholds\n",
        "lr_fpr, lr_tpr, _ = roc_curve(y_test_bin, lr_proba)\n",
        "nb_fpr, nb_tpr, _ = roc_curve(y_test, nb_proba)\n",
        "dt_fpr, dt_tpr, _ = roc_curve(y_test_bin, dt_proba)\n",
        "rf_fpr, rf_tpr, _ = roc_curve(y_test_bin, rf_proba)\n",
        "knn_fpr, knn_tpr, _ = roc_curve(y_test_bin, knn_proba)\n",
        "\n",
        "# Plot the ROC curves for all models\n",
        "plt.plot(lr_fpr, lr_tpr, label='Logistic Regression')\n",
        "plt.plot(nb_fpr, nb_tpr, label='Naive Bayes')\n",
        "plt.plot(dt_fpr, dt_tpr, label='Decision Tree')\n",
        "plt.plot(rf_fpr, rf_tpr, label='Random Forest')\n",
        "plt.plot(knn_fpr, knn_tpr, label='KNN')\n",
        "plt.xlabel('False Positive Rate')\n",
        "plt.ylabel('True Positive Rate')\n",
        "plt.title('ROC Curve')\n",
        "plt.legend()\n",
        "plt.show()\n",
        "\n",
        "# Calculate the ROC AUC score for all models\n",
        "lr_auc = roc_auc_score(y_test, lr_proba)\n",
        "nb_auc = roc_auc_score(y_test, nb_proba)\n",
        "dt_auc = roc_auc_score(y_test_bin, dt_proba)\n",
        "rf_auc = roc_auc_score(y_test_bin, rf_proba)\n",
        "knn_auc = roc_auc_score(y_test_bin, knn_proba)\n",
        "\n",
        "print('ROC AUC (Logistic Regression):', lr_auc)\n",
        "print('ROC AUC (Naive Bayes):', nb_auc)\n",
        "print('ROC AUC (Decision Tree):', dt_auc)\n",
        "print('ROC AUC (Random Forest):', rf_auc)\n",
        "print('ROC AUC (KNN):', knn_auc)"
      ],
      "metadata": {
        "colab": {
          "base_uri": "https://localhost:8080/",
          "height": 382
        },
        "id": "quygIv-Mv7AZ",
        "outputId": "7a0468b8-b65f-49a4-eae4-3d8138d9ed12"
      },
      "execution_count": 226,
      "outputs": [
        {
          "output_type": "display_data",
          "data": {
            "text/plain": [
              "<Figure size 432x288 with 1 Axes>"
            ],
            "image/png": "[encoded data removed]"
          },
          "metadata": {
            "needs_background": "light"
          }
        },
        {
          "output_type": "stream",
          "name": "stdout",
          "text": [
            "ROC AUC (Logistic Regression): 0.9918502267076202\n",
            "ROC AUC (Naive Bayes): 0.9782038905952903\n",
            "ROC AUC (Decision Tree): 0.5086178148310662\n",
            "ROC AUC (Random Forest): 0.5194120228170249\n",
            "ROC AUC (KNN): 0.5067436985032422\n"
          ]
        }
      ]
    },
    {
      "cell_type": "markdown",
      "source": [
        "<img rc=\"https://raw.githubusercontent.com/orlandojrps/spam/main/conclusion.png\">"
      ],
      "metadata": {
        "id": "-w3CAidY7Vpy"
      }
    },
    {
      "cell_type": "markdown",
      "source": [
        "###Conclusion: <br/>\n",
        "<img src=\"https://raw.githubusercontent.com/orlandojrps/spam/main/conclusion.png\">"
      ],
      "metadata": {
        "id": "uHu39Jjz7ZVJ"
      }
    },
    {
      "cell_type": "markdown",
      "source": [
        "###In conclusion, we can see that the models that performed better in the AUC plot were intentionally biased due to poor validation methodology to show the importance to maintain a more strict validation process, for instance K-Fold Validation"
      ],
      "metadata": {
        "id": "ZzuZf2rvq203"
      }
    }
  ]
}