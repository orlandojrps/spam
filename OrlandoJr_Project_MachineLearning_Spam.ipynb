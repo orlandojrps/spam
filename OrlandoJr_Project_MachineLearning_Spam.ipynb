{
  "nbformat": 4,
  "nbformat_minor": 0,
  "metadata": {
    "colab": {
      "provenance": []
    },
    "kernelspec": {
      "name": "python3",
      "display_name": "Python 3"
    },
    "language_info": {
      "name": "python"
    },
    "widgets": {
      "application/vnd.jupyter.widget-state+json": {
        "a8dd02f5866149cc92a61459b1c155f0": {
          "model_module": "@jupyter-widgets/controls",
          "model_name": "HBoxModel",
          "model_module_version": "1.5.0",
          "state": {
            "_dom_classes": [],
            "_model_module": "@jupyter-widgets/controls",
            "_model_module_version": "1.5.0",
            "_model_name": "HBoxModel",
            "_view_count": null,
            "_view_module": "@jupyter-widgets/controls",
            "_view_module_version": "1.5.0",
            "_view_name": "HBoxView",
            "box_style": "",
            "children": [
              "IPY_MODEL_17de60688174480a8bd1746a562f7597",
              "IPY_MODEL_a82754e346bd4e52b69289691e903cf4",
              "IPY_MODEL_4e58af5a494046189fe0a8f6cceba976"
            ],
            "layout": "IPY_MODEL_670181bdd14c45f59a7bce64daa050de"
          }
        },
        "17de60688174480a8bd1746a562f7597": {
          "model_module": "@jupyter-widgets/controls",
          "model_name": "HTMLModel",
          "model_module_version": "1.5.0",
          "state": {
            "_dom_classes": [],
            "_model_module": "@jupyter-widgets/controls",
            "_model_module_version": "1.5.0",
            "_model_name": "HTMLModel",
            "_view_count": null,
            "_view_module": "@jupyter-widgets/controls",
            "_view_module_version": "1.5.0",
            "_view_name": "HTMLView",
            "description": "",
            "description_tooltip": null,
            "layout": "IPY_MODEL_8287ec99188040b2a36b79dc9e5481ea",
            "placeholder": "​",
            "style": "IPY_MODEL_b1522672a8ec446ea41a6fad71ac3fbf",
            "value": ""
          }
        },
        "a82754e346bd4e52b69289691e903cf4": {
          "model_module": "@jupyter-widgets/controls",
          "model_name": "FloatProgressModel",
          "model_module_version": "1.5.0",
          "state": {
            "_dom_classes": [],
            "_model_module": "@jupyter-widgets/controls",
            "_model_module_version": "1.5.0",
            "_model_name": "FloatProgressModel",
            "_view_count": null,
            "_view_module": "@jupyter-widgets/controls",
            "_view_module_version": "1.5.0",
            "_view_name": "ProgressView",
            "bar_style": "success",
            "description": "",
            "description_tooltip": null,
            "layout": "IPY_MODEL_5834782bd7e14deca928da9f6776ed3f",
            "max": 1,
            "min": 0,
            "orientation": "horizontal",
            "style": "IPY_MODEL_d23d8b21e7d94af48a4c276de1f0054f",
            "value": 1
          }
        },
        "4e58af5a494046189fe0a8f6cceba976": {
          "model_module": "@jupyter-widgets/controls",
          "model_name": "HTMLModel",
          "model_module_version": "1.5.0",
          "state": {
            "_dom_classes": [],
            "_model_module": "@jupyter-widgets/controls",
            "_model_module_version": "1.5.0",
            "_model_name": "HTMLModel",
            "_view_count": null,
            "_view_module": "@jupyter-widgets/controls",
            "_view_module_version": "1.5.0",
            "_view_name": "HTMLView",
            "description": "",
            "description_tooltip": null,
            "layout": "IPY_MODEL_6a8eacb32e6c4ff7a95254f4060d7323",
            "placeholder": "​",
            "style": "IPY_MODEL_902df4c2dc6e41d6b6eb7d56304010de",
            "value": " 4994/? [04:24&lt;00:00, 16.36it/s]"
          }
        },
        "670181bdd14c45f59a7bce64daa050de": {
          "model_module": "@jupyter-widgets/base",
          "model_name": "LayoutModel",
          "model_module_version": "1.2.0",
          "state": {
            "_model_module": "@jupyter-widgets/base",
            "_model_module_version": "1.2.0",
            "_model_name": "LayoutModel",
            "_view_count": null,
            "_view_module": "@jupyter-widgets/base",
            "_view_module_version": "1.2.0",
            "_view_name": "LayoutView",
            "align_content": null,
            "align_items": null,
            "align_self": null,
            "border": null,
            "bottom": null,
            "display": null,
            "flex": null,
            "flex_flow": null,
            "grid_area": null,
            "grid_auto_columns": null,
            "grid_auto_flow": null,
            "grid_auto_rows": null,
            "grid_column": null,
            "grid_gap": null,
            "grid_row": null,
            "grid_template_areas": null,
            "grid_template_columns": null,
            "grid_template_rows": null,
            "height": null,
            "justify_content": null,
            "justify_items": null,
            "left": null,
            "margin": null,
            "max_height": null,
            "max_width": null,
            "min_height": null,
            "min_width": null,
            "object_fit": null,
            "object_position": null,
            "order": null,
            "overflow": null,
            "overflow_x": null,
            "overflow_y": null,
            "padding": null,
            "right": null,
            "top": null,
            "visibility": null,
            "width": null
          }
        },
        "8287ec99188040b2a36b79dc9e5481ea": {
          "model_module": "@jupyter-widgets/base",
          "model_name": "LayoutModel",
          "model_module_version": "1.2.0",
          "state": {
            "_model_module": "@jupyter-widgets/base",
            "_model_module_version": "1.2.0",
            "_model_name": "LayoutModel",
            "_view_count": null,
            "_view_module": "@jupyter-widgets/base",
            "_view_module_version": "1.2.0",
            "_view_name": "LayoutView",
            "align_content": null,
            "align_items": null,
            "align_self": null,
            "border": null,
            "bottom": null,
            "display": null,
            "flex": null,
            "flex_flow": null,
            "grid_area": null,
            "grid_auto_columns": null,
            "grid_auto_flow": null,
            "grid_auto_rows": null,
            "grid_column": null,
            "grid_gap": null,
            "grid_row": null,
            "grid_template_areas": null,
            "grid_template_columns": null,
            "grid_template_rows": null,
            "height": null,
            "justify_content": null,
            "justify_items": null,
            "left": null,
            "margin": null,
            "max_height": null,
            "max_width": null,
            "min_height": null,
            "min_width": null,
            "object_fit": null,
            "object_position": null,
            "order": null,
            "overflow": null,
            "overflow_x": null,
            "overflow_y": null,
            "padding": null,
            "right": null,
            "top": null,
            "visibility": null,
            "width": null
          }
        },
        "b1522672a8ec446ea41a6fad71ac3fbf": {
          "model_module": "@jupyter-widgets/controls",
          "model_name": "DescriptionStyleModel",
          "model_module_version": "1.5.0",
          "state": {
            "_model_module": "@jupyter-widgets/controls",
            "_model_module_version": "1.5.0",
            "_model_name": "DescriptionStyleModel",
            "_view_count": null,
            "_view_module": "@jupyter-widgets/base",
            "_view_module_version": "1.2.0",
            "_view_name": "StyleView",
            "description_width": ""
          }
        },
        "5834782bd7e14deca928da9f6776ed3f": {
          "model_module": "@jupyter-widgets/base",
          "model_name": "LayoutModel",
          "model_module_version": "1.2.0",
          "state": {
            "_model_module": "@jupyter-widgets/base",
            "_model_module_version": "1.2.0",
            "_model_name": "LayoutModel",
            "_view_count": null,
            "_view_module": "@jupyter-widgets/base",
            "_view_module_version": "1.2.0",
            "_view_name": "LayoutView",
            "align_content": null,
            "align_items": null,
            "align_self": null,
            "border": null,
            "bottom": null,
            "display": null,
            "flex": null,
            "flex_flow": null,
            "grid_area": null,
            "grid_auto_columns": null,
            "grid_auto_flow": null,
            "grid_auto_rows": null,
            "grid_column": null,
            "grid_gap": null,
            "grid_row": null,
            "grid_template_areas": null,
            "grid_template_columns": null,
            "grid_template_rows": null,
            "height": null,
            "justify_content": null,
            "justify_items": null,
            "left": null,
            "margin": null,
            "max_height": null,
            "max_width": null,
            "min_height": null,
            "min_width": null,
            "object_fit": null,
            "object_position": null,
            "order": null,
            "overflow": null,
            "overflow_x": null,
            "overflow_y": null,
            "padding": null,
            "right": null,
            "top": null,
            "visibility": null,
            "width": "20px"
          }
        },
        "d23d8b21e7d94af48a4c276de1f0054f": {
          "model_module": "@jupyter-widgets/controls",
          "model_name": "ProgressStyleModel",
          "model_module_version": "1.5.0",
          "state": {
            "_model_module": "@jupyter-widgets/controls",
            "_model_module_version": "1.5.0",
            "_model_name": "ProgressStyleModel",
            "_view_count": null,
            "_view_module": "@jupyter-widgets/base",
            "_view_module_version": "1.2.0",
            "_view_name": "StyleView",
            "bar_color": null,
            "description_width": ""
          }
        },
        "6a8eacb32e6c4ff7a95254f4060d7323": {
          "model_module": "@jupyter-widgets/base",
          "model_name": "LayoutModel",
          "model_module_version": "1.2.0",
          "state": {
            "_model_module": "@jupyter-widgets/base",
            "_model_module_version": "1.2.0",
            "_model_name": "LayoutModel",
            "_view_count": null,
            "_view_module": "@jupyter-widgets/base",
            "_view_module_version": "1.2.0",
            "_view_name": "LayoutView",
            "align_content": null,
            "align_items": null,
            "align_self": null,
            "border": null,
            "bottom": null,
            "display": null,
            "flex": null,
            "flex_flow": null,
            "grid_area": null,
            "grid_auto_columns": null,
            "grid_auto_flow": null,
            "grid_auto_rows": null,
            "grid_column": null,
            "grid_gap": null,
            "grid_row": null,
            "grid_template_areas": null,
            "grid_template_columns": null,
            "grid_template_rows": null,
            "height": null,
            "justify_content": null,
            "justify_items": null,
            "left": null,
            "margin": null,
            "max_height": null,
            "max_width": null,
            "min_height": null,
            "min_width": null,
            "object_fit": null,
            "object_position": null,
            "order": null,
            "overflow": null,
            "overflow_x": null,
            "overflow_y": null,
            "padding": null,
            "right": null,
            "top": null,
            "visibility": null,
            "width": null
          }
        },
        "902df4c2dc6e41d6b6eb7d56304010de": {
          "model_module": "@jupyter-widgets/controls",
          "model_name": "DescriptionStyleModel",
          "model_module_version": "1.5.0",
          "state": {
            "_model_module": "@jupyter-widgets/controls",
            "_model_module_version": "1.5.0",
            "_model_name": "DescriptionStyleModel",
            "_view_count": null,
            "_view_module": "@jupyter-widgets/base",
            "_view_module_version": "1.2.0",
            "_view_name": "StyleView",
            "description_width": ""
          }
        },
        "af587aa5542c4c949a0d50e20c66b9c7": {
          "model_module": "@jupyter-widgets/controls",
          "model_name": "HBoxModel",
          "model_module_version": "1.5.0",
          "state": {
            "_dom_classes": [],
            "_model_module": "@jupyter-widgets/controls",
            "_model_module_version": "1.5.0",
            "_model_name": "HBoxModel",
            "_view_count": null,
            "_view_module": "@jupyter-widgets/controls",
            "_view_module_version": "1.5.0",
            "_view_name": "HBoxView",
            "box_style": "",
            "children": [
              "IPY_MODEL_869aa2d6db024dc3a76c89254fbe354d",
              "IPY_MODEL_01d14fc563d643e3b6d1682e345e058f",
              "IPY_MODEL_d9cd69a4f1a14c358d6511bf28e0b1b3"
            ],
            "layout": "IPY_MODEL_2bf0a8af76ea440ba0a31151fe156dcd"
          }
        },
        "869aa2d6db024dc3a76c89254fbe354d": {
          "model_module": "@jupyter-widgets/controls",
          "model_name": "HTMLModel",
          "model_module_version": "1.5.0",
          "state": {
            "_dom_classes": [],
            "_model_module": "@jupyter-widgets/controls",
            "_model_module_version": "1.5.0",
            "_model_name": "HTMLModel",
            "_view_count": null,
            "_view_module": "@jupyter-widgets/controls",
            "_view_module_version": "1.5.0",
            "_view_name": "HTMLView",
            "description": "",
            "description_tooltip": null,
            "layout": "IPY_MODEL_58b0957c75ca402ea6d2e39192d695d9",
            "placeholder": "​",
            "style": "IPY_MODEL_d7f17ffffa0f4aa394ea8f85ec2a3519",
            "value": "100%"
          }
        },
        "01d14fc563d643e3b6d1682e345e058f": {
          "model_module": "@jupyter-widgets/controls",
          "model_name": "FloatProgressModel",
          "model_module_version": "1.5.0",
          "state": {
            "_dom_classes": [],
            "_model_module": "@jupyter-widgets/controls",
            "_model_module_version": "1.5.0",
            "_model_name": "FloatProgressModel",
            "_view_count": null,
            "_view_module": "@jupyter-widgets/controls",
            "_view_module_version": "1.5.0",
            "_view_name": "ProgressView",
            "bar_style": "success",
            "description": "",
            "description_tooltip": null,
            "layout": "IPY_MODEL_324cc61b1a424488a919646b20826c7b",
            "max": 4994,
            "min": 0,
            "orientation": "horizontal",
            "style": "IPY_MODEL_005f011e4e664281a49a2f2e4ce90b3a",
            "value": 4994
          }
        },
        "d9cd69a4f1a14c358d6511bf28e0b1b3": {
          "model_module": "@jupyter-widgets/controls",
          "model_name": "HTMLModel",
          "model_module_version": "1.5.0",
          "state": {
            "_dom_classes": [],
            "_model_module": "@jupyter-widgets/controls",
            "_model_module_version": "1.5.0",
            "_model_name": "HTMLModel",
            "_view_count": null,
            "_view_module": "@jupyter-widgets/controls",
            "_view_module_version": "1.5.0",
            "_view_name": "HTMLView",
            "description": "",
            "description_tooltip": null,
            "layout": "IPY_MODEL_47e419cf5cdc4a64af38653e5841d178",
            "placeholder": "​",
            "style": "IPY_MODEL_08f0c6b8e3934a2ca9cfebb3d4cb3a2d",
            "value": " 4994/4994 [00:00&lt;00:00, 160295.96it/s]"
          }
        },
        "2bf0a8af76ea440ba0a31151fe156dcd": {
          "model_module": "@jupyter-widgets/base",
          "model_name": "LayoutModel",
          "model_module_version": "1.2.0",
          "state": {
            "_model_module": "@jupyter-widgets/base",
            "_model_module_version": "1.2.0",
            "_model_name": "LayoutModel",
            "_view_count": null,
            "_view_module": "@jupyter-widgets/base",
            "_view_module_version": "1.2.0",
            "_view_name": "LayoutView",
            "align_content": null,
            "align_items": null,
            "align_self": null,
            "border": null,
            "bottom": null,
            "display": null,
            "flex": null,
            "flex_flow": null,
            "grid_area": null,
            "grid_auto_columns": null,
            "grid_auto_flow": null,
            "grid_auto_rows": null,
            "grid_column": null,
            "grid_gap": null,
            "grid_row": null,
            "grid_template_areas": null,
            "grid_template_columns": null,
            "grid_template_rows": null,
            "height": null,
            "justify_content": null,
            "justify_items": null,
            "left": null,
            "margin": null,
            "max_height": null,
            "max_width": null,
            "min_height": null,
            "min_width": null,
            "object_fit": null,
            "object_position": null,
            "order": null,
            "overflow": null,
            "overflow_x": null,
            "overflow_y": null,
            "padding": null,
            "right": null,
            "top": null,
            "visibility": null,
            "width": null
          }
        },
        "58b0957c75ca402ea6d2e39192d695d9": {
          "model_module": "@jupyter-widgets/base",
          "model_name": "LayoutModel",
          "model_module_version": "1.2.0",
          "state": {
            "_model_module": "@jupyter-widgets/base",
            "_model_module_version": "1.2.0",
            "_model_name": "LayoutModel",
            "_view_count": null,
            "_view_module": "@jupyter-widgets/base",
            "_view_module_version": "1.2.0",
            "_view_name": "LayoutView",
            "align_content": null,
            "align_items": null,
            "align_self": null,
            "border": null,
            "bottom": null,
            "display": null,
            "flex": null,
            "flex_flow": null,
            "grid_area": null,
            "grid_auto_columns": null,
            "grid_auto_flow": null,
            "grid_auto_rows": null,
            "grid_column": null,
            "grid_gap": null,
            "grid_row": null,
            "grid_template_areas": null,
            "grid_template_columns": null,
            "grid_template_rows": null,
            "height": null,
            "justify_content": null,
            "justify_items": null,
            "left": null,
            "margin": null,
            "max_height": null,
            "max_width": null,
            "min_height": null,
            "min_width": null,
            "object_fit": null,
            "object_position": null,
            "order": null,
            "overflow": null,
            "overflow_x": null,
            "overflow_y": null,
            "padding": null,
            "right": null,
            "top": null,
            "visibility": null,
            "width": null
          }
        },
        "d7f17ffffa0f4aa394ea8f85ec2a3519": {
          "model_module": "@jupyter-widgets/controls",
          "model_name": "DescriptionStyleModel",
          "model_module_version": "1.5.0",
          "state": {
            "_model_module": "@jupyter-widgets/controls",
            "_model_module_version": "1.5.0",
            "_model_name": "DescriptionStyleModel",
            "_view_count": null,
            "_view_module": "@jupyter-widgets/base",
            "_view_module_version": "1.2.0",
            "_view_name": "StyleView",
            "description_width": ""
          }
        },
        "324cc61b1a424488a919646b20826c7b": {
          "model_module": "@jupyter-widgets/base",
          "model_name": "LayoutModel",
          "model_module_version": "1.2.0",
          "state": {
            "_model_module": "@jupyter-widgets/base",
            "_model_module_version": "1.2.0",
            "_model_name": "LayoutModel",
            "_view_count": null,
            "_view_module": "@jupyter-widgets/base",
            "_view_module_version": "1.2.0",
            "_view_name": "LayoutView",
            "align_content": null,
            "align_items": null,
            "align_self": null,
            "border": null,
            "bottom": null,
            "display": null,
            "flex": null,
            "flex_flow": null,
            "grid_area": null,
            "grid_auto_columns": null,
            "grid_auto_flow": null,
            "grid_auto_rows": null,
            "grid_column": null,
            "grid_gap": null,
            "grid_row": null,
            "grid_template_areas": null,
            "grid_template_columns": null,
            "grid_template_rows": null,
            "height": null,
            "justify_content": null,
            "justify_items": null,
            "left": null,
            "margin": null,
            "max_height": null,
            "max_width": null,
            "min_height": null,
            "min_width": null,
            "object_fit": null,
            "object_position": null,
            "order": null,
            "overflow": null,
            "overflow_x": null,
            "overflow_y": null,
            "padding": null,
            "right": null,
            "top": null,
            "visibility": null,
            "width": null
          }
        },
        "005f011e4e664281a49a2f2e4ce90b3a": {
          "model_module": "@jupyter-widgets/controls",
          "model_name": "ProgressStyleModel",
          "model_module_version": "1.5.0",
          "state": {
            "_model_module": "@jupyter-widgets/controls",
            "_model_module_version": "1.5.0",
            "_model_name": "ProgressStyleModel",
            "_view_count": null,
            "_view_module": "@jupyter-widgets/base",
            "_view_module_version": "1.2.0",
            "_view_name": "StyleView",
            "bar_color": null,
            "description_width": ""
          }
        },
        "47e419cf5cdc4a64af38653e5841d178": {
          "model_module": "@jupyter-widgets/base",
          "model_name": "LayoutModel",
          "model_module_version": "1.2.0",
          "state": {
            "_model_module": "@jupyter-widgets/base",
            "_model_module_version": "1.2.0",
            "_model_name": "LayoutModel",
            "_view_count": null,
            "_view_module": "@jupyter-widgets/base",
            "_view_module_version": "1.2.0",
            "_view_name": "LayoutView",
            "align_content": null,
            "align_items": null,
            "align_self": null,
            "border": null,
            "bottom": null,
            "display": null,
            "flex": null,
            "flex_flow": null,
            "grid_area": null,
            "grid_auto_columns": null,
            "grid_auto_flow": null,
            "grid_auto_rows": null,
            "grid_column": null,
            "grid_gap": null,
            "grid_row": null,
            "grid_template_areas": null,
            "grid_template_columns": null,
            "grid_template_rows": null,
            "height": null,
            "justify_content": null,
            "justify_items": null,
            "left": null,
            "margin": null,
            "max_height": null,
            "max_width": null,
            "min_height": null,
            "min_width": null,
            "object_fit": null,
            "object_position": null,
            "order": null,
            "overflow": null,
            "overflow_x": null,
            "overflow_y": null,
            "padding": null,
            "right": null,
            "top": null,
            "visibility": null,
            "width": null
          }
        },
        "08f0c6b8e3934a2ca9cfebb3d4cb3a2d": {
          "model_module": "@jupyter-widgets/controls",
          "model_name": "DescriptionStyleModel",
          "model_module_version": "1.5.0",
          "state": {
            "_model_module": "@jupyter-widgets/controls",
            "_model_module_version": "1.5.0",
            "_model_name": "DescriptionStyleModel",
            "_view_count": null,
            "_view_module": "@jupyter-widgets/base",
            "_view_module_version": "1.2.0",
            "_view_name": "StyleView",
            "description_width": ""
          }
        }
      }
    }
  },
  "cells": [
    {
      "cell_type": "markdown",
      "source": [
        "<img src=\"https://upload.wikimedia.org/wikipedia/en/5/5e/Munster_Technological_University_Logo%2C_2021.jpg\">\n",
        "\n",
        "#Applied Machine Learning (Dr. Haithem Afli) – Project 1 Assignment - Spam Classifier\n",
        "##Orlando Jr R00224938\n"
      ],
      "metadata": {
        "id": "MHJMmeXrawSs"
      }
    },
    {
      "cell_type": "markdown",
      "source": [
        "<img src=\"https://raw.githubusercontent.com/orlandojrps/spam/main/spam.jpg\"/>"
      ],
      "metadata": {
        "id": "MD3gpO9bmf3k"
      }
    },
    {
      "cell_type": "markdown",
      "source": [
        "## Introduction\n",
        "###This project will explore the Enron email dataset, a public dataset that classified all messages as \"SPAM\" and \"NON-SPAM\", here called \"HAM\". The aim is also split the dataset in Train and Test, display some information in the EDA and finally create a supervised classification pipeline.\n",
        "###This notebook will be commented in form to explain the most important steps and intentionally works like a report.\n",
        "\n",
        "###The files and codes are stored in the following address: https://github.com/orlandojrps/spam"
      ],
      "metadata": {
        "id": "f8KFoR6Vm0ce"
      }
    },
    {
      "cell_type": "markdown",
      "source": [
        "#Importing Libraries and Packages\n",
        "<img src =\"https://raw.githubusercontent.com/orlandojrps/spam/main/lib.png\">"
      ],
      "metadata": {
        "id": "l2vANKciqjhu"
      }
    },
    {
      "cell_type": "code",
      "source": [
        "import sklearn\n",
        "from sklearn.naive_bayes import GaussianNB\n",
        "from sklearn.metrics import confusion_matrix, classification_report\n",
        "import pickle\n",
        "from sklearn.model_selection import cross_val_score\n",
        "import zipfile\n",
        "import urllib.request\n",
        "import os\n",
        "import pandas as pd\n",
        "import seaborn as sns\n",
        "import matplotlib.pyplot as plt\n",
        "import numpy as np\n",
        "from sklearn.preprocessing import MinMaxScaler\n",
        "from sklearn.linear_model import LogisticRegression\n",
        "from sklearn.metrics import classification_report\n",
        "from sklearn.ensemble import RandomForestClassifier\n",
        "from sklearn.model_selection import train_test_split\n",
        "from sklearn.feature_extraction.text import TfidfVectorizer\n",
        "from sklearn.preprocessing import LabelEncoder\n",
        "from sklearn.metrics import roc_auc_score\n",
        "import sklearn.naive_bayes \n",
        "import nltk\n",
        "nltk.download('punkt')\n",
        "nltk.download('stopwords')\n",
        "from nltk.tokenize import word_tokenize\n",
        "from nltk.corpus import stopwords\n",
        "import seaborn as sns\n",
        "from sklearn.tree import DecisionTreeClassifier\n",
        "from sklearn.neighbors import KNeighborsClassifier\n",
        "from sklearn.metrics import *\n",
        "import spacy \n",
        "from tqdm.notebook import tqdm as PROG_BAR \n",
        "from sklearn.feature_extraction.text import CountVectorizer\n",
        "plt.rcParams['figure.figsize'] = [4, 4]"
      ],
      "metadata": {
        "id": "Vz0n6OmqsGMq",
        "colab": {
          "base_uri": "https://localhost:8080/"
        },
        "outputId": "30ba9c52-16f2-4493-c6f1-98c24ff7de29"
      },
      "execution_count": 1,
      "outputs": [
        {
          "output_type": "stream",
          "name": "stderr",
          "text": [
            "[nltk_data] Downloading package punkt to /root/nltk_data...\n",
            "[nltk_data]   Unzipping tokenizers/punkt.zip.\n",
            "[nltk_data] Downloading package stopwords to /root/nltk_data...\n",
            "[nltk_data]   Unzipping corpora/stopwords.zip.\n"
          ]
        }
      ]
    },
    {
      "cell_type": "code",
      "source": [
        "!python -m spacy download en_core_web_lg"
      ],
      "metadata": {
        "id": "nkdoTqg7cbKq",
        "colab": {
          "base_uri": "https://localhost:8080/"
        },
        "outputId": "28c5d448-e5e3-4684-cc0f-a34f0797d2f0"
      },
      "execution_count": 132,
      "outputs": [
        {
          "output_type": "stream",
          "name": "stdout",
          "text": [
            "Successfully installed en-core-web-lg-3.5.0\n",
            "\u001b[38;5;2m✔ Download and installation successful\u001b[0m\n",
            "You can now load the package via spacy.load('en_core_web_lg')\n"
          ]
        }
      ]
    },
    {
      "cell_type": "markdown",
      "source": [
        "#Preprocessing"
      ],
      "metadata": {
        "id": "LMJQ3Q9Xte8a"
      }
    },
    {
      "cell_type": "markdown",
      "source": [
        "<img src =\"https://raw.githubusercontent.com/orlandojrps/spam/main/load.png\"/>"
      ],
      "metadata": {
        "id": "VRFcRq9Xp34z"
      }
    },
    {
      "cell_type": "markdown",
      "source": [
        "##Extract, Load, Transform\n",
        "####The emails are stored in a zip file, separeted into 2 folders. To make acessible to further studies the dataset was uploaded to a Github folder. The emails will be loaded from the zip to a Dataframe."
      ],
      "metadata": {
        "id": "ETA0_S7utwod"
      }
    },
    {
      "cell_type": "code",
      "source": [
        "file = \"https://github.com/orlandojrps/spam/blob/8ab6bd3c9f131cc57a6664a5e16879b779dc157d/enron1.zip?raw=true\"\n",
        "name, headers = urllib.request.urlretrieve(file, 'enron1.zip')\n",
        "\n",
        "with zipfile.ZipFile(name, 'r') as zip_ref:\n",
        "  zip_ref.extractall('')\n",
        "\n",
        "emails = []\n",
        "for folder in ['ham', 'spam']:\n",
        "    path = 'enron1/{}'.format(folder)\n",
        "    for file in os.listdir(path):\n",
        "        with open('{}/{}'.format(path, file), 'r', encoding='ISO-8859-1') as f:\n",
        "            content = f.read()\n",
        "        emails.append({'message': content, 'classification': folder})\n",
        "\n",
        "df = pd.DataFrame(emails)\n"
      ],
      "metadata": {
        "id": "tdVCRX3cmn5Q"
      },
      "execution_count": 205,
      "outputs": []
    },
    {
      "cell_type": "markdown",
      "source": [
        "###Inspecting content of the Dataset:"
      ],
      "metadata": {
        "id": "Yevsrn1Cp9VT"
      }
    },
    {
      "cell_type": "code",
      "source": [
        "df"
      ],
      "metadata": {
        "colab": {
          "base_uri": "https://localhost:8080/",
          "height": 423
        },
        "id": "_AvP3tDJwsgc",
        "outputId": "663f82ea-21ef-4afd-95b6-42bd5476bdc6"
      },
      "execution_count": 3,
      "outputs": [
        {
          "output_type": "execute_result",
          "data": {
            "text/plain": [
              "                                                message classification\n",
              "0     Subject: revision # 1 - enron / hpl actuals fo...            ham\n",
              "1     Subject: hpl nom for may 8 , 2001\\n( see attac...            ham\n",
              "2     Subject: tetco / hpl ( enerfin ) meter # 98689...            ham\n",
              "3     Subject: january , 2001 devon availabilities ....            ham\n",
              "4     Subject: wellhead volumes\\ndaren ,\\nplease cli...            ham\n",
              "...                                                 ...            ...\n",
              "5167  Subject: select eshopping for medicines and ta...           spam\n",
              "5168  Subject: re : your account # ln 869\\nhi ,\\ni s...           spam\n",
              "5169  Subject: get back to me please\\nonce south cam...           spam\n",
              "5170  Subject: hi there buddy - feel the vitality\\nf...           spam\n",
              "5171  Subject: important auction info\\nr 3 move\\nmar...           spam\n",
              "\n",
              "[5172 rows x 2 columns]"
            ],
            "text/html": [
              "\n",
              "  <div id=\"df-e36e74f5-f92c-4d2e-b841-705cdc64c851\">\n",
              "    <div class=\"colab-df-container\">\n",
              "      <div>\n",
              "<style scoped>\n",
              "    .dataframe tbody tr th:only-of-type {\n",
              "        vertical-align: middle;\n",
              "    }\n",
              "\n",
              "    .dataframe tbody tr th {\n",
              "        vertical-align: top;\n",
              "    }\n",
              "\n",
              "    .dataframe thead th {\n",
              "        text-align: right;\n",
              "    }\n",
              "</style>\n",
              "<table border=\"1\" class=\"dataframe\">\n",
              "  <thead>\n",
              "    <tr style=\"text-align: right;\">\n",
              "      <th></th>\n",
              "      <th>message</th>\n",
              "      <th>classification</th>\n",
              "    </tr>\n",
              "  </thead>\n",
              "  <tbody>\n",
              "    <tr>\n",
              "      <th>0</th>\n",
              "      <td>Subject: revision # 1 - enron / hpl actuals fo...</td>\n",
              "      <td>ham</td>\n",
              "    </tr>\n",
              "    <tr>\n",
              "      <th>1</th>\n",
              "      <td>Subject: hpl nom for may 8 , 2001\\n( see attac...</td>\n",
              "      <td>ham</td>\n",
              "    </tr>\n",
              "    <tr>\n",
              "      <th>2</th>\n",
              "      <td>Subject: tetco / hpl ( enerfin ) meter # 98689...</td>\n",
              "      <td>ham</td>\n",
              "    </tr>\n",
              "    <tr>\n",
              "      <th>3</th>\n",
              "      <td>Subject: january , 2001 devon availabilities ....</td>\n",
              "      <td>ham</td>\n",
              "    </tr>\n",
              "    <tr>\n",
              "      <th>4</th>\n",
              "      <td>Subject: wellhead volumes\\ndaren ,\\nplease cli...</td>\n",
              "      <td>ham</td>\n",
              "    </tr>\n",
              "    <tr>\n",
              "      <th>...</th>\n",
              "      <td>...</td>\n",
              "      <td>...</td>\n",
              "    </tr>\n",
              "    <tr>\n",
              "      <th>5167</th>\n",
              "      <td>Subject: select eshopping for medicines and ta...</td>\n",
              "      <td>spam</td>\n",
              "    </tr>\n",
              "    <tr>\n",
              "      <th>5168</th>\n",
              "      <td>Subject: re : your account # ln 869\\nhi ,\\ni s...</td>\n",
              "      <td>spam</td>\n",
              "    </tr>\n",
              "    <tr>\n",
              "      <th>5169</th>\n",
              "      <td>Subject: get back to me please\\nonce south cam...</td>\n",
              "      <td>spam</td>\n",
              "    </tr>\n",
              "    <tr>\n",
              "      <th>5170</th>\n",
              "      <td>Subject: hi there buddy - feel the vitality\\nf...</td>\n",
              "      <td>spam</td>\n",
              "    </tr>\n",
              "    <tr>\n",
              "      <th>5171</th>\n",
              "      <td>Subject: important auction info\\nr 3 move\\nmar...</td>\n",
              "      <td>spam</td>\n",
              "    </tr>\n",
              "  </tbody>\n",
              "</table>\n",
              "<p>5172 rows × 2 columns</p>\n",
              "</div>\n",
              "      <button class=\"colab-df-convert\" onclick=\"convertToInteractive('df-e36e74f5-f92c-4d2e-b841-705cdc64c851')\"\n",
              "              title=\"Convert this dataframe to an interactive table.\"\n",
              "              style=\"display:none;\">\n",
              "        \n",
              "  <svg xmlns=\"http://www.w3.org/2000/svg\" height=\"24px\"viewBox=\"0 0 24 24\"\n",
              "       width=\"24px\">\n",
              "    <path d=\"M0 0h24v24H0V0z\" fill=\"none\"/>\n",
              "    <path d=\"M18.56 5.44l.94 2.06.94-2.06 2.06-.94-2.06-.94-.94-2.06-.94 2.06-2.06.94zm-11 1L8.5 8.5l.94-2.06 2.06-.94-2.06-.94L8.5 2.5l-.94 2.06-2.06.94zm10 10l.94 2.06.94-2.06 2.06-.94-2.06-.94-.94-2.06-.94 2.06-2.06.94z\"/><path d=\"M17.41 7.96l-1.37-1.37c-.4-.4-.92-.59-1.43-.59-.52 0-1.04.2-1.43.59L10.3 9.45l-7.72 7.72c-.78.78-.78 2.05 0 2.83L4 21.41c.39.39.9.59 1.41.59.51 0 1.02-.2 1.41-.59l7.78-7.78 2.81-2.81c.8-.78.8-2.07 0-2.86zM5.41 20L4 18.59l7.72-7.72 1.47 1.35L5.41 20z\"/>\n",
              "  </svg>\n",
              "      </button>\n",
              "      \n",
              "  <style>\n",
              "    .colab-df-container {\n",
              "      display:flex;\n",
              "      flex-wrap:wrap;\n",
              "      gap: 12px;\n",
              "    }\n",
              "\n",
              "    .colab-df-convert {\n",
              "      background-color: #E8F0FE;\n",
              "      border: none;\n",
              "      border-radius: 50%;\n",
              "      cursor: pointer;\n",
              "      display: none;\n",
              "      fill: #1967D2;\n",
              "      height: 32px;\n",
              "      padding: 0 0 0 0;\n",
              "      width: 32px;\n",
              "    }\n",
              "\n",
              "    .colab-df-convert:hover {\n",
              "      background-color: #E2EBFA;\n",
              "      box-shadow: 0px 1px 2px rgba(60, 64, 67, 0.3), 0px 1px 3px 1px rgba(60, 64, 67, 0.15);\n",
              "      fill: #174EA6;\n",
              "    }\n",
              "\n",
              "    [theme=dark] .colab-df-convert {\n",
              "      background-color: #3B4455;\n",
              "      fill: #D2E3FC;\n",
              "    }\n",
              "\n",
              "    [theme=dark] .colab-df-convert:hover {\n",
              "      background-color: #434B5C;\n",
              "      box-shadow: 0px 1px 3px 1px rgba(0, 0, 0, 0.15);\n",
              "      filter: drop-shadow(0px 1px 2px rgba(0, 0, 0, 0.3));\n",
              "      fill: #FFFFFF;\n",
              "    }\n",
              "  </style>\n",
              "\n",
              "      <script>\n",
              "        const buttonEl =\n",
              "          document.querySelector('#df-e36e74f5-f92c-4d2e-b841-705cdc64c851 button.colab-df-convert');\n",
              "        buttonEl.style.display =\n",
              "          google.colab.kernel.accessAllowed ? 'block' : 'none';\n",
              "\n",
              "        async function convertToInteractive(key) {\n",
              "          const element = document.querySelector('#df-e36e74f5-f92c-4d2e-b841-705cdc64c851');\n",
              "          const dataTable =\n",
              "            await google.colab.kernel.invokeFunction('convertToInteractive',\n",
              "                                                     [key], {});\n",
              "          if (!dataTable) return;\n",
              "\n",
              "          const docLinkHtml = 'Like what you see? Visit the ' +\n",
              "            '<a target=\"_blank\" href=https://colab.research.google.com/notebooks/data_table.ipynb>data table notebook</a>'\n",
              "            + ' to learn more about interactive tables.';\n",
              "          element.innerHTML = '';\n",
              "          dataTable['output_type'] = 'display_data';\n",
              "          await google.colab.output.renderOutput(dataTable, element);\n",
              "          const docLink = document.createElement('div');\n",
              "          docLink.innerHTML = docLinkHtml;\n",
              "          element.appendChild(docLink);\n",
              "        }\n",
              "      </script>\n",
              "    </div>\n",
              "  </div>\n",
              "  "
            ]
          },
          "metadata": {},
          "execution_count": 3
        }
      ]
    },
    {
      "cell_type": "code",
      "source": [
        "df.shape"
      ],
      "metadata": {
        "colab": {
          "base_uri": "https://localhost:8080/"
        },
        "id": "ZMowgGocxFQO",
        "outputId": "6271123f-48ed-45d3-b476-455acac957c2"
      },
      "execution_count": 4,
      "outputs": [
        {
          "output_type": "execute_result",
          "data": {
            "text/plain": [
              "(5172, 2)"
            ]
          },
          "metadata": {},
          "execution_count": 4
        }
      ]
    },
    {
      "cell_type": "markdown",
      "source": [
        "####Extraction and Loading well succeeded! Our dataset has 2 Columns (Message and Classification) with a total of 5172 observations (rows) "
      ],
      "metadata": {
        "id": "MiiJBifAmnmF"
      }
    },
    {
      "cell_type": "markdown",
      "source": [
        "<img src=\"https://raw.githubusercontent.com/orlandojrps/spam/main/cleaning.jpg\">"
      ],
      "metadata": {
        "id": "DhvPPTIazRYD"
      }
    },
    {
      "cell_type": "markdown",
      "source": [
        "###Let's checking for missing values, repeaded observations and remove from ourdataset if present"
      ],
      "metadata": {
        "id": "tE0gqUzgzZEO"
      }
    },
    {
      "cell_type": "code",
      "source": [
        "df.isnull().sum()"
      ],
      "metadata": {
        "colab": {
          "base_uri": "https://localhost:8080/"
        },
        "id": "qfrxwjR-mZJN",
        "outputId": "00c92fa1-bab4-418e-b0d1-c7e6ffb725ac"
      },
      "execution_count": null,
      "outputs": [
        {
          "output_type": "execute_result",
          "data": {
            "text/plain": [
              "message           0\n",
              "classification    0\n",
              "dtype: int64"
            ]
          },
          "metadata": {},
          "execution_count": 4
        }
      ]
    },
    {
      "cell_type": "code",
      "source": [
        "df.isna().sum()"
      ],
      "metadata": {
        "colab": {
          "base_uri": "https://localhost:8080/"
        },
        "id": "Ztuy3RQXzzu8",
        "outputId": "50561db0-8d1d-44b8-9d8d-db780e3783fe"
      },
      "execution_count": null,
      "outputs": [
        {
          "output_type": "execute_result",
          "data": {
            "text/plain": [
              "message           0\n",
              "classification    0\n",
              "dtype: int64"
            ]
          },
          "metadata": {},
          "execution_count": 5
        }
      ]
    },
    {
      "cell_type": "code",
      "source": [
        "duplicated_rows = df.duplicated()\n",
        "duplicated_df = df.loc[duplicated_rows]\n",
        "df.duplicated().sum()"
      ],
      "metadata": {
        "colab": {
          "base_uri": "https://localhost:8080/"
        },
        "id": "58d0MK-KRhQh",
        "outputId": "47d60f8e-4240-4559-b2a0-0c11042dddcb"
      },
      "execution_count": 206,
      "outputs": [
        {
          "output_type": "execute_result",
          "data": {
            "text/plain": [
              "178"
            ]
          },
          "metadata": {},
          "execution_count": 206
        }
      ]
    },
    {
      "cell_type": "code",
      "source": [
        "duplicated_df"
      ],
      "metadata": {
        "colab": {
          "base_uri": "https://localhost:8080/",
          "height": 423
        },
        "id": "uuzbOhXoRitv",
        "outputId": "bad368f7-4b28-46f6-f6b5-5afcfa50538d"
      },
      "execution_count": 204,
      "outputs": [
        {
          "output_type": "execute_result",
          "data": {
            "text/plain": [
              "                                                message classification\n",
              "119   Subject: calpine daily gas nomination\\n>\\nrick...            ham\n",
              "353   Subject: calpine daily gas nomination\\n>\\nrick...            ham\n",
              "430   Subject: calpine daily gas nomination\\n>\\nrick...            ham\n",
              "615   Subject: calpine daily gas nomination\\n>\\nrick...            ham\n",
              "721   Subject: calpine daily gas nomination\\n>\\nrick...            ham\n",
              "...                                                 ...            ...\n",
              "4984  Subject: \\nthe permanent fix to penis growth\\n...           spam\n",
              "5010  Subject: your contact info\\n? \" ? ? ?  ?  ? ...           spam\n",
              "5062  Subject: only $ 16 per malboro carton\\ntired o...           spam\n",
              "5088        Subject: we ' ve found a school for you !\\n           spam\n",
              "5090  Subject: best free adult personals\\nsearching ...           spam\n",
              "\n",
              "[178 rows x 2 columns]"
            ],
            "text/html": [
              "\n",
              "  <div id=\"df-b082e81b-4acb-4343-bff4-f9b931fe18a1\">\n",
              "    <div class=\"colab-df-container\">\n",
              "      <div>\n",
              "<style scoped>\n",
              "    .dataframe tbody tr th:only-of-type {\n",
              "        vertical-align: middle;\n",
              "    }\n",
              "\n",
              "    .dataframe tbody tr th {\n",
              "        vertical-align: top;\n",
              "    }\n",
              "\n",
              "    .dataframe thead th {\n",
              "        text-align: right;\n",
              "    }\n",
              "</style>\n",
              "<table border=\"1\" class=\"dataframe\">\n",
              "  <thead>\n",
              "    <tr style=\"text-align: right;\">\n",
              "      <th></th>\n",
              "      <th>message</th>\n",
              "      <th>classification</th>\n",
              "    </tr>\n",
              "  </thead>\n",
              "  <tbody>\n",
              "    <tr>\n",
              "      <th>119</th>\n",
              "      <td>Subject: calpine daily gas nomination\\n&gt;\\nrick...</td>\n",
              "      <td>ham</td>\n",
              "    </tr>\n",
              "    <tr>\n",
              "      <th>353</th>\n",
              "      <td>Subject: calpine daily gas nomination\\n&gt;\\nrick...</td>\n",
              "      <td>ham</td>\n",
              "    </tr>\n",
              "    <tr>\n",
              "      <th>430</th>\n",
              "      <td>Subject: calpine daily gas nomination\\n&gt;\\nrick...</td>\n",
              "      <td>ham</td>\n",
              "    </tr>\n",
              "    <tr>\n",
              "      <th>615</th>\n",
              "      <td>Subject: calpine daily gas nomination\\n&gt;\\nrick...</td>\n",
              "      <td>ham</td>\n",
              "    </tr>\n",
              "    <tr>\n",
              "      <th>721</th>\n",
              "      <td>Subject: calpine daily gas nomination\\n&gt;\\nrick...</td>\n",
              "      <td>ham</td>\n",
              "    </tr>\n",
              "    <tr>\n",
              "      <th>...</th>\n",
              "      <td>...</td>\n",
              "      <td>...</td>\n",
              "    </tr>\n",
              "    <tr>\n",
              "      <th>4984</th>\n",
              "      <td>Subject: \\nthe permanent fix to penis growth\\n...</td>\n",
              "      <td>spam</td>\n",
              "    </tr>\n",
              "    <tr>\n",
              "      <th>5010</th>\n",
              "      <td>Subject: your contact info\\n? \" ? ? ?  ?  ? ...</td>\n",
              "      <td>spam</td>\n",
              "    </tr>\n",
              "    <tr>\n",
              "      <th>5062</th>\n",
              "      <td>Subject: only $ 16 per malboro carton\\ntired o...</td>\n",
              "      <td>spam</td>\n",
              "    </tr>\n",
              "    <tr>\n",
              "      <th>5088</th>\n",
              "      <td>Subject: we ' ve found a school for you !\\n</td>\n",
              "      <td>spam</td>\n",
              "    </tr>\n",
              "    <tr>\n",
              "      <th>5090</th>\n",
              "      <td>Subject: best free adult personals\\nsearching ...</td>\n",
              "      <td>spam</td>\n",
              "    </tr>\n",
              "  </tbody>\n",
              "</table>\n",
              "<p>178 rows × 2 columns</p>\n",
              "</div>\n",
              "      <button class=\"colab-df-convert\" onclick=\"convertToInteractive('df-b082e81b-4acb-4343-bff4-f9b931fe18a1')\"\n",
              "              title=\"Convert this dataframe to an interactive table.\"\n",
              "              style=\"display:none;\">\n",
              "        \n",
              "  <svg xmlns=\"http://www.w3.org/2000/svg\" height=\"24px\"viewBox=\"0 0 24 24\"\n",
              "       width=\"24px\">\n",
              "    <path d=\"M0 0h24v24H0V0z\" fill=\"none\"/>\n",
              "    <path d=\"M18.56 5.44l.94 2.06.94-2.06 2.06-.94-2.06-.94-.94-2.06-.94 2.06-2.06.94zm-11 1L8.5 8.5l.94-2.06 2.06-.94-2.06-.94L8.5 2.5l-.94 2.06-2.06.94zm10 10l.94 2.06.94-2.06 2.06-.94-2.06-.94-.94-2.06-.94 2.06-2.06.94z\"/><path d=\"M17.41 7.96l-1.37-1.37c-.4-.4-.92-.59-1.43-.59-.52 0-1.04.2-1.43.59L10.3 9.45l-7.72 7.72c-.78.78-.78 2.05 0 2.83L4 21.41c.39.39.9.59 1.41.59.51 0 1.02-.2 1.41-.59l7.78-7.78 2.81-2.81c.8-.78.8-2.07 0-2.86zM5.41 20L4 18.59l7.72-7.72 1.47 1.35L5.41 20z\"/>\n",
              "  </svg>\n",
              "      </button>\n",
              "      \n",
              "  <style>\n",
              "    .colab-df-container {\n",
              "      display:flex;\n",
              "      flex-wrap:wrap;\n",
              "      gap: 12px;\n",
              "    }\n",
              "\n",
              "    .colab-df-convert {\n",
              "      background-color: #E8F0FE;\n",
              "      border: none;\n",
              "      border-radius: 50%;\n",
              "      cursor: pointer;\n",
              "      display: none;\n",
              "      fill: #1967D2;\n",
              "      height: 32px;\n",
              "      padding: 0 0 0 0;\n",
              "      width: 32px;\n",
              "    }\n",
              "\n",
              "    .colab-df-convert:hover {\n",
              "      background-color: #E2EBFA;\n",
              "      box-shadow: 0px 1px 2px rgba(60, 64, 67, 0.3), 0px 1px 3px 1px rgba(60, 64, 67, 0.15);\n",
              "      fill: #174EA6;\n",
              "    }\n",
              "\n",
              "    [theme=dark] .colab-df-convert {\n",
              "      background-color: #3B4455;\n",
              "      fill: #D2E3FC;\n",
              "    }\n",
              "\n",
              "    [theme=dark] .colab-df-convert:hover {\n",
              "      background-color: #434B5C;\n",
              "      box-shadow: 0px 1px 3px 1px rgba(0, 0, 0, 0.15);\n",
              "      filter: drop-shadow(0px 1px 2px rgba(0, 0, 0, 0.3));\n",
              "      fill: #FFFFFF;\n",
              "    }\n",
              "  </style>\n",
              "\n",
              "      <script>\n",
              "        const buttonEl =\n",
              "          document.querySelector('#df-b082e81b-4acb-4343-bff4-f9b931fe18a1 button.colab-df-convert');\n",
              "        buttonEl.style.display =\n",
              "          google.colab.kernel.accessAllowed ? 'block' : 'none';\n",
              "\n",
              "        async function convertToInteractive(key) {\n",
              "          const element = document.querySelector('#df-b082e81b-4acb-4343-bff4-f9b931fe18a1');\n",
              "          const dataTable =\n",
              "            await google.colab.kernel.invokeFunction('convertToInteractive',\n",
              "                                                     [key], {});\n",
              "          if (!dataTable) return;\n",
              "\n",
              "          const docLinkHtml = 'Like what you see? Visit the ' +\n",
              "            '<a target=\"_blank\" href=https://colab.research.google.com/notebooks/data_table.ipynb>data table notebook</a>'\n",
              "            + ' to learn more about interactive tables.';\n",
              "          element.innerHTML = '';\n",
              "          dataTable['output_type'] = 'display_data';\n",
              "          await google.colab.output.renderOutput(dataTable, element);\n",
              "          const docLink = document.createElement('div');\n",
              "          docLink.innerHTML = docLinkHtml;\n",
              "          element.appendChild(docLink);\n",
              "        }\n",
              "      </script>\n",
              "    </div>\n",
              "  </div>\n",
              "  "
            ]
          },
          "metadata": {},
          "execution_count": 204
        }
      ]
    },
    {
      "cell_type": "markdown",
      "source": [
        "####No missing values but 178 occurrences of repeated observations. Let's explore a little more and check those messages, next step is drop the repetitions:"
      ],
      "metadata": {
        "id": "pNz4-OCyz8MB"
      }
    },
    {
      "cell_type": "code",
      "source": [
        "df[df. duplicated()]"
      ],
      "metadata": {
        "colab": {
          "base_uri": "https://localhost:8080/",
          "height": 424
        },
        "id": "oejx435Qxxxk",
        "outputId": "dbb6dc62-50c3-43a1-a6f9-d45a5d59e984"
      },
      "execution_count": null,
      "outputs": [
        {
          "output_type": "execute_result",
          "data": {
            "text/plain": [
              "                                                message classification\n",
              "119   Subject: calpine daily gas nomination\\n>\\nrick...            ham\n",
              "353   Subject: calpine daily gas nomination\\n>\\nrick...            ham\n",
              "430   Subject: calpine daily gas nomination\\n>\\nrick...            ham\n",
              "615   Subject: calpine daily gas nomination\\n>\\nrick...            ham\n",
              "721   Subject: calpine daily gas nomination\\n>\\nrick...            ham\n",
              "...                                                 ...            ...\n",
              "4984  Subject: \\nthe permanent fix to penis growth\\n...           spam\n",
              "5010  Subject: your contact info\\n? \" ? ? ?  ?  ? ...           spam\n",
              "5062  Subject: only $ 16 per malboro carton\\ntired o...           spam\n",
              "5088        Subject: we ' ve found a school for you !\\n           spam\n",
              "5090  Subject: best free adult personals\\nsearching ...           spam\n",
              "\n",
              "[178 rows x 2 columns]"
            ],
            "text/html": [
              "\n",
              "  <div id=\"df-caf6f3a6-a153-48ae-be7f-a3caa11de92b\">\n",
              "    <div class=\"colab-df-container\">\n",
              "      <div>\n",
              "<style scoped>\n",
              "    .dataframe tbody tr th:only-of-type {\n",
              "        vertical-align: middle;\n",
              "    }\n",
              "\n",
              "    .dataframe tbody tr th {\n",
              "        vertical-align: top;\n",
              "    }\n",
              "\n",
              "    .dataframe thead th {\n",
              "        text-align: right;\n",
              "    }\n",
              "</style>\n",
              "<table border=\"1\" class=\"dataframe\">\n",
              "  <thead>\n",
              "    <tr style=\"text-align: right;\">\n",
              "      <th></th>\n",
              "      <th>message</th>\n",
              "      <th>classification</th>\n",
              "    </tr>\n",
              "  </thead>\n",
              "  <tbody>\n",
              "    <tr>\n",
              "      <th>119</th>\n",
              "      <td>Subject: calpine daily gas nomination\\n&gt;\\nrick...</td>\n",
              "      <td>ham</td>\n",
              "    </tr>\n",
              "    <tr>\n",
              "      <th>353</th>\n",
              "      <td>Subject: calpine daily gas nomination\\n&gt;\\nrick...</td>\n",
              "      <td>ham</td>\n",
              "    </tr>\n",
              "    <tr>\n",
              "      <th>430</th>\n",
              "      <td>Subject: calpine daily gas nomination\\n&gt;\\nrick...</td>\n",
              "      <td>ham</td>\n",
              "    </tr>\n",
              "    <tr>\n",
              "      <th>615</th>\n",
              "      <td>Subject: calpine daily gas nomination\\n&gt;\\nrick...</td>\n",
              "      <td>ham</td>\n",
              "    </tr>\n",
              "    <tr>\n",
              "      <th>721</th>\n",
              "      <td>Subject: calpine daily gas nomination\\n&gt;\\nrick...</td>\n",
              "      <td>ham</td>\n",
              "    </tr>\n",
              "    <tr>\n",
              "      <th>...</th>\n",
              "      <td>...</td>\n",
              "      <td>...</td>\n",
              "    </tr>\n",
              "    <tr>\n",
              "      <th>4984</th>\n",
              "      <td>Subject: \\nthe permanent fix to penis growth\\n...</td>\n",
              "      <td>spam</td>\n",
              "    </tr>\n",
              "    <tr>\n",
              "      <th>5010</th>\n",
              "      <td>Subject: your contact info\\n? \" ? ? ?  ?  ? ...</td>\n",
              "      <td>spam</td>\n",
              "    </tr>\n",
              "    <tr>\n",
              "      <th>5062</th>\n",
              "      <td>Subject: only $ 16 per malboro carton\\ntired o...</td>\n",
              "      <td>spam</td>\n",
              "    </tr>\n",
              "    <tr>\n",
              "      <th>5088</th>\n",
              "      <td>Subject: we ' ve found a school for you !\\n</td>\n",
              "      <td>spam</td>\n",
              "    </tr>\n",
              "    <tr>\n",
              "      <th>5090</th>\n",
              "      <td>Subject: best free adult personals\\nsearching ...</td>\n",
              "      <td>spam</td>\n",
              "    </tr>\n",
              "  </tbody>\n",
              "</table>\n",
              "<p>178 rows × 2 columns</p>\n",
              "</div>\n",
              "      <button class=\"colab-df-convert\" onclick=\"convertToInteractive('df-caf6f3a6-a153-48ae-be7f-a3caa11de92b')\"\n",
              "              title=\"Convert this dataframe to an interactive table.\"\n",
              "              style=\"display:none;\">\n",
              "        \n",
              "  <svg xmlns=\"http://www.w3.org/2000/svg\" height=\"24px\"viewBox=\"0 0 24 24\"\n",
              "       width=\"24px\">\n",
              "    <path d=\"M0 0h24v24H0V0z\" fill=\"none\"/>\n",
              "    <path d=\"M18.56 5.44l.94 2.06.94-2.06 2.06-.94-2.06-.94-.94-2.06-.94 2.06-2.06.94zm-11 1L8.5 8.5l.94-2.06 2.06-.94-2.06-.94L8.5 2.5l-.94 2.06-2.06.94zm10 10l.94 2.06.94-2.06 2.06-.94-2.06-.94-.94-2.06-.94 2.06-2.06.94z\"/><path d=\"M17.41 7.96l-1.37-1.37c-.4-.4-.92-.59-1.43-.59-.52 0-1.04.2-1.43.59L10.3 9.45l-7.72 7.72c-.78.78-.78 2.05 0 2.83L4 21.41c.39.39.9.59 1.41.59.51 0 1.02-.2 1.41-.59l7.78-7.78 2.81-2.81c.8-.78.8-2.07 0-2.86zM5.41 20L4 18.59l7.72-7.72 1.47 1.35L5.41 20z\"/>\n",
              "  </svg>\n",
              "      </button>\n",
              "      \n",
              "  <style>\n",
              "    .colab-df-container {\n",
              "      display:flex;\n",
              "      flex-wrap:wrap;\n",
              "      gap: 12px;\n",
              "    }\n",
              "\n",
              "    .colab-df-convert {\n",
              "      background-color: #E8F0FE;\n",
              "      border: none;\n",
              "      border-radius: 50%;\n",
              "      cursor: pointer;\n",
              "      display: none;\n",
              "      fill: #1967D2;\n",
              "      height: 32px;\n",
              "      padding: 0 0 0 0;\n",
              "      width: 32px;\n",
              "    }\n",
              "\n",
              "    .colab-df-convert:hover {\n",
              "      background-color: #E2EBFA;\n",
              "      box-shadow: 0px 1px 2px rgba(60, 64, 67, 0.3), 0px 1px 3px 1px rgba(60, 64, 67, 0.15);\n",
              "      fill: #174EA6;\n",
              "    }\n",
              "\n",
              "    [theme=dark] .colab-df-convert {\n",
              "      background-color: #3B4455;\n",
              "      fill: #D2E3FC;\n",
              "    }\n",
              "\n",
              "    [theme=dark] .colab-df-convert:hover {\n",
              "      background-color: #434B5C;\n",
              "      box-shadow: 0px 1px 3px 1px rgba(0, 0, 0, 0.15);\n",
              "      filter: drop-shadow(0px 1px 2px rgba(0, 0, 0, 0.3));\n",
              "      fill: #FFFFFF;\n",
              "    }\n",
              "  </style>\n",
              "\n",
              "      <script>\n",
              "        const buttonEl =\n",
              "          document.querySelector('#df-caf6f3a6-a153-48ae-be7f-a3caa11de92b button.colab-df-convert');\n",
              "        buttonEl.style.display =\n",
              "          google.colab.kernel.accessAllowed ? 'block' : 'none';\n",
              "\n",
              "        async function convertToInteractive(key) {\n",
              "          const element = document.querySelector('#df-caf6f3a6-a153-48ae-be7f-a3caa11de92b');\n",
              "          const dataTable =\n",
              "            await google.colab.kernel.invokeFunction('convertToInteractive',\n",
              "                                                     [key], {});\n",
              "          if (!dataTable) return;\n",
              "\n",
              "          const docLinkHtml = 'Like what you see? Visit the ' +\n",
              "            '<a target=\"_blank\" href=https://colab.research.google.com/notebooks/data_table.ipynb>data table notebook</a>'\n",
              "            + ' to learn more about interactive tables.';\n",
              "          element.innerHTML = '';\n",
              "          dataTable['output_type'] = 'display_data';\n",
              "          await google.colab.output.renderOutput(dataTable, element);\n",
              "          const docLink = document.createElement('div');\n",
              "          docLink.innerHTML = docLinkHtml;\n",
              "          element.appendChild(docLink);\n",
              "        }\n",
              "      </script>\n",
              "    </div>\n",
              "  </div>\n",
              "  "
            ]
          },
          "metadata": {},
          "execution_count": 8
        }
      ]
    },
    {
      "cell_type": "code",
      "source": [
        "df.drop_duplicates(inplace=True)"
      ],
      "metadata": {
        "id": "FueuynS20nhH"
      },
      "execution_count": 207,
      "outputs": []
    },
    {
      "cell_type": "code",
      "source": [
        "df[df. duplicated()]"
      ],
      "metadata": {
        "colab": {
          "base_uri": "https://localhost:8080/",
          "height": 49
        },
        "id": "eXUdoWldrAnL",
        "outputId": "da58d0e5-c90f-4f1b-b233-4ddb4c9a8155"
      },
      "execution_count": 9,
      "outputs": [
        {
          "output_type": "execute_result",
          "data": {
            "text/plain": [
              "Empty DataFrame\n",
              "Columns: [message, classification]\n",
              "Index: []"
            ],
            "text/html": [
              "\n",
              "  <div id=\"df-52aaf3ae-7683-4075-8a8f-5daec48591bb\">\n",
              "    <div class=\"colab-df-container\">\n",
              "      <div>\n",
              "<style scoped>\n",
              "    .dataframe tbody tr th:only-of-type {\n",
              "        vertical-align: middle;\n",
              "    }\n",
              "\n",
              "    .dataframe tbody tr th {\n",
              "        vertical-align: top;\n",
              "    }\n",
              "\n",
              "    .dataframe thead th {\n",
              "        text-align: right;\n",
              "    }\n",
              "</style>\n",
              "<table border=\"1\" class=\"dataframe\">\n",
              "  <thead>\n",
              "    <tr style=\"text-align: right;\">\n",
              "      <th></th>\n",
              "      <th>message</th>\n",
              "      <th>classification</th>\n",
              "    </tr>\n",
              "  </thead>\n",
              "  <tbody>\n",
              "  </tbody>\n",
              "</table>\n",
              "</div>\n",
              "      <button class=\"colab-df-convert\" onclick=\"convertToInteractive('df-52aaf3ae-7683-4075-8a8f-5daec48591bb')\"\n",
              "              title=\"Convert this dataframe to an interactive table.\"\n",
              "              style=\"display:none;\">\n",
              "        \n",
              "  <svg xmlns=\"http://www.w3.org/2000/svg\" height=\"24px\"viewBox=\"0 0 24 24\"\n",
              "       width=\"24px\">\n",
              "    <path d=\"M0 0h24v24H0V0z\" fill=\"none\"/>\n",
              "    <path d=\"M18.56 5.44l.94 2.06.94-2.06 2.06-.94-2.06-.94-.94-2.06-.94 2.06-2.06.94zm-11 1L8.5 8.5l.94-2.06 2.06-.94-2.06-.94L8.5 2.5l-.94 2.06-2.06.94zm10 10l.94 2.06.94-2.06 2.06-.94-2.06-.94-.94-2.06-.94 2.06-2.06.94z\"/><path d=\"M17.41 7.96l-1.37-1.37c-.4-.4-.92-.59-1.43-.59-.52 0-1.04.2-1.43.59L10.3 9.45l-7.72 7.72c-.78.78-.78 2.05 0 2.83L4 21.41c.39.39.9.59 1.41.59.51 0 1.02-.2 1.41-.59l7.78-7.78 2.81-2.81c.8-.78.8-2.07 0-2.86zM5.41 20L4 18.59l7.72-7.72 1.47 1.35L5.41 20z\"/>\n",
              "  </svg>\n",
              "      </button>\n",
              "      \n",
              "  <style>\n",
              "    .colab-df-container {\n",
              "      display:flex;\n",
              "      flex-wrap:wrap;\n",
              "      gap: 12px;\n",
              "    }\n",
              "\n",
              "    .colab-df-convert {\n",
              "      background-color: #E8F0FE;\n",
              "      border: none;\n",
              "      border-radius: 50%;\n",
              "      cursor: pointer;\n",
              "      display: none;\n",
              "      fill: #1967D2;\n",
              "      height: 32px;\n",
              "      padding: 0 0 0 0;\n",
              "      width: 32px;\n",
              "    }\n",
              "\n",
              "    .colab-df-convert:hover {\n",
              "      background-color: #E2EBFA;\n",
              "      box-shadow: 0px 1px 2px rgba(60, 64, 67, 0.3), 0px 1px 3px 1px rgba(60, 64, 67, 0.15);\n",
              "      fill: #174EA6;\n",
              "    }\n",
              "\n",
              "    [theme=dark] .colab-df-convert {\n",
              "      background-color: #3B4455;\n",
              "      fill: #D2E3FC;\n",
              "    }\n",
              "\n",
              "    [theme=dark] .colab-df-convert:hover {\n",
              "      background-color: #434B5C;\n",
              "      box-shadow: 0px 1px 3px 1px rgba(0, 0, 0, 0.15);\n",
              "      filter: drop-shadow(0px 1px 2px rgba(0, 0, 0, 0.3));\n",
              "      fill: #FFFFFF;\n",
              "    }\n",
              "  </style>\n",
              "\n",
              "      <script>\n",
              "        const buttonEl =\n",
              "          document.querySelector('#df-52aaf3ae-7683-4075-8a8f-5daec48591bb button.colab-df-convert');\n",
              "        buttonEl.style.display =\n",
              "          google.colab.kernel.accessAllowed ? 'block' : 'none';\n",
              "\n",
              "        async function convertToInteractive(key) {\n",
              "          const element = document.querySelector('#df-52aaf3ae-7683-4075-8a8f-5daec48591bb');\n",
              "          const dataTable =\n",
              "            await google.colab.kernel.invokeFunction('convertToInteractive',\n",
              "                                                     [key], {});\n",
              "          if (!dataTable) return;\n",
              "\n",
              "          const docLinkHtml = 'Like what you see? Visit the ' +\n",
              "            '<a target=\"_blank\" href=https://colab.research.google.com/notebooks/data_table.ipynb>data table notebook</a>'\n",
              "            + ' to learn more about interactive tables.';\n",
              "          element.innerHTML = '';\n",
              "          dataTable['output_type'] = 'display_data';\n",
              "          await google.colab.output.renderOutput(dataTable, element);\n",
              "          const docLink = document.createElement('div');\n",
              "          docLink.innerHTML = docLinkHtml;\n",
              "          element.appendChild(docLink);\n",
              "        }\n",
              "      </script>\n",
              "    </div>\n",
              "  </div>\n",
              "  "
            ]
          },
          "metadata": {},
          "execution_count": 9
        }
      ]
    },
    {
      "cell_type": "markdown",
      "source": [
        "####Duplicateds removed "
      ],
      "metadata": {
        "id": "CGF76DhrrEE3"
      }
    },
    {
      "cell_type": "markdown",
      "source": [
        "####Now the clean Dataset has the format of 4994 row with 2 columns."
      ],
      "metadata": {
        "id": "1gHuK88h0-Eo"
      }
    },
    {
      "cell_type": "markdown",
      "source": [
        "<img src=\"https://raw.githubusercontent.com/orlandojrps/spam/main/train_test.jpg\">"
      ],
      "metadata": {
        "id": "lnpqdHlU3Avf"
      }
    },
    {
      "cell_type": "markdown",
      "source": [
        "#Train and Test Split\n",
        "The dataset will be divided into Train with 70% and test with 30% of the observations. To this task it ill be used the method \"train_test_split\" from Sklearn. To avoid Bias in the sampling process it will be used a parameter called \"stratify\" to keep the proportion of classes in the train part similar to the original dataset."
      ],
      "metadata": {
        "id": "sfa4iVGH3O0I"
      }
    },
    {
      "cell_type": "markdown",
      "source": [
        "###First it's important to check the proportion of classes (Spam - Ham) in the original dataset, to compare later with the dataset divided to make sure that the proportion was mantained."
      ],
      "metadata": {
        "id": "G_xKSQsy8Bja"
      }
    },
    {
      "cell_type": "code",
      "source": [
        "print(\"Raw dataset statistics:\")\n",
        "print(f\"Total emails: {len(df)}\")\n",
        "print(f\"Spam emails: {len(df[df['classification'] == 'spam'])}\")\n",
        "print(f\"Non-spam emails: {len(df[df['classification'] == 'ham'])}\")\n",
        "print(f\"Spam ratio: {len(df[df['classification'] == 'spam'])/len(df)}\")"
      ],
      "metadata": {
        "colab": {
          "base_uri": "https://localhost:8080/"
        },
        "id": "07tuzkJR_rV2",
        "outputId": "12b9c427-3653-4057-d064-c3a004f137ea"
      },
      "execution_count": 208,
      "outputs": [
        {
          "output_type": "stream",
          "name": "stdout",
          "text": [
            "Raw dataset statistics:\n",
            "Total emails: 4994\n",
            "Spam emails: 1463\n",
            "Non-spam emails: 3531\n",
            "Spam ratio: 0.29295154185022027\n"
          ]
        }
      ]
    },
    {
      "cell_type": "code",
      "source": [
        "class_prop = df['classification'].value_counts(normalize=True)\n",
        "ax=sns.barplot(x=class_prop.index, y=class_prop.values, palette=['blue', 'red'])\n",
        "for i, v in enumerate(class_prop.values):\n",
        "    ax.text(i, v + 0.01, str(round(v, 2)), ha='center', fontweight='bold')\n",
        "plt.title('Class Proportions in the Raw Dataset');"
      ],
      "metadata": {
        "colab": {
          "base_uri": "https://localhost:8080/",
          "height": 391
        },
        "id": "8olKYCDH08X1",
        "outputId": "f7df02f8-21fa-4f40-a2ba-ff4f5b45f0b6"
      },
      "execution_count": 209,
      "outputs": [
        {
          "output_type": "display_data",
          "data": {
            "text/plain": [
              "<Figure size 400x400 with 1 Axes>"
            ],
            "image/png": "[encoded data removed]"
          },
          "metadata": {}
        }
      ]
    },
    {
      "cell_type": "markdown",
      "source": [
        "###Spliting Dataset:"
      ],
      "metadata": {
        "id": "t3u_k-Tn8qyI"
      }
    },
    {
      "cell_type": "code",
      "source": [
        "# define a feature do modelo\n",
        "X = df.message.values.reshape(-1, 1)\n",
        "# define a target do modelo\n",
        "y = df.classification.values.reshape(-1, 1)\n",
        "X_train, X_test, y_train, y_test = train_test_split(X, y, test_size=0.3,stratify=df[\"classification\"], random_state=4938) # my student number"
      ],
      "metadata": {
        "id": "G6UmZgxC8ueq"
      },
      "execution_count": 210,
      "outputs": []
    },
    {
      "cell_type": "markdown",
      "source": [
        "##Removing the Stop Words. <br/>\n",
        "<img src = \"https://raw.githubusercontent.com/orlandojrps/spam/main/stopword.jpg\">"
      ],
      "metadata": {
        "id": "6RLNxkNdsqMv"
      }
    },
    {
      "cell_type": "code",
      "source": [
        "stop_words = set(stopwords.words('english'))#reference: https://pythonspot.com/nltk-stop-words/"
      ],
      "metadata": {
        "id": "Rw47xbMhYo73"
      },
      "execution_count": 211,
      "outputs": []
    },
    {
      "cell_type": "code",
      "source": [
        "#If want to add more stop words\n",
        "new_stopwords = [\"back\"] #test\n",
        "stpwrd = nltk.corpus.stopwords.words('english')\n",
        "stpwrd.extend(new_stopwords)"
      ],
      "metadata": {
        "id": "NN52-ZWtghj5"
      },
      "execution_count": 212,
      "outputs": []
    },
    {
      "cell_type": "code",
      "source": [
        "stop_words"
      ],
      "metadata": {
        "colab": {
          "base_uri": "https://localhost:8080/"
        },
        "id": "cDj2kiFdYqiV",
        "outputId": "509f513c-5302-4189-8b5b-e6877acfa60d"
      },
      "execution_count": 213,
      "outputs": [
        {
          "output_type": "execute_result",
          "data": {
            "text/plain": [
              "{'a',\n",
              " 'about',\n",
              " 'above',\n",
              " 'after',\n",
              " 'again',\n",
              " 'against',\n",
              " 'ain',\n",
              " 'all',\n",
              " 'am',\n",
              " 'an',\n",
              " 'and',\n",
              " 'any',\n",
              " 'are',\n",
              " 'aren',\n",
              " \"aren't\",\n",
              " 'as',\n",
              " 'at',\n",
              " 'be',\n",
              " 'because',\n",
              " 'been',\n",
              " 'before',\n",
              " 'being',\n",
              " 'below',\n",
              " 'between',\n",
              " 'both',\n",
              " 'but',\n",
              " 'by',\n",
              " 'can',\n",
              " 'couldn',\n",
              " \"couldn't\",\n",
              " 'd',\n",
              " 'did',\n",
              " 'didn',\n",
              " \"didn't\",\n",
              " 'do',\n",
              " 'does',\n",
              " 'doesn',\n",
              " \"doesn't\",\n",
              " 'doing',\n",
              " 'don',\n",
              " \"don't\",\n",
              " 'down',\n",
              " 'during',\n",
              " 'each',\n",
              " 'few',\n",
              " 'for',\n",
              " 'from',\n",
              " 'further',\n",
              " 'had',\n",
              " 'hadn',\n",
              " \"hadn't\",\n",
              " 'has',\n",
              " 'hasn',\n",
              " \"hasn't\",\n",
              " 'have',\n",
              " 'haven',\n",
              " \"haven't\",\n",
              " 'having',\n",
              " 'he',\n",
              " 'her',\n",
              " 'here',\n",
              " 'hers',\n",
              " 'herself',\n",
              " 'him',\n",
              " 'himself',\n",
              " 'his',\n",
              " 'how',\n",
              " 'i',\n",
              " 'if',\n",
              " 'in',\n",
              " 'into',\n",
              " 'is',\n",
              " 'isn',\n",
              " \"isn't\",\n",
              " 'it',\n",
              " \"it's\",\n",
              " 'its',\n",
              " 'itself',\n",
              " 'just',\n",
              " 'll',\n",
              " 'm',\n",
              " 'ma',\n",
              " 'me',\n",
              " 'mightn',\n",
              " \"mightn't\",\n",
              " 'more',\n",
              " 'most',\n",
              " 'mustn',\n",
              " \"mustn't\",\n",
              " 'my',\n",
              " 'myself',\n",
              " 'needn',\n",
              " \"needn't\",\n",
              " 'no',\n",
              " 'nor',\n",
              " 'not',\n",
              " 'now',\n",
              " 'o',\n",
              " 'of',\n",
              " 'off',\n",
              " 'on',\n",
              " 'once',\n",
              " 'only',\n",
              " 'or',\n",
              " 'other',\n",
              " 'our',\n",
              " 'ours',\n",
              " 'ourselves',\n",
              " 'out',\n",
              " 'over',\n",
              " 'own',\n",
              " 're',\n",
              " 's',\n",
              " 'same',\n",
              " 'shan',\n",
              " \"shan't\",\n",
              " 'she',\n",
              " \"she's\",\n",
              " 'should',\n",
              " \"should've\",\n",
              " 'shouldn',\n",
              " \"shouldn't\",\n",
              " 'so',\n",
              " 'some',\n",
              " 'such',\n",
              " 't',\n",
              " 'than',\n",
              " 'that',\n",
              " \"that'll\",\n",
              " 'the',\n",
              " 'their',\n",
              " 'theirs',\n",
              " 'them',\n",
              " 'themselves',\n",
              " 'then',\n",
              " 'there',\n",
              " 'these',\n",
              " 'they',\n",
              " 'this',\n",
              " 'those',\n",
              " 'through',\n",
              " 'to',\n",
              " 'too',\n",
              " 'under',\n",
              " 'until',\n",
              " 'up',\n",
              " 've',\n",
              " 'very',\n",
              " 'was',\n",
              " 'wasn',\n",
              " \"wasn't\",\n",
              " 'we',\n",
              " 'were',\n",
              " 'weren',\n",
              " \"weren't\",\n",
              " 'what',\n",
              " 'when',\n",
              " 'where',\n",
              " 'which',\n",
              " 'while',\n",
              " 'who',\n",
              " 'whom',\n",
              " 'why',\n",
              " 'will',\n",
              " 'with',\n",
              " 'won',\n",
              " \"won't\",\n",
              " 'wouldn',\n",
              " \"wouldn't\",\n",
              " 'y',\n",
              " 'you',\n",
              " \"you'd\",\n",
              " \"you'll\",\n",
              " \"you're\",\n",
              " \"you've\",\n",
              " 'your',\n",
              " 'yours',\n",
              " 'yourself',\n",
              " 'yourselves'}"
            ]
          },
          "metadata": {},
          "execution_count": 213
        }
      ]
    },
    {
      "cell_type": "code",
      "source": [
        "#Revert to DF to be able to use apply() method to remove stopwords\n",
        "X_train= pd.DataFrame(X_train,columns=['message'])\n",
        "X_test= pd.DataFrame(X_test,columns=['message'])\n"
      ],
      "metadata": {
        "id": "y_G3J16Fa0YN"
      },
      "execution_count": 214,
      "outputs": []
    },
    {
      "cell_type": "code",
      "source": [
        "# Remove stop words from the text data. Font: https://www.projectpro.io/recipes/add-custom-stopwords-and-then-remove-them-from-text\n",
        "def remove_stop_words(text):\n",
        "    text_tokens = word_tokenize(text)\n",
        "    #words = text.split()\n",
        "    clean = [word for word in text_tokens if word.lower() not in stop_words]\n",
        "    return ' '.join(clean)\n",
        "\n",
        "# Apply the remove_stop_words function to the text data\n",
        "X_train['message'] = X_train['message'].apply(remove_stop_words)\n",
        "X_test['message'] = X_test['message'].apply(remove_stop_words)"
      ],
      "metadata": {
        "id": "w1xWvfJxYP2F"
      },
      "execution_count": 215,
      "outputs": []
    },
    {
      "cell_type": "code",
      "source": [
        "X_train['message']"
      ],
      "metadata": {
        "colab": {
          "base_uri": "https://localhost:8080/"
        },
        "id": "-YqmZ3JofGCT",
        "outputId": "01db8a0c-85cf-495b-de19-fcea67816abd"
      },
      "execution_count": 216,
      "outputs": [
        {
          "output_type": "execute_result",
          "data": {
            "text/plain": [
              "0       Subject : hi paliourg available meds . availab...\n",
              "1        Subject : : meter 1550 per gas control , 18 th .\n",
              "2       Subject : : waha hubco appologize , forgot one...\n",
              "3       Subject : calpine daily gas nomination monthly...\n",
              "4       Subject : hate condoms , need stay safe ? stay...\n",
              "                              ...                        \n",
              "3490    Subject : super cheap rates best sexual health...\n",
              "3491    Subject : sitara # 92886 febo 0 , gas taken gl...\n",
              "3492    Subject : new contact devon please note leavin...\n",
              "3493    Subject : canvas 2005 cable v de 5 rambler f r...\n",
              "3494    Subject : devon understand guys want talk devo...\n",
              "Name: message, Length: 3495, dtype: object"
            ]
          },
          "metadata": {},
          "execution_count": 216
        }
      ]
    },
    {
      "cell_type": "markdown",
      "source": [
        "####Verifying the results:"
      ],
      "metadata": {
        "id": "YFPaqiH_GOsd"
      }
    },
    {
      "cell_type": "code",
      "source": [
        "y_train"
      ],
      "metadata": {
        "colab": {
          "base_uri": "https://localhost:8080/"
        },
        "id": "a_e8RmXpYmrN",
        "outputId": "6d3ee929-75a8-4611-bb2e-51b482ebbf3b"
      },
      "execution_count": 21,
      "outputs": [
        {
          "output_type": "execute_result",
          "data": {
            "text/plain": [
              "array([['spam'],\n",
              "       ['ham'],\n",
              "       ['ham'],\n",
              "       ...,\n",
              "       ['ham'],\n",
              "       ['spam'],\n",
              "       ['ham']], dtype=object)"
            ]
          },
          "metadata": {},
          "execution_count": 21
        }
      ]
    },
    {
      "cell_type": "code",
      "source": [
        "train_spam = y_train[y_train== \"spam\"]\n",
        "train_non_spam = y_train[y_train== \"ham\"]\n",
        "test_spam = y_test[y_test == \"spam\"]\n",
        "test_non_spam = y_test[y_test == \"ham\"]\n",
        "\n",
        "print(\"Training set statistics:\")\n",
        "print(f\"Total emails: {len(y_train)}\")\n",
        "print(f\"Spam emails: {len(train_spam)}\")\n",
        "print(f\"Non-spam emails: {len(train_non_spam)}\")\n",
        "print(f\"Spam ratio in Train: {len(train_spam)/len(y_train)}\")\n",
        "\n",
        "print(\"\\nTest set statistics:\")\n",
        "print(f\"Total emails: {len(y_test)}\")\n",
        "print(f\"Spam emails: {len(test_spam)}\")\n",
        "print(f\"Non-spam emails: {len(test_non_spam)}\")\n",
        "print(f\"Spam ratio in Test: {len(test_spam)/len(y_test)}\")\n"
      ],
      "metadata": {
        "colab": {
          "base_uri": "https://localhost:8080/"
        },
        "id": "oBYPxSTd8-9f",
        "outputId": "d342ce94-b365-42d8-93b8-72bb48e23740"
      },
      "execution_count": 217,
      "outputs": [
        {
          "output_type": "stream",
          "name": "stdout",
          "text": [
            "Training set statistics:\n",
            "Total emails: 3495\n",
            "Spam emails: 1024\n",
            "Non-spam emails: 2471\n",
            "Spam ratio in Train: 0.2929899856938484\n",
            "\n",
            "Test set statistics:\n",
            "Total emails: 1499\n",
            "Spam emails: 439\n",
            "Non-spam emails: 1060\n",
            "Spam ratio in Test: 0.29286190793862577\n"
          ]
        }
      ]
    },
    {
      "cell_type": "code",
      "source": [
        "y_train_flat=y_train.reshape(-1)\n",
        "y_train_series = pd.Series(y_train_flat)\n",
        "\n",
        "class_prop = y_train_series.value_counts(normalize=True)\n",
        "ax=sns.barplot(x=class_prop.index, y=class_prop.values, palette=['blue', 'red'])\n",
        "for i, v in enumerate(class_prop.values):\n",
        "    ax.text(i, v + 0.01, str(round(v, 2)), ha='center', fontweight='bold')\n",
        "plt.title('Class Proportions in the Train Dataset');\n"
      ],
      "metadata": {
        "colab": {
          "base_uri": "https://localhost:8080/",
          "height": 391
        },
        "id": "R9_cwAeo_xvN",
        "outputId": "ae745868-9e8c-41e6-b191-919893fe64a7"
      },
      "execution_count": 23,
      "outputs": [
        {
          "output_type": "display_data",
          "data": {
            "text/plain": [
              "<Figure size 400x400 with 1 Axes>"
            ],
            "image/png": "[encoded data removed]"
          },
          "metadata": {}
        }
      ]
    },
    {
      "cell_type": "code",
      "source": [
        "y_test_flat=y_test.reshape(-1)\n",
        "y_test_series = pd.Series(y_test_flat)\n",
        "\n",
        "class_prop = y_test_series.value_counts(normalize=True)\n",
        "ax=sns.barplot(x=class_prop.index, y=class_prop.values, palette=['blue', 'red'])\n",
        "for i, v in enumerate(class_prop.values):\n",
        "    ax.text(i, v + 0.01, str(round(v, 2)), ha='center', fontweight='bold')\n",
        "plt.title('Class Proportions in the Test Dataset');\n"
      ],
      "metadata": {
        "colab": {
          "base_uri": "https://localhost:8080/",
          "height": 391
        },
        "id": "zBvHrjeY__BK",
        "outputId": "6ee8f077-03c2-45c1-84ea-a066ef411bbb"
      },
      "execution_count": 24,
      "outputs": [
        {
          "output_type": "display_data",
          "data": {
            "text/plain": [
              "<Figure size 400x400 with 1 Axes>"
            ],
            "image/png": "[encoded data removed]"
          },
          "metadata": {}
        }
      ]
    },
    {
      "cell_type": "markdown",
      "source": [
        "###As we can confirm no Bias was introduced in the Split process, the proportion from the original dataset was mantained."
      ],
      "metadata": {
        "id": "9JedYgxnCnfA"
      }
    },
    {
      "cell_type": "markdown",
      "source": [
        "#Feature Extraction."
      ],
      "metadata": {
        "id": "5l0AXY9qKGqP"
      }
    },
    {
      "cell_type": "markdown",
      "source": [
        "<img src=\"https://raw.githubusercontent.com/orlandojrps/spam/main/nlp.jpg\">"
      ],
      "metadata": {
        "id": "sLZC87RdWJiw"
      }
    },
    {
      "cell_type": "markdown",
      "source": [
        "####The approach chosed is TfidfVectorizer. In this bag-of-words representation each document is represented as a vector of term frequencies (TF) weighted by their inverse document frequency (IDF). Lower weights are given to common words, rare receive higher weights."
      ],
      "metadata": {
        "id": "lSwNhsv8Wevi"
      }
    },
    {
      "cell_type": "code",
      "source": [
        "#Back to dataframe format\n",
        "X_train= pd.DataFrame(X_train,columns=['message'])\n",
        "X_test= pd.DataFrame(X_test,columns=['message'])"
      ],
      "metadata": {
        "id": "iG1cG_bxcv6u"
      },
      "execution_count": 218,
      "outputs": []
    },
    {
      "cell_type": "code",
      "source": [
        "text = X_train.message\n",
        "\n",
        "# Creates TF-IDF Vector\n",
        "vectorizer = TfidfVectorizer()\n",
        "\n",
        "# Fit vector to data\n",
        "vectorizer.fit(text)\n",
        "\n",
        "# transform into a matrix of TF-IDF\n",
        "X_train_tfidf = vectorizer.transform(text)\n",
        "\n",
        "# Transform the into a dense matrix \n",
        "X_train_dense = X_train_tfidf.toarray()"
      ],
      "metadata": {
        "id": "dOaBFBAspadR"
      },
      "execution_count": 219,
      "outputs": []
    },
    {
      "cell_type": "markdown",
      "source": [
        "##Comparing the results before and after TF-IDF"
      ],
      "metadata": {
        "id": "YTxnD5SoG9dC"
      }
    },
    {
      "cell_type": "code",
      "source": [
        "X_train.message"
      ],
      "metadata": {
        "colab": {
          "base_uri": "https://localhost:8080/"
        },
        "id": "ak4nUKucG7TV",
        "outputId": "562c30ed-4cb5-45a3-fff5-205587717854"
      },
      "execution_count": 220,
      "outputs": [
        {
          "output_type": "execute_result",
          "data": {
            "text/plain": [
              "0       Subject : hi paliourg available meds . availab...\n",
              "1        Subject : : meter 1550 per gas control , 18 th .\n",
              "2       Subject : : waha hubco appologize , forgot one...\n",
              "3       Subject : calpine daily gas nomination monthly...\n",
              "4       Subject : hate condoms , need stay safe ? stay...\n",
              "                              ...                        \n",
              "3490    Subject : super cheap rates best sexual health...\n",
              "3491    Subject : sitara # 92886 febo 0 , gas taken gl...\n",
              "3492    Subject : new contact devon please note leavin...\n",
              "3493    Subject : canvas 2005 cable v de 5 rambler f r...\n",
              "3494    Subject : devon understand guys want talk devo...\n",
              "Name: message, Length: 3495, dtype: object"
            ]
          },
          "metadata": {},
          "execution_count": 220
        }
      ]
    },
    {
      "cell_type": "code",
      "source": [
        "X_train_dense"
      ],
      "metadata": {
        "colab": {
          "base_uri": "https://localhost:8080/"
        },
        "id": "IEICiXFRG564",
        "outputId": "e5ff406d-6514-44db-b0ae-ba35feef1d4d"
      },
      "execution_count": 221,
      "outputs": [
        {
          "output_type": "execute_result",
          "data": {
            "text/plain": [
              "array([[0.18036729, 0.        , 0.        , ..., 0.        , 0.        ,\n",
              "        0.        ],\n",
              "       [0.        , 0.        , 0.        , ..., 0.        , 0.        ,\n",
              "        0.        ],\n",
              "       [0.        , 0.        , 0.        , ..., 0.        , 0.        ,\n",
              "        0.        ],\n",
              "       ...,\n",
              "       [0.        , 0.        , 0.        , ..., 0.        , 0.        ,\n",
              "        0.        ],\n",
              "       [0.        , 0.        , 0.        , ..., 0.        , 0.        ,\n",
              "        0.        ],\n",
              "       [0.        , 0.        , 0.        , ..., 0.        , 0.        ,\n",
              "        0.        ]])"
            ]
          },
          "metadata": {},
          "execution_count": 221
        }
      ]
    },
    {
      "cell_type": "markdown",
      "source": [
        "<img src=\"https://raw.githubusercontent.com/orlandojrps/spam/main/eda.jpg\">"
      ],
      "metadata": {
        "id": "ilxlYiRppdBi"
      }
    },
    {
      "cell_type": "markdown",
      "source": [
        "###In the EDA stage we will check the most repeated words in both groups and also the distribution using Boxsplots"
      ],
      "metadata": {
        "id": "oGz5blXYrtDw"
      }
    },
    {
      "cell_type": "code",
      "source": [
        "#Ref.: https://www.projectpro.io/recipes/add-custom-stopwords-and-then-remove-them-from-text\n",
        "# Separate the train data into spam and non-spam categories\n",
        "spam = X_train[y_train == 'spam']\n",
        "non_spam=X_train[y_train == 'ham']\n",
        "\n",
        "# Create vector with spam and non-spam and make sure that those are not including stop_words\n",
        "spam_words = []\n",
        "for message in spam['message']:\n",
        "    words = word_tokenize(message.lower())\n",
        "    spam_words += [word for word in words if word.isalpha() and word not in stop_words]\n",
        "\n",
        "non_spam_words = []\n",
        "for message in non_spam['message']:\n",
        "    words = word_tokenize(message.lower())\n",
        "    non_spam_words += [word for word in words if word.isalpha() and word not in stop_words]\n",
        "\n",
        "# Count the frequency of each token in each category\n",
        "spam_word_freq = nltk.FreqDist(spam_words)\n",
        "non_spam_word_freq = nltk.FreqDist(non_spam_words)\n",
        "\n",
        "# Create a dictionary that maps each token to its frequency\n",
        "spam_top_words = dict(spam_word_freq.most_common(20))\n",
        "non_spam_top_words = dict(non_spam_word_freq.most_common(20))\n",
        "\n",
        "#Ref.: Part of this list comprehension was developed with ChatGPT assistance  \n",
        "# Sort the dictionary in descending order of the frequency\n",
        "spam_top_words = {k: v for k, v in sorted(spam_top_words.items(), key=lambda item: item[1], reverse=True)}\n",
        "non_spam_top_words = {k: v for k, v in sorted(non_spam_top_words.items(), key=lambda item: item[1], reverse=True)}\n",
        "\n",
        "# Create a bar plot to show the relative frequencies\n",
        "plt.figure(figsize=(18,8))\n",
        "plt.bar(range(len(spam_top_words)), list(spam_top_words.values()), align='center', color='red')\n",
        "plt.xticks(range(len(spam_top_words)), list(spam_top_words.keys()))\n",
        "plt.title('Top-20 most frequent words in spam emails')\n",
        "plt.show()\n",
        "plt.figure(figsize=(18,8))\n",
        "plt.bar(range(len(non_spam_top_words)), list(non_spam_top_words.values()), align='center', color='blue')\n",
        "plt.xticks(range(len(non_spam_top_words)), list(non_spam_top_words.keys()))\n",
        "plt.title('Top-20 most frequent words in non-spam emails')\n",
        "plt.show()"
      ],
      "metadata": {
        "colab": {
          "base_uri": "https://localhost:8080/",
          "height": 1000
        },
        "id": "topTVk8NgOZ2",
        "outputId": "169647e5-157f-4e64-9b82-c3358f4d1a3b"
      },
      "execution_count": 37,
      "outputs": [
        {
          "output_type": "display_data",
          "data": {
            "text/plain": [
              "<Figure size 1800x800 with 1 Axes>"
            ],
            "image/png": "[encoded data removed]"
          },
          "metadata": {}
        },
        {
          "output_type": "display_data",
          "data": {
            "text/plain": [
              "<Figure size 1800x800 with 1 Axes>"
            ],
            "image/png": "[encoded data removed]"
          },
          "metadata": {}
        }
      ]
    },
    {
      "cell_type": "code",
      "source": [
        "# Compute the length of each message\n",
        "spam_length = spam['message'].apply(len)\n",
        "non_spam_length = non_spam['message'].apply(len)\n",
        "\n",
        "# Create a boxplot to show the distribution of email lengths\n",
        "sns.boxplot(x=y_train[y_train==\"spam\"], y=spam_length, color='red', whis=10)\n",
        "plt.title('Distribution of email lengths in spam emails')\n",
        "plt.ylabel('Length')\n",
        "plt.show()\n",
        "\n",
        "sns.boxplot(x=y_train[y_train==\"ham\"], y=non_spam_length, color='blue', whis=10)\n",
        "plt.title('Distribution of email lengths in non-spam emails')\n",
        "plt.ylabel('Length')\n",
        "plt.show()"
      ],
      "metadata": {
        "colab": {
          "base_uri": "https://localhost:8080/",
          "height": 765
        },
        "id": "cuM9j3_PsU44",
        "outputId": "a23febaf-2902-45f0-a5da-c3dd770716c1"
      },
      "execution_count": 39,
      "outputs": [
        {
          "output_type": "display_data",
          "data": {
            "text/plain": [
              "<Figure size 400x400 with 1 Axes>"
            ],
            "image/png": "[encoded data removed]"
          },
          "metadata": {}
        },
        {
          "output_type": "display_data",
          "data": {
            "text/plain": [
              "<Figure size 400x400 with 1 Axes>"
            ],
            "image/png": "[encoded data removed]"
          },
          "metadata": {}
        }
      ]
    },
    {
      "cell_type": "code",
      "source": [
        "# Compute the length of each message\n",
        "spam_length = spam['message'].apply(len)\n",
        "non_spam_length = non_spam['message'].apply(len)\n",
        "\n",
        "# Create histograms to show the distribution of email lengths\n",
        "plt.hist(spam_length, bins=50, color='red', alpha=0.5)\n",
        "plt.hist(non_spam_length, bins=50, color='blue', alpha=0.5)\n",
        "plt.title('Distribution of email lengths')\n",
        "plt.xlabel('Length')\n",
        "plt.ylabel('Frequency')\n",
        "plt.legend(['Spam', 'Non-spam'])\n",
        "plt.show()\n"
      ],
      "metadata": {
        "colab": {
          "base_uri": "https://localhost:8080/",
          "height": 410
        },
        "id": "mL61iN6ruo_8",
        "outputId": "acb6e15f-0f73-4bf6-d813-4c0300ee48d0"
      },
      "execution_count": 40,
      "outputs": [
        {
          "output_type": "display_data",
          "data": {
            "text/plain": [
              "<Figure size 400x400 with 1 Axes>"
            ],
            "image/png": "[encoded data removed]"
          },
          "metadata": {}
        }
      ]
    },
    {
      "cell_type": "markdown",
      "source": [
        "###Calculate the average Size of Spam and Non-Spam messages"
      ],
      "metadata": {
        "id": "FlYESG1ZKOa4"
      }
    },
    {
      "cell_type": "code",
      "source": [
        "sum(spam['message'].apply(len))/len(spam['message'])"
      ],
      "metadata": {
        "colab": {
          "base_uri": "https://localhost:8080/"
        },
        "id": "jZOJqt1T_ayQ",
        "outputId": "3cb5f797-c12a-4c4e-85cc-a088c3f80496"
      },
      "execution_count": 41,
      "outputs": [
        {
          "output_type": "execute_result",
          "data": {
            "text/plain": [
              "1038.1240234375"
            ]
          },
          "metadata": {},
          "execution_count": 41
        }
      ]
    },
    {
      "cell_type": "code",
      "source": [
        "sum(non_spam['message'].apply(len))/len(non_spam['message'])"
      ],
      "metadata": {
        "colab": {
          "base_uri": "https://localhost:8080/"
        },
        "id": "gDJrsq7C_pV8",
        "outputId": "cfc318f2-b93e-4f23-9f14-eec9e39e937e"
      },
      "execution_count": 42,
      "outputs": [
        {
          "output_type": "execute_result",
          "data": {
            "text/plain": [
              "791.3063537029543"
            ]
          },
          "metadata": {},
          "execution_count": 42
        }
      ]
    },
    {
      "cell_type": "markdown",
      "source": [
        "##On average the emails classified as Spam are bigger\n",
        "\n",
        "---\n",
        "\n"
      ],
      "metadata": {
        "id": "fnpkBHP78NUn"
      }
    },
    {
      "cell_type": "markdown",
      "source": [
        "###Now Let's examine inside the highest values(out-liers) for either Spam and Non-Spam:"
      ],
      "metadata": {
        "id": "aXkCUtOu7QiJ"
      }
    },
    {
      "cell_type": "code",
      "source": [
        "# Get the index of the message with the highest spam_length\n",
        "max_spam_length_index = spam_length.idxmax()\n",
        "\n",
        "# Get the value of y_train at the index with the highest spam_length\n",
        "max_spam_length_category = y_train[max_spam_length_index]\n",
        "\n",
        "# Print the content of the message with the highest spam_length\n",
        "X_train.iloc[max_spam_length_index].message"
      ],
      "metadata": {
        "id": "BVzjjqu16G17"
      },
      "execution_count": null,
      "outputs": []
    },
    {
      "cell_type": "markdown",
      "source": [
        "###Part of the biggest Non-Spam Message. <br/>\n",
        "<img src=\"https://raw.githubusercontent.com/orlandojrps/spam/main/real.jpg\">"
      ],
      "metadata": {
        "id": "UpRLekPaDVGx"
      }
    },
    {
      "cell_type": "code",
      "source": [
        "# Get the index of the message with the highest spam_length\n",
        "max_non_spam_length_index = non_spam_length.idxmax()\n",
        "\n",
        "# Get the value of y_train at the index with the highest spam_length\n",
        "max_non_spam_length_category = y_train[max_non_spam_length_index]\n",
        "\n",
        "# Print the content of the message with the highest spam_length\n",
        "X_train.iloc[max_non_spam_length_index].message"
      ],
      "metadata": {
        "id": "zhZpV_3X6mmK"
      },
      "execution_count": null,
      "outputs": []
    },
    {
      "cell_type": "markdown",
      "source": [
        "###Part of the Biggest Spam Message. <br/>\n",
        "<img src=\"https://raw.githubusercontent.com/orlandojrps/spam/main/fake.jpg\">\n",
        "\n"
      ],
      "metadata": {
        "id": "WoSW0qT7DnfB"
      }
    },
    {
      "cell_type": "markdown",
      "source": [
        "<img src=\"https://raw.githubusercontent.com/orlandojrps/spam/main/lamp.jpg\"> <br/>\n",
        "###Interesting to note that in the malicious message, most of the words are in the body of the email and there are plenty of links and HTML code. Meanwhile, in the regular message, most of the words are email addresses there are in the \"TO:\" part of the message."
      ],
      "metadata": {
        "id": "zkzsERAlvjYb"
      }
    },
    {
      "cell_type": "markdown",
      "source": [
        "<img src=\"https://raw.githubusercontent.com/orlandojrps/spam/main/sup.jpg\">"
      ],
      "metadata": {
        "id": "pRWS_ZXO-mDQ"
      }
    },
    {
      "cell_type": "markdown",
      "source": [
        "##Naive Bayes </br> <img src=\"https://raw.githubusercontent.com/orlandojrps/spam/main/naive.jpg\">"
      ],
      "metadata": {
        "id": "v-7a-2hPT7mx"
      }
    },
    {
      "cell_type": "code",
      "source": [
        "# Encode the text features using the TF-IDF vectorizer\n",
        "vectorizer = TfidfVectorizer()\n",
        "X_train_tfidf = vectorizer.fit_transform(X_train.message)\n",
        "vectorizer.get_feature_names_out()"
      ],
      "metadata": {
        "colab": {
          "base_uri": "https://localhost:8080/"
        },
        "id": "LdI6vJTqct_7",
        "outputId": "554c799d-4b4a-4cc5-bdd5-0d1ebcfd2f58"
      },
      "execution_count": 46,
      "outputs": [
        {
          "output_type": "execute_result",
          "data": {
            "text/plain": [
              "array(['00', '000', '0000', ..., 'zzezrjok', 'zzocb', 'zzsyt'],\n",
              "      dtype=object)"
            ]
          },
          "metadata": {},
          "execution_count": 46
        }
      ]
    },
    {
      "cell_type": "code",
      "source": [
        "print(X_train_tfidf.shape)"
      ],
      "metadata": {
        "colab": {
          "base_uri": "https://localhost:8080/"
        },
        "id": "K-30bus2czaR",
        "outputId": "2a6dca73-6c90-4239-9a2d-9921a90f7a84"
      },
      "execution_count": 47,
      "outputs": [
        {
          "output_type": "stream",
          "name": "stdout",
          "text": [
            "(3495, 40904)\n"
          ]
        }
      ]
    },
    {
      "cell_type": "code",
      "source": [
        "X_train_dense = X_train_tfidf.toarray()\n",
        "\n",
        "# Train the Naive Bayes classifier\n",
        "model = GaussianNB()\n",
        "model.fit(X_train_dense, y_train)\n",
        "\n",
        "# Evaluate the classifier on the test data\n",
        "X_test_tfidf = vectorizer.transform(X_test.message)\n",
        "X_test_dense = X_test_tfidf.toarray()\n",
        "y_pred = model.predict(X_test_dense)"
      ],
      "metadata": {
        "colab": {
          "base_uri": "https://localhost:8080/"
        },
        "id": "8DaIw8Vyc-jf",
        "outputId": "eff40f5b-0b19-4ef9-949f-4dd8cac08db2"
      },
      "execution_count": 81,
      "outputs": [
        {
          "output_type": "stream",
          "name": "stderr",
          "text": [
            "/usr/local/lib/python3.9/dist-packages/sklearn/utils/validation.py:1143: DataConversionWarning: A column-vector y was passed when a 1d array was expected. Please change the shape of y to (n_samples, ), for example using ravel().\n",
            "  y = column_or_1d(y, warn=True)\n"
          ]
        }
      ]
    },
    {
      "cell_type": "code",
      "source": [
        "# Calculate the accuracy of the predictions\n",
        "accuracy = accuracy_score(y_test, y_pred)\n",
        "\n",
        "# Print the accuracy\n",
        "print(\"Accuracy: {:.2f}%\".format(accuracy * 100))"
      ],
      "metadata": {
        "colab": {
          "base_uri": "https://localhost:8080/"
        },
        "id": "jKGZTZ11dG0h",
        "outputId": "33422453-def6-48b4-a077-47d446503025"
      },
      "execution_count": 82,
      "outputs": [
        {
          "output_type": "stream",
          "name": "stdout",
          "text": [
            "Accuracy: 95.53%\n"
          ]
        }
      ]
    },
    {
      "cell_type": "code",
      "source": [
        "# Print the confusion matrix and classification report\n",
        "conf_matrix = confusion_matrix(y_test, y_pred)\n",
        "class_report = classification_report(y_test, y_pred)\n",
        "print(\"Confusion Matrix:\")\n",
        "print(conf_matrix)\n",
        "print(\"\\nClassification Report:\")\n",
        "print(class_report)"
      ],
      "metadata": {
        "colab": {
          "base_uri": "https://localhost:8080/"
        },
        "id": "5gM9Gr4PGYX5",
        "outputId": "85a203d1-cd89-48c8-e3b0-bcde9d53691b"
      },
      "execution_count": 83,
      "outputs": [
        {
          "output_type": "stream",
          "name": "stdout",
          "text": [
            "Confusion Matrix:\n",
            "[[1025   35]\n",
            " [  32  407]]\n",
            "\n",
            "Classification Report:\n",
            "              precision    recall  f1-score   support\n",
            "\n",
            "         ham       0.97      0.97      0.97      1060\n",
            "        spam       0.92      0.93      0.92       439\n",
            "\n",
            "    accuracy                           0.96      1499\n",
            "   macro avg       0.95      0.95      0.95      1499\n",
            "weighted avg       0.96      0.96      0.96      1499\n",
            "\n"
          ]
        }
      ]
    },
    {
      "cell_type": "markdown",
      "source": [
        "<img src=\"https://github.com/orlandojrps/spam/blob/main/matrix.png?raw=true\" heigh=\"100\">"
      ],
      "metadata": {
        "id": "MIpjnRWrBobf"
      }
    },
    {
      "cell_type": "code",
      "source": [
        "#Ref.: https://scikit-learn.org/stable/modules/generated/sklearn.metrics.ConfusionMatrixDisplay.html\n",
        "disp = ConfusionMatrixDisplay.from_estimator(model, X_test_dense, y_test)\n",
        "plt.title(\"Confusion Matrix - Naive Bayes\")\n",
        "plt.show()"
      ],
      "metadata": {
        "colab": {
          "base_uri": "https://localhost:8080/",
          "height": 358
        },
        "id": "nG9L-iicEFXb",
        "outputId": "6ba5f9f0-0af1-47e2-9895-7ee317a06e2b"
      },
      "execution_count": 65,
      "outputs": [
        {
          "output_type": "display_data",
          "data": {
            "text/plain": [
              "<Figure size 400x400 with 2 Axes>"
            ],
            "image/png": "[encoded data removed]"
          },
          "metadata": {}
        }
      ]
    },
    {
      "cell_type": "markdown",
      "source": [
        "<img src=\"https://raw.githubusercontent.com/orlandojrps/spam/main/errors.png\">"
      ],
      "metadata": {
        "id": "bYXsnnuakdCr"
      }
    },
    {
      "cell_type": "code",
      "source": [
        "# False Positives: Type 1 error\n",
        "fp = conf_matrix[0,1]\n",
        "\n",
        "# False negatives: Type 2 error\n",
        "fn = conf_matrix[1,0]\n",
        "\n",
        "print(f\"Type 1 errors: {fp}\")\n",
        "print(f\"Type 2 errors: {fn}\")"
      ],
      "metadata": {
        "colab": {
          "base_uri": "https://localhost:8080/"
        },
        "id": "ERATSH9QHRqJ",
        "outputId": "aef80b17-0f37-4e7b-ac5d-68c043dec712"
      },
      "execution_count": 66,
      "outputs": [
        {
          "output_type": "stream",
          "name": "stdout",
          "text": [
            "Type 1 errors: 35\n",
            "Type 2 errors: 32\n"
          ]
        }
      ]
    },
    {
      "cell_type": "markdown",
      "source": [
        "<img src=\"https://raw.githubusercontent.com/orlandojrps/spam/main/pickle.png\">"
      ],
      "metadata": {
        "id": "XrngUr54ltPc"
      }
    },
    {
      "cell_type": "code",
      "source": [
        "# Save the model to disk using the pickle module\n",
        "filename = 'spam_classifier_model_naive.sav'\n",
        "pickle.dump(model, open(filename, 'wb'))  "
      ],
      "metadata": {
        "id": "Io6VzcGbDPwV"
      },
      "execution_count": 67,
      "outputs": []
    },
    {
      "cell_type": "markdown",
      "source": [
        "###Approach using Cross Fold Validation  <br>                                    <img src=\"https://raw.githubusercontent.com/orlandojrps/spam/main/kfold2.png\">"
      ],
      "metadata": {
        "id": "AmAMnBGObsHp"
      }
    },
    {
      "cell_type": "code",
      "source": [
        "#Ref.: https://www.youtube.com/watch?v=1AGuK_8LkGQ\n",
        "\n",
        "# Train the Naive Bayes classifier using 10-fold cross-validation\n",
        "#model = GaussianNB()\n",
        "scores = cross_val_score(model, X_test_dense, y_test, cv=10)\n",
        "\n",
        "# Print the cross-validation scores\n",
        "print('Cross-validation scores:', scores)\n",
        "print('Mean cross-validation score:', scores.mean())"
      ],
      "metadata": {
        "colab": {
          "base_uri": "https://localhost:8080/"
        },
        "id": "uFMpRheJZWLn",
        "outputId": "483a4ef0-b17b-4024-dc07-fada2591336a"
      },
      "execution_count": 71,
      "outputs": [
        {
          "output_type": "stream",
          "name": "stderr",
          "text": [
            "/usr/local/lib/python3.9/dist-packages/sklearn/utils/validation.py:1143: DataConversionWarning: A column-vector y was passed when a 1d array was expected. Please change the shape of y to (n_samples, ), for example using ravel().\n",
            "  y = column_or_1d(y, warn=True)\n",
            "/usr/local/lib/python3.9/dist-packages/sklearn/utils/validation.py:1143: DataConversionWarning: A column-vector y was passed when a 1d array was expected. Please change the shape of y to (n_samples, ), for example using ravel().\n",
            "  y = column_or_1d(y, warn=True)\n",
            "/usr/local/lib/python3.9/dist-packages/sklearn/utils/validation.py:1143: DataConversionWarning: A column-vector y was passed when a 1d array was expected. Please change the shape of y to (n_samples, ), for example using ravel().\n",
            "  y = column_or_1d(y, warn=True)\n",
            "/usr/local/lib/python3.9/dist-packages/sklearn/utils/validation.py:1143: DataConversionWarning: A column-vector y was passed when a 1d array was expected. Please change the shape of y to (n_samples, ), for example using ravel().\n",
            "  y = column_or_1d(y, warn=True)\n",
            "/usr/local/lib/python3.9/dist-packages/sklearn/utils/validation.py:1143: DataConversionWarning: A column-vector y was passed when a 1d array was expected. Please change the shape of y to (n_samples, ), for example using ravel().\n",
            "  y = column_or_1d(y, warn=True)\n",
            "/usr/local/lib/python3.9/dist-packages/sklearn/utils/validation.py:1143: DataConversionWarning: A column-vector y was passed when a 1d array was expected. Please change the shape of y to (n_samples, ), for example using ravel().\n",
            "  y = column_or_1d(y, warn=True)\n",
            "/usr/local/lib/python3.9/dist-packages/sklearn/utils/validation.py:1143: DataConversionWarning: A column-vector y was passed when a 1d array was expected. Please change the shape of y to (n_samples, ), for example using ravel().\n",
            "  y = column_or_1d(y, warn=True)\n",
            "/usr/local/lib/python3.9/dist-packages/sklearn/utils/validation.py:1143: DataConversionWarning: A column-vector y was passed when a 1d array was expected. Please change the shape of y to (n_samples, ), for example using ravel().\n",
            "  y = column_or_1d(y, warn=True)\n",
            "/usr/local/lib/python3.9/dist-packages/sklearn/utils/validation.py:1143: DataConversionWarning: A column-vector y was passed when a 1d array was expected. Please change the shape of y to (n_samples, ), for example using ravel().\n",
            "  y = column_or_1d(y, warn=True)\n",
            "/usr/local/lib/python3.9/dist-packages/sklearn/utils/validation.py:1143: DataConversionWarning: A column-vector y was passed when a 1d array was expected. Please change the shape of y to (n_samples, ), for example using ravel().\n",
            "  y = column_or_1d(y, warn=True)\n"
          ]
        },
        {
          "output_type": "stream",
          "name": "stdout",
          "text": [
            "Cross-validation scores: [0.96       0.93333333 0.97333333 0.96666667 0.92666667 0.95333333\n",
            " 0.96666667 0.96       0.96666667 0.91946309]\n",
            "Mean cross-validation score: 0.9526129753914988\n"
          ]
        }
      ]
    },
    {
      "cell_type": "markdown",
      "source": [
        "##Logistic Regression <br/> <img src=\"https://raw.githubusercontent.com/orlandojrps/spam/main/lr.jpg\">"
      ],
      "metadata": {
        "id": "pK7JZGHJUAF5"
      }
    },
    {
      "cell_type": "code",
      "source": [
        "# Train the logistic regression classifier\n",
        "model_LR = LogisticRegression(random_state=4938) #My Student Number\n",
        "model_LR.fit(X_train_dense, y_train)\n",
        "\n",
        "# Evaluate the classifier on the test data\n",
        "X_test_tfidf = vectorizer.transform(X_test.message)\n",
        "X_test_dense = X_test_tfidf.toarray()\n",
        "y_pred = model_LR.predict(X_test_dense)"
      ],
      "metadata": {
        "colab": {
          "base_uri": "https://localhost:8080/"
        },
        "id": "1nc9MU0xQTUA",
        "outputId": "ade7ae92-0339-4cf1-af5e-363a9d51c085"
      },
      "execution_count": 88,
      "outputs": [
        {
          "output_type": "stream",
          "name": "stderr",
          "text": [
            "/usr/local/lib/python3.9/dist-packages/sklearn/utils/validation.py:1143: DataConversionWarning: A column-vector y was passed when a 1d array was expected. Please change the shape of y to (n_samples, ), for example using ravel().\n",
            "  y = column_or_1d(y, warn=True)\n"
          ]
        }
      ]
    },
    {
      "cell_type": "code",
      "source": [
        "# Calculate the accuracy of the predictions\n",
        "accuracy = accuracy_score(y_test, y_pred)\n",
        "\n",
        "# Print the accuracy\n",
        "print(\"Accuracy: {:.2f}%\".format(accuracy * 100))"
      ],
      "metadata": {
        "colab": {
          "base_uri": "https://localhost:8080/"
        },
        "id": "1IaC4xU_DRs_",
        "outputId": "1f91bf04-7315-4dfe-985b-38a30264a5bd"
      },
      "execution_count": 89,
      "outputs": [
        {
          "output_type": "stream",
          "name": "stdout",
          "text": [
            "Accuracy: 98.73%\n"
          ]
        }
      ]
    },
    {
      "cell_type": "code",
      "source": [
        "# Print the confusion matrix and classification report\n",
        "conf_matrix = confusion_matrix(y_test, y_pred)\n",
        "class_report = classification_report(y_test, y_pred)\n",
        "print(\"Confusion Matrix:\")\n",
        "print(conf_matrix)\n",
        "print(\"\\nClassification Report:\")\n",
        "print(class_report)"
      ],
      "metadata": {
        "colab": {
          "base_uri": "https://localhost:8080/"
        },
        "id": "olZnxifxSzP2",
        "outputId": "81290388-2f00-4688-ac89-5e3aa47f158b"
      },
      "execution_count": 90,
      "outputs": [
        {
          "output_type": "stream",
          "name": "stdout",
          "text": [
            "Confusion Matrix:\n",
            "[[1043   17]\n",
            " [   2  437]]\n",
            "\n",
            "Classification Report:\n",
            "              precision    recall  f1-score   support\n",
            "\n",
            "         ham       1.00      0.98      0.99      1060\n",
            "        spam       0.96      1.00      0.98       439\n",
            "\n",
            "    accuracy                           0.99      1499\n",
            "   macro avg       0.98      0.99      0.98      1499\n",
            "weighted avg       0.99      0.99      0.99      1499\n",
            "\n"
          ]
        }
      ]
    },
    {
      "cell_type": "code",
      "source": [
        "disp = ConfusionMatrixDisplay.from_estimator(model_LR, X_test_dense, y_test)\n",
        "plt.title(\"Confusion Matrix - Logistic Regression\")\n",
        "plt.show()"
      ],
      "metadata": {
        "colab": {
          "base_uri": "https://localhost:8080/",
          "height": 358
        },
        "id": "oZda4-n3UDit",
        "outputId": "715d0e4a-643e-4364-efab-cba0abe35894"
      },
      "execution_count": 91,
      "outputs": [
        {
          "output_type": "display_data",
          "data": {
            "text/plain": [
              "<Figure size 400x400 with 2 Axes>"
            ],
            "image/png": "[encoded data removed]"
          },
          "metadata": {}
        }
      ]
    },
    {
      "cell_type": "markdown",
      "source": [
        "<img src=\"https://raw.githubusercontent.com/orlandojrps/spam/main/errors.png\">"
      ],
      "metadata": {
        "id": "V4tiGCn5kii0"
      }
    },
    {
      "cell_type": "code",
      "source": [
        "# False Positives: Type 1 error\n",
        "fp = conf_matrix[0,1]\n",
        "\n",
        "# False negatives: Type 2 error\n",
        "fn = conf_matrix[1,0]\n",
        "\n",
        "print(f\"Type 1 errors: {fp}\")\n",
        "print(f\"Type 2 errors: {fn}\")"
      ],
      "metadata": {
        "colab": {
          "base_uri": "https://localhost:8080/"
        },
        "id": "QEJx1i3gX2Yq",
        "outputId": "a8f0c15c-75e7-4c1d-8f35-ab44f25f6037"
      },
      "execution_count": 92,
      "outputs": [
        {
          "output_type": "stream",
          "name": "stdout",
          "text": [
            "Type 1 errors: 17\n",
            "Type 2 errors: 2\n"
          ]
        }
      ]
    },
    {
      "cell_type": "markdown",
      "source": [
        "###Approach using Cross Fold Validation  <br>                                    <img src=\"https://raw.githubusercontent.com/orlandojrps/spam/main/kfold2.png\">"
      ],
      "metadata": {
        "id": "y1XvnOkJcOYY"
      }
    },
    {
      "cell_type": "code",
      "source": [
        "#Ref.: https://www.youtube.com/watch?v=1AGuK_8LkGQ\n",
        "\n",
        "# logistic regression classifier using 10-fold cross-validation\n",
        "#model = GaussianNB()\n",
        "scores = cross_val_score(model_LR, X_test_dense, y_test, cv=10)\n",
        "\n",
        "# Print the cross-validation scores\n",
        "print('Cross-validation scores:', scores)\n",
        "print('Mean cross-validation score:', scores.mean())"
      ],
      "metadata": {
        "colab": {
          "base_uri": "https://localhost:8080/"
        },
        "id": "WQOzksnNPeAi",
        "outputId": "88075f79-44e5-498f-b8af-8ef10a6e97f1"
      },
      "execution_count": 93,
      "outputs": [
        {
          "output_type": "stream",
          "name": "stderr",
          "text": [
            "/usr/local/lib/python3.9/dist-packages/sklearn/utils/validation.py:1143: DataConversionWarning: A column-vector y was passed when a 1d array was expected. Please change the shape of y to (n_samples, ), for example using ravel().\n",
            "  y = column_or_1d(y, warn=True)\n",
            "/usr/local/lib/python3.9/dist-packages/sklearn/utils/validation.py:1143: DataConversionWarning: A column-vector y was passed when a 1d array was expected. Please change the shape of y to (n_samples, ), for example using ravel().\n",
            "  y = column_or_1d(y, warn=True)\n",
            "/usr/local/lib/python3.9/dist-packages/sklearn/utils/validation.py:1143: DataConversionWarning: A column-vector y was passed when a 1d array was expected. Please change the shape of y to (n_samples, ), for example using ravel().\n",
            "  y = column_or_1d(y, warn=True)\n",
            "/usr/local/lib/python3.9/dist-packages/sklearn/utils/validation.py:1143: DataConversionWarning: A column-vector y was passed when a 1d array was expected. Please change the shape of y to (n_samples, ), for example using ravel().\n",
            "  y = column_or_1d(y, warn=True)\n",
            "/usr/local/lib/python3.9/dist-packages/sklearn/utils/validation.py:1143: DataConversionWarning: A column-vector y was passed when a 1d array was expected. Please change the shape of y to (n_samples, ), for example using ravel().\n",
            "  y = column_or_1d(y, warn=True)\n",
            "/usr/local/lib/python3.9/dist-packages/sklearn/utils/validation.py:1143: DataConversionWarning: A column-vector y was passed when a 1d array was expected. Please change the shape of y to (n_samples, ), for example using ravel().\n",
            "  y = column_or_1d(y, warn=True)\n",
            "/usr/local/lib/python3.9/dist-packages/sklearn/utils/validation.py:1143: DataConversionWarning: A column-vector y was passed when a 1d array was expected. Please change the shape of y to (n_samples, ), for example using ravel().\n",
            "  y = column_or_1d(y, warn=True)\n",
            "/usr/local/lib/python3.9/dist-packages/sklearn/utils/validation.py:1143: DataConversionWarning: A column-vector y was passed when a 1d array was expected. Please change the shape of y to (n_samples, ), for example using ravel().\n",
            "  y = column_or_1d(y, warn=True)\n",
            "/usr/local/lib/python3.9/dist-packages/sklearn/utils/validation.py:1143: DataConversionWarning: A column-vector y was passed when a 1d array was expected. Please change the shape of y to (n_samples, ), for example using ravel().\n",
            "  y = column_or_1d(y, warn=True)\n",
            "/usr/local/lib/python3.9/dist-packages/sklearn/utils/validation.py:1143: DataConversionWarning: A column-vector y was passed when a 1d array was expected. Please change the shape of y to (n_samples, ), for example using ravel().\n",
            "  y = column_or_1d(y, warn=True)\n"
          ]
        },
        {
          "output_type": "stream",
          "name": "stdout",
          "text": [
            "Cross-validation scores: [0.95333333 0.96       0.95333333 0.96666667 0.97333333 0.96\n",
            " 0.99333333 0.98       0.96       0.94630872]\n",
            "Mean cross-validation score: 0.9646308724832213\n"
          ]
        }
      ]
    },
    {
      "cell_type": "markdown",
      "source": [
        "##Decision Tree <br/> <img src=\"https://raw.githubusercontent.com/orlandojrps/spam/main/decision_tree.png\">"
      ],
      "metadata": {
        "id": "zNAJ79ErUUgk"
      }
    },
    {
      "cell_type": "code",
      "source": [
        "# Train the decision tree classifier\n",
        "model_DT = DecisionTreeClassifier(random_state=4938) #My Student Number\n",
        "model_DT.fit(X_train_dense, y_train)\n",
        "\n",
        "# Evaluate the classifier on the test data\n",
        "X_test_tfidf = vectorizer.transform(X_test.message)\n",
        "X_test_dense = X_test_tfidf.toarray()\n",
        "y_pred = model_DT.predict(X_test_dense)"
      ],
      "metadata": {
        "id": "C0R2arVnQqJZ"
      },
      "execution_count": 94,
      "outputs": []
    },
    {
      "cell_type": "code",
      "source": [
        "# Calculate the accuracy of the predictions\n",
        "accuracy = accuracy_score(y_test, y_pred)\n",
        "\n",
        "# Print the accuracy\n",
        "print(\"Accuracy: {:.2f}%\".format(accuracy * 100))"
      ],
      "metadata": {
        "colab": {
          "base_uri": "https://localhost:8080/"
        },
        "id": "oUtRySu6EmYu",
        "outputId": "36d8db4e-5284-4552-81fa-64f292469b88"
      },
      "execution_count": 95,
      "outputs": [
        {
          "output_type": "stream",
          "name": "stdout",
          "text": [
            "Accuracy: 94.26%\n"
          ]
        }
      ]
    },
    {
      "cell_type": "code",
      "source": [
        "# Print the confusion matrix and classification report\n",
        "conf_matrix = confusion_matrix(y_test, y_pred)\n",
        "class_report = classification_report(y_test, y_pred)\n",
        "print(\"Confusion Matrix:\")\n",
        "print(conf_matrix)\n",
        "print(\"\\nClassification Report:\")\n",
        "print(class_report)"
      ],
      "metadata": {
        "colab": {
          "base_uri": "https://localhost:8080/"
        },
        "id": "kH1BrYR3Upav",
        "outputId": "97966ac2-b8c1-4960-9d8e-4e736d6977f4"
      },
      "execution_count": 96,
      "outputs": [
        {
          "output_type": "stream",
          "name": "stdout",
          "text": [
            "Confusion Matrix:\n",
            "[[1011   49]\n",
            " [  37  402]]\n",
            "\n",
            "Classification Report:\n",
            "              precision    recall  f1-score   support\n",
            "\n",
            "         ham       0.96      0.95      0.96      1060\n",
            "        spam       0.89      0.92      0.90       439\n",
            "\n",
            "    accuracy                           0.94      1499\n",
            "   macro avg       0.93      0.93      0.93      1499\n",
            "weighted avg       0.94      0.94      0.94      1499\n",
            "\n"
          ]
        }
      ]
    },
    {
      "cell_type": "code",
      "source": [
        "disp = ConfusionMatrixDisplay.from_estimator(model_DT, X_test_dense, y_test)\n",
        "plt.title(\"Confusion Matrix - Decision Tree\")\n",
        "plt.show()"
      ],
      "metadata": {
        "colab": {
          "base_uri": "https://localhost:8080/",
          "height": 360
        },
        "id": "6JXv2Vb3UmKo",
        "outputId": "f61376e5-9152-4a79-ecd9-3697a9783ccb"
      },
      "execution_count": 97,
      "outputs": [
        {
          "output_type": "display_data",
          "data": {
            "text/plain": [
              "<Figure size 400x400 with 2 Axes>"
            ],
            "image/png": "[encoded data removed]"
          },
          "metadata": {}
        }
      ]
    },
    {
      "cell_type": "markdown",
      "source": [
        "<img src=\"https://raw.githubusercontent.com/orlandojrps/spam/main/errors.png\">"
      ],
      "metadata": {
        "id": "WaRCzUAgklc2"
      }
    },
    {
      "cell_type": "code",
      "source": [
        "# False Positives: Type 1 error\n",
        "fp = conf_matrix[0,1]\n",
        "\n",
        "# False negatives: Type 2 error\n",
        "fn = conf_matrix[1,0]\n",
        "\n",
        "print(f\"Type 1 errors: {fp}\")\n",
        "print(f\"Type 2 errors: {fn}\")"
      ],
      "metadata": {
        "colab": {
          "base_uri": "https://localhost:8080/"
        },
        "id": "Yn_-JIjxYWwb",
        "outputId": "1beca751-4a0f-4fb5-efd9-25d68461cb28"
      },
      "execution_count": 98,
      "outputs": [
        {
          "output_type": "stream",
          "name": "stdout",
          "text": [
            "Type 1 errors: 49\n",
            "Type 2 errors: 37\n"
          ]
        }
      ]
    },
    {
      "cell_type": "markdown",
      "source": [
        "###Approach using Cross Fold Validation  <br>                                    <img src=\"https://raw.githubusercontent.com/orlandojrps/spam/main/kfold2.png\">"
      ],
      "metadata": {
        "id": "c6c3HOX7cpvt"
      }
    },
    {
      "cell_type": "code",
      "source": [
        "#Ref.: https://www.youtube.com/watch?v=1AGuK_8LkGQ\n",
        "\n",
        "# Decision tree classifier using 10-fold cross-validation\n",
        "#model = GaussianNB()\n",
        "scores = cross_val_score(model_DT, X_test_dense, y_test, cv=10)\n",
        "\n",
        "# Print the cross-validation scores\n",
        "print('Cross-validation scores:', scores)\n",
        "print('Mean cross-validation score:', scores.mean())"
      ],
      "metadata": {
        "colab": {
          "base_uri": "https://localhost:8080/"
        },
        "id": "owsuRjEAQdwt",
        "outputId": "9e46edfb-6bc6-4f73-c992-a15e75e7d031"
      },
      "execution_count": 99,
      "outputs": [
        {
          "output_type": "stream",
          "name": "stdout",
          "text": [
            "Cross-validation scores: [0.96       0.93333333 0.92       0.92       0.91333333 0.93333333\n",
            " 0.95333333 0.91333333 0.90666667 0.87919463]\n",
            "Mean cross-validation score: 0.9232527964205817\n"
          ]
        }
      ]
    },
    {
      "cell_type": "markdown",
      "source": [
        "##Random Forest <br/> <img src=\"https://raw.githubusercontent.com/orlandojrps/spam/main/rf.png\">"
      ],
      "metadata": {
        "id": "DpUVK1V_U7OH"
      }
    },
    {
      "cell_type": "code",
      "source": [
        "# Train the random forest classifier\n",
        "model_RF = RandomForestClassifier(random_state=4938) #My Student Number\n",
        "model_RF.fit(X_train_dense, y_train)\n",
        "\n",
        "# Evaluate the classifier on the test data\n",
        "X_test_tfidf = vectorizer.transform(X_test.message)\n",
        "X_test_dense = X_test_tfidf.toarray()\n",
        "y_pred = model_RF.predict(X_test_dense)"
      ],
      "metadata": {
        "colab": {
          "base_uri": "https://localhost:8080/"
        },
        "id": "Ftub3GMPRWW2",
        "outputId": "f527644e-450b-4706-8ecb-59776b8d46d1"
      },
      "execution_count": 101,
      "outputs": [
        {
          "output_type": "stream",
          "name": "stderr",
          "text": [
            "<ipython-input-101-4d1038af8955>:3: DataConversionWarning: A column-vector y was passed when a 1d array was expected. Please change the shape of y to (n_samples,), for example using ravel().\n",
            "  model_RF.fit(X_train_dense, y_train)\n"
          ]
        }
      ]
    },
    {
      "cell_type": "code",
      "source": [
        "# Calculate the accuracy of the predictions\n",
        "accuracy = accuracy_score(y_test, y_pred)\n",
        "\n",
        "# Print the accuracy\n",
        "print(\"Accuracy: {:.2f}%\".format(accuracy * 100))"
      ],
      "metadata": {
        "colab": {
          "base_uri": "https://localhost:8080/"
        },
        "id": "3QtrRo3SGikU",
        "outputId": "c3bbac21-0688-409f-b759-ffbb7a3c9448"
      },
      "execution_count": 102,
      "outputs": [
        {
          "output_type": "stream",
          "name": "stdout",
          "text": [
            "Accuracy: 97.73%\n"
          ]
        }
      ]
    },
    {
      "cell_type": "code",
      "source": [
        "# Print the confusion matrix and classification report\n",
        "conf_matrix = confusion_matrix(y_test, y_pred)\n",
        "class_report = classification_report(y_test, y_pred)\n",
        "print(\"Confusion Matrix:\")\n",
        "print(conf_matrix)\n",
        "print(\"\\nClassification Report:\")\n",
        "print(class_report)"
      ],
      "metadata": {
        "colab": {
          "base_uri": "https://localhost:8080/"
        },
        "id": "CyRIESI1U-x0",
        "outputId": "1ec326ab-cced-4bf8-d291-0ef84da28494"
      },
      "execution_count": 103,
      "outputs": [
        {
          "output_type": "stream",
          "name": "stdout",
          "text": [
            "Confusion Matrix:\n",
            "[[1033   27]\n",
            " [   7  432]]\n",
            "\n",
            "Classification Report:\n",
            "              precision    recall  f1-score   support\n",
            "\n",
            "         ham       0.99      0.97      0.98      1060\n",
            "        spam       0.94      0.98      0.96       439\n",
            "\n",
            "    accuracy                           0.98      1499\n",
            "   macro avg       0.97      0.98      0.97      1499\n",
            "weighted avg       0.98      0.98      0.98      1499\n",
            "\n"
          ]
        }
      ]
    },
    {
      "cell_type": "code",
      "source": [
        "disp = ConfusionMatrixDisplay.from_estimator(model_RF, X_test_dense, y_test)\n",
        "plt.title(\"Confusion Matrix - Random Forest\")\n",
        "plt.show()"
      ],
      "metadata": {
        "colab": {
          "base_uri": "https://localhost:8080/",
          "height": 358
        },
        "id": "buVgK5hwVLhy",
        "outputId": "5338cb5d-9256-4e70-d587-69546ce92073"
      },
      "execution_count": 104,
      "outputs": [
        {
          "output_type": "display_data",
          "data": {
            "text/plain": [
              "<Figure size 400x400 with 2 Axes>"
            ],
            "image/png": "[encoded data removed]"
          },
          "metadata": {}
        }
      ]
    },
    {
      "cell_type": "markdown",
      "source": [
        "<img src=\"https://raw.githubusercontent.com/orlandojrps/spam/main/errors.png\">"
      ],
      "metadata": {
        "id": "tsjh0OE6kud4"
      }
    },
    {
      "cell_type": "code",
      "source": [
        "# False Positives: Type 1 error\n",
        "fp = conf_matrix[0,1]\n",
        "\n",
        "# False negatives: Type 2 error\n",
        "fn = conf_matrix[1,0]\n",
        "\n",
        "print(f\"Type 1 errors: {fp}\")\n",
        "print(f\"Type 2 errors: {fn}\")"
      ],
      "metadata": {
        "colab": {
          "base_uri": "https://localhost:8080/"
        },
        "id": "mq5ZGPgHYh-I",
        "outputId": "cec49fb0-a48e-4b67-a2a0-3782a64df7c8"
      },
      "execution_count": 106,
      "outputs": [
        {
          "output_type": "stream",
          "name": "stdout",
          "text": [
            "Type 1 errors: 27\n",
            "Type 2 errors: 7\n"
          ]
        }
      ]
    },
    {
      "cell_type": "markdown",
      "source": [
        "###Approach using Cross Fold Validation  <br>                                    <img src=\"https://raw.githubusercontent.com/orlandojrps/spam/main/kfold2.png\">"
      ],
      "metadata": {
        "id": "0DY7cOUAdDq_"
      }
    },
    {
      "cell_type": "code",
      "source": [
        "#Ref.: https://www.youtube.com/watch?v=1AGuK_8LkGQ\n",
        "\n",
        "# Random forest classifier using 10-fold cross-validation\n",
        "#model = GaussianNB()\n",
        "scores = cross_val_score(model_RF, X_test_dense, y_test, cv=10)\n",
        "\n",
        "# Print the cross-validation scores\n",
        "print('Cross-validation scores:', scores)\n",
        "print('Mean cross-validation score:', scores.mean())"
      ],
      "metadata": {
        "colab": {
          "base_uri": "https://localhost:8080/"
        },
        "id": "fQTHED7IRGsf",
        "outputId": "cf0aab96-5bc0-4b9f-92d1-c17c6b2776b7"
      },
      "execution_count": 107,
      "outputs": [
        {
          "output_type": "stream",
          "name": "stderr",
          "text": [
            "/usr/local/lib/python3.9/dist-packages/sklearn/model_selection/_validation.py:686: DataConversionWarning: A column-vector y was passed when a 1d array was expected. Please change the shape of y to (n_samples,), for example using ravel().\n",
            "  estimator.fit(X_train, y_train, **fit_params)\n",
            "/usr/local/lib/python3.9/dist-packages/sklearn/model_selection/_validation.py:686: DataConversionWarning: A column-vector y was passed when a 1d array was expected. Please change the shape of y to (n_samples,), for example using ravel().\n",
            "  estimator.fit(X_train, y_train, **fit_params)\n",
            "/usr/local/lib/python3.9/dist-packages/sklearn/model_selection/_validation.py:686: DataConversionWarning: A column-vector y was passed when a 1d array was expected. Please change the shape of y to (n_samples,), for example using ravel().\n",
            "  estimator.fit(X_train, y_train, **fit_params)\n",
            "/usr/local/lib/python3.9/dist-packages/sklearn/model_selection/_validation.py:686: DataConversionWarning: A column-vector y was passed when a 1d array was expected. Please change the shape of y to (n_samples,), for example using ravel().\n",
            "  estimator.fit(X_train, y_train, **fit_params)\n",
            "/usr/local/lib/python3.9/dist-packages/sklearn/model_selection/_validation.py:686: DataConversionWarning: A column-vector y was passed when a 1d array was expected. Please change the shape of y to (n_samples,), for example using ravel().\n",
            "  estimator.fit(X_train, y_train, **fit_params)\n",
            "/usr/local/lib/python3.9/dist-packages/sklearn/model_selection/_validation.py:686: DataConversionWarning: A column-vector y was passed when a 1d array was expected. Please change the shape of y to (n_samples,), for example using ravel().\n",
            "  estimator.fit(X_train, y_train, **fit_params)\n",
            "/usr/local/lib/python3.9/dist-packages/sklearn/model_selection/_validation.py:686: DataConversionWarning: A column-vector y was passed when a 1d array was expected. Please change the shape of y to (n_samples,), for example using ravel().\n",
            "  estimator.fit(X_train, y_train, **fit_params)\n",
            "/usr/local/lib/python3.9/dist-packages/sklearn/model_selection/_validation.py:686: DataConversionWarning: A column-vector y was passed when a 1d array was expected. Please change the shape of y to (n_samples,), for example using ravel().\n",
            "  estimator.fit(X_train, y_train, **fit_params)\n",
            "/usr/local/lib/python3.9/dist-packages/sklearn/model_selection/_validation.py:686: DataConversionWarning: A column-vector y was passed when a 1d array was expected. Please change the shape of y to (n_samples,), for example using ravel().\n",
            "  estimator.fit(X_train, y_train, **fit_params)\n",
            "/usr/local/lib/python3.9/dist-packages/sklearn/model_selection/_validation.py:686: DataConversionWarning: A column-vector y was passed when a 1d array was expected. Please change the shape of y to (n_samples,), for example using ravel().\n",
            "  estimator.fit(X_train, y_train, **fit_params)\n"
          ]
        },
        {
          "output_type": "stream",
          "name": "stdout",
          "text": [
            "Cross-validation scores: [0.96       0.94666667 0.94666667 0.96666667 0.96666667 0.98666667\n",
            " 0.98       0.98       0.96       0.94630872]\n",
            "Mean cross-validation score: 0.9639642058165547\n"
          ]
        }
      ]
    },
    {
      "cell_type": "markdown",
      "source": [
        "##KNN <br/> <img src=\"https://raw.githubusercontent.com/orlandojrps/spam/main/KNN.jpg\">"
      ],
      "metadata": {
        "id": "wEF30xQKVUPV"
      }
    },
    {
      "cell_type": "code",
      "source": [
        "# Train the KNN classifier\n",
        "np.random.seed(4938) #My Student Number\n",
        "model_knn = KNeighborsClassifier()\n",
        "model_knn.fit(X_train_dense, y_train)\n",
        "\n",
        "# Evaluate the classifier on the test data\n",
        "X_test_tfidf = vectorizer.transform(X_test.message)\n",
        "X_test_dense = X_test_tfidf.toarray()\n",
        "y_pred = model_knn.predict(X_test_dense)"
      ],
      "metadata": {
        "colab": {
          "base_uri": "https://localhost:8080/"
        },
        "id": "XXSSOKzTRnS_",
        "outputId": "db5aedd3-cb1b-4773-b413-f600743ad4d6"
      },
      "execution_count": 118,
      "outputs": [
        {
          "output_type": "stream",
          "name": "stderr",
          "text": [
            "/usr/local/lib/python3.9/dist-packages/sklearn/neighbors/_classification.py:215: DataConversionWarning: A column-vector y was passed when a 1d array was expected. Please change the shape of y to (n_samples,), for example using ravel().\n",
            "  return self._fit(X, y)\n"
          ]
        }
      ]
    },
    {
      "cell_type": "code",
      "source": [
        "# Calculate the accuracy of the predictions\n",
        "accuracy = accuracy_score(y_test, y_pred)\n",
        "\n",
        "# Print the accuracy\n",
        "print(\"Accuracy: {:.2f}%\".format(accuracy * 100))"
      ],
      "metadata": {
        "colab": {
          "base_uri": "https://localhost:8080/"
        },
        "id": "tcmy7VjVR54u",
        "outputId": "8ccd09be-ed6b-4b44-e21c-b010261c499b"
      },
      "execution_count": 119,
      "outputs": [
        {
          "output_type": "stream",
          "name": "stdout",
          "text": [
            "Accuracy: 97.00%\n"
          ]
        }
      ]
    },
    {
      "cell_type": "code",
      "source": [
        "# Print the confusion matrix and classification report\n",
        "conf_matrix = confusion_matrix(y_test, y_pred)\n",
        "class_report = classification_report(y_test, y_pred)\n",
        "print(\"Confusion Matrix:\")\n",
        "print(conf_matrix)\n",
        "print(\"\\nClassification Report:\")\n",
        "print(class_report)"
      ],
      "metadata": {
        "colab": {
          "base_uri": "https://localhost:8080/"
        },
        "id": "Gg2x6GhTVj6U",
        "outputId": "cdb134e9-b2e3-4b3f-83c4-c610f54b1ebc"
      },
      "execution_count": 120,
      "outputs": [
        {
          "output_type": "stream",
          "name": "stdout",
          "text": [
            "Confusion Matrix:\n",
            "[[1050   10]\n",
            " [  35  404]]\n",
            "\n",
            "Classification Report:\n",
            "              precision    recall  f1-score   support\n",
            "\n",
            "         ham       0.97      0.99      0.98      1060\n",
            "        spam       0.98      0.92      0.95       439\n",
            "\n",
            "    accuracy                           0.97      1499\n",
            "   macro avg       0.97      0.96      0.96      1499\n",
            "weighted avg       0.97      0.97      0.97      1499\n",
            "\n"
          ]
        }
      ]
    },
    {
      "cell_type": "code",
      "source": [
        "disp = ConfusionMatrixDisplay.from_estimator(model_knn, X_test_dense, y_test)\n",
        "plt.title(\"Confusion Matrix - KNN\")\n",
        "plt.show()"
      ],
      "metadata": {
        "colab": {
          "base_uri": "https://localhost:8080/",
          "height": 358
        },
        "id": "PkccwOg1VxPp",
        "outputId": "06d04f9b-60f9-4b1d-cd20-caf012bf6aa3"
      },
      "execution_count": 121,
      "outputs": [
        {
          "output_type": "display_data",
          "data": {
            "text/plain": [
              "<Figure size 400x400 with 2 Axes>"
            ],
            "image/png": "[encoded data removed]"
          },
          "metadata": {}
        }
      ]
    },
    {
      "cell_type": "markdown",
      "source": [
        "<img src=\"https://raw.githubusercontent.com/orlandojrps/spam/main/errors.png\">"
      ],
      "metadata": {
        "id": "PJ4hpsaSkxvp"
      }
    },
    {
      "cell_type": "code",
      "source": [
        "# False Positives: Type 1 error\n",
        "fp = conf_matrix[0,1]\n",
        "\n",
        "# False negatives: Type 2 error\n",
        "fn = conf_matrix[1,0]\n",
        "\n",
        "print(f\"Type 1 errors: {fp}\")\n",
        "print(f\"Type 2 errors: {fn}\")"
      ],
      "metadata": {
        "colab": {
          "base_uri": "https://localhost:8080/"
        },
        "id": "s0H7173pYof_",
        "outputId": "53739919-d950-450b-c7e9-14c9aad383e2"
      },
      "execution_count": 122,
      "outputs": [
        {
          "output_type": "stream",
          "name": "stdout",
          "text": [
            "Type 1 errors: 10\n",
            "Type 2 errors: 35\n"
          ]
        }
      ]
    },
    {
      "cell_type": "markdown",
      "source": [
        "###Approach using Cross Fold Validation  <br>                                    <img src=\"https://raw.githubusercontent.com/orlandojrps/spam/main/kfold2.png\">"
      ],
      "metadata": {
        "id": "KI1-j0JFdqz7"
      }
    },
    {
      "cell_type": "code",
      "source": [
        "#Ref.: https://www.youtube.com/watch?v=1AGuK_8LkGQ\n",
        "\n",
        "# KNN classifier using 10-fold cross-validation\n",
        "#model = GaussianNB()\n",
        "scores = cross_val_score(model_knn, X_test_dense, y_test, cv=10)\n",
        "\n",
        "# Print the cross-validation scores\n",
        "print('Cross-validation scores:', scores)\n",
        "print('Mean cross-validation score:', scores.mean())"
      ],
      "metadata": {
        "colab": {
          "base_uri": "https://localhost:8080/"
        },
        "id": "B3CU2_NATAZQ",
        "outputId": "12aaaf4a-2a34-46a8-8805-6d8d22cbe3bc"
      },
      "execution_count": 124,
      "outputs": [
        {
          "output_type": "stream",
          "name": "stderr",
          "text": [
            "/usr/local/lib/python3.9/dist-packages/sklearn/neighbors/_classification.py:215: DataConversionWarning: A column-vector y was passed when a 1d array was expected. Please change the shape of y to (n_samples,), for example using ravel().\n",
            "  return self._fit(X, y)\n",
            "/usr/local/lib/python3.9/dist-packages/sklearn/neighbors/_classification.py:215: DataConversionWarning: A column-vector y was passed when a 1d array was expected. Please change the shape of y to (n_samples,), for example using ravel().\n",
            "  return self._fit(X, y)\n",
            "/usr/local/lib/python3.9/dist-packages/sklearn/neighbors/_classification.py:215: DataConversionWarning: A column-vector y was passed when a 1d array was expected. Please change the shape of y to (n_samples,), for example using ravel().\n",
            "  return self._fit(X, y)\n",
            "/usr/local/lib/python3.9/dist-packages/sklearn/neighbors/_classification.py:215: DataConversionWarning: A column-vector y was passed when a 1d array was expected. Please change the shape of y to (n_samples,), for example using ravel().\n",
            "  return self._fit(X, y)\n",
            "/usr/local/lib/python3.9/dist-packages/sklearn/neighbors/_classification.py:215: DataConversionWarning: A column-vector y was passed when a 1d array was expected. Please change the shape of y to (n_samples,), for example using ravel().\n",
            "  return self._fit(X, y)\n",
            "/usr/local/lib/python3.9/dist-packages/sklearn/neighbors/_classification.py:215: DataConversionWarning: A column-vector y was passed when a 1d array was expected. Please change the shape of y to (n_samples,), for example using ravel().\n",
            "  return self._fit(X, y)\n",
            "/usr/local/lib/python3.9/dist-packages/sklearn/neighbors/_classification.py:215: DataConversionWarning: A column-vector y was passed when a 1d array was expected. Please change the shape of y to (n_samples,), for example using ravel().\n",
            "  return self._fit(X, y)\n",
            "/usr/local/lib/python3.9/dist-packages/sklearn/neighbors/_classification.py:215: DataConversionWarning: A column-vector y was passed when a 1d array was expected. Please change the shape of y to (n_samples,), for example using ravel().\n",
            "  return self._fit(X, y)\n",
            "/usr/local/lib/python3.9/dist-packages/sklearn/neighbors/_classification.py:215: DataConversionWarning: A column-vector y was passed when a 1d array was expected. Please change the shape of y to (n_samples,), for example using ravel().\n",
            "  return self._fit(X, y)\n",
            "/usr/local/lib/python3.9/dist-packages/sklearn/neighbors/_classification.py:215: DataConversionWarning: A column-vector y was passed when a 1d array was expected. Please change the shape of y to (n_samples,), for example using ravel().\n",
            "  return self._fit(X, y)\n"
          ]
        },
        {
          "output_type": "stream",
          "name": "stdout",
          "text": [
            "Cross-validation scores: [0.97333333 0.96       0.96666667 0.96       0.96       0.98\n",
            " 0.98       0.96       0.93333333 0.95302013]\n",
            "Mean cross-validation score: 0.9626353467561521\n"
          ]
        }
      ]
    },
    {
      "cell_type": "markdown",
      "source": [
        "###Models Summary"
      ],
      "metadata": {
        "id": "HgP1gAHtmuos"
      }
    },
    {
      "cell_type": "code",
      "source": [
        "print(\"Training accuracy Naive Bayes:{:.2f}%\".format( model.score(X_test_dense,y_test) * 100), \"\\n\")\n",
        "print(\"Training accuracy Logistic Regression:{:.2f}%\".format(model_LR.score(X_test_dense,y_test) * 100), \"\\n\")\n",
        "print(\"Training accuracy Decision Tree:{:.2f}%\".format(model_DT.score(X_test_dense,y_test) * 100), \"\\n\") \n",
        "print(\"Training accuracy Random Forest:{:.2f}%\".format(model_RF.score(X_test_dense,y_test) * 100), \"\\n\")\n",
        "print(\"Training accuracy KNN:{:.2f}%\".format(model_knn.score(X_test_dense,y_test) * 100), \"\\n\")"
      ],
      "metadata": {
        "colab": {
          "base_uri": "https://localhost:8080/"
        },
        "id": "OT8FE60nTTsN",
        "outputId": "6989d97d-3a89-4a09-c9ee-a107ea1f4d3e"
      },
      "execution_count": 130,
      "outputs": [
        {
          "output_type": "stream",
          "name": "stdout",
          "text": [
            "Training accuracy Naive Bayes:95.53% \n",
            "\n",
            "Training accuracy Logistic Regression:98.73% \n",
            "\n",
            "Training accuracy Decision Tree:94.26% \n",
            "\n",
            "Training accuracy Random Forest:97.73% \n",
            "\n",
            "Training accuracy KNN:97.00% \n",
            "\n"
          ]
        }
      ]
    },
    {
      "cell_type": "markdown",
      "source": [
        "<img src=\"https://raw.githubusercontent.com/orlandojrps/spam/main/nlp2.png\">"
      ],
      "metadata": {
        "id": "rq3v7dj7P_Uq"
      }
    },
    {
      "cell_type": "markdown",
      "source": [
        "##Let's try a new approach, this time using Word2Vec "
      ],
      "metadata": {
        "id": "eFfktXqJP_KA"
      }
    },
    {
      "cell_type": "markdown",
      "source": [
        "####Prepare Corpus and Process Using Spacy"
      ],
      "metadata": {
        "id": "VmlR7UEycxB8"
      }
    },
    {
      "cell_type": "markdown",
      "source": [
        "####Ref: Dr. Haithem Afli Lectures"
      ],
      "metadata": {
        "id": "qDHYb_6mVIrs"
      }
    },
    {
      "cell_type": "code",
      "source": [
        "spacy_nlp = spacy.load(\"en_core_web_lg\")"
      ],
      "metadata": {
        "id": "_Z5RL-vRcwlc"
      },
      "execution_count": 133,
      "outputs": []
    },
    {
      "cell_type": "code",
      "source": [
        "documents = [((row[1]['classification']), \\\n",
        "              list(spacy_nlp(row[1]['message']).vector)) \\\n",
        "                  for row in PROG_BAR(df.iterrows())]"
      ],
      "metadata": {
        "colab": {
          "base_uri": "https://localhost:8080/",
          "height": 49,
          "referenced_widgets": [
            "a8dd02f5866149cc92a61459b1c155f0",
            "17de60688174480a8bd1746a562f7597",
            "a82754e346bd4e52b69289691e903cf4",
            "4e58af5a494046189fe0a8f6cceba976",
            "670181bdd14c45f59a7bce64daa050de",
            "8287ec99188040b2a36b79dc9e5481ea",
            "b1522672a8ec446ea41a6fad71ac3fbf",
            "5834782bd7e14deca928da9f6776ed3f",
            "d23d8b21e7d94af48a4c276de1f0054f",
            "6a8eacb32e6c4ff7a95254f4060d7323",
            "902df4c2dc6e41d6b6eb7d56304010de"
          ]
        },
        "id": "j0cPyXM_dqkD",
        "outputId": "64ec0ac2-2f99-43d8-ed06-4179d68cf810"
      },
      "execution_count": 134,
      "outputs": [
        {
          "output_type": "display_data",
          "data": {
            "text/plain": [
              "0it [00:00, ?it/s]"
            ],
            "application/vnd.jupyter.widget-view+json": {
              "version_major": 2,
              "version_minor": 0,
              "model_id": "a8dd02f5866149cc92a61459b1c155f0"
            }
          },
          "metadata": {}
        }
      ]
    },
    {
      "cell_type": "markdown",
      "source": [
        "Disassemble the documents list to make a data frame for modelling."
      ],
      "metadata": {
        "id": "YXSSphRVP_D_"
      }
    },
    {
      "cell_type": "code",
      "source": [
        "doc_avg_feat_vec = [d[1] for d in PROG_BAR(documents)]\n",
        "\n",
        "fileids = [doc[0][0] for doc in documents]\n",
        "classification = [doc[0] for doc in documents]\n",
        "\n",
        "embedding_df = pd.DataFrame(doc_avg_feat_vec)\n",
        "embedding_df['fileids'] = fileids\n",
        "embedding_df['classif'] = classification\n",
        "embedding_df"
      ],
      "metadata": {
        "colab": {
          "base_uri": "https://localhost:8080/",
          "height": 455,
          "referenced_widgets": [
            "af587aa5542c4c949a0d50e20c66b9c7",
            "869aa2d6db024dc3a76c89254fbe354d",
            "01d14fc563d643e3b6d1682e345e058f",
            "d9cd69a4f1a14c358d6511bf28e0b1b3",
            "2bf0a8af76ea440ba0a31151fe156dcd",
            "58b0957c75ca402ea6d2e39192d695d9",
            "d7f17ffffa0f4aa394ea8f85ec2a3519",
            "324cc61b1a424488a919646b20826c7b",
            "005f011e4e664281a49a2f2e4ce90b3a",
            "47e419cf5cdc4a64af38653e5841d178",
            "08f0c6b8e3934a2ca9cfebb3d4cb3a2d"
          ]
        },
        "id": "Sm9XYmkjevLd",
        "outputId": "41579d6e-93e8-45e2-be66-b3262c6ac311"
      },
      "execution_count": 136,
      "outputs": [
        {
          "output_type": "display_data",
          "data": {
            "text/plain": [
              "  0%|          | 0/4994 [00:00<?, ?it/s]"
            ],
            "application/vnd.jupyter.widget-view+json": {
              "version_major": 2,
              "version_minor": 0,
              "model_id": "af587aa5542c4c949a0d50e20c66b9c7"
            }
          },
          "metadata": {}
        },
        {
          "output_type": "execute_result",
          "data": {
            "text/plain": [
              "             0         1         2         3         4         5         6  \\\n",
              "0    -1.332022 -1.892263  0.527773  1.985225  4.140090 -0.736490  1.116616   \n",
              "1    -0.932460 -2.314256  1.686281  0.743546  2.373665 -0.188444  0.795046   \n",
              "2    -0.513657 -1.239042 -0.063641  0.326575  3.362096 -0.465526  0.502676   \n",
              "3    -1.595366 -0.056980 -0.362748  2.702515  3.622755 -0.258132  1.149102   \n",
              "4    -0.910030 -1.242047  0.381572  1.538558  4.150530 -0.759299  0.793261   \n",
              "...        ...       ...       ...       ...       ...       ...       ...   \n",
              "4989 -1.094393  0.140323 -2.285008  0.356164  3.452671 -0.113406 -0.038093   \n",
              "4990  0.079001  0.025977 -1.309338 -0.557254  1.299973 -0.034427  0.593223   \n",
              "4991 -0.491977  0.017550 -1.513908  0.454296  2.965373  0.691053  0.307116   \n",
              "4992 -0.445236 -0.580229  0.556597  0.507158  2.977374 -0.445692  0.714365   \n",
              "4993  0.791885  0.181897 -0.098039  0.395648  0.280157 -0.056911  0.814409   \n",
              "\n",
              "             7         8         9  ...       292       293       294  \\\n",
              "0     2.094030 -1.110013 -1.432957  ... -2.633597 -1.363503  0.267080   \n",
              "1     0.626023 -0.602484 -1.509617  ...  0.126515 -1.057001  0.810938   \n",
              "2     1.918475 -1.352981 -0.518508  ...  0.178812 -0.798848  0.076939   \n",
              "3     2.656909 -2.802253 -0.662734  ... -3.087524 -1.582597 -0.738772   \n",
              "4     2.336686 -1.159360 -1.102586  ...  0.048246  0.013129 -0.060457   \n",
              "...        ...       ...       ...  ...       ...       ...       ...   \n",
              "4989  3.457645 -1.047824 -0.069760  ...  0.580048 -0.951962 -1.254016   \n",
              "4990  1.696794 -2.101431  0.291290  ...  0.895047 -0.851262 -0.812156   \n",
              "4991  3.448378 -2.098753  0.372322  ... -0.332547 -1.647038 -1.109861   \n",
              "4992  1.417911 -1.749117 -0.910257  ... -0.033695 -0.783335 -0.407242   \n",
              "4993  1.515140 -1.410647 -0.421875  ...  1.006998 -0.128843 -0.510295   \n",
              "\n",
              "           295       296       297       298       299  fileids  classif  \n",
              "0     1.355662 -0.297364 -0.509606  0.107371 -1.391560        h      ham  \n",
              "1     0.946370 -0.015995 -0.917629  0.539223 -0.476399        h      ham  \n",
              "2     1.000810  0.133972 -1.301721 -1.320935  0.568108        h      ham  \n",
              "3     1.339150 -0.594903 -0.496338 -0.629215 -1.191007        h      ham  \n",
              "4     1.141958  0.408210 -2.509590 -1.431595 -1.053061        h      ham  \n",
              "...        ...       ...       ...       ...       ...      ...      ...  \n",
              "4989  0.979862 -0.331841 -1.196767 -2.219989  0.491147        s     spam  \n",
              "4990  0.962624 -0.306156 -0.469448 -2.383094  0.797571        s     spam  \n",
              "4991  0.725330 -0.374233  0.478900 -1.515850 -0.052718        s     spam  \n",
              "4992  0.806517  0.944137 -0.899341 -1.159930  0.578709        s     spam  \n",
              "4993 -0.688488  0.793074 -1.419552 -0.554007 -0.215241        s     spam  \n",
              "\n",
              "[4994 rows x 302 columns]"
            ],
            "text/html": [
              "\n",
              "  <div id=\"df-fd9f2cd8-f3c2-4d00-8675-34841b761900\">\n",
              "    <div class=\"colab-df-container\">\n",
              "      <div>\n",
              "<style scoped>\n",
              "    .dataframe tbody tr th:only-of-type {\n",
              "        vertical-align: middle;\n",
              "    }\n",
              "\n",
              "    .dataframe tbody tr th {\n",
              "        vertical-align: top;\n",
              "    }\n",
              "\n",
              "    .dataframe thead th {\n",
              "        text-align: right;\n",
              "    }\n",
              "</style>\n",
              "<table border=\"1\" class=\"dataframe\">\n",
              "  <thead>\n",
              "    <tr style=\"text-align: right;\">\n",
              "      <th></th>\n",
              "      <th>0</th>\n",
              "      <th>1</th>\n",
              "      <th>2</th>\n",
              "      <th>3</th>\n",
              "      <th>4</th>\n",
              "      <th>5</th>\n",
              "      <th>6</th>\n",
              "      <th>7</th>\n",
              "      <th>8</th>\n",
              "      <th>9</th>\n",
              "      <th>...</th>\n",
              "      <th>292</th>\n",
              "      <th>293</th>\n",
              "      <th>294</th>\n",
              "      <th>295</th>\n",
              "      <th>296</th>\n",
              "      <th>297</th>\n",
              "      <th>298</th>\n",
              "      <th>299</th>\n",
              "      <th>fileids</th>\n",
              "      <th>classif</th>\n",
              "    </tr>\n",
              "  </thead>\n",
              "  <tbody>\n",
              "    <tr>\n",
              "      <th>0</th>\n",
              "      <td>-1.332022</td>\n",
              "      <td>-1.892263</td>\n",
              "      <td>0.527773</td>\n",
              "      <td>1.985225</td>\n",
              "      <td>4.140090</td>\n",
              "      <td>-0.736490</td>\n",
              "      <td>1.116616</td>\n",
              "      <td>2.094030</td>\n",
              "      <td>-1.110013</td>\n",
              "      <td>-1.432957</td>\n",
              "      <td>...</td>\n",
              "      <td>-2.633597</td>\n",
              "      <td>-1.363503</td>\n",
              "      <td>0.267080</td>\n",
              "      <td>1.355662</td>\n",
              "      <td>-0.297364</td>\n",
              "      <td>-0.509606</td>\n",
              "      <td>0.107371</td>\n",
              "      <td>-1.391560</td>\n",
              "      <td>h</td>\n",
              "      <td>ham</td>\n",
              "    </tr>\n",
              "    <tr>\n",
              "      <th>1</th>\n",
              "      <td>-0.932460</td>\n",
              "      <td>-2.314256</td>\n",
              "      <td>1.686281</td>\n",
              "      <td>0.743546</td>\n",
              "      <td>2.373665</td>\n",
              "      <td>-0.188444</td>\n",
              "      <td>0.795046</td>\n",
              "      <td>0.626023</td>\n",
              "      <td>-0.602484</td>\n",
              "      <td>-1.509617</td>\n",
              "      <td>...</td>\n",
              "      <td>0.126515</td>\n",
              "      <td>-1.057001</td>\n",
              "      <td>0.810938</td>\n",
              "      <td>0.946370</td>\n",
              "      <td>-0.015995</td>\n",
              "      <td>-0.917629</td>\n",
              "      <td>0.539223</td>\n",
              "      <td>-0.476399</td>\n",
              "      <td>h</td>\n",
              "      <td>ham</td>\n",
              "    </tr>\n",
              "    <tr>\n",
              "      <th>2</th>\n",
              "      <td>-0.513657</td>\n",
              "      <td>-1.239042</td>\n",
              "      <td>-0.063641</td>\n",
              "      <td>0.326575</td>\n",
              "      <td>3.362096</td>\n",
              "      <td>-0.465526</td>\n",
              "      <td>0.502676</td>\n",
              "      <td>1.918475</td>\n",
              "      <td>-1.352981</td>\n",
              "      <td>-0.518508</td>\n",
              "      <td>...</td>\n",
              "      <td>0.178812</td>\n",
              "      <td>-0.798848</td>\n",
              "      <td>0.076939</td>\n",
              "      <td>1.000810</td>\n",
              "      <td>0.133972</td>\n",
              "      <td>-1.301721</td>\n",
              "      <td>-1.320935</td>\n",
              "      <td>0.568108</td>\n",
              "      <td>h</td>\n",
              "      <td>ham</td>\n",
              "    </tr>\n",
              "    <tr>\n",
              "      <th>3</th>\n",
              "      <td>-1.595366</td>\n",
              "      <td>-0.056980</td>\n",
              "      <td>-0.362748</td>\n",
              "      <td>2.702515</td>\n",
              "      <td>3.622755</td>\n",
              "      <td>-0.258132</td>\n",
              "      <td>1.149102</td>\n",
              "      <td>2.656909</td>\n",
              "      <td>-2.802253</td>\n",
              "      <td>-0.662734</td>\n",
              "      <td>...</td>\n",
              "      <td>-3.087524</td>\n",
              "      <td>-1.582597</td>\n",
              "      <td>-0.738772</td>\n",
              "      <td>1.339150</td>\n",
              "      <td>-0.594903</td>\n",
              "      <td>-0.496338</td>\n",
              "      <td>-0.629215</td>\n",
              "      <td>-1.191007</td>\n",
              "      <td>h</td>\n",
              "      <td>ham</td>\n",
              "    </tr>\n",
              "    <tr>\n",
              "      <th>4</th>\n",
              "      <td>-0.910030</td>\n",
              "      <td>-1.242047</td>\n",
              "      <td>0.381572</td>\n",
              "      <td>1.538558</td>\n",
              "      <td>4.150530</td>\n",
              "      <td>-0.759299</td>\n",
              "      <td>0.793261</td>\n",
              "      <td>2.336686</td>\n",
              "      <td>-1.159360</td>\n",
              "      <td>-1.102586</td>\n",
              "      <td>...</td>\n",
              "      <td>0.048246</td>\n",
              "      <td>0.013129</td>\n",
              "      <td>-0.060457</td>\n",
              "      <td>1.141958</td>\n",
              "      <td>0.408210</td>\n",
              "      <td>-2.509590</td>\n",
              "      <td>-1.431595</td>\n",
              "      <td>-1.053061</td>\n",
              "      <td>h</td>\n",
              "      <td>ham</td>\n",
              "    </tr>\n",
              "    <tr>\n",
              "      <th>...</th>\n",
              "      <td>...</td>\n",
              "      <td>...</td>\n",
              "      <td>...</td>\n",
              "      <td>...</td>\n",
              "      <td>...</td>\n",
              "      <td>...</td>\n",
              "      <td>...</td>\n",
              "      <td>...</td>\n",
              "      <td>...</td>\n",
              "      <td>...</td>\n",
              "      <td>...</td>\n",
              "      <td>...</td>\n",
              "      <td>...</td>\n",
              "      <td>...</td>\n",
              "      <td>...</td>\n",
              "      <td>...</td>\n",
              "      <td>...</td>\n",
              "      <td>...</td>\n",
              "      <td>...</td>\n",
              "      <td>...</td>\n",
              "      <td>...</td>\n",
              "    </tr>\n",
              "    <tr>\n",
              "      <th>4989</th>\n",
              "      <td>-1.094393</td>\n",
              "      <td>0.140323</td>\n",
              "      <td>-2.285008</td>\n",
              "      <td>0.356164</td>\n",
              "      <td>3.452671</td>\n",
              "      <td>-0.113406</td>\n",
              "      <td>-0.038093</td>\n",
              "      <td>3.457645</td>\n",
              "      <td>-1.047824</td>\n",
              "      <td>-0.069760</td>\n",
              "      <td>...</td>\n",
              "      <td>0.580048</td>\n",
              "      <td>-0.951962</td>\n",
              "      <td>-1.254016</td>\n",
              "      <td>0.979862</td>\n",
              "      <td>-0.331841</td>\n",
              "      <td>-1.196767</td>\n",
              "      <td>-2.219989</td>\n",
              "      <td>0.491147</td>\n",
              "      <td>s</td>\n",
              "      <td>spam</td>\n",
              "    </tr>\n",
              "    <tr>\n",
              "      <th>4990</th>\n",
              "      <td>0.079001</td>\n",
              "      <td>0.025977</td>\n",
              "      <td>-1.309338</td>\n",
              "      <td>-0.557254</td>\n",
              "      <td>1.299973</td>\n",
              "      <td>-0.034427</td>\n",
              "      <td>0.593223</td>\n",
              "      <td>1.696794</td>\n",
              "      <td>-2.101431</td>\n",
              "      <td>0.291290</td>\n",
              "      <td>...</td>\n",
              "      <td>0.895047</td>\n",
              "      <td>-0.851262</td>\n",
              "      <td>-0.812156</td>\n",
              "      <td>0.962624</td>\n",
              "      <td>-0.306156</td>\n",
              "      <td>-0.469448</td>\n",
              "      <td>-2.383094</td>\n",
              "      <td>0.797571</td>\n",
              "      <td>s</td>\n",
              "      <td>spam</td>\n",
              "    </tr>\n",
              "    <tr>\n",
              "      <th>4991</th>\n",
              "      <td>-0.491977</td>\n",
              "      <td>0.017550</td>\n",
              "      <td>-1.513908</td>\n",
              "      <td>0.454296</td>\n",
              "      <td>2.965373</td>\n",
              "      <td>0.691053</td>\n",
              "      <td>0.307116</td>\n",
              "      <td>3.448378</td>\n",
              "      <td>-2.098753</td>\n",
              "      <td>0.372322</td>\n",
              "      <td>...</td>\n",
              "      <td>-0.332547</td>\n",
              "      <td>-1.647038</td>\n",
              "      <td>-1.109861</td>\n",
              "      <td>0.725330</td>\n",
              "      <td>-0.374233</td>\n",
              "      <td>0.478900</td>\n",
              "      <td>-1.515850</td>\n",
              "      <td>-0.052718</td>\n",
              "      <td>s</td>\n",
              "      <td>spam</td>\n",
              "    </tr>\n",
              "    <tr>\n",
              "      <th>4992</th>\n",
              "      <td>-0.445236</td>\n",
              "      <td>-0.580229</td>\n",
              "      <td>0.556597</td>\n",
              "      <td>0.507158</td>\n",
              "      <td>2.977374</td>\n",
              "      <td>-0.445692</td>\n",
              "      <td>0.714365</td>\n",
              "      <td>1.417911</td>\n",
              "      <td>-1.749117</td>\n",
              "      <td>-0.910257</td>\n",
              "      <td>...</td>\n",
              "      <td>-0.033695</td>\n",
              "      <td>-0.783335</td>\n",
              "      <td>-0.407242</td>\n",
              "      <td>0.806517</td>\n",
              "      <td>0.944137</td>\n",
              "      <td>-0.899341</td>\n",
              "      <td>-1.159930</td>\n",
              "      <td>0.578709</td>\n",
              "      <td>s</td>\n",
              "      <td>spam</td>\n",
              "    </tr>\n",
              "    <tr>\n",
              "      <th>4993</th>\n",
              "      <td>0.791885</td>\n",
              "      <td>0.181897</td>\n",
              "      <td>-0.098039</td>\n",
              "      <td>0.395648</td>\n",
              "      <td>0.280157</td>\n",
              "      <td>-0.056911</td>\n",
              "      <td>0.814409</td>\n",
              "      <td>1.515140</td>\n",
              "      <td>-1.410647</td>\n",
              "      <td>-0.421875</td>\n",
              "      <td>...</td>\n",
              "      <td>1.006998</td>\n",
              "      <td>-0.128843</td>\n",
              "      <td>-0.510295</td>\n",
              "      <td>-0.688488</td>\n",
              "      <td>0.793074</td>\n",
              "      <td>-1.419552</td>\n",
              "      <td>-0.554007</td>\n",
              "      <td>-0.215241</td>\n",
              "      <td>s</td>\n",
              "      <td>spam</td>\n",
              "    </tr>\n",
              "  </tbody>\n",
              "</table>\n",
              "<p>4994 rows × 302 columns</p>\n",
              "</div>\n",
              "      <button class=\"colab-df-convert\" onclick=\"convertToInteractive('df-fd9f2cd8-f3c2-4d00-8675-34841b761900')\"\n",
              "              title=\"Convert this dataframe to an interactive table.\"\n",
              "              style=\"display:none;\">\n",
              "        \n",
              "  <svg xmlns=\"http://www.w3.org/2000/svg\" height=\"24px\"viewBox=\"0 0 24 24\"\n",
              "       width=\"24px\">\n",
              "    <path d=\"M0 0h24v24H0V0z\" fill=\"none\"/>\n",
              "    <path d=\"M18.56 5.44l.94 2.06.94-2.06 2.06-.94-2.06-.94-.94-2.06-.94 2.06-2.06.94zm-11 1L8.5 8.5l.94-2.06 2.06-.94-2.06-.94L8.5 2.5l-.94 2.06-2.06.94zm10 10l.94 2.06.94-2.06 2.06-.94-2.06-.94-.94-2.06-.94 2.06-2.06.94z\"/><path d=\"M17.41 7.96l-1.37-1.37c-.4-.4-.92-.59-1.43-.59-.52 0-1.04.2-1.43.59L10.3 9.45l-7.72 7.72c-.78.78-.78 2.05 0 2.83L4 21.41c.39.39.9.59 1.41.59.51 0 1.02-.2 1.41-.59l7.78-7.78 2.81-2.81c.8-.78.8-2.07 0-2.86zM5.41 20L4 18.59l7.72-7.72 1.47 1.35L5.41 20z\"/>\n",
              "  </svg>\n",
              "      </button>\n",
              "      \n",
              "  <style>\n",
              "    .colab-df-container {\n",
              "      display:flex;\n",
              "      flex-wrap:wrap;\n",
              "      gap: 12px;\n",
              "    }\n",
              "\n",
              "    .colab-df-convert {\n",
              "      background-color: #E8F0FE;\n",
              "      border: none;\n",
              "      border-radius: 50%;\n",
              "      cursor: pointer;\n",
              "      display: none;\n",
              "      fill: #1967D2;\n",
              "      height: 32px;\n",
              "      padding: 0 0 0 0;\n",
              "      width: 32px;\n",
              "    }\n",
              "\n",
              "    .colab-df-convert:hover {\n",
              "      background-color: #E2EBFA;\n",
              "      box-shadow: 0px 1px 2px rgba(60, 64, 67, 0.3), 0px 1px 3px 1px rgba(60, 64, 67, 0.15);\n",
              "      fill: #174EA6;\n",
              "    }\n",
              "\n",
              "    [theme=dark] .colab-df-convert {\n",
              "      background-color: #3B4455;\n",
              "      fill: #D2E3FC;\n",
              "    }\n",
              "\n",
              "    [theme=dark] .colab-df-convert:hover {\n",
              "      background-color: #434B5C;\n",
              "      box-shadow: 0px 1px 3px 1px rgba(0, 0, 0, 0.15);\n",
              "      filter: drop-shadow(0px 1px 2px rgba(0, 0, 0, 0.3));\n",
              "      fill: #FFFFFF;\n",
              "    }\n",
              "  </style>\n",
              "\n",
              "      <script>\n",
              "        const buttonEl =\n",
              "          document.querySelector('#df-fd9f2cd8-f3c2-4d00-8675-34841b761900 button.colab-df-convert');\n",
              "        buttonEl.style.display =\n",
              "          google.colab.kernel.accessAllowed ? 'block' : 'none';\n",
              "\n",
              "        async function convertToInteractive(key) {\n",
              "          const element = document.querySelector('#df-fd9f2cd8-f3c2-4d00-8675-34841b761900');\n",
              "          const dataTable =\n",
              "            await google.colab.kernel.invokeFunction('convertToInteractive',\n",
              "                                                     [key], {});\n",
              "          if (!dataTable) return;\n",
              "\n",
              "          const docLinkHtml = 'Like what you see? Visit the ' +\n",
              "            '<a target=\"_blank\" href=https://colab.research.google.com/notebooks/data_table.ipynb>data table notebook</a>'\n",
              "            + ' to learn more about interactive tables.';\n",
              "          element.innerHTML = '';\n",
              "          dataTable['output_type'] = 'display_data';\n",
              "          await google.colab.output.renderOutput(dataTable, element);\n",
              "          const docLink = document.createElement('div');\n",
              "          docLink.innerHTML = docLinkHtml;\n",
              "          element.appendChild(docLink);\n",
              "        }\n",
              "      </script>\n",
              "    </div>\n",
              "  </div>\n",
              "  "
            ]
          },
          "metadata": {},
          "execution_count": 136
        }
      ]
    },
    {
      "cell_type": "markdown",
      "source": [
        "###making a copy to manipulate our dataset"
      ],
      "metadata": {
        "id": "ZEZt01Asn24F"
      }
    },
    {
      "cell_type": "code",
      "source": [
        "dataset = embedding_df.copy()"
      ],
      "metadata": {
        "id": "OaIMKDSCe1iN"
      },
      "execution_count": 137,
      "outputs": []
    },
    {
      "cell_type": "markdown",
      "source": [
        "###Examine the distribution of the classification targets"
      ],
      "metadata": {
        "id": "DQUncsZTP_Aq"
      }
    },
    {
      "cell_type": "code",
      "source": [
        "dataset['classif'].value_counts()"
      ],
      "metadata": {
        "colab": {
          "base_uri": "https://localhost:8080/"
        },
        "id": "RyDwF1K_fCAV",
        "outputId": "db91a584-5f4f-4394-f5c4-663fb0ef521d"
      },
      "execution_count": 138,
      "outputs": [
        {
          "output_type": "execute_result",
          "data": {
            "text/plain": [
              "ham     3531\n",
              "spam    1463\n",
              "Name: classif, dtype: int64"
            ]
          },
          "metadata": {},
          "execution_count": 138
        }
      ]
    },
    {
      "cell_type": "markdown",
      "source": [
        "###Extract features and target"
      ],
      "metadata": {
        "id": "qtZYOJloP-9l"
      }
    },
    {
      "cell_type": "code",
      "source": [
        "X_W2V= dataset[dataset.columns.difference(['fileids','classif'])]\n",
        "y_W2V= dataset['classif']"
      ],
      "metadata": {
        "id": "ksCN1mcqfULr"
      },
      "execution_count": 231,
      "outputs": []
    },
    {
      "cell_type": "markdown",
      "source": [
        "###Split the data into a training set, a validation set, and a test set"
      ],
      "metadata": {
        "id": "YvYSmGPnfSwM"
      }
    },
    {
      "cell_type": "code",
      "source": [
        "X_train_W2V, X_test_W2V, y_train_W2V, y_test_W2V \\\n",
        "    = sklearn.model_selection.train_test_split(X_W2V, y_W2V, random_state=4938, \\\n",
        "                                    train_size = 0.7) # 4938 my student number"
      ],
      "metadata": {
        "id": "ScU9ZzUBfdqN"
      },
      "execution_count": 232,
      "outputs": []
    },
    {
      "cell_type": "code",
      "source": [
        "y_train_W2V.shape, y_test_W2V.shape"
      ],
      "metadata": {
        "colab": {
          "base_uri": "https://localhost:8080/"
        },
        "id": "rA6A3MzVff_6",
        "outputId": "0a72f47b-b63a-47a9-bd98-d09fd54ff3bd"
      },
      "execution_count": 233,
      "outputs": [
        {
          "output_type": "execute_result",
          "data": {
            "text/plain": [
              "((3495,), (1499,))"
            ]
          },
          "metadata": {},
          "execution_count": 233
        }
      ]
    },
    {
      "cell_type": "code",
      "source": [
        "X_train"
      ],
      "metadata": {
        "colab": {
          "base_uri": "https://localhost:8080/",
          "height": 423
        },
        "id": "PX5h2WbOgJ2H",
        "outputId": "95fa5520-f2b3-467d-e5c5-d0286a2ca774"
      },
      "execution_count": 234,
      "outputs": [
        {
          "output_type": "execute_result",
          "data": {
            "text/plain": [
              "                                                message\n",
              "0     Subject : hi paliourg available meds . availab...\n",
              "1      Subject : : meter 1550 per gas control , 18 th .\n",
              "2     Subject : : waha hubco appologize , forgot one...\n",
              "3     Subject : calpine daily gas nomination monthly...\n",
              "4     Subject : hate condoms , need stay safe ? stay...\n",
              "...                                                 ...\n",
              "3490  Subject : super cheap rates best sexual health...\n",
              "3491  Subject : sitara # 92886 febo 0 , gas taken gl...\n",
              "3492  Subject : new contact devon please note leavin...\n",
              "3493  Subject : canvas 2005 cable v de 5 rambler f r...\n",
              "3494  Subject : devon understand guys want talk devo...\n",
              "\n",
              "[3495 rows x 1 columns]"
            ],
            "text/html": [
              "\n",
              "  <div id=\"df-c629dddf-7f2a-4353-aab9-12211cfc1335\">\n",
              "    <div class=\"colab-df-container\">\n",
              "      <div>\n",
              "<style scoped>\n",
              "    .dataframe tbody tr th:only-of-type {\n",
              "        vertical-align: middle;\n",
              "    }\n",
              "\n",
              "    .dataframe tbody tr th {\n",
              "        vertical-align: top;\n",
              "    }\n",
              "\n",
              "    .dataframe thead th {\n",
              "        text-align: right;\n",
              "    }\n",
              "</style>\n",
              "<table border=\"1\" class=\"dataframe\">\n",
              "  <thead>\n",
              "    <tr style=\"text-align: right;\">\n",
              "      <th></th>\n",
              "      <th>message</th>\n",
              "    </tr>\n",
              "  </thead>\n",
              "  <tbody>\n",
              "    <tr>\n",
              "      <th>0</th>\n",
              "      <td>Subject : hi paliourg available meds . availab...</td>\n",
              "    </tr>\n",
              "    <tr>\n",
              "      <th>1</th>\n",
              "      <td>Subject : : meter 1550 per gas control , 18 th .</td>\n",
              "    </tr>\n",
              "    <tr>\n",
              "      <th>2</th>\n",
              "      <td>Subject : : waha hubco appologize , forgot one...</td>\n",
              "    </tr>\n",
              "    <tr>\n",
              "      <th>3</th>\n",
              "      <td>Subject : calpine daily gas nomination monthly...</td>\n",
              "    </tr>\n",
              "    <tr>\n",
              "      <th>4</th>\n",
              "      <td>Subject : hate condoms , need stay safe ? stay...</td>\n",
              "    </tr>\n",
              "    <tr>\n",
              "      <th>...</th>\n",
              "      <td>...</td>\n",
              "    </tr>\n",
              "    <tr>\n",
              "      <th>3490</th>\n",
              "      <td>Subject : super cheap rates best sexual health...</td>\n",
              "    </tr>\n",
              "    <tr>\n",
              "      <th>3491</th>\n",
              "      <td>Subject : sitara # 92886 febo 0 , gas taken gl...</td>\n",
              "    </tr>\n",
              "    <tr>\n",
              "      <th>3492</th>\n",
              "      <td>Subject : new contact devon please note leavin...</td>\n",
              "    </tr>\n",
              "    <tr>\n",
              "      <th>3493</th>\n",
              "      <td>Subject : canvas 2005 cable v de 5 rambler f r...</td>\n",
              "    </tr>\n",
              "    <tr>\n",
              "      <th>3494</th>\n",
              "      <td>Subject : devon understand guys want talk devo...</td>\n",
              "    </tr>\n",
              "  </tbody>\n",
              "</table>\n",
              "<p>3495 rows × 1 columns</p>\n",
              "</div>\n",
              "      <button class=\"colab-df-convert\" onclick=\"convertToInteractive('df-c629dddf-7f2a-4353-aab9-12211cfc1335')\"\n",
              "              title=\"Convert this dataframe to an interactive table.\"\n",
              "              style=\"display:none;\">\n",
              "        \n",
              "  <svg xmlns=\"http://www.w3.org/2000/svg\" height=\"24px\"viewBox=\"0 0 24 24\"\n",
              "       width=\"24px\">\n",
              "    <path d=\"M0 0h24v24H0V0z\" fill=\"none\"/>\n",
              "    <path d=\"M18.56 5.44l.94 2.06.94-2.06 2.06-.94-2.06-.94-.94-2.06-.94 2.06-2.06.94zm-11 1L8.5 8.5l.94-2.06 2.06-.94-2.06-.94L8.5 2.5l-.94 2.06-2.06.94zm10 10l.94 2.06.94-2.06 2.06-.94-2.06-.94-.94-2.06-.94 2.06-2.06.94z\"/><path d=\"M17.41 7.96l-1.37-1.37c-.4-.4-.92-.59-1.43-.59-.52 0-1.04.2-1.43.59L10.3 9.45l-7.72 7.72c-.78.78-.78 2.05 0 2.83L4 21.41c.39.39.9.59 1.41.59.51 0 1.02-.2 1.41-.59l7.78-7.78 2.81-2.81c.8-.78.8-2.07 0-2.86zM5.41 20L4 18.59l7.72-7.72 1.47 1.35L5.41 20z\"/>\n",
              "  </svg>\n",
              "      </button>\n",
              "      \n",
              "  <style>\n",
              "    .colab-df-container {\n",
              "      display:flex;\n",
              "      flex-wrap:wrap;\n",
              "      gap: 12px;\n",
              "    }\n",
              "\n",
              "    .colab-df-convert {\n",
              "      background-color: #E8F0FE;\n",
              "      border: none;\n",
              "      border-radius: 50%;\n",
              "      cursor: pointer;\n",
              "      display: none;\n",
              "      fill: #1967D2;\n",
              "      height: 32px;\n",
              "      padding: 0 0 0 0;\n",
              "      width: 32px;\n",
              "    }\n",
              "\n",
              "    .colab-df-convert:hover {\n",
              "      background-color: #E2EBFA;\n",
              "      box-shadow: 0px 1px 2px rgba(60, 64, 67, 0.3), 0px 1px 3px 1px rgba(60, 64, 67, 0.15);\n",
              "      fill: #174EA6;\n",
              "    }\n",
              "\n",
              "    [theme=dark] .colab-df-convert {\n",
              "      background-color: #3B4455;\n",
              "      fill: #D2E3FC;\n",
              "    }\n",
              "\n",
              "    [theme=dark] .colab-df-convert:hover {\n",
              "      background-color: #434B5C;\n",
              "      box-shadow: 0px 1px 3px 1px rgba(0, 0, 0, 0.15);\n",
              "      filter: drop-shadow(0px 1px 2px rgba(0, 0, 0, 0.3));\n",
              "      fill: #FFFFFF;\n",
              "    }\n",
              "  </style>\n",
              "\n",
              "      <script>\n",
              "        const buttonEl =\n",
              "          document.querySelector('#df-c629dddf-7f2a-4353-aab9-12211cfc1335 button.colab-df-convert');\n",
              "        buttonEl.style.display =\n",
              "          google.colab.kernel.accessAllowed ? 'block' : 'none';\n",
              "\n",
              "        async function convertToInteractive(key) {\n",
              "          const element = document.querySelector('#df-c629dddf-7f2a-4353-aab9-12211cfc1335');\n",
              "          const dataTable =\n",
              "            await google.colab.kernel.invokeFunction('convertToInteractive',\n",
              "                                                     [key], {});\n",
              "          if (!dataTable) return;\n",
              "\n",
              "          const docLinkHtml = 'Like what you see? Visit the ' +\n",
              "            '<a target=\"_blank\" href=https://colab.research.google.com/notebooks/data_table.ipynb>data table notebook</a>'\n",
              "            + ' to learn more about interactive tables.';\n",
              "          element.innerHTML = '';\n",
              "          dataTable['output_type'] = 'display_data';\n",
              "          await google.colab.output.renderOutput(dataTable, element);\n",
              "          const docLink = document.createElement('div');\n",
              "          docLink.innerHTML = docLinkHtml;\n",
              "          element.appendChild(docLink);\n",
              "        }\n",
              "      </script>\n",
              "    </div>\n",
              "  </div>\n",
              "  "
            ]
          },
          "metadata": {},
          "execution_count": 234
        }
      ]
    },
    {
      "cell_type": "code",
      "source": [
        "X_train_W2V"
      ],
      "metadata": {
        "colab": {
          "base_uri": "https://localhost:8080/",
          "height": 423
        },
        "id": "XrDjav1chVXg",
        "outputId": "1b535da8-9b1d-4af1-b657-d9c591ca84a3"
      },
      "execution_count": 235,
      "outputs": [
        {
          "output_type": "execute_result",
          "data": {
            "text/plain": [
              "           0         1         2         3         4         5         6    \\\n",
              "3690 -1.093464  0.150959 -0.470827  0.446290  1.591034  0.210351  1.155914   \n",
              "2723 -1.395096 -0.083411 -1.563870 -0.250608  3.019282 -0.956812  0.845551   \n",
              "3906 -1.027020  0.369901 -1.035377  0.759155  3.098729  0.241150  0.888841   \n",
              "597  -1.612821  0.399340 -1.285004  0.262963  3.471442  0.019753  0.594406   \n",
              "3221 -2.246782 -0.607255  0.418808  3.996385  5.149291 -0.319265  1.713962   \n",
              "...        ...       ...       ...       ...       ...       ...       ...   \n",
              "4083 -0.365352  1.416622 -1.986498 -0.806925  2.311720  0.659582  0.471825   \n",
              "2464 -1.191597  0.710863 -1.454548 -1.091293  1.090083  0.278768  0.400789   \n",
              "4546 -0.005675 -0.769908  1.041978  0.204251  2.713972 -0.278652  0.794353   \n",
              "1539 -2.048110 -0.335920  0.890064  4.173786  4.805041 -0.416322  1.959067   \n",
              "1774 -2.248234 -3.113052  0.632225  0.758293  3.269458 -1.037167 -0.001228   \n",
              "\n",
              "           7         8         9    ...       290       291       292  \\\n",
              "3690  1.171861 -0.873711 -0.116693  ...  0.397250 -0.098673  0.199353   \n",
              "2723  2.102117 -0.074671 -1.066594  ... -0.079791  0.649738  1.653396   \n",
              "3906  2.330466 -2.187844 -0.434040  ... -0.842515  0.294552 -0.267768   \n",
              "597   2.932092 -0.641279 -0.696450  ...  0.503988  0.051172  0.005295   \n",
              "3221  2.564169 -2.429966 -1.868245  ... -1.015065  1.720813 -4.086110   \n",
              "...        ...       ...       ...  ...       ...       ...       ...   \n",
              "4083  2.842541 -2.402186 -0.008695  ... -0.141754  0.586322  1.022433   \n",
              "2464  2.658662 -1.829957 -0.340416  ...  0.872361  0.094268  0.823189   \n",
              "4546  0.968482 -1.706209 -0.733866  ... -0.346856  0.810217  0.122420   \n",
              "1539  2.770884 -2.645318 -1.808720  ... -0.759064  1.692246 -4.835859   \n",
              "1774  2.747887 -0.905474 -2.723132  ... -0.507520 -0.192592 -1.286081   \n",
              "\n",
              "           293       294       295       296       297       298       299  \n",
              "3690 -0.882500 -0.908594  0.199075  0.005276 -0.235066 -1.001371  0.090167  \n",
              "2723 -2.127069 -1.372493  0.532247  0.305615 -0.330101 -2.151494 -0.522999  \n",
              "3906 -1.127698 -0.759109  1.024795 -0.654030 -0.899090 -1.832189 -0.253897  \n",
              "597  -0.180795 -0.653486  1.164179  0.082640 -2.015793 -1.736564  0.998680  \n",
              "3221 -1.549787 -0.257354  1.938733 -0.992737 -0.570889  0.535337 -2.471185  \n",
              "...        ...       ...       ...       ...       ...       ...       ...  \n",
              "4083 -2.061373 -0.620311  1.479742 -0.112325 -0.868052 -3.389005  0.997585  \n",
              "2464 -1.535628 -1.135469  0.852802  0.168035 -0.785042 -2.709204  1.218941  \n",
              "4546 -1.322629 -0.310991  1.012273  0.063987 -0.969087 -1.114301  0.101966  \n",
              "1539 -1.768168 -0.190996  1.973550 -0.754654 -0.437335  0.277399 -2.563190  \n",
              "1774 -2.777873 -0.828438  0.834104  0.443203 -0.881611 -0.603052 -1.249981  \n",
              "\n",
              "[3495 rows x 300 columns]"
            ],
            "text/html": [
              "\n",
              "  <div id=\"df-0e2d3283-5d70-4ab1-8275-d2352910a664\">\n",
              "    <div class=\"colab-df-container\">\n",
              "      <div>\n",
              "<style scoped>\n",
              "    .dataframe tbody tr th:only-of-type {\n",
              "        vertical-align: middle;\n",
              "    }\n",
              "\n",
              "    .dataframe tbody tr th {\n",
              "        vertical-align: top;\n",
              "    }\n",
              "\n",
              "    .dataframe thead th {\n",
              "        text-align: right;\n",
              "    }\n",
              "</style>\n",
              "<table border=\"1\" class=\"dataframe\">\n",
              "  <thead>\n",
              "    <tr style=\"text-align: right;\">\n",
              "      <th></th>\n",
              "      <th>0</th>\n",
              "      <th>1</th>\n",
              "      <th>2</th>\n",
              "      <th>3</th>\n",
              "      <th>4</th>\n",
              "      <th>5</th>\n",
              "      <th>6</th>\n",
              "      <th>7</th>\n",
              "      <th>8</th>\n",
              "      <th>9</th>\n",
              "      <th>...</th>\n",
              "      <th>290</th>\n",
              "      <th>291</th>\n",
              "      <th>292</th>\n",
              "      <th>293</th>\n",
              "      <th>294</th>\n",
              "      <th>295</th>\n",
              "      <th>296</th>\n",
              "      <th>297</th>\n",
              "      <th>298</th>\n",
              "      <th>299</th>\n",
              "    </tr>\n",
              "  </thead>\n",
              "  <tbody>\n",
              "    <tr>\n",
              "      <th>3690</th>\n",
              "      <td>-1.093464</td>\n",
              "      <td>0.150959</td>\n",
              "      <td>-0.470827</td>\n",
              "      <td>0.446290</td>\n",
              "      <td>1.591034</td>\n",
              "      <td>0.210351</td>\n",
              "      <td>1.155914</td>\n",
              "      <td>1.171861</td>\n",
              "      <td>-0.873711</td>\n",
              "      <td>-0.116693</td>\n",
              "      <td>...</td>\n",
              "      <td>0.397250</td>\n",
              "      <td>-0.098673</td>\n",
              "      <td>0.199353</td>\n",
              "      <td>-0.882500</td>\n",
              "      <td>-0.908594</td>\n",
              "      <td>0.199075</td>\n",
              "      <td>0.005276</td>\n",
              "      <td>-0.235066</td>\n",
              "      <td>-1.001371</td>\n",
              "      <td>0.090167</td>\n",
              "    </tr>\n",
              "    <tr>\n",
              "      <th>2723</th>\n",
              "      <td>-1.395096</td>\n",
              "      <td>-0.083411</td>\n",
              "      <td>-1.563870</td>\n",
              "      <td>-0.250608</td>\n",
              "      <td>3.019282</td>\n",
              "      <td>-0.956812</td>\n",
              "      <td>0.845551</td>\n",
              "      <td>2.102117</td>\n",
              "      <td>-0.074671</td>\n",
              "      <td>-1.066594</td>\n",
              "      <td>...</td>\n",
              "      <td>-0.079791</td>\n",
              "      <td>0.649738</td>\n",
              "      <td>1.653396</td>\n",
              "      <td>-2.127069</td>\n",
              "      <td>-1.372493</td>\n",
              "      <td>0.532247</td>\n",
              "      <td>0.305615</td>\n",
              "      <td>-0.330101</td>\n",
              "      <td>-2.151494</td>\n",
              "      <td>-0.522999</td>\n",
              "    </tr>\n",
              "    <tr>\n",
              "      <th>3906</th>\n",
              "      <td>-1.027020</td>\n",
              "      <td>0.369901</td>\n",
              "      <td>-1.035377</td>\n",
              "      <td>0.759155</td>\n",
              "      <td>3.098729</td>\n",
              "      <td>0.241150</td>\n",
              "      <td>0.888841</td>\n",
              "      <td>2.330466</td>\n",
              "      <td>-2.187844</td>\n",
              "      <td>-0.434040</td>\n",
              "      <td>...</td>\n",
              "      <td>-0.842515</td>\n",
              "      <td>0.294552</td>\n",
              "      <td>-0.267768</td>\n",
              "      <td>-1.127698</td>\n",
              "      <td>-0.759109</td>\n",
              "      <td>1.024795</td>\n",
              "      <td>-0.654030</td>\n",
              "      <td>-0.899090</td>\n",
              "      <td>-1.832189</td>\n",
              "      <td>-0.253897</td>\n",
              "    </tr>\n",
              "    <tr>\n",
              "      <th>597</th>\n",
              "      <td>-1.612821</td>\n",
              "      <td>0.399340</td>\n",
              "      <td>-1.285004</td>\n",
              "      <td>0.262963</td>\n",
              "      <td>3.471442</td>\n",
              "      <td>0.019753</td>\n",
              "      <td>0.594406</td>\n",
              "      <td>2.932092</td>\n",
              "      <td>-0.641279</td>\n",
              "      <td>-0.696450</td>\n",
              "      <td>...</td>\n",
              "      <td>0.503988</td>\n",
              "      <td>0.051172</td>\n",
              "      <td>0.005295</td>\n",
              "      <td>-0.180795</td>\n",
              "      <td>-0.653486</td>\n",
              "      <td>1.164179</td>\n",
              "      <td>0.082640</td>\n",
              "      <td>-2.015793</td>\n",
              "      <td>-1.736564</td>\n",
              "      <td>0.998680</td>\n",
              "    </tr>\n",
              "    <tr>\n",
              "      <th>3221</th>\n",
              "      <td>-2.246782</td>\n",
              "      <td>-0.607255</td>\n",
              "      <td>0.418808</td>\n",
              "      <td>3.996385</td>\n",
              "      <td>5.149291</td>\n",
              "      <td>-0.319265</td>\n",
              "      <td>1.713962</td>\n",
              "      <td>2.564169</td>\n",
              "      <td>-2.429966</td>\n",
              "      <td>-1.868245</td>\n",
              "      <td>...</td>\n",
              "      <td>-1.015065</td>\n",
              "      <td>1.720813</td>\n",
              "      <td>-4.086110</td>\n",
              "      <td>-1.549787</td>\n",
              "      <td>-0.257354</td>\n",
              "      <td>1.938733</td>\n",
              "      <td>-0.992737</td>\n",
              "      <td>-0.570889</td>\n",
              "      <td>0.535337</td>\n",
              "      <td>-2.471185</td>\n",
              "    </tr>\n",
              "    <tr>\n",
              "      <th>...</th>\n",
              "      <td>...</td>\n",
              "      <td>...</td>\n",
              "      <td>...</td>\n",
              "      <td>...</td>\n",
              "      <td>...</td>\n",
              "      <td>...</td>\n",
              "      <td>...</td>\n",
              "      <td>...</td>\n",
              "      <td>...</td>\n",
              "      <td>...</td>\n",
              "      <td>...</td>\n",
              "      <td>...</td>\n",
              "      <td>...</td>\n",
              "      <td>...</td>\n",
              "      <td>...</td>\n",
              "      <td>...</td>\n",
              "      <td>...</td>\n",
              "      <td>...</td>\n",
              "      <td>...</td>\n",
              "      <td>...</td>\n",
              "      <td>...</td>\n",
              "    </tr>\n",
              "    <tr>\n",
              "      <th>4083</th>\n",
              "      <td>-0.365352</td>\n",
              "      <td>1.416622</td>\n",
              "      <td>-1.986498</td>\n",
              "      <td>-0.806925</td>\n",
              "      <td>2.311720</td>\n",
              "      <td>0.659582</td>\n",
              "      <td>0.471825</td>\n",
              "      <td>2.842541</td>\n",
              "      <td>-2.402186</td>\n",
              "      <td>-0.008695</td>\n",
              "      <td>...</td>\n",
              "      <td>-0.141754</td>\n",
              "      <td>0.586322</td>\n",
              "      <td>1.022433</td>\n",
              "      <td>-2.061373</td>\n",
              "      <td>-0.620311</td>\n",
              "      <td>1.479742</td>\n",
              "      <td>-0.112325</td>\n",
              "      <td>-0.868052</td>\n",
              "      <td>-3.389005</td>\n",
              "      <td>0.997585</td>\n",
              "    </tr>\n",
              "    <tr>\n",
              "      <th>2464</th>\n",
              "      <td>-1.191597</td>\n",
              "      <td>0.710863</td>\n",
              "      <td>-1.454548</td>\n",
              "      <td>-1.091293</td>\n",
              "      <td>1.090083</td>\n",
              "      <td>0.278768</td>\n",
              "      <td>0.400789</td>\n",
              "      <td>2.658662</td>\n",
              "      <td>-1.829957</td>\n",
              "      <td>-0.340416</td>\n",
              "      <td>...</td>\n",
              "      <td>0.872361</td>\n",
              "      <td>0.094268</td>\n",
              "      <td>0.823189</td>\n",
              "      <td>-1.535628</td>\n",
              "      <td>-1.135469</td>\n",
              "      <td>0.852802</td>\n",
              "      <td>0.168035</td>\n",
              "      <td>-0.785042</td>\n",
              "      <td>-2.709204</td>\n",
              "      <td>1.218941</td>\n",
              "    </tr>\n",
              "    <tr>\n",
              "      <th>4546</th>\n",
              "      <td>-0.005675</td>\n",
              "      <td>-0.769908</td>\n",
              "      <td>1.041978</td>\n",
              "      <td>0.204251</td>\n",
              "      <td>2.713972</td>\n",
              "      <td>-0.278652</td>\n",
              "      <td>0.794353</td>\n",
              "      <td>0.968482</td>\n",
              "      <td>-1.706209</td>\n",
              "      <td>-0.733866</td>\n",
              "      <td>...</td>\n",
              "      <td>-0.346856</td>\n",
              "      <td>0.810217</td>\n",
              "      <td>0.122420</td>\n",
              "      <td>-1.322629</td>\n",
              "      <td>-0.310991</td>\n",
              "      <td>1.012273</td>\n",
              "      <td>0.063987</td>\n",
              "      <td>-0.969087</td>\n",
              "      <td>-1.114301</td>\n",
              "      <td>0.101966</td>\n",
              "    </tr>\n",
              "    <tr>\n",
              "      <th>1539</th>\n",
              "      <td>-2.048110</td>\n",
              "      <td>-0.335920</td>\n",
              "      <td>0.890064</td>\n",
              "      <td>4.173786</td>\n",
              "      <td>4.805041</td>\n",
              "      <td>-0.416322</td>\n",
              "      <td>1.959067</td>\n",
              "      <td>2.770884</td>\n",
              "      <td>-2.645318</td>\n",
              "      <td>-1.808720</td>\n",
              "      <td>...</td>\n",
              "      <td>-0.759064</td>\n",
              "      <td>1.692246</td>\n",
              "      <td>-4.835859</td>\n",
              "      <td>-1.768168</td>\n",
              "      <td>-0.190996</td>\n",
              "      <td>1.973550</td>\n",
              "      <td>-0.754654</td>\n",
              "      <td>-0.437335</td>\n",
              "      <td>0.277399</td>\n",
              "      <td>-2.563190</td>\n",
              "    </tr>\n",
              "    <tr>\n",
              "      <th>1774</th>\n",
              "      <td>-2.248234</td>\n",
              "      <td>-3.113052</td>\n",
              "      <td>0.632225</td>\n",
              "      <td>0.758293</td>\n",
              "      <td>3.269458</td>\n",
              "      <td>-1.037167</td>\n",
              "      <td>-0.001228</td>\n",
              "      <td>2.747887</td>\n",
              "      <td>-0.905474</td>\n",
              "      <td>-2.723132</td>\n",
              "      <td>...</td>\n",
              "      <td>-0.507520</td>\n",
              "      <td>-0.192592</td>\n",
              "      <td>-1.286081</td>\n",
              "      <td>-2.777873</td>\n",
              "      <td>-0.828438</td>\n",
              "      <td>0.834104</td>\n",
              "      <td>0.443203</td>\n",
              "      <td>-0.881611</td>\n",
              "      <td>-0.603052</td>\n",
              "      <td>-1.249981</td>\n",
              "    </tr>\n",
              "  </tbody>\n",
              "</table>\n",
              "<p>3495 rows × 300 columns</p>\n",
              "</div>\n",
              "      <button class=\"colab-df-convert\" onclick=\"convertToInteractive('df-0e2d3283-5d70-4ab1-8275-d2352910a664')\"\n",
              "              title=\"Convert this dataframe to an interactive table.\"\n",
              "              style=\"display:none;\">\n",
              "        \n",
              "  <svg xmlns=\"http://www.w3.org/2000/svg\" height=\"24px\"viewBox=\"0 0 24 24\"\n",
              "       width=\"24px\">\n",
              "    <path d=\"M0 0h24v24H0V0z\" fill=\"none\"/>\n",
              "    <path d=\"M18.56 5.44l.94 2.06.94-2.06 2.06-.94-2.06-.94-.94-2.06-.94 2.06-2.06.94zm-11 1L8.5 8.5l.94-2.06 2.06-.94-2.06-.94L8.5 2.5l-.94 2.06-2.06.94zm10 10l.94 2.06.94-2.06 2.06-.94-2.06-.94-.94-2.06-.94 2.06-2.06.94z\"/><path d=\"M17.41 7.96l-1.37-1.37c-.4-.4-.92-.59-1.43-.59-.52 0-1.04.2-1.43.59L10.3 9.45l-7.72 7.72c-.78.78-.78 2.05 0 2.83L4 21.41c.39.39.9.59 1.41.59.51 0 1.02-.2 1.41-.59l7.78-7.78 2.81-2.81c.8-.78.8-2.07 0-2.86zM5.41 20L4 18.59l7.72-7.72 1.47 1.35L5.41 20z\"/>\n",
              "  </svg>\n",
              "      </button>\n",
              "      \n",
              "  <style>\n",
              "    .colab-df-container {\n",
              "      display:flex;\n",
              "      flex-wrap:wrap;\n",
              "      gap: 12px;\n",
              "    }\n",
              "\n",
              "    .colab-df-convert {\n",
              "      background-color: #E8F0FE;\n",
              "      border: none;\n",
              "      border-radius: 50%;\n",
              "      cursor: pointer;\n",
              "      display: none;\n",
              "      fill: #1967D2;\n",
              "      height: 32px;\n",
              "      padding: 0 0 0 0;\n",
              "      width: 32px;\n",
              "    }\n",
              "\n",
              "    .colab-df-convert:hover {\n",
              "      background-color: #E2EBFA;\n",
              "      box-shadow: 0px 1px 2px rgba(60, 64, 67, 0.3), 0px 1px 3px 1px rgba(60, 64, 67, 0.15);\n",
              "      fill: #174EA6;\n",
              "    }\n",
              "\n",
              "    [theme=dark] .colab-df-convert {\n",
              "      background-color: #3B4455;\n",
              "      fill: #D2E3FC;\n",
              "    }\n",
              "\n",
              "    [theme=dark] .colab-df-convert:hover {\n",
              "      background-color: #434B5C;\n",
              "      box-shadow: 0px 1px 3px 1px rgba(0, 0, 0, 0.15);\n",
              "      filter: drop-shadow(0px 1px 2px rgba(0, 0, 0, 0.3));\n",
              "      fill: #FFFFFF;\n",
              "    }\n",
              "  </style>\n",
              "\n",
              "      <script>\n",
              "        const buttonEl =\n",
              "          document.querySelector('#df-0e2d3283-5d70-4ab1-8275-d2352910a664 button.colab-df-convert');\n",
              "        buttonEl.style.display =\n",
              "          google.colab.kernel.accessAllowed ? 'block' : 'none';\n",
              "\n",
              "        async function convertToInteractive(key) {\n",
              "          const element = document.querySelector('#df-0e2d3283-5d70-4ab1-8275-d2352910a664');\n",
              "          const dataTable =\n",
              "            await google.colab.kernel.invokeFunction('convertToInteractive',\n",
              "                                                     [key], {});\n",
              "          if (!dataTable) return;\n",
              "\n",
              "          const docLinkHtml = 'Like what you see? Visit the ' +\n",
              "            '<a target=\"_blank\" href=https://colab.research.google.com/notebooks/data_table.ipynb>data table notebook</a>'\n",
              "            + ' to learn more about interactive tables.';\n",
              "          element.innerHTML = '';\n",
              "          dataTable['output_type'] = 'display_data';\n",
              "          await google.colab.output.renderOutput(dataTable, element);\n",
              "          const docLink = document.createElement('div');\n",
              "          docLink.innerHTML = docLinkHtml;\n",
              "          element.appendChild(docLink);\n",
              "        }\n",
              "      </script>\n",
              "    </div>\n",
              "  </div>\n",
              "  "
            ]
          },
          "metadata": {},
          "execution_count": 235
        }
      ]
    },
    {
      "cell_type": "markdown",
      "source": [
        "###A Simple Model - Naive Bayes"
      ],
      "metadata": {
        "id": "dfKwoX2wkze3"
      }
    },
    {
      "cell_type": "code",
      "source": [
        "np.random.seed(4938) #My Student Number\n",
        "model_NB_V2 = KNeighborsClassifier()"
      ],
      "metadata": {
        "id": "zZb6ZvSskyh8"
      },
      "execution_count": 341,
      "outputs": []
    },
    {
      "cell_type": "code",
      "source": [
        "model_NB_V2.fit(X_train_W2V, y_train_W2V)"
      ],
      "metadata": {
        "id": "0Orj8vFblCuv",
        "outputId": "742fa445-7dae-42eb-80f0-d26aefaf539a",
        "colab": {
          "base_uri": "https://localhost:8080/",
          "height": 75
        }
      },
      "execution_count": 342,
      "outputs": [
        {
          "output_type": "execute_result",
          "data": {
            "text/plain": [
              "KNeighborsClassifier()"
            ],
            "text/html": [
              "<style>#sk-container-id-8 {color: black;background-color: white;}#sk-container-id-8 pre{padding: 0;}#sk-container-id-8 div.sk-toggleable {background-color: white;}#sk-container-id-8 label.sk-toggleable__label {cursor: pointer;display: block;width: 100%;margin-bottom: 0;padding: 0.3em;box-sizing: border-box;text-align: center;}#sk-container-id-8 label.sk-toggleable__label-arrow:before {content: \"▸\";float: left;margin-right: 0.25em;color: #696969;}#sk-container-id-8 label.sk-toggleable__label-arrow:hover:before {color: black;}#sk-container-id-8 div.sk-estimator:hover label.sk-toggleable__label-arrow:before {color: black;}#sk-container-id-8 div.sk-toggleable__content {max-height: 0;max-width: 0;overflow: hidden;text-align: left;background-color: #f0f8ff;}#sk-container-id-8 div.sk-toggleable__content pre {margin: 0.2em;color: black;border-radius: 0.25em;background-color: #f0f8ff;}#sk-container-id-8 input.sk-toggleable__control:checked~div.sk-toggleable__content {max-height: 200px;max-width: 100%;overflow: auto;}#sk-container-id-8 input.sk-toggleable__control:checked~label.sk-toggleable__label-arrow:before {content: \"▾\";}#sk-container-id-8 div.sk-estimator input.sk-toggleable__control:checked~label.sk-toggleable__label {background-color: #d4ebff;}#sk-container-id-8 div.sk-label input.sk-toggleable__control:checked~label.sk-toggleable__label {background-color: #d4ebff;}#sk-container-id-8 input.sk-hidden--visually {border: 0;clip: rect(1px 1px 1px 1px);clip: rect(1px, 1px, 1px, 1px);height: 1px;margin: -1px;overflow: hidden;padding: 0;position: absolute;width: 1px;}#sk-container-id-8 div.sk-estimator {font-family: monospace;background-color: #f0f8ff;border: 1px dotted black;border-radius: 0.25em;box-sizing: border-box;margin-bottom: 0.5em;}#sk-container-id-8 div.sk-estimator:hover {background-color: #d4ebff;}#sk-container-id-8 div.sk-parallel-item::after {content: \"\";width: 100%;border-bottom: 1px solid gray;flex-grow: 1;}#sk-container-id-8 div.sk-label:hover label.sk-toggleable__label {background-color: #d4ebff;}#sk-container-id-8 div.sk-serial::before {content: \"\";position: absolute;border-left: 1px solid gray;box-sizing: border-box;top: 0;bottom: 0;left: 50%;z-index: 0;}#sk-container-id-8 div.sk-serial {display: flex;flex-direction: column;align-items: center;background-color: white;padding-right: 0.2em;padding-left: 0.2em;position: relative;}#sk-container-id-8 div.sk-item {position: relative;z-index: 1;}#sk-container-id-8 div.sk-parallel {display: flex;align-items: stretch;justify-content: center;background-color: white;position: relative;}#sk-container-id-8 div.sk-item::before, #sk-container-id-8 div.sk-parallel-item::before {content: \"\";position: absolute;border-left: 1px solid gray;box-sizing: border-box;top: 0;bottom: 0;left: 50%;z-index: -1;}#sk-container-id-8 div.sk-parallel-item {display: flex;flex-direction: column;z-index: 1;position: relative;background-color: white;}#sk-container-id-8 div.sk-parallel-item:first-child::after {align-self: flex-end;width: 50%;}#sk-container-id-8 div.sk-parallel-item:last-child::after {align-self: flex-start;width: 50%;}#sk-container-id-8 div.sk-parallel-item:only-child::after {width: 0;}#sk-container-id-8 div.sk-dashed-wrapped {border: 1px dashed gray;margin: 0 0.4em 0.5em 0.4em;box-sizing: border-box;padding-bottom: 0.4em;background-color: white;}#sk-container-id-8 div.sk-label label {font-family: monospace;font-weight: bold;display: inline-block;line-height: 1.2em;}#sk-container-id-8 div.sk-label-container {text-align: center;}#sk-container-id-8 div.sk-container {/* jupyter's `normalize.less` sets `[hidden] { display: none; }` but bootstrap.min.css set `[hidden] { display: none !important; }` so we also need the `!important` here to be able to override the default hidden behavior on the sphinx rendered scikit-learn.org. See: https://github.com/scikit-learn/scikit-learn/issues/21755 */display: inline-block !important;position: relative;}#sk-container-id-8 div.sk-text-repr-fallback {display: none;}</style><div id=\"sk-container-id-8\" class=\"sk-top-container\"><div class=\"sk-text-repr-fallback\"><pre>KNeighborsClassifier()</pre><b>In a Jupyter environment, please rerun this cell to show the HTML representation or trust the notebook. <br />On GitHub, the HTML representation is unable to render, please try loading this page with nbviewer.org.</b></div><div class=\"sk-container\" hidden><div class=\"sk-item\"><div class=\"sk-estimator sk-toggleable\"><input class=\"sk-toggleable__control sk-hidden--visually\" id=\"sk-estimator-id-8\" type=\"checkbox\" checked><label for=\"sk-estimator-id-8\" class=\"sk-toggleable__label sk-toggleable__label-arrow\">KNeighborsClassifier</label><div class=\"sk-toggleable__content\"><pre>KNeighborsClassifier()</pre></div></div></div></div></div>"
            ]
          },
          "metadata": {},
          "execution_count": 342
        }
      ]
    },
    {
      "cell_type": "markdown",
      "source": [
        "###Evaluating Model Performance"
      ],
      "metadata": {
        "id": "fwknizLzkx7u"
      }
    },
    {
      "cell_type": "markdown",
      "source": [
        "###Assess the performance of the model on the test dataset"
      ],
      "metadata": {
        "id": "CZGwTvgTkx1p"
      }
    },
    {
      "cell_type": "code",
      "source": [
        "# Make a set of predictions for the validation data\n",
        "y_pred_W2V = model_NB_V2.predict(X_test_W2V)\n",
        "\n",
        "# Print performance details\n",
        "accuracy = sklearn.metrics.accuracy_score(y_test_W2V, y_pred_W2V) # , normalize=True, sample_weight=None\n",
        "print(\"Accuracy: \" +  str(accuracy))\n",
        "print(sklearn.metrics.classification_report(y_test_W2V, y_pred_W2V))\n",
        "\n",
        "# Print nicer confusion matrix\n",
        "print(\"Confusion Matrix\")\n",
        "pd.crosstab(y_test_W2V, y_pred_W2V, rownames=['True'], colnames=['Predicted'], margins=True)"
      ],
      "metadata": {
        "id": "ZdXTkEl4lbFq",
        "outputId": "24e10b87-5a66-43a6-c4ef-0a66bb63f726",
        "colab": {
          "base_uri": "https://localhost:8080/",
          "height": 378
        }
      },
      "execution_count": 343,
      "outputs": [
        {
          "output_type": "stream",
          "name": "stdout",
          "text": [
            "Accuracy: 0.9192795196797865\n",
            "              precision    recall  f1-score   support\n",
            "\n",
            "         ham       0.94      0.95      0.94      1058\n",
            "        spam       0.87      0.86      0.86       441\n",
            "\n",
            "    accuracy                           0.92      1499\n",
            "   macro avg       0.90      0.90      0.90      1499\n",
            "weighted avg       0.92      0.92      0.92      1499\n",
            "\n",
            "Confusion Matrix\n"
          ]
        },
        {
          "output_type": "execute_result",
          "data": {
            "text/plain": [
              "Predicted   ham  spam   All\n",
              "True                       \n",
              "ham        1000    58  1058\n",
              "spam         63   378   441\n",
              "All        1063   436  1499"
            ],
            "text/html": [
              "\n",
              "  <div id=\"df-d139fa27-3eb9-44ee-a422-a60ef6fb0461\">\n",
              "    <div class=\"colab-df-container\">\n",
              "      <div>\n",
              "<style scoped>\n",
              "    .dataframe tbody tr th:only-of-type {\n",
              "        vertical-align: middle;\n",
              "    }\n",
              "\n",
              "    .dataframe tbody tr th {\n",
              "        vertical-align: top;\n",
              "    }\n",
              "\n",
              "    .dataframe thead th {\n",
              "        text-align: right;\n",
              "    }\n",
              "</style>\n",
              "<table border=\"1\" class=\"dataframe\">\n",
              "  <thead>\n",
              "    <tr style=\"text-align: right;\">\n",
              "      <th>Predicted</th>\n",
              "      <th>ham</th>\n",
              "      <th>spam</th>\n",
              "      <th>All</th>\n",
              "    </tr>\n",
              "    <tr>\n",
              "      <th>True</th>\n",
              "      <th></th>\n",
              "      <th></th>\n",
              "      <th></th>\n",
              "    </tr>\n",
              "  </thead>\n",
              "  <tbody>\n",
              "    <tr>\n",
              "      <th>ham</th>\n",
              "      <td>1000</td>\n",
              "      <td>58</td>\n",
              "      <td>1058</td>\n",
              "    </tr>\n",
              "    <tr>\n",
              "      <th>spam</th>\n",
              "      <td>63</td>\n",
              "      <td>378</td>\n",
              "      <td>441</td>\n",
              "    </tr>\n",
              "    <tr>\n",
              "      <th>All</th>\n",
              "      <td>1063</td>\n",
              "      <td>436</td>\n",
              "      <td>1499</td>\n",
              "    </tr>\n",
              "  </tbody>\n",
              "</table>\n",
              "</div>\n",
              "      <button class=\"colab-df-convert\" onclick=\"convertToInteractive('df-d139fa27-3eb9-44ee-a422-a60ef6fb0461')\"\n",
              "              title=\"Convert this dataframe to an interactive table.\"\n",
              "              style=\"display:none;\">\n",
              "        \n",
              "  <svg xmlns=\"http://www.w3.org/2000/svg\" height=\"24px\"viewBox=\"0 0 24 24\"\n",
              "       width=\"24px\">\n",
              "    <path d=\"M0 0h24v24H0V0z\" fill=\"none\"/>\n",
              "    <path d=\"M18.56 5.44l.94 2.06.94-2.06 2.06-.94-2.06-.94-.94-2.06-.94 2.06-2.06.94zm-11 1L8.5 8.5l.94-2.06 2.06-.94-2.06-.94L8.5 2.5l-.94 2.06-2.06.94zm10 10l.94 2.06.94-2.06 2.06-.94-2.06-.94-.94-2.06-.94 2.06-2.06.94z\"/><path d=\"M17.41 7.96l-1.37-1.37c-.4-.4-.92-.59-1.43-.59-.52 0-1.04.2-1.43.59L10.3 9.45l-7.72 7.72c-.78.78-.78 2.05 0 2.83L4 21.41c.39.39.9.59 1.41.59.51 0 1.02-.2 1.41-.59l7.78-7.78 2.81-2.81c.8-.78.8-2.07 0-2.86zM5.41 20L4 18.59l7.72-7.72 1.47 1.35L5.41 20z\"/>\n",
              "  </svg>\n",
              "      </button>\n",
              "      \n",
              "  <style>\n",
              "    .colab-df-container {\n",
              "      display:flex;\n",
              "      flex-wrap:wrap;\n",
              "      gap: 12px;\n",
              "    }\n",
              "\n",
              "    .colab-df-convert {\n",
              "      background-color: #E8F0FE;\n",
              "      border: none;\n",
              "      border-radius: 50%;\n",
              "      cursor: pointer;\n",
              "      display: none;\n",
              "      fill: #1967D2;\n",
              "      height: 32px;\n",
              "      padding: 0 0 0 0;\n",
              "      width: 32px;\n",
              "    }\n",
              "\n",
              "    .colab-df-convert:hover {\n",
              "      background-color: #E2EBFA;\n",
              "      box-shadow: 0px 1px 2px rgba(60, 64, 67, 0.3), 0px 1px 3px 1px rgba(60, 64, 67, 0.15);\n",
              "      fill: #174EA6;\n",
              "    }\n",
              "\n",
              "    [theme=dark] .colab-df-convert {\n",
              "      background-color: #3B4455;\n",
              "      fill: #D2E3FC;\n",
              "    }\n",
              "\n",
              "    [theme=dark] .colab-df-convert:hover {\n",
              "      background-color: #434B5C;\n",
              "      box-shadow: 0px 1px 3px 1px rgba(0, 0, 0, 0.15);\n",
              "      filter: drop-shadow(0px 1px 2px rgba(0, 0, 0, 0.3));\n",
              "      fill: #FFFFFF;\n",
              "    }\n",
              "  </style>\n",
              "\n",
              "      <script>\n",
              "        const buttonEl =\n",
              "          document.querySelector('#df-d139fa27-3eb9-44ee-a422-a60ef6fb0461 button.colab-df-convert');\n",
              "        buttonEl.style.display =\n",
              "          google.colab.kernel.accessAllowed ? 'block' : 'none';\n",
              "\n",
              "        async function convertToInteractive(key) {\n",
              "          const element = document.querySelector('#df-d139fa27-3eb9-44ee-a422-a60ef6fb0461');\n",
              "          const dataTable =\n",
              "            await google.colab.kernel.invokeFunction('convertToInteractive',\n",
              "                                                     [key], {});\n",
              "          if (!dataTable) return;\n",
              "\n",
              "          const docLinkHtml = 'Like what you see? Visit the ' +\n",
              "            '<a target=\"_blank\" href=https://colab.research.google.com/notebooks/data_table.ipynb>data table notebook</a>'\n",
              "            + ' to learn more about interactive tables.';\n",
              "          element.innerHTML = '';\n",
              "          dataTable['output_type'] = 'display_data';\n",
              "          await google.colab.output.renderOutput(dataTable, element);\n",
              "          const docLink = document.createElement('div');\n",
              "          docLink.innerHTML = docLinkHtml;\n",
              "          element.appendChild(docLink);\n",
              "        }\n",
              "      </script>\n",
              "    </div>\n",
              "  </div>\n",
              "  "
            ]
          },
          "metadata": {},
          "execution_count": 343
        }
      ]
    },
    {
      "cell_type": "code",
      "source": [
        "disp = ConfusionMatrixDisplay.from_estimator(model_NB_V2, X_test_W2V, y_test_W2V)\n",
        "plt.title(\"Confusion Matrix - Naive B. W2V\")\n",
        "plt.show()"
      ],
      "metadata": {
        "colab": {
          "base_uri": "https://localhost:8080/",
          "height": 363
        },
        "id": "LHS2mNYrwZRL",
        "outputId": "97ab3694-139f-4373-fdd4-de1273d0d116"
      },
      "execution_count": 344,
      "outputs": [
        {
          "output_type": "display_data",
          "data": {
            "text/plain": [
              "<Figure size 400x400 with 2 Axes>"
            ],
            "image/png": "[encoded data removed]"
          },
          "metadata": {}
        }
      ]
    },
    {
      "cell_type": "code",
      "source": [
        "# Calculate the accuracy of the predictions\n",
        "accuracy = accuracy_score(y_test_W2V, y_pred_W2V)\n",
        "\n",
        "# Print the accuracy\n",
        "print(\"Accuracy Naive Bayes Using Word2Vec: {:.2f}%\".format(accuracy * 100))"
      ],
      "metadata": {
        "colab": {
          "base_uri": "https://localhost:8080/"
        },
        "id": "iYFvaYmMiWsL",
        "outputId": "08ed02ff-87e5-4fe7-e0b5-c1d060deeca1"
      },
      "execution_count": 345,
      "outputs": [
        {
          "output_type": "stream",
          "name": "stdout",
          "text": [
            "Accuracy Naive Bayes Using Word2Vec: 91.93%\n"
          ]
        }
      ]
    },
    {
      "cell_type": "code",
      "source": [
        "# Predict the probabilities of the test set instances belonging to each class\n",
        "y_proba_W2V = model_NB_V2.predict_proba(X_test_W2V)\n",
        "\n",
        "# Calculate the ROC AUC score\n",
        "roc_auc = roc_auc_score(y_test_W2V, y_proba_W2V[:, 1])\n",
        "print('ROC AUC:', roc_auc)"
      ],
      "metadata": {
        "colab": {
          "base_uri": "https://localhost:8080/"
        },
        "id": "j-7iIuMpyZra",
        "outputId": "059716a2-00c1-4059-b27b-09b7821f5ef4"
      },
      "execution_count": 346,
      "outputs": [
        {
          "output_type": "stream",
          "name": "stdout",
          "text": [
            "ROC AUC: 0.9659917527187308\n"
          ]
        }
      ]
    },
    {
      "cell_type": "code",
      "source": [
        "# Convert string labels to binary labels\n",
        "le = LabelEncoder()\n",
        "y_test_bin = le.fit_transform(y_test_W2V)\n",
        "lr_W2V_proba = model_NB_V2.predict_proba(X_test_W2V)[:, 1]\n",
        "lr_W2V_proba\n",
        "#lr_proba_int = lr_proba.astype(int)\n",
        "lr_fpr, lr_tpr, _ = roc_curve(y_test_bin, lr_W2V_proba)\n",
        "plt.plot(lr_fpr, lr_tpr, label='Naive Bayes')\n",
        "plt.title('ROC Curve Naive Bayes - Word2Vec')"
      ],
      "metadata": {
        "colab": {
          "base_uri": "https://localhost:8080/",
          "height": 409
        },
        "id": "iIkNKHcRyxX3",
        "outputId": "7f1225af-9585-41df-eaca-cdd2a164aef7"
      },
      "execution_count": 347,
      "outputs": [
        {
          "output_type": "execute_result",
          "data": {
            "text/plain": [
              "Text(0.5, 1.0, 'ROC Curve Naive Bayes - Word2Vec')"
            ]
          },
          "metadata": {},
          "execution_count": 347
        },
        {
          "output_type": "display_data",
          "data": {
            "text/plain": [
              "<Figure size 400x400 with 1 Axes>"
            ],
            "image/png": "[encoded data removed]"
          },
          "metadata": {}
        }
      ]
    },
    {
      "cell_type": "markdown",
      "source": [
        "###A Simple Model - Logistic Regression"
      ],
      "metadata": {
        "id": "FwlyEVwrxnNC"
      }
    },
    {
      "cell_type": "code",
      "source": [
        "# Train a logistic regression model - Word2Vec\n",
        "lr_W2V = LogisticRegression()\n",
        "lr_W2V.fit(X_train_W2V, y_train_W2V)"
      ],
      "metadata": {
        "id": "MdtmgdFRvfWe",
        "outputId": "49a3a6fe-86de-4a48-984f-7b2ca7f37bda",
        "colab": {
          "base_uri": "https://localhost:8080/",
          "height": 223
        }
      },
      "execution_count": 348,
      "outputs": [
        {
          "output_type": "stream",
          "name": "stderr",
          "text": [
            "/usr/local/lib/python3.9/dist-packages/sklearn/linear_model/_logistic.py:458: ConvergenceWarning: lbfgs failed to converge (status=1):\n",
            "STOP: TOTAL NO. of ITERATIONS REACHED LIMIT.\n",
            "\n",
            "Increase the number of iterations (max_iter) or scale the data as shown in:\n",
            "    https://scikit-learn.org/stable/modules/preprocessing.html\n",
            "Please also refer to the documentation for alternative solver options:\n",
            "    https://scikit-learn.org/stable/modules/linear_model.html#logistic-regression\n",
            "  n_iter_i = _check_optimize_result(\n"
          ]
        },
        {
          "output_type": "execute_result",
          "data": {
            "text/plain": [
              "LogisticRegression()"
            ],
            "text/html": [
              "<style>#sk-container-id-9 {color: black;background-color: white;}#sk-container-id-9 pre{padding: 0;}#sk-container-id-9 div.sk-toggleable {background-color: white;}#sk-container-id-9 label.sk-toggleable__label {cursor: pointer;display: block;width: 100%;margin-bottom: 0;padding: 0.3em;box-sizing: border-box;text-align: center;}#sk-container-id-9 label.sk-toggleable__label-arrow:before {content: \"▸\";float: left;margin-right: 0.25em;color: #696969;}#sk-container-id-9 label.sk-toggleable__label-arrow:hover:before {color: black;}#sk-container-id-9 div.sk-estimator:hover label.sk-toggleable__label-arrow:before {color: black;}#sk-container-id-9 div.sk-toggleable__content {max-height: 0;max-width: 0;overflow: hidden;text-align: left;background-color: #f0f8ff;}#sk-container-id-9 div.sk-toggleable__content pre {margin: 0.2em;color: black;border-radius: 0.25em;background-color: #f0f8ff;}#sk-container-id-9 input.sk-toggleable__control:checked~div.sk-toggleable__content {max-height: 200px;max-width: 100%;overflow: auto;}#sk-container-id-9 input.sk-toggleable__control:checked~label.sk-toggleable__label-arrow:before {content: \"▾\";}#sk-container-id-9 div.sk-estimator input.sk-toggleable__control:checked~label.sk-toggleable__label {background-color: #d4ebff;}#sk-container-id-9 div.sk-label input.sk-toggleable__control:checked~label.sk-toggleable__label {background-color: #d4ebff;}#sk-container-id-9 input.sk-hidden--visually {border: 0;clip: rect(1px 1px 1px 1px);clip: rect(1px, 1px, 1px, 1px);height: 1px;margin: -1px;overflow: hidden;padding: 0;position: absolute;width: 1px;}#sk-container-id-9 div.sk-estimator {font-family: monospace;background-color: #f0f8ff;border: 1px dotted black;border-radius: 0.25em;box-sizing: border-box;margin-bottom: 0.5em;}#sk-container-id-9 div.sk-estimator:hover {background-color: #d4ebff;}#sk-container-id-9 div.sk-parallel-item::after {content: \"\";width: 100%;border-bottom: 1px solid gray;flex-grow: 1;}#sk-container-id-9 div.sk-label:hover label.sk-toggleable__label {background-color: #d4ebff;}#sk-container-id-9 div.sk-serial::before {content: \"\";position: absolute;border-left: 1px solid gray;box-sizing: border-box;top: 0;bottom: 0;left: 50%;z-index: 0;}#sk-container-id-9 div.sk-serial {display: flex;flex-direction: column;align-items: center;background-color: white;padding-right: 0.2em;padding-left: 0.2em;position: relative;}#sk-container-id-9 div.sk-item {position: relative;z-index: 1;}#sk-container-id-9 div.sk-parallel {display: flex;align-items: stretch;justify-content: center;background-color: white;position: relative;}#sk-container-id-9 div.sk-item::before, #sk-container-id-9 div.sk-parallel-item::before {content: \"\";position: absolute;border-left: 1px solid gray;box-sizing: border-box;top: 0;bottom: 0;left: 50%;z-index: -1;}#sk-container-id-9 div.sk-parallel-item {display: flex;flex-direction: column;z-index: 1;position: relative;background-color: white;}#sk-container-id-9 div.sk-parallel-item:first-child::after {align-self: flex-end;width: 50%;}#sk-container-id-9 div.sk-parallel-item:last-child::after {align-self: flex-start;width: 50%;}#sk-container-id-9 div.sk-parallel-item:only-child::after {width: 0;}#sk-container-id-9 div.sk-dashed-wrapped {border: 1px dashed gray;margin: 0 0.4em 0.5em 0.4em;box-sizing: border-box;padding-bottom: 0.4em;background-color: white;}#sk-container-id-9 div.sk-label label {font-family: monospace;font-weight: bold;display: inline-block;line-height: 1.2em;}#sk-container-id-9 div.sk-label-container {text-align: center;}#sk-container-id-9 div.sk-container {/* jupyter's `normalize.less` sets `[hidden] { display: none; }` but bootstrap.min.css set `[hidden] { display: none !important; }` so we also need the `!important` here to be able to override the default hidden behavior on the sphinx rendered scikit-learn.org. See: https://github.com/scikit-learn/scikit-learn/issues/21755 */display: inline-block !important;position: relative;}#sk-container-id-9 div.sk-text-repr-fallback {display: none;}</style><div id=\"sk-container-id-9\" class=\"sk-top-container\"><div class=\"sk-text-repr-fallback\"><pre>LogisticRegression()</pre><b>In a Jupyter environment, please rerun this cell to show the HTML representation or trust the notebook. <br />On GitHub, the HTML representation is unable to render, please try loading this page with nbviewer.org.</b></div><div class=\"sk-container\" hidden><div class=\"sk-item\"><div class=\"sk-estimator sk-toggleable\"><input class=\"sk-toggleable__control sk-hidden--visually\" id=\"sk-estimator-id-9\" type=\"checkbox\" checked><label for=\"sk-estimator-id-9\" class=\"sk-toggleable__label sk-toggleable__label-arrow\">LogisticRegression</label><div class=\"sk-toggleable__content\"><pre>LogisticRegression()</pre></div></div></div></div></div>"
            ]
          },
          "metadata": {},
          "execution_count": 348
        }
      ]
    },
    {
      "cell_type": "code",
      "source": [
        "# Evaluate the trained model on the test set\n",
        "y_pred_W2V = lr_W2V.predict(X_test_W2V)\n",
        "accuracy = accuracy_score(y_test_W2V, y_pred_W2V)\n",
        "print('Accuracy:', accuracy)\n",
        "\n",
        "\n",
        "# Print nicer confusion matrix\n",
        "print(\"Confusion Matrix\")\n",
        "pd.crosstab(y_test_W2V, y_pred_W2V, rownames=['True'], colnames=['Predicted'], margins=True)"
      ],
      "metadata": {
        "id": "-oVxWzp8vhvN",
        "outputId": "5e63ebe3-b601-4e15-81ff-80f5bafb1833",
        "colab": {
          "base_uri": "https://localhost:8080/",
          "height": 212
        }
      },
      "execution_count": 349,
      "outputs": [
        {
          "output_type": "stream",
          "name": "stdout",
          "text": [
            "Accuracy: 0.9606404269513009\n",
            "Confusion Matrix\n"
          ]
        },
        {
          "output_type": "execute_result",
          "data": {
            "text/plain": [
              "Predicted   ham  spam   All\n",
              "True                       \n",
              "ham        1029    29  1058\n",
              "spam         30   411   441\n",
              "All        1059   440  1499"
            ],
            "text/html": [
              "\n",
              "  <div id=\"df-60e52469-b02c-44fb-bded-7d3ab33b7a15\">\n",
              "    <div class=\"colab-df-container\">\n",
              "      <div>\n",
              "<style scoped>\n",
              "    .dataframe tbody tr th:only-of-type {\n",
              "        vertical-align: middle;\n",
              "    }\n",
              "\n",
              "    .dataframe tbody tr th {\n",
              "        vertical-align: top;\n",
              "    }\n",
              "\n",
              "    .dataframe thead th {\n",
              "        text-align: right;\n",
              "    }\n",
              "</style>\n",
              "<table border=\"1\" class=\"dataframe\">\n",
              "  <thead>\n",
              "    <tr style=\"text-align: right;\">\n",
              "      <th>Predicted</th>\n",
              "      <th>ham</th>\n",
              "      <th>spam</th>\n",
              "      <th>All</th>\n",
              "    </tr>\n",
              "    <tr>\n",
              "      <th>True</th>\n",
              "      <th></th>\n",
              "      <th></th>\n",
              "      <th></th>\n",
              "    </tr>\n",
              "  </thead>\n",
              "  <tbody>\n",
              "    <tr>\n",
              "      <th>ham</th>\n",
              "      <td>1029</td>\n",
              "      <td>29</td>\n",
              "      <td>1058</td>\n",
              "    </tr>\n",
              "    <tr>\n",
              "      <th>spam</th>\n",
              "      <td>30</td>\n",
              "      <td>411</td>\n",
              "      <td>441</td>\n",
              "    </tr>\n",
              "    <tr>\n",
              "      <th>All</th>\n",
              "      <td>1059</td>\n",
              "      <td>440</td>\n",
              "      <td>1499</td>\n",
              "    </tr>\n",
              "  </tbody>\n",
              "</table>\n",
              "</div>\n",
              "      <button class=\"colab-df-convert\" onclick=\"convertToInteractive('df-60e52469-b02c-44fb-bded-7d3ab33b7a15')\"\n",
              "              title=\"Convert this dataframe to an interactive table.\"\n",
              "              style=\"display:none;\">\n",
              "        \n",
              "  <svg xmlns=\"http://www.w3.org/2000/svg\" height=\"24px\"viewBox=\"0 0 24 24\"\n",
              "       width=\"24px\">\n",
              "    <path d=\"M0 0h24v24H0V0z\" fill=\"none\"/>\n",
              "    <path d=\"M18.56 5.44l.94 2.06.94-2.06 2.06-.94-2.06-.94-.94-2.06-.94 2.06-2.06.94zm-11 1L8.5 8.5l.94-2.06 2.06-.94-2.06-.94L8.5 2.5l-.94 2.06-2.06.94zm10 10l.94 2.06.94-2.06 2.06-.94-2.06-.94-.94-2.06-.94 2.06-2.06.94z\"/><path d=\"M17.41 7.96l-1.37-1.37c-.4-.4-.92-.59-1.43-.59-.52 0-1.04.2-1.43.59L10.3 9.45l-7.72 7.72c-.78.78-.78 2.05 0 2.83L4 21.41c.39.39.9.59 1.41.59.51 0 1.02-.2 1.41-.59l7.78-7.78 2.81-2.81c.8-.78.8-2.07 0-2.86zM5.41 20L4 18.59l7.72-7.72 1.47 1.35L5.41 20z\"/>\n",
              "  </svg>\n",
              "      </button>\n",
              "      \n",
              "  <style>\n",
              "    .colab-df-container {\n",
              "      display:flex;\n",
              "      flex-wrap:wrap;\n",
              "      gap: 12px;\n",
              "    }\n",
              "\n",
              "    .colab-df-convert {\n",
              "      background-color: #E8F0FE;\n",
              "      border: none;\n",
              "      border-radius: 50%;\n",
              "      cursor: pointer;\n",
              "      display: none;\n",
              "      fill: #1967D2;\n",
              "      height: 32px;\n",
              "      padding: 0 0 0 0;\n",
              "      width: 32px;\n",
              "    }\n",
              "\n",
              "    .colab-df-convert:hover {\n",
              "      background-color: #E2EBFA;\n",
              "      box-shadow: 0px 1px 2px rgba(60, 64, 67, 0.3), 0px 1px 3px 1px rgba(60, 64, 67, 0.15);\n",
              "      fill: #174EA6;\n",
              "    }\n",
              "\n",
              "    [theme=dark] .colab-df-convert {\n",
              "      background-color: #3B4455;\n",
              "      fill: #D2E3FC;\n",
              "    }\n",
              "\n",
              "    [theme=dark] .colab-df-convert:hover {\n",
              "      background-color: #434B5C;\n",
              "      box-shadow: 0px 1px 3px 1px rgba(0, 0, 0, 0.15);\n",
              "      filter: drop-shadow(0px 1px 2px rgba(0, 0, 0, 0.3));\n",
              "      fill: #FFFFFF;\n",
              "    }\n",
              "  </style>\n",
              "\n",
              "      <script>\n",
              "        const buttonEl =\n",
              "          document.querySelector('#df-60e52469-b02c-44fb-bded-7d3ab33b7a15 button.colab-df-convert');\n",
              "        buttonEl.style.display =\n",
              "          google.colab.kernel.accessAllowed ? 'block' : 'none';\n",
              "\n",
              "        async function convertToInteractive(key) {\n",
              "          const element = document.querySelector('#df-60e52469-b02c-44fb-bded-7d3ab33b7a15');\n",
              "          const dataTable =\n",
              "            await google.colab.kernel.invokeFunction('convertToInteractive',\n",
              "                                                     [key], {});\n",
              "          if (!dataTable) return;\n",
              "\n",
              "          const docLinkHtml = 'Like what you see? Visit the ' +\n",
              "            '<a target=\"_blank\" href=https://colab.research.google.com/notebooks/data_table.ipynb>data table notebook</a>'\n",
              "            + ' to learn more about interactive tables.';\n",
              "          element.innerHTML = '';\n",
              "          dataTable['output_type'] = 'display_data';\n",
              "          await google.colab.output.renderOutput(dataTable, element);\n",
              "          const docLink = document.createElement('div');\n",
              "          docLink.innerHTML = docLinkHtml;\n",
              "          element.appendChild(docLink);\n",
              "        }\n",
              "      </script>\n",
              "    </div>\n",
              "  </div>\n",
              "  "
            ]
          },
          "metadata": {},
          "execution_count": 349
        }
      ]
    },
    {
      "cell_type": "code",
      "source": [
        "disp = ConfusionMatrixDisplay.from_estimator(lr_W2V, X_test_W2V, y_test_W2V)\n",
        "plt.title(\"Confusion Matrix - Logistic R. W2V\")\n",
        "plt.show()"
      ],
      "metadata": {
        "colab": {
          "base_uri": "https://localhost:8080/",
          "height": 358
        },
        "id": "hlYo3tBsyB_N",
        "outputId": "eba4674a-2a5e-4721-f592-845638057c51"
      },
      "execution_count": 350,
      "outputs": [
        {
          "output_type": "display_data",
          "data": {
            "text/plain": [
              "<Figure size 400x400 with 2 Axes>"
            ],
            "image/png": "[encoded data removed]"
          },
          "metadata": {}
        }
      ]
    },
    {
      "cell_type": "code",
      "source": [
        "# Calculate the accuracy of the predictions\n",
        "accuracy = accuracy_score(y_test_W2V, y_pred_W2V)\n",
        "\n",
        "# Print the accuracy\n",
        "print(\"Accuracy Logistic Regression Using Word2Vec: {:.2f}%\".format(accuracy * 100))"
      ],
      "metadata": {
        "colab": {
          "base_uri": "https://localhost:8080/"
        },
        "id": "Di5C5otKi65p",
        "outputId": "25b807a2-0d3a-47c2-b3cd-fe0332664944"
      },
      "execution_count": 351,
      "outputs": [
        {
          "output_type": "stream",
          "name": "stdout",
          "text": [
            "Accuracy Logistic Regression Using Word2Vec: 96.06%\n"
          ]
        }
      ]
    },
    {
      "cell_type": "code",
      "source": [
        "# Predict the probabilities of the test set instances belonging to each class\n",
        "y_proba_W2V = lr_W2V.predict_proba(X_test_W2V)\n",
        "\n",
        "# Calculate the ROC AUC score\n",
        "roc_auc = roc_auc_score(y_test_W2V, y_proba_W2V[:, 1])\n",
        "print('ROC AUC:', roc_auc)"
      ],
      "metadata": {
        "id": "eo5VZbu11iLa",
        "outputId": "e70dda11-8331-4dab-9e52-afcb68385122",
        "colab": {
          "base_uri": "https://localhost:8080/"
        }
      },
      "execution_count": 352,
      "outputs": [
        {
          "output_type": "stream",
          "name": "stdout",
          "text": [
            "ROC AUC: 0.9866281736387056\n"
          ]
        }
      ]
    },
    {
      "cell_type": "code",
      "source": [
        "# Convert string labels to binary labels\n",
        "le = LabelEncoder()\n",
        "y_test_bin = le.fit_transform(y_test_W2V)\n",
        "lr_W2V_proba = lr_W2V.predict_proba(X_test_W2V)[:, 1]\n",
        "lr_W2V_proba\n",
        "#lr_proba_int = lr_proba.astype(int)\n",
        "lr_fpr, lr_tpr, _ = roc_curve(y_test_bin, lr_W2V_proba)\n",
        "plt.plot(lr_fpr, lr_tpr, label='Logistic Regression')\n",
        "plt.title('ROC Curve Logistic Regression - Word2Vec')"
      ],
      "metadata": {
        "colab": {
          "base_uri": "https://localhost:8080/",
          "height": 409
        },
        "id": "yI7sEitLjMEn",
        "outputId": "74ce2d6d-47d8-4b7b-99d4-93787edccc11"
      },
      "execution_count": 353,
      "outputs": [
        {
          "output_type": "execute_result",
          "data": {
            "text/plain": [
              "Text(0.5, 1.0, 'ROC Curve Logistic Regression - Word2Vec')"
            ]
          },
          "metadata": {},
          "execution_count": 353
        },
        {
          "output_type": "display_data",
          "data": {
            "text/plain": [
              "<Figure size 400x400 with 1 Axes>"
            ],
            "image/png": "[encoded data removed]"
          },
          "metadata": {}
        }
      ]
    },
    {
      "cell_type": "code",
      "source": [
        "# Convert string labels to binary labels\n",
        "le_W2V = LabelEncoder()\n",
        "y_test_bin_W2V = le_W2V.fit_transform(y_test_W2V)\n",
        "\n",
        "le = LabelEncoder()\n",
        "y_test_bin = le.fit_transform(y_test)\n",
        "\n",
        "# Predict the probabilities of the test set instances belonging to each class\n",
        "lr_W2V_proba = lr_W2V.predict_proba(X_test_W2V)[:, 1]\n",
        "nb_W2V_proba = model_NB_V2.predict_proba(X_test_W2V)[:, 1]\n",
        "\n",
        "nb_proba = model.predict_proba(X_test_dense)[:, 1]\n",
        "lr_proba = model_LR.predict_proba(X_test_dense)[:, 1]\n",
        "dt_proba = model_DT.predict_proba(X_test_dense)[:, 1]\n",
        "rf_proba = model_RF.predict_proba(X_test_dense)[:, 1]\n",
        "knn_proba = model_knn.predict_proba(X_test_dense)[:, 1]\n",
        "\n",
        "# Calculate the false positive rate and true positive rate for various thresholds\n",
        "lr_fpr, lr_tpr, _ = roc_curve(y_test_bin_W2V, lr_W2V_proba)\n",
        "nb_fpr, nb_tpr, _ = roc_curve(y_test_bin_W2V, nb_W2V_proba) \n",
        "\n",
        "nb1_fpr, nb1_tpr, _ = roc_curve(y_test_bin, nb_proba)\n",
        "lr1_fpr, lr1_tpr, _ = roc_curve(y_test_bin, lr_proba)\n",
        "dt_fpr, dt_tpr, _ = roc_curve(y_test_bin, dt_proba)\n",
        "rf_fpr, rf_tpr, _ = roc_curve(y_test_bin, rf_proba)\n",
        "knn_fpr, knn_tpr, _ = roc_curve(y_test_bin, knn_proba)\n",
        "\n",
        "# Plot the ROC curves for all models\n",
        "plt.plot(lr_fpr, lr_tpr, label='Logistic Regression W2V')\n",
        "plt.plot(nb_fpr, nb_tpr, label='Naive Bayes W2V')\n",
        "plt.plot(nb1_fpr, nb1_tpr, label='Naive Bayes')\n",
        "plt.plot(dt_fpr, dt_tpr, label='Decision Tree')\n",
        "plt.plot(rf_fpr, rf_tpr, label='Random Forest')\n",
        "plt.plot(knn_fpr, knn_tpr, label='KNN')\n",
        "plt.plot(lr1_fpr, lr1_tpr, label='Logistic Regression')\n",
        "\n",
        "plt.xlabel('False Positive Rate')\n",
        "plt.ylabel('True Positive Rate')\n",
        "plt.title('ROC Curve')\n",
        "plt.legend()\n",
        "plt.show()\n",
        "\n",
        "# Calculate the ROC AUC score for all models\n",
        "lr_auc = roc_auc_score(y_test_W2V, lr_W2V_proba)\n",
        "nb_auc = roc_auc_score(y_test_W2V, nb_W2V_proba)\n",
        "\n",
        "nb1_auc = roc_auc_score(y_test, nb_proba)\n",
        "lr1_auc = roc_auc_score(y_test, lr_proba)\n",
        "dt_auc = roc_auc_score(y_test, dt_proba)\n",
        "rf_auc = roc_auc_score(y_test, rf_proba)\n",
        "knn_auc = roc_auc_score(y_test, knn_proba)\n",
        "\n",
        "print('ROC AUC (Logistic Regression)W2V:', lr_auc)\n",
        "print('ROC AUC (Naive Bayes W2V):', nb_auc)\n",
        "print('ROC AUC (Naive Bayes):', nb1_auc)\n",
        "\n",
        "print('ROC AUC (Logistic Regression):', lr1_auc)\n",
        "print('ROC AUC (Decision Tree):', dt_auc)\n",
        "print('ROC AUC (Random Forest):', rf_auc)\n",
        "print('ROC AUC (KNN):', knn_auc)"
      ],
      "metadata": {
        "colab": {
          "base_uri": "https://localhost:8080/",
          "height": 576
        },
        "id": "quygIv-Mv7AZ",
        "outputId": "45ddfb13-2063-4d57-df3a-db7fd72c9f22"
      },
      "execution_count": 357,
      "outputs": [
        {
          "output_type": "stream",
          "name": "stderr",
          "text": [
            "/usr/local/lib/python3.9/dist-packages/sklearn/preprocessing/_label.py:116: DataConversionWarning: A column-vector y was passed when a 1d array was expected. Please change the shape of y to (n_samples, ), for example using ravel().\n",
            "  y = column_or_1d(y, warn=True)\n"
          ]
        },
        {
          "output_type": "display_data",
          "data": {
            "text/plain": [
              "<Figure size 400x400 with 1 Axes>"
            ],
            "image/png": "[encoded data removed]"
          },
          "metadata": {}
        },
        {
          "output_type": "stream",
          "name": "stdout",
          "text": [
            "ROC AUC (Logistic Regression)W2V: 0.9866281736387056\n",
            "ROC AUC (Naive Bayes W2V): 0.9659917527187308\n",
            "ROC AUC (Naive Bayes): 0.9481454420423775\n",
            "ROC AUC (Logistic Regression): 0.9974384321141531\n",
            "ROC AUC (Decision Tree): 0.934745562384493\n",
            "ROC AUC (Random Forest): 0.9969989684961534\n",
            "ROC AUC (KNN): 0.9888275239609747\n"
          ]
        }
      ]
    },
    {
      "cell_type": "markdown",
      "source": [
        "<img rc=\"https://raw.githubusercontent.com/orlandojrps/spam/main/conclusion.png\">"
      ],
      "metadata": {
        "id": "-w3CAidY7Vpy"
      }
    },
    {
      "cell_type": "markdown",
      "source": [
        "###Conclusion: <br/>\n",
        "<img src=\"https://raw.githubusercontent.com/orlandojrps/spam/main/conclusion.png\">"
      ],
      "metadata": {
        "id": "uHu39Jjz7ZVJ"
      }
    },
    {
      "cell_type": "markdown",
      "source": [
        "###In conclusion, based on the ROC AUC scores, the Logistic Regression and Random Forest models performed the best in the task, with scores of 0.997 and 0.996, respectively. The Naive Bayes and Decision Tree models had lower scores, while the KNN model had a moderate score. Word2Vec embeddings improved the performance of Naive Bayes model."
      ],
      "metadata": {
        "id": "ZzuZf2rvq203"
      }
    }
  ]
}